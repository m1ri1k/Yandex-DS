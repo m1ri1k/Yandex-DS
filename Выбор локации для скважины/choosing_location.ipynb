{
 "cells": [
  {
   "cell_type": "markdown",
   "metadata": {},
   "source": [
    "# Выбор локации для скважины"
   ]
  },
  {
   "cell_type": "markdown",
   "metadata": {},
   "source": [
    "Допустим, вы работаете в добывающей компании «ГлавРосГосНефть». Нужно решить, где бурить новую скважину.\n",
    "\n",
    "Вам предоставлены пробы нефти в трёх регионах: в каждом 10 000 месторождений, где измерили качество нефти и объём её запасов. Постройте модель машинного обучения, которая поможет определить регион, где добыча принесёт наибольшую прибыль. Проанализируйте возможную прибыль и риски техникой *Bootstrap.*\n",
    "\n",
    "Шаги для выбора локации:\n",
    "\n",
    "- В избранном регионе ищут месторождения, для каждого определяют значения признаков;\n",
    "- Строят модель и оценивают объём запасов;\n",
    "- Выбирают месторождения с самым высокими оценками значений. Количество месторождений зависит от бюджета компании и стоимости разработки одной скважины;\n",
    "- Прибыль равна суммарной прибыли отобранных месторождений."
   ]
  },
  {
   "cell_type": "markdown",
   "metadata": {
    "toc": true
   },
   "source": [
    "<h1>Содержание<span class=\"tocSkip\"></span></h1>\n",
    "<div class=\"toc\"><ul class=\"toc-item\"><li><span><a href=\"#Загрузка-и-подготовка-данных\" data-toc-modified-id=\"Загрузка-и-подготовка-данных-1\"><span class=\"toc-item-num\">1&nbsp;&nbsp;</span>Загрузка и подготовка данных</a></span></li><li><span><a href=\"#Обучение-и-проверка-модели\" data-toc-modified-id=\"Обучение-и-проверка-модели-2\"><span class=\"toc-item-num\">2&nbsp;&nbsp;</span>Обучение и проверка модели</a></span></li><li><span><a href=\"#Подготовка-к-расчёту-прибыли\" data-toc-modified-id=\"Подготовка-к-расчёту-прибыли-3\"><span class=\"toc-item-num\">3&nbsp;&nbsp;</span>Подготовка к расчёту прибыли</a></span></li><li><span><a href=\"#Расчёт-прибыли-и-рисков\" data-toc-modified-id=\"Расчёт-прибыли-и-рисков-4\"><span class=\"toc-item-num\">4&nbsp;&nbsp;</span>Расчёт прибыли и рисков</a></span></li><li><span><a href=\"#Чек-лист-готовности-проекта\" data-toc-modified-id=\"Чек-лист-готовности-проекта-5\"><span class=\"toc-item-num\">5&nbsp;&nbsp;</span>Чек-лист готовности проекта</a></span></li></ul></div>"
   ]
  },
  {
   "cell_type": "markdown",
   "metadata": {},
   "source": [
    "**Описание данных**  \n",
    "Данные геологоразведки трёх регионов находятся в файлах, в данных есть следующие переменные:\n",
    "* id — уникальный идентификатор скважины;\n",
    "* f0, f1, f2 — три признака точек (неважно, что они означают, но сами признаки значимы);\n",
    "* product — объём запасов в скважине (тыс. баррелей)."
   ]
  },
  {
   "cell_type": "markdown",
   "metadata": {},
   "source": [
    "**Условия задачи**\n",
    "* Для обучения модели подходит только линейная регрессия (остальные — недостаточно предсказуемые).\n",
    "* При разведке региона исследуют 500 точек, из которых с помощью машинного обучения выбирают 200 лучших для разработки.\n",
    "* Бюджет на разработку скважин в регионе — 10 млрд рублей.\n",
    "* При нынешних ценах один баррель сырья приносит 450 рублей дохода. Доход с каждой единицы продукта составляет 450 тыс. рублей, поскольку объём указан в тысячах баррелей.\n",
    "* После оценки рисков нужно оставить лишь те регионы, в которых вероятность убытков меньше 2.5%. Среди них выбирают регион с наибольшей средней прибылью."
   ]
  },
  {
   "cell_type": "markdown",
   "metadata": {},
   "source": [
    "**Загрузка необходимых функций и библиотек**"
   ]
  },
  {
   "cell_type": "code",
   "execution_count": 1,
   "metadata": {},
   "outputs": [],
   "source": [
    "import pandas as pd\n",
    "import numpy as np\n",
    "from scipy import stats as st \n",
    "from sklearn.model_selection import train_test_split\n",
    "from sklearn.linear_model import LinearRegression\n",
    "from sklearn.metrics import mean_squared_error"
   ]
  },
  {
   "cell_type": "markdown",
   "metadata": {},
   "source": [
    "## Загрузка и подготовка данных"
   ]
  },
  {
   "cell_type": "code",
   "execution_count": 2,
   "metadata": {},
   "outputs": [],
   "source": [
    "data_1 = pd.read_csv('/datasets/geo_data_0.csv')\n",
    "data_2 = pd.read_csv('/datasets/geo_data_1.csv')\n",
    "data_3 = pd.read_csv('/datasets/geo_data_2.csv')"
   ]
  },
  {
   "cell_type": "code",
   "execution_count": 3,
   "metadata": {
    "scrolled": true
   },
   "outputs": [
    {
     "data": {
      "text/html": [
       "<div>\n",
       "<style scoped>\n",
       "    .dataframe tbody tr th:only-of-type {\n",
       "        vertical-align: middle;\n",
       "    }\n",
       "\n",
       "    .dataframe tbody tr th {\n",
       "        vertical-align: top;\n",
       "    }\n",
       "\n",
       "    .dataframe thead th {\n",
       "        text-align: right;\n",
       "    }\n",
       "</style>\n",
       "<table border=\"1\" class=\"dataframe\">\n",
       "  <thead>\n",
       "    <tr style=\"text-align: right;\">\n",
       "      <th></th>\n",
       "      <th>id</th>\n",
       "      <th>f0</th>\n",
       "      <th>f1</th>\n",
       "      <th>f2</th>\n",
       "      <th>product</th>\n",
       "    </tr>\n",
       "  </thead>\n",
       "  <tbody>\n",
       "    <tr>\n",
       "      <th>0</th>\n",
       "      <td>txEyH</td>\n",
       "      <td>0.705745</td>\n",
       "      <td>-0.497823</td>\n",
       "      <td>1.221170</td>\n",
       "      <td>105.280062</td>\n",
       "    </tr>\n",
       "    <tr>\n",
       "      <th>1</th>\n",
       "      <td>2acmU</td>\n",
       "      <td>1.334711</td>\n",
       "      <td>-0.340164</td>\n",
       "      <td>4.365080</td>\n",
       "      <td>73.037750</td>\n",
       "    </tr>\n",
       "    <tr>\n",
       "      <th>2</th>\n",
       "      <td>409Wp</td>\n",
       "      <td>1.022732</td>\n",
       "      <td>0.151990</td>\n",
       "      <td>1.419926</td>\n",
       "      <td>85.265647</td>\n",
       "    </tr>\n",
       "    <tr>\n",
       "      <th>3</th>\n",
       "      <td>iJLyR</td>\n",
       "      <td>-0.032172</td>\n",
       "      <td>0.139033</td>\n",
       "      <td>2.978566</td>\n",
       "      <td>168.620776</td>\n",
       "    </tr>\n",
       "    <tr>\n",
       "      <th>4</th>\n",
       "      <td>Xdl7t</td>\n",
       "      <td>1.988431</td>\n",
       "      <td>0.155413</td>\n",
       "      <td>4.751769</td>\n",
       "      <td>154.036647</td>\n",
       "    </tr>\n",
       "  </tbody>\n",
       "</table>\n",
       "</div>"
      ],
      "text/plain": [
       "      id        f0        f1        f2     product\n",
       "0  txEyH  0.705745 -0.497823  1.221170  105.280062\n",
       "1  2acmU  1.334711 -0.340164  4.365080   73.037750\n",
       "2  409Wp  1.022732  0.151990  1.419926   85.265647\n",
       "3  iJLyR -0.032172  0.139033  2.978566  168.620776\n",
       "4  Xdl7t  1.988431  0.155413  4.751769  154.036647"
      ]
     },
     "execution_count": 3,
     "metadata": {},
     "output_type": "execute_result"
    }
   ],
   "source": [
    "data_1.head()"
   ]
  },
  {
   "cell_type": "markdown",
   "metadata": {},
   "source": [
    "Проверим, есть ли в данных пропуски и дубликаты:"
   ]
  },
  {
   "cell_type": "code",
   "execution_count": 4,
   "metadata": {},
   "outputs": [
    {
     "data": {
      "text/plain": [
       "id         0\n",
       "f0         0\n",
       "f1         0\n",
       "f2         0\n",
       "product    0\n",
       "dtype: int64"
      ]
     },
     "execution_count": 4,
     "metadata": {},
     "output_type": "execute_result"
    }
   ],
   "source": [
    "data_1.isna().sum()"
   ]
  },
  {
   "cell_type": "code",
   "execution_count": 5,
   "metadata": {},
   "outputs": [
    {
     "data": {
      "text/plain": [
       "id         0\n",
       "f0         0\n",
       "f1         0\n",
       "f2         0\n",
       "product    0\n",
       "dtype: int64"
      ]
     },
     "execution_count": 5,
     "metadata": {},
     "output_type": "execute_result"
    }
   ],
   "source": [
    "data_2.isna().sum()"
   ]
  },
  {
   "cell_type": "code",
   "execution_count": 6,
   "metadata": {},
   "outputs": [
    {
     "data": {
      "text/plain": [
       "id         0\n",
       "f0         0\n",
       "f1         0\n",
       "f2         0\n",
       "product    0\n",
       "dtype: int64"
      ]
     },
     "execution_count": 6,
     "metadata": {},
     "output_type": "execute_result"
    }
   ],
   "source": [
    "data_3.isna().sum()"
   ]
  },
  {
   "cell_type": "code",
   "execution_count": 7,
   "metadata": {
    "scrolled": true
   },
   "outputs": [
    {
     "name": "stdout",
     "output_type": "stream",
     "text": [
      "0\n",
      "0\n",
      "0\n"
     ]
    }
   ],
   "source": [
    "print(data_1.duplicated().sum())\n",
    "print(data_2.duplicated().sum())\n",
    "print(data_3.duplicated().sum())"
   ]
  },
  {
   "cell_type": "markdown",
   "metadata": {},
   "source": [
    "В данных нет явных дубликатов и пропусков, далее проверим правильные ли типы у имеющихся переменных."
   ]
  },
  {
   "cell_type": "code",
   "execution_count": 8,
   "metadata": {
    "scrolled": true
   },
   "outputs": [
    {
     "name": "stdout",
     "output_type": "stream",
     "text": [
      "<class 'pandas.core.frame.DataFrame'>\n",
      "RangeIndex: 100000 entries, 0 to 99999\n",
      "Data columns (total 5 columns):\n",
      " #   Column   Non-Null Count   Dtype  \n",
      "---  ------   --------------   -----  \n",
      " 0   id       100000 non-null  object \n",
      " 1   f0       100000 non-null  float64\n",
      " 2   f1       100000 non-null  float64\n",
      " 3   f2       100000 non-null  float64\n",
      " 4   product  100000 non-null  float64\n",
      "dtypes: float64(4), object(1)\n",
      "memory usage: 3.8+ MB\n",
      "None\n",
      "<class 'pandas.core.frame.DataFrame'>\n",
      "RangeIndex: 100000 entries, 0 to 99999\n",
      "Data columns (total 5 columns):\n",
      " #   Column   Non-Null Count   Dtype  \n",
      "---  ------   --------------   -----  \n",
      " 0   id       100000 non-null  object \n",
      " 1   f0       100000 non-null  float64\n",
      " 2   f1       100000 non-null  float64\n",
      " 3   f2       100000 non-null  float64\n",
      " 4   product  100000 non-null  float64\n",
      "dtypes: float64(4), object(1)\n",
      "memory usage: 3.8+ MB\n",
      "None\n",
      "<class 'pandas.core.frame.DataFrame'>\n",
      "RangeIndex: 100000 entries, 0 to 99999\n",
      "Data columns (total 5 columns):\n",
      " #   Column   Non-Null Count   Dtype  \n",
      "---  ------   --------------   -----  \n",
      " 0   id       100000 non-null  object \n",
      " 1   f0       100000 non-null  float64\n",
      " 2   f1       100000 non-null  float64\n",
      " 3   f2       100000 non-null  float64\n",
      " 4   product  100000 non-null  float64\n",
      "dtypes: float64(4), object(1)\n",
      "memory usage: 3.8+ MB\n",
      "None\n"
     ]
    }
   ],
   "source": [
    "print(data_1.info())\n",
    "print(data_2.info())\n",
    "print(data_3.info())"
   ]
  },
  {
   "cell_type": "markdown",
   "metadata": {},
   "source": [
    "Типы переменных корректны. Для корректного обучения в дальнейшем уберем столбец id из данных, так как он не несет содержательного смысла и не поможет предсказывать что-либо."
   ]
  },
  {
   "cell_type": "code",
   "execution_count": 9,
   "metadata": {},
   "outputs": [],
   "source": [
    "data_1 = data_1.drop(['id'], axis=1)\n",
    "data_2 = data_2.drop(['id'], axis=1)\n",
    "data_3 = data_3.drop(['id'], axis=1)"
   ]
  },
  {
   "cell_type": "markdown",
   "metadata": {},
   "source": [
    "<div class=\"alert alert-block alert-success\"><b>Комментарий ревьюера </b>\n",
    "    \n",
    "<b>Успех:</b><br>\n",
    "👍 `id`  - уникальный идентификатор скважины, он не является признаком, поэтому его действительно лучше удалить. \n",
    "</div> "
   ]
  },
  {
   "cell_type": "markdown",
   "metadata": {},
   "source": [
    "## Обучение и проверка модели"
   ]
  },
  {
   "cell_type": "markdown",
   "metadata": {},
   "source": [
    "Разобьем данные на обучающую и валидационную выборки в соотношении 75:25, затем разделим данные на признаки и целевую переменную, целевой переменной будет объём запасов."
   ]
  },
  {
   "cell_type": "code",
   "execution_count": 10,
   "metadata": {},
   "outputs": [],
   "source": [
    "train_1, valid_1 = train_test_split(data_1, test_size=0.25, random_state=12345)\n",
    "\n",
    "features_train_1 = train_1.drop(['product'], axis=1)\n",
    "target_train_1 = train_1['product']\n",
    "\n",
    "features_valid_1 = valid_1.drop(['product'], axis=1)\n",
    "target_valid_1 = valid_1['product']\n",
    "\n",
    "\n",
    "\n",
    "train_2, valid_2 = train_test_split(data_2, test_size=0.25, random_state=12345)\n",
    "\n",
    "features_train_2 = train_2.drop(['product'], axis=1)\n",
    "target_train_2 = train_2['product']\n",
    "\n",
    "features_valid_2 = valid_2.drop(['product'], axis=1)\n",
    "target_valid_2 = valid_2['product']\n",
    "\n",
    "\n",
    "\n",
    "train_3, valid_3 = train_test_split(data_3, test_size=0.25, random_state=12345)\n",
    "\n",
    "features_train_3 = train_3.drop(['product'], axis=1)\n",
    "target_train_3 = train_3['product']\n",
    "\n",
    "features_valid_3 = valid_3.drop(['product'], axis=1)\n",
    "target_valid_3 = valid_3['product']"
   ]
  },
  {
   "cell_type": "markdown",
   "metadata": {},
   "source": [
    "Напишем функцию для обучения модели, для условий постравленной задачи подходит модель линейной регрессии."
   ]
  },
  {
   "cell_type": "code",
   "execution_count": 11,
   "metadata": {},
   "outputs": [],
   "source": [
    "def models(features, target):\n",
    "    model = LinearRegression()\n",
    "    model.fit(features, target)\n",
    "    return model"
   ]
  },
  {
   "cell_type": "code",
   "execution_count": 12,
   "metadata": {},
   "outputs": [],
   "source": [
    "model_1 = models(features_train_1, target_train_1)\n",
    "model_2 = models(features_train_2, target_train_2)\n",
    "model_3 = models(features_train_3, target_train_3)"
   ]
  },
  {
   "cell_type": "markdown",
   "metadata": {},
   "source": [
    "Далее сделаем предсказания на валидационной выборке и посмотрим на значения среднего запаса предсказанного сырья и RMSE модели. "
   ]
  },
  {
   "cell_type": "code",
   "execution_count": 13,
   "metadata": {},
   "outputs": [
    {
     "name": "stdout",
     "output_type": "stream",
     "text": [
      "Средний запас предсказанного сырья в первом регионе: 92.59256778438035\n",
      "Средний запас предсказанного сырья во втором регионе: 68.728546895446\n",
      "Средний запас предсказанного сырья в третьем регионе: 94.96504596800489\n"
     ]
    }
   ],
   "source": [
    "predictions_valid_1 = pd.Series(data=model_1.predict(features_valid_1), index=features_valid_1.index)\n",
    "predictions_valid_2 = pd.Series(data=model_2.predict(features_valid_2), index=features_valid_2.index)\n",
    "predictions_valid_3 = pd.Series(data=model_3.predict(features_valid_3), index=features_valid_3.index)\n",
    "\n",
    "print('Средний запас предсказанного сырья в первом регионе:', predictions_valid_1.mean())\n",
    "print('Средний запас предсказанного сырья во втором регионе:', predictions_valid_2.mean())\n",
    "print('Средний запас предсказанного сырья в третьем регионе:', predictions_valid_3.mean())"
   ]
  },
  {
   "cell_type": "code",
   "execution_count": 14,
   "metadata": {},
   "outputs": [
    {
     "name": "stdout",
     "output_type": "stream",
     "text": [
      "RMSE первой модели = 37.5794217150813\n",
      "RMSE второй модели = 0.893099286775617\n",
      "RMSE третьей модели = 40.02970873393434\n"
     ]
    }
   ],
   "source": [
    "print(\"RMSE первой модели =\", mean_squared_error(target_valid_1, predictions_valid_1) ** 0.5)\n",
    "print(\"RMSE второй модели =\", mean_squared_error(target_valid_2, predictions_valid_2) ** 0.5)\n",
    "print(\"RMSE третьей модели =\", mean_squared_error(target_valid_3, predictions_valid_3) ** 0.5)"
   ]
  },
  {
   "cell_type": "markdown",
   "metadata": {},
   "source": [
    "Третий регион имеет наибольшее среднее значение предсказанного запаса сырья, однако ошибка модели здесь наибольшая. Наименьшую ошибку имеет вторая модель, но среднее предсказанное значение - наименьшее. "
   ]
  },
  {
   "cell_type": "markdown",
   "metadata": {},
   "source": [
    "## Подготовка к расчёту прибыли"
   ]
  },
  {
   "cell_type": "markdown",
   "metadata": {},
   "source": [
    "При разведке региона исследуют 500 точек, из которых с помощью машинного обучения выбирают 200 лучших для разработки.\n",
    "Бюджет на разработку скважин в регионе — 10 млрд рублей. При нынешних ценах один баррель сырья приносит 450 рублей дохода. Доход с каждой единицы продукта составляет 450 тыс. рублей, поскольку объём указан в тысячах баррелей. После оценки рисков нужно оставить лишь те регионы, в которых вероятность убытков меньше 2.5%. Среди них выбирают регион с наибольшей средней прибылью.\n"
   ]
  },
  {
   "cell_type": "code",
   "execution_count": 15,
   "metadata": {},
   "outputs": [],
   "source": [
    "budget = 10000000000\n",
    "price = 450000\n",
    "points = 200\n",
    "n = 500\n",
    "prob = 0.025"
   ]
  },
  {
   "cell_type": "markdown",
   "metadata": {},
   "source": [
    "Рассчитаем достаточный объём сырья для безубыточной разработки новой скважины, для этого бюджет поделим на произведение дохода на количество скважин."
   ]
  },
  {
   "cell_type": "code",
   "execution_count": 16,
   "metadata": {},
   "outputs": [
    {
     "name": "stdout",
     "output_type": "stream",
     "text": [
      "Объём сырья для безубыточной разработки новой скважины равен 111.11111111111111\n"
     ]
    }
   ],
   "source": [
    "print('Объём сырья для безубыточной разработки новой скважины равен', budget/(price*points))"
   ]
  },
  {
   "cell_type": "markdown",
   "metadata": {},
   "source": [
    "Сравним полученный объём сырья со средним запасом в каждом регионе. "
   ]
  },
  {
   "cell_type": "code",
   "execution_count": 17,
   "metadata": {},
   "outputs": [
    {
     "name": "stdout",
     "output_type": "stream",
     "text": [
      "Средний объем запасов скважины в первом регионе:  92.50000000000001\n",
      "Средний объем запасов скважины во втором регионе:  68.82500000000002\n",
      "Средний объем запасов скважины в третьем регионе:  95.00000000000004\n"
     ]
    }
   ],
   "source": [
    "print('Средний объем запасов скважины в первом регионе: ', data_1['product'].mean())\n",
    "print('Средний объем запасов скважины во втором регионе: ', data_2['product'].mean())\n",
    "print('Средний объем запасов скважины в третьем регионе: ', data_3['product'].mean())"
   ]
  },
  {
   "cell_type": "markdown",
   "metadata": {},
   "source": [
    "Средний объем запасов скважины во всех регионах имеет меньшее значение, чем объём сырья для безубыточной разработки новой скважины (92.5, 68.8 и 95 против 111.1). Однако стоит заметить, что у первого и третьего регионов разница не такая большая как у второго (средний объем запасов практически в 1,5 раза меньше, чем нужно)."
   ]
  },
  {
   "cell_type": "markdown",
   "metadata": {},
   "source": [
    "## Расчёт прибыли и рисков "
   ]
  },
  {
   "cell_type": "markdown",
   "metadata": {},
   "source": [
    "Напишем функцию, которая будет расчитывать прибыль. Для расчета прибыли мы будем брать скважины с максимальными значениями предсказаний и просуммируем целевое значение объёма сырья, соответствующее этим предсказаниям."
   ]
  },
  {
   "cell_type": "code",
   "execution_count": 18,
   "metadata": {},
   "outputs": [],
   "source": [
    "def revenue(prediction, target):\n",
    "    prediction_best = prediction.sort_values(ascending=False)\n",
    "    target_best = target[prediction_best.index][:points]\n",
    "    return (price*target_best.sum()) - budget"
   ]
  },
  {
   "cell_type": "markdown",
   "metadata": {},
   "source": [
    "Используем технику Bootstrap с 1000 выборок, чтобы найти распределение прибыли, для этого напишем функцию. "
   ]
  },
  {
   "cell_type": "code",
   "execution_count": 19,
   "metadata": {},
   "outputs": [],
   "source": [
    "def bootstrap(prediction, target):\n",
    "    state = np.random.RandomState(12345)\n",
    "    values = []\n",
    "    for i in range(1000):\n",
    "        subsample_target = target.sample(n=500, replace=True, random_state=state)\n",
    "        subsample_prediction = prediction[subsample_target.index]\n",
    "        values.append(revenue(subsample_prediction, subsample_target))\n",
    "    values = pd.Series(values)\n",
    "    return values "
   ]
  },
  {
   "cell_type": "markdown",
   "metadata": {},
   "source": [
    "Зафиксируем распределение прибыли для трех регионов:"
   ]
  },
  {
   "cell_type": "code",
   "execution_count": 20,
   "metadata": {},
   "outputs": [],
   "source": [
    "revenue_1 = bootstrap(predictions_valid_1, target_valid_1)\n",
    "revenue_2 = bootstrap(predictions_valid_2, target_valid_2)\n",
    "revenue_3 = bootstrap(predictions_valid_3, target_valid_3)"
   ]
  },
  {
   "cell_type": "markdown",
   "metadata": {},
   "source": [
    "Найдем среднюю прибыль, а также 95%-й доверительный интервал и риск убытков."
   ]
  },
  {
   "cell_type": "code",
   "execution_count": 21,
   "metadata": {},
   "outputs": [
    {
     "name": "stdout",
     "output_type": "stream",
     "text": [
      "Распределение прибыли для первого региона\n",
      "Средняя прибыль: 425938526.91059244\n",
      "95%-й Доверительный интервал: -102090094.83793654 - 947976353.3583689\n",
      "Риск убытков: 6.0 %\n"
     ]
    }
   ],
   "source": [
    "print('Распределение прибыли для первого региона')\n",
    "print('Средняя прибыль:', revenue_1.mean())\n",
    "print('95%-й Доверительный интервал:', revenue_1.quantile(0.025), '-', revenue_1.quantile(0.975))\n",
    "print('Риск убытков:', st.percentileofscore(revenue_1, 0), '%')"
   ]
  },
  {
   "cell_type": "code",
   "execution_count": 22,
   "metadata": {},
   "outputs": [
    {
     "name": "stdout",
     "output_type": "stream",
     "text": [
      "Распределение прибыли для второго региона\n",
      "Средняя прибыль: 515222773.4432899\n",
      "95%-й Доверительный интервал: 68873225.37050176 - 931547591.2570494\n",
      "Риск убытков: 1.0 %\n"
     ]
    }
   ],
   "source": [
    "print('Распределение прибыли для второго региона')\n",
    "print('Средняя прибыль:', revenue_2.mean())\n",
    "print('95%-й Доверительный интервал:', revenue_2.quantile(0.025), '-', revenue_2.quantile(0.975))\n",
    "print('Риск убытков:', st.percentileofscore(revenue_2, 0), '%')"
   ]
  },
  {
   "cell_type": "code",
   "execution_count": 23,
   "metadata": {},
   "outputs": [
    {
     "name": "stdout",
     "output_type": "stream",
     "text": [
      "Распределение прибыли для третьего региона\n",
      "Средняя прибыль: 435008362.7827556\n",
      "95%-й Доверительный интервал: -128880547.32978901 - 969706954.1802661\n",
      "Риск убытков: 6.4 %\n"
     ]
    }
   ],
   "source": [
    "print('Распределение прибыли для третьего региона')\n",
    "print('Средняя прибыль:', revenue_3.mean())\n",
    "print('95%-й Доверительный интервал:', revenue_3.quantile(0.025), '-', revenue_3.quantile(0.975))\n",
    "print('Риск убытков:', st.percentileofscore(revenue_3, 0), '%')"
   ]
  },
  {
   "cell_type": "markdown",
   "metadata": {},
   "source": [
    "**Вывод**  \n",
    "Исходя из проведенного анализа, выяснилось, что наибольшим риском убыточности обладает третий регион (показатель составил 6,4%), на втором месте по риску убытков расположился первый регион (показатель равень 6%). Меньше всего риск убыточности у второго региона, у него же наибольшая средняя прибыль, а если рассмотреть 95%-й доверительный интервал, то можно заметить, что прибыль в нем принимает положительные значения, следовательно, рекомендуется выбрать именно этот регион для разработки месторождения.  "
   ]
  }
 ],
 "metadata": {
  "ExecuteTimeLog": [
   {
    "duration": 411,
    "start_time": "2023-04-02T08:28:41.718Z"
   },
   {
    "duration": 1466,
    "start_time": "2023-04-02T08:29:41.522Z"
   },
   {
    "duration": 18,
    "start_time": "2023-04-02T08:30:39.577Z"
   },
   {
    "duration": 15,
    "start_time": "2023-04-02T08:31:16.778Z"
   },
   {
    "duration": 22,
    "start_time": "2023-04-02T08:31:30.966Z"
   },
   {
    "duration": 10,
    "start_time": "2023-04-02T08:31:38.229Z"
   },
   {
    "duration": 46,
    "start_time": "2023-04-02T08:31:51.292Z"
   },
   {
    "duration": 48,
    "start_time": "2023-04-02T08:31:55.280Z"
   },
   {
    "duration": 179,
    "start_time": "2023-04-02T08:32:18.794Z"
   },
   {
    "duration": 45,
    "start_time": "2023-04-02T08:37:07.016Z"
   },
   {
    "duration": 431,
    "start_time": "2023-04-02T15:09:11.139Z"
   },
   {
    "duration": 1732,
    "start_time": "2023-04-02T15:09:11.572Z"
   },
   {
    "duration": 20,
    "start_time": "2023-04-02T15:09:13.306Z"
   },
   {
    "duration": 19,
    "start_time": "2023-04-02T15:09:13.328Z"
   },
   {
    "duration": 23,
    "start_time": "2023-04-02T15:09:13.349Z"
   },
   {
    "duration": 15,
    "start_time": "2023-04-02T15:09:13.375Z"
   },
   {
    "duration": 204,
    "start_time": "2023-04-02T15:09:13.392Z"
   },
   {
    "duration": 46,
    "start_time": "2023-04-02T15:09:13.597Z"
   },
   {
    "duration": 15,
    "start_time": "2023-04-02T15:15:55.387Z"
   },
   {
    "duration": 716,
    "start_time": "2023-04-02T15:22:58.290Z"
   },
   {
    "duration": 24,
    "start_time": "2023-04-02T15:26:33.169Z"
   },
   {
    "duration": 4,
    "start_time": "2023-04-02T15:26:54.857Z"
   },
   {
    "duration": 134,
    "start_time": "2023-04-02T15:27:17.341Z"
   },
   {
    "duration": 42,
    "start_time": "2023-04-02T15:27:33.234Z"
   },
   {
    "duration": 4,
    "start_time": "2023-04-02T15:27:35.506Z"
   },
   {
    "duration": 62,
    "start_time": "2023-04-02T15:27:36.918Z"
   },
   {
    "duration": 413,
    "start_time": "2023-04-02T15:31:34.888Z"
   },
   {
    "duration": 16,
    "start_time": "2023-04-02T15:32:28.466Z"
   },
   {
    "duration": 4,
    "start_time": "2023-04-02T15:32:32.156Z"
   },
   {
    "duration": 31,
    "start_time": "2023-04-02T15:32:33.921Z"
   },
   {
    "duration": 50,
    "start_time": "2023-04-02T15:33:44.474Z"
   },
   {
    "duration": 34,
    "start_time": "2023-04-02T15:38:41.287Z"
   },
   {
    "duration": 3,
    "start_time": "2023-04-02T15:39:19.989Z"
   },
   {
    "duration": 37,
    "start_time": "2023-04-02T15:45:19.885Z"
   },
   {
    "duration": 5,
    "start_time": "2023-04-02T15:45:34.121Z"
   },
   {
    "duration": 26,
    "start_time": "2023-04-02T15:46:01.881Z"
   },
   {
    "duration": 116,
    "start_time": "2023-04-02T15:51:42.017Z"
   },
   {
    "duration": 11,
    "start_time": "2023-04-02T15:53:13.859Z"
   },
   {
    "duration": 3,
    "start_time": "2023-04-02T15:53:33.578Z"
   },
   {
    "duration": 8,
    "start_time": "2023-04-02T15:53:36.892Z"
   },
   {
    "duration": 3,
    "start_time": "2023-04-02T16:31:27.521Z"
   },
   {
    "duration": 8,
    "start_time": "2023-04-02T16:32:12.159Z"
   },
   {
    "duration": 4,
    "start_time": "2023-04-02T16:32:16.895Z"
   },
   {
    "duration": 6,
    "start_time": "2023-04-02T16:34:58.986Z"
   },
   {
    "duration": 3,
    "start_time": "2023-04-02T17:18:55.419Z"
   },
   {
    "duration": 3,
    "start_time": "2023-04-02T17:21:36.740Z"
   },
   {
    "duration": 11,
    "start_time": "2023-04-02T17:25:37.335Z"
   },
   {
    "duration": 3,
    "start_time": "2023-04-02T17:25:49.615Z"
   },
   {
    "duration": 24,
    "start_time": "2023-04-02T17:25:51.566Z"
   },
   {
    "duration": 3,
    "start_time": "2023-04-02T17:43:46.419Z"
   },
   {
    "duration": 4,
    "start_time": "2023-04-02T17:53:44.114Z"
   },
   {
    "duration": 15,
    "start_time": "2023-04-02T17:58:44.375Z"
   },
   {
    "duration": 3,
    "start_time": "2023-04-02T18:03:04.046Z"
   },
   {
    "duration": 4,
    "start_time": "2023-04-02T18:03:05.232Z"
   },
   {
    "duration": 12,
    "start_time": "2023-04-02T18:03:06.423Z"
   },
   {
    "duration": 4,
    "start_time": "2023-04-02T18:04:41.200Z"
   },
   {
    "duration": 15,
    "start_time": "2023-04-02T18:04:42.513Z"
   },
   {
    "duration": 4,
    "start_time": "2023-04-02T18:04:55.817Z"
   },
   {
    "duration": 14,
    "start_time": "2023-04-02T18:04:57.174Z"
   },
   {
    "duration": 4,
    "start_time": "2023-04-02T18:14:05.726Z"
   },
   {
    "duration": 6,
    "start_time": "2023-04-02T18:14:07.430Z"
   },
   {
    "duration": 13,
    "start_time": "2023-04-02T18:14:08.687Z"
   },
   {
    "duration": 4,
    "start_time": "2023-04-02T18:14:25.730Z"
   },
   {
    "duration": 17,
    "start_time": "2023-04-02T18:14:27.330Z"
   },
   {
    "duration": 5,
    "start_time": "2023-04-02T18:14:53.072Z"
   },
   {
    "duration": 12,
    "start_time": "2023-04-02T18:14:54.278Z"
   },
   {
    "duration": 5,
    "start_time": "2023-04-02T18:15:13.255Z"
   },
   {
    "duration": 25,
    "start_time": "2023-04-02T18:15:14.862Z"
   },
   {
    "duration": 4,
    "start_time": "2023-04-02T18:17:20.895Z"
   },
   {
    "duration": 18,
    "start_time": "2023-04-02T18:17:22.648Z"
   },
   {
    "duration": 5,
    "start_time": "2023-04-02T18:17:33.549Z"
   },
   {
    "duration": 17,
    "start_time": "2023-04-02T18:17:34.746Z"
   },
   {
    "duration": 47,
    "start_time": "2023-04-02T18:20:37.671Z"
   },
   {
    "duration": 45,
    "start_time": "2023-04-02T18:20:51.975Z"
   },
   {
    "duration": 14,
    "start_time": "2023-04-02T18:21:14.029Z"
   },
   {
    "duration": 4,
    "start_time": "2023-04-02T18:21:19.530Z"
   },
   {
    "duration": 4,
    "start_time": "2023-04-02T18:21:26.480Z"
   },
   {
    "duration": 4,
    "start_time": "2023-04-02T18:21:32.535Z"
   },
   {
    "duration": 4,
    "start_time": "2023-04-02T18:21:33.444Z"
   },
   {
    "duration": 4232,
    "start_time": "2023-04-02T18:21:34.636Z"
   },
   {
    "duration": 4,
    "start_time": "2023-04-02T18:24:15.114Z"
   },
   {
    "duration": 11,
    "start_time": "2023-04-02T18:24:18.372Z"
   },
   {
    "duration": 9,
    "start_time": "2023-04-02T18:24:27.926Z"
   },
   {
    "duration": 7,
    "start_time": "2023-04-02T18:25:00.905Z"
   },
   {
    "duration": 8,
    "start_time": "2023-04-02T18:25:20.905Z"
   },
   {
    "duration": 2155,
    "start_time": "2023-04-03T06:17:34.557Z"
   },
   {
    "duration": 471,
    "start_time": "2023-04-03T06:17:36.717Z"
   },
   {
    "duration": 21,
    "start_time": "2023-04-03T06:17:37.189Z"
   },
   {
    "duration": 26,
    "start_time": "2023-04-03T06:17:37.217Z"
   },
   {
    "duration": 10,
    "start_time": "2023-04-03T06:17:37.245Z"
   },
   {
    "duration": 11,
    "start_time": "2023-04-03T06:17:37.257Z"
   },
   {
    "duration": 163,
    "start_time": "2023-04-03T06:17:37.269Z"
   },
   {
    "duration": 61,
    "start_time": "2023-04-03T06:17:37.435Z"
   },
   {
    "duration": 18,
    "start_time": "2023-04-03T06:17:37.499Z"
   },
   {
    "duration": 52,
    "start_time": "2023-04-03T06:17:37.520Z"
   },
   {
    "duration": 3,
    "start_time": "2023-04-03T06:17:37.573Z"
   },
   {
    "duration": 39,
    "start_time": "2023-04-03T06:17:37.578Z"
   },
   {
    "duration": 99,
    "start_time": "2023-04-03T06:17:37.623Z"
   },
   {
    "duration": 124,
    "start_time": "2023-04-03T06:17:37.727Z"
   },
   {
    "duration": 49,
    "start_time": "2023-04-03T06:17:37.853Z"
   },
   {
    "duration": 24,
    "start_time": "2023-04-03T06:17:37.914Z"
   },
   {
    "duration": 16,
    "start_time": "2023-04-03T06:17:37.940Z"
   },
   {
    "duration": 3,
    "start_time": "2023-04-03T06:17:37.958Z"
   },
   {
    "duration": 6,
    "start_time": "2023-04-03T06:17:37.963Z"
   },
   {
    "duration": 4768,
    "start_time": "2023-04-03T06:17:37.971Z"
   },
   {
    "duration": 7,
    "start_time": "2023-04-03T06:17:42.741Z"
   },
   {
    "duration": 22,
    "start_time": "2023-04-03T06:17:42.750Z"
   },
   {
    "duration": 48,
    "start_time": "2023-04-03T06:17:42.773Z"
   }
  ],
  "kernelspec": {
   "display_name": "Python 3",
   "language": "python",
   "name": "python3"
  },
  "language_info": {
   "codemirror_mode": {
    "name": "ipython",
    "version": 3
   },
   "file_extension": ".py",
   "mimetype": "text/x-python",
   "name": "python",
   "nbconvert_exporter": "python",
   "pygments_lexer": "ipython3",
   "version": "3.8.5"
  },
  "toc": {
   "base_numbering": 1,
   "nav_menu": {},
   "number_sections": true,
   "sideBar": true,
   "skip_h1_title": true,
   "title_cell": "Содержание",
   "title_sidebar": "Contents",
   "toc_cell": true,
   "toc_position": {},
   "toc_section_display": true,
   "toc_window_display": true
  }
 },
 "nbformat": 4,
 "nbformat_minor": 2
}
