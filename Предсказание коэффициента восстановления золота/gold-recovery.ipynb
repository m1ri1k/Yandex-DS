{
 "cells": [
  {
   "cell_type": "markdown",
   "metadata": {
    "toc": true
   },
   "source": [
    "<h1>Содержание<span class=\"tocSkip\"></span></h1>\n",
    "<div class=\"toc\"><ul class=\"toc-item\"><li><span><a href=\"#Подготовка-данных\" data-toc-modified-id=\"Подготовка-данных-1\"><span class=\"toc-item-num\">1&nbsp;&nbsp;</span>Подготовка данных</a></span><ul class=\"toc-item\"><li><span><a href=\"#Проверка-правильности-расчета-эффективности-обогащения\" data-toc-modified-id=\"Проверка-правильности-расчета-эффективности-обогащения-1.1\"><span class=\"toc-item-num\">1.1&nbsp;&nbsp;</span>Проверка правильности расчета эффективности обогащения</a></span></li><li><span><a href=\"#Признаки,-недоступные-на-тестовой-выборке\" data-toc-modified-id=\"Признаки,-недоступные-на-тестовой-выборке-1.2\"><span class=\"toc-item-num\">1.2&nbsp;&nbsp;</span>Признаки, недоступные на тестовой выборке</a></span></li><li><span><a href=\"#Предобработка-данных\" data-toc-modified-id=\"Предобработка-данных-1.3\"><span class=\"toc-item-num\">1.3&nbsp;&nbsp;</span>Предобработка данных</a></span></li></ul></li><li><span><a href=\"#Анализ-данных\" data-toc-modified-id=\"Анализ-данных-2\"><span class=\"toc-item-num\">2&nbsp;&nbsp;</span>Анализ данных</a></span><ul class=\"toc-item\"><li><span><a href=\"#Исследование-изменения-концентрации-металлов-на-каждом-этапе\" data-toc-modified-id=\"Исследование-изменения-концентрации-металлов-на-каждом-этапе-2.1\"><span class=\"toc-item-num\">2.1&nbsp;&nbsp;</span>Исследование изменения концентрации металлов на каждом этапе</a></span></li><li><span><a href=\"#Распределение-размеров-гранул-сырья\" data-toc-modified-id=\"Распределение-размеров-гранул-сырья-2.2\"><span class=\"toc-item-num\">2.2&nbsp;&nbsp;</span>Распределение размеров гранул сырья</a></span></li><li><span><a href=\"#Суммарная-концентрация-всех-веществ-на-разных-стадиях\" data-toc-modified-id=\"Суммарная-концентрация-всех-веществ-на-разных-стадиях-2.3\"><span class=\"toc-item-num\">2.3&nbsp;&nbsp;</span>Суммарная концентрация всех веществ на разных стадиях</a></span></li></ul></li><li><span><a href=\"#Модель\" data-toc-modified-id=\"Модель-3\"><span class=\"toc-item-num\">3&nbsp;&nbsp;</span>Модель</a></span><ul class=\"toc-item\"><li><span><a href=\"#Функция-для-подсчета-итогового-sMAPE\" data-toc-modified-id=\"Функция-для-подсчета-итогового-sMAPE-3.1\"><span class=\"toc-item-num\">3.1&nbsp;&nbsp;</span>Функция для подсчета итогового sMAPE</a></span></li><li><span><a href=\"#Подготовка-данных-для-обучения-моделей\" data-toc-modified-id=\"Подготовка-данных-для-обучения-моделей-3.2\"><span class=\"toc-item-num\">3.2&nbsp;&nbsp;</span>Подготовка данных для обучения моделей</a></span></li><li><span><a href=\"#Выбор-модели\" data-toc-modified-id=\"Выбор-модели-3.3\"><span class=\"toc-item-num\">3.3&nbsp;&nbsp;</span>Выбор модели</a></span><ul class=\"toc-item\"><li><span><a href=\"#Линейная-регрессия\" data-toc-modified-id=\"Линейная-регрессия-3.3.1\"><span class=\"toc-item-num\">3.3.1&nbsp;&nbsp;</span>Линейная регрессия</a></span></li><li><span><a href=\"#Дерево-решений\" data-toc-modified-id=\"Дерево-решений-3.3.2\"><span class=\"toc-item-num\">3.3.2&nbsp;&nbsp;</span>Дерево решений</a></span></li><li><span><a href=\"#Случайный-лес\" data-toc-modified-id=\"Случайный-лес-3.3.3\"><span class=\"toc-item-num\">3.3.3&nbsp;&nbsp;</span>Случайный лес</a></span></li></ul></li><li><span><a href=\"#Проверка-качества-модели-на-тестовой-выборке\" data-toc-modified-id=\"Проверка-качества-модели-на-тестовой-выборке-3.4\"><span class=\"toc-item-num\">3.4&nbsp;&nbsp;</span>Проверка качества модели на тестовой выборке</a></span></li><li><span><a href=\"#Сравнение-модели-с-константной-моделью\" data-toc-modified-id=\"Сравнение-модели-с-константной-моделью-3.5\"><span class=\"toc-item-num\">3.5&nbsp;&nbsp;</span>Сравнение модели с константной моделью</a></span></li></ul></li><li><span><a href=\"#Вывод\" data-toc-modified-id=\"Вывод-4\"><span class=\"toc-item-num\">4&nbsp;&nbsp;</span>Вывод</a></span></li><li><span><a href=\"#Чек-лист-готовности-проекта\" data-toc-modified-id=\"Чек-лист-готовности-проекта-5\"><span class=\"toc-item-num\">5&nbsp;&nbsp;</span>Чек-лист готовности проекта</a></span></li></ul></div>"
   ]
  },
  {
   "cell_type": "markdown",
   "metadata": {},
   "source": [
    "# Восстановление золота из руды"
   ]
  },
  {
   "cell_type": "markdown",
   "metadata": {},
   "source": [
    "Подготовьте прототип модели машинного обучения для «Цифры». Компания разрабатывает решения для эффективной работы промышленных предприятий.\n",
    "\n",
    "Модель должна предсказать коэффициент восстановления золота из золотосодержащей руды. Используйте данные с параметрами добычи и очистки. \n",
    "\n",
    "Модель поможет оптимизировать производство, чтобы не запускать предприятие с убыточными характеристиками.\n",
    "\n",
    "Вам нужно:\n",
    "\n",
    "1. Подготовить данные;\n",
    "2. Провести исследовательский анализ данных;\n",
    "3. Построить и обучить модель.\n",
    "\n",
    "Чтобы выполнить проект, обращайтесь к библиотекам *pandas*, *matplotlib* и *sklearn.* Вам поможет их документация."
   ]
  },
  {
   "cell_type": "markdown",
   "metadata": {},
   "source": [
    "**Описание данных**  \n",
    "*Технологический процесс*\n",
    "* Rougher feed — исходное сырье\n",
    "* Rougher additions (или reagent additions) — флотационные реагенты: Xanthate, Sulphate, Depressant\n",
    "* Xanthate — ксантогенат (промотер, или активатор флотации);\n",
    "* Sulphate — сульфат (на данном производстве сульфид натрия);\n",
    "* Depressant — депрессант (силикат натрия).\n",
    "* Rougher process (англ. «грубый процесс») — флотация\n",
    "* Rougher tails — отвальные хвосты\n",
    "* Float banks — флотационная установка\n",
    "* Cleaner process — очистка\n",
    "* Rougher Au — черновой концентрат золота\n",
    "* Final Au — финальный концентрат золота\n",
    "  \n",
    "*Параметры этапов*\n",
    "* air amount — объём воздуха\n",
    "* fluid levels — уровень жидкости\n",
    "* feed size — размер гранул сырья\n",
    "* feed rate — скорость подачи\n",
    "\n",
    "*Наименование признаков*\n",
    "Наименование признаков должно быть такое:  \n",
    "[этап].[тип_параметра].[название_параметра]  \n",
    "Пример: rougher.input.feed_ag  \n",
    "  \n",
    "*Возможные значения для блока [этап]:*\n",
    "*  rougher — флотация\n",
    "* primary_cleaner — первичная очистка\n",
    "* secondary_cleaner — вторичная очистка\n",
    "* final — финальные характеристики\n",
    "  \n",
    "*Возможные значения для блока [тип_параметра]:*\n",
    "* input — параметры сырья\n",
    "* output — параметры продукта\n",
    "* state — параметры, характеризующие текущее состояние этапа\n",
    "* calculation — расчётные характеристики"
   ]
  },
  {
   "cell_type": "markdown",
   "metadata": {},
   "source": [
    "**Загрузка библиотек и функций**"
   ]
  },
  {
   "cell_type": "code",
   "execution_count": 2,
   "metadata": {},
   "outputs": [],
   "source": [
    "import pandas as pd\n",
    "from sklearn.metrics import mean_absolute_error\n",
    "import matplotlib.pyplot as plt\n",
    "import seaborn as sns\n",
    "import numpy as np\n",
    "from sklearn.ensemble import RandomForestRegressor\n",
    "from sklearn.tree import DecisionTreeRegressor\n",
    "from sklearn.linear_model import LinearRegression\n",
    "from sklearn.model_selection import cross_val_score\n",
    "from sklearn.metrics import make_scorer\n",
    "from sklearn.model_selection import RandomizedSearchCV\n",
    "from sklearn.dummy import DummyRegressor"
   ]
  },
  {
   "cell_type": "markdown",
   "metadata": {},
   "source": [
    "## Подготовка данных"
   ]
  },
  {
   "cell_type": "code",
   "execution_count": 3,
   "metadata": {},
   "outputs": [],
   "source": [
    "train = pd.read_csv('/datasets/gold_recovery_train_new.csv')\n",
    "test = pd.read_csv('/datasets/gold_recovery_test_new.csv')\n",
    "full_data = pd.read_csv('/datasets/gold_recovery_full_new.csv')"
   ]
  },
  {
   "cell_type": "markdown",
   "metadata": {},
   "source": [
    "Изучим данные, выведем информацию о датасетах."
   ]
  },
  {
   "cell_type": "code",
   "execution_count": 4,
   "metadata": {},
   "outputs": [
    {
     "name": "stdout",
     "output_type": "stream",
     "text": [
      "<class 'pandas.core.frame.DataFrame'>\n",
      "RangeIndex: 14149 entries, 0 to 14148\n",
      "Data columns (total 87 columns):\n",
      " #   Column                                              Non-Null Count  Dtype  \n",
      "---  ------                                              --------------  -----  \n",
      " 0   date                                                14149 non-null  object \n",
      " 1   final.output.concentrate_ag                         14148 non-null  float64\n",
      " 2   final.output.concentrate_pb                         14148 non-null  float64\n",
      " 3   final.output.concentrate_sol                        13938 non-null  float64\n",
      " 4   final.output.concentrate_au                         14149 non-null  float64\n",
      " 5   final.output.recovery                               14149 non-null  float64\n",
      " 6   final.output.tail_ag                                14149 non-null  float64\n",
      " 7   final.output.tail_pb                                14049 non-null  float64\n",
      " 8   final.output.tail_sol                               14144 non-null  float64\n",
      " 9   final.output.tail_au                                14149 non-null  float64\n",
      " 10  primary_cleaner.input.sulfate                       14129 non-null  float64\n",
      " 11  primary_cleaner.input.depressant                    14117 non-null  float64\n",
      " 12  primary_cleaner.input.feed_size                     14149 non-null  float64\n",
      " 13  primary_cleaner.input.xanthate                      14049 non-null  float64\n",
      " 14  primary_cleaner.output.concentrate_ag               14149 non-null  float64\n",
      " 15  primary_cleaner.output.concentrate_pb               14063 non-null  float64\n",
      " 16  primary_cleaner.output.concentrate_sol              13863 non-null  float64\n",
      " 17  primary_cleaner.output.concentrate_au               14149 non-null  float64\n",
      " 18  primary_cleaner.output.tail_ag                      14148 non-null  float64\n",
      " 19  primary_cleaner.output.tail_pb                      14134 non-null  float64\n",
      " 20  primary_cleaner.output.tail_sol                     14103 non-null  float64\n",
      " 21  primary_cleaner.output.tail_au                      14149 non-null  float64\n",
      " 22  primary_cleaner.state.floatbank8_a_air              14145 non-null  float64\n",
      " 23  primary_cleaner.state.floatbank8_a_level            14148 non-null  float64\n",
      " 24  primary_cleaner.state.floatbank8_b_air              14145 non-null  float64\n",
      " 25  primary_cleaner.state.floatbank8_b_level            14148 non-null  float64\n",
      " 26  primary_cleaner.state.floatbank8_c_air              14147 non-null  float64\n",
      " 27  primary_cleaner.state.floatbank8_c_level            14148 non-null  float64\n",
      " 28  primary_cleaner.state.floatbank8_d_air              14146 non-null  float64\n",
      " 29  primary_cleaner.state.floatbank8_d_level            14148 non-null  float64\n",
      " 30  rougher.calculation.sulfate_to_au_concentrate       14148 non-null  float64\n",
      " 31  rougher.calculation.floatbank10_sulfate_to_au_feed  14148 non-null  float64\n",
      " 32  rougher.calculation.floatbank11_sulfate_to_au_feed  14148 non-null  float64\n",
      " 33  rougher.calculation.au_pb_ratio                     14149 non-null  float64\n",
      " 34  rougher.input.feed_ag                               14149 non-null  float64\n",
      " 35  rougher.input.feed_pb                               14049 non-null  float64\n",
      " 36  rougher.input.feed_rate                             14141 non-null  float64\n",
      " 37  rougher.input.feed_size                             14005 non-null  float64\n",
      " 38  rougher.input.feed_sol                              14071 non-null  float64\n",
      " 39  rougher.input.feed_au                               14149 non-null  float64\n",
      " 40  rougher.input.floatbank10_sulfate                   14120 non-null  float64\n",
      " 41  rougher.input.floatbank10_xanthate                  14141 non-null  float64\n",
      " 42  rougher.input.floatbank11_sulfate                   14113 non-null  float64\n",
      " 43  rougher.input.floatbank11_xanthate                  13721 non-null  float64\n",
      " 44  rougher.output.concentrate_ag                       14149 non-null  float64\n",
      " 45  rougher.output.concentrate_pb                       14149 non-null  float64\n",
      " 46  rougher.output.concentrate_sol                      14127 non-null  float64\n",
      " 47  rougher.output.concentrate_au                       14149 non-null  float64\n",
      " 48  rougher.output.recovery                             14149 non-null  float64\n",
      " 49  rougher.output.tail_ag                              14148 non-null  float64\n",
      " 50  rougher.output.tail_pb                              14149 non-null  float64\n",
      " 51  rougher.output.tail_sol                             14149 non-null  float64\n",
      " 52  rougher.output.tail_au                              14149 non-null  float64\n",
      " 53  rougher.state.floatbank10_a_air                     14148 non-null  float64\n",
      " 54  rougher.state.floatbank10_a_level                   14148 non-null  float64\n",
      " 55  rougher.state.floatbank10_b_air                     14148 non-null  float64\n",
      " 56  rougher.state.floatbank10_b_level                   14148 non-null  float64\n",
      " 57  rougher.state.floatbank10_c_air                     14148 non-null  float64\n",
      " 58  rougher.state.floatbank10_c_level                   14148 non-null  float64\n",
      " 59  rougher.state.floatbank10_d_air                     14149 non-null  float64\n",
      " 60  rougher.state.floatbank10_d_level                   14149 non-null  float64\n",
      " 61  rougher.state.floatbank10_e_air                     13713 non-null  float64\n",
      " 62  rougher.state.floatbank10_e_level                   14149 non-null  float64\n",
      " 63  rougher.state.floatbank10_f_air                     14149 non-null  float64\n",
      " 64  rougher.state.floatbank10_f_level                   14149 non-null  float64\n",
      " 65  secondary_cleaner.output.tail_ag                    14147 non-null  float64\n",
      " 66  secondary_cleaner.output.tail_pb                    14139 non-null  float64\n",
      " 67  secondary_cleaner.output.tail_sol                   12544 non-null  float64\n",
      " 68  secondary_cleaner.output.tail_au                    14149 non-null  float64\n",
      " 69  secondary_cleaner.state.floatbank2_a_air            13932 non-null  float64\n",
      " 70  secondary_cleaner.state.floatbank2_a_level          14148 non-null  float64\n",
      " 71  secondary_cleaner.state.floatbank2_b_air            14128 non-null  float64\n",
      " 72  secondary_cleaner.state.floatbank2_b_level          14148 non-null  float64\n",
      " 73  secondary_cleaner.state.floatbank3_a_air            14145 non-null  float64\n",
      " 74  secondary_cleaner.state.floatbank3_a_level          14148 non-null  float64\n",
      " 75  secondary_cleaner.state.floatbank3_b_air            14148 non-null  float64\n",
      " 76  secondary_cleaner.state.floatbank3_b_level          14148 non-null  float64\n",
      " 77  secondary_cleaner.state.floatbank4_a_air            14143 non-null  float64\n",
      " 78  secondary_cleaner.state.floatbank4_a_level          14148 non-null  float64\n",
      " 79  secondary_cleaner.state.floatbank4_b_air            14148 non-null  float64\n",
      " 80  secondary_cleaner.state.floatbank4_b_level          14148 non-null  float64\n",
      " 81  secondary_cleaner.state.floatbank5_a_air            14148 non-null  float64\n",
      " 82  secondary_cleaner.state.floatbank5_a_level          14148 non-null  float64\n",
      " 83  secondary_cleaner.state.floatbank5_b_air            14148 non-null  float64\n",
      " 84  secondary_cleaner.state.floatbank5_b_level          14148 non-null  float64\n",
      " 85  secondary_cleaner.state.floatbank6_a_air            14147 non-null  float64\n",
      " 86  secondary_cleaner.state.floatbank6_a_level          14148 non-null  float64\n",
      "dtypes: float64(86), object(1)\n",
      "memory usage: 9.4+ MB\n",
      "None\n",
      "\n",
      "<class 'pandas.core.frame.DataFrame'>\n",
      "RangeIndex: 5290 entries, 0 to 5289\n",
      "Data columns (total 53 columns):\n",
      " #   Column                                      Non-Null Count  Dtype  \n",
      "---  ------                                      --------------  -----  \n",
      " 0   date                                        5290 non-null   object \n",
      " 1   primary_cleaner.input.sulfate               5286 non-null   float64\n",
      " 2   primary_cleaner.input.depressant            5285 non-null   float64\n",
      " 3   primary_cleaner.input.feed_size             5290 non-null   float64\n",
      " 4   primary_cleaner.input.xanthate              5286 non-null   float64\n",
      " 5   primary_cleaner.state.floatbank8_a_air      5290 non-null   float64\n",
      " 6   primary_cleaner.state.floatbank8_a_level    5290 non-null   float64\n",
      " 7   primary_cleaner.state.floatbank8_b_air      5290 non-null   float64\n",
      " 8   primary_cleaner.state.floatbank8_b_level    5290 non-null   float64\n",
      " 9   primary_cleaner.state.floatbank8_c_air      5290 non-null   float64\n",
      " 10  primary_cleaner.state.floatbank8_c_level    5290 non-null   float64\n",
      " 11  primary_cleaner.state.floatbank8_d_air      5290 non-null   float64\n",
      " 12  primary_cleaner.state.floatbank8_d_level    5290 non-null   float64\n",
      " 13  rougher.input.feed_ag                       5290 non-null   float64\n",
      " 14  rougher.input.feed_pb                       5290 non-null   float64\n",
      " 15  rougher.input.feed_rate                     5287 non-null   float64\n",
      " 16  rougher.input.feed_size                     5289 non-null   float64\n",
      " 17  rougher.input.feed_sol                      5269 non-null   float64\n",
      " 18  rougher.input.feed_au                       5290 non-null   float64\n",
      " 19  rougher.input.floatbank10_sulfate           5285 non-null   float64\n",
      " 20  rougher.input.floatbank10_xanthate          5290 non-null   float64\n",
      " 21  rougher.input.floatbank11_sulfate           5282 non-null   float64\n",
      " 22  rougher.input.floatbank11_xanthate          5265 non-null   float64\n",
      " 23  rougher.state.floatbank10_a_air             5290 non-null   float64\n",
      " 24  rougher.state.floatbank10_a_level           5290 non-null   float64\n",
      " 25  rougher.state.floatbank10_b_air             5290 non-null   float64\n",
      " 26  rougher.state.floatbank10_b_level           5290 non-null   float64\n",
      " 27  rougher.state.floatbank10_c_air             5290 non-null   float64\n",
      " 28  rougher.state.floatbank10_c_level           5290 non-null   float64\n",
      " 29  rougher.state.floatbank10_d_air             5290 non-null   float64\n",
      " 30  rougher.state.floatbank10_d_level           5290 non-null   float64\n",
      " 31  rougher.state.floatbank10_e_air             5290 non-null   float64\n",
      " 32  rougher.state.floatbank10_e_level           5290 non-null   float64\n",
      " 33  rougher.state.floatbank10_f_air             5290 non-null   float64\n",
      " 34  rougher.state.floatbank10_f_level           5290 non-null   float64\n",
      " 35  secondary_cleaner.state.floatbank2_a_air    5287 non-null   float64\n",
      " 36  secondary_cleaner.state.floatbank2_a_level  5290 non-null   float64\n",
      " 37  secondary_cleaner.state.floatbank2_b_air    5288 non-null   float64\n",
      " 38  secondary_cleaner.state.floatbank2_b_level  5290 non-null   float64\n",
      " 39  secondary_cleaner.state.floatbank3_a_air    5281 non-null   float64\n",
      " 40  secondary_cleaner.state.floatbank3_a_level  5290 non-null   float64\n",
      " 41  secondary_cleaner.state.floatbank3_b_air    5290 non-null   float64\n",
      " 42  secondary_cleaner.state.floatbank3_b_level  5290 non-null   float64\n",
      " 43  secondary_cleaner.state.floatbank4_a_air    5290 non-null   float64\n",
      " 44  secondary_cleaner.state.floatbank4_a_level  5290 non-null   float64\n",
      " 45  secondary_cleaner.state.floatbank4_b_air    5290 non-null   float64\n",
      " 46  secondary_cleaner.state.floatbank4_b_level  5290 non-null   float64\n",
      " 47  secondary_cleaner.state.floatbank5_a_air    5290 non-null   float64\n",
      " 48  secondary_cleaner.state.floatbank5_a_level  5290 non-null   float64\n",
      " 49  secondary_cleaner.state.floatbank5_b_air    5290 non-null   float64\n",
      " 50  secondary_cleaner.state.floatbank5_b_level  5290 non-null   float64\n",
      " 51  secondary_cleaner.state.floatbank6_a_air    5290 non-null   float64\n",
      " 52  secondary_cleaner.state.floatbank6_a_level  5290 non-null   float64\n",
      "dtypes: float64(52), object(1)\n",
      "memory usage: 2.1+ MB\n",
      "None\n",
      "\n",
      "<class 'pandas.core.frame.DataFrame'>\n",
      "RangeIndex: 19439 entries, 0 to 19438\n",
      "Data columns (total 87 columns):\n",
      " #   Column                                              Non-Null Count  Dtype  \n",
      "---  ------                                              --------------  -----  \n",
      " 0   date                                                19439 non-null  object \n",
      " 1   final.output.concentrate_ag                         19438 non-null  float64\n",
      " 2   final.output.concentrate_pb                         19438 non-null  float64\n",
      " 3   final.output.concentrate_sol                        19228 non-null  float64\n",
      " 4   final.output.concentrate_au                         19439 non-null  float64\n",
      " 5   final.output.recovery                               19439 non-null  float64\n",
      " 6   final.output.tail_ag                                19438 non-null  float64\n",
      " 7   final.output.tail_pb                                19338 non-null  float64\n",
      " 8   final.output.tail_sol                               19433 non-null  float64\n",
      " 9   final.output.tail_au                                19439 non-null  float64\n",
      " 10  primary_cleaner.input.sulfate                       19415 non-null  float64\n",
      " 11  primary_cleaner.input.depressant                    19402 non-null  float64\n",
      " 12  primary_cleaner.input.feed_size                     19439 non-null  float64\n",
      " 13  primary_cleaner.input.xanthate                      19335 non-null  float64\n",
      " 14  primary_cleaner.output.concentrate_ag               19439 non-null  float64\n",
      " 15  primary_cleaner.output.concentrate_pb               19323 non-null  float64\n",
      " 16  primary_cleaner.output.concentrate_sol              19069 non-null  float64\n",
      " 17  primary_cleaner.output.concentrate_au               19439 non-null  float64\n",
      " 18  primary_cleaner.output.tail_ag                      19435 non-null  float64\n",
      " 19  primary_cleaner.output.tail_pb                      19418 non-null  float64\n",
      " 20  primary_cleaner.output.tail_sol                     19377 non-null  float64\n",
      " 21  primary_cleaner.output.tail_au                      19439 non-null  float64\n",
      " 22  primary_cleaner.state.floatbank8_a_air              19435 non-null  float64\n",
      " 23  primary_cleaner.state.floatbank8_a_level            19438 non-null  float64\n",
      " 24  primary_cleaner.state.floatbank8_b_air              19435 non-null  float64\n",
      " 25  primary_cleaner.state.floatbank8_b_level            19438 non-null  float64\n",
      " 26  primary_cleaner.state.floatbank8_c_air              19437 non-null  float64\n",
      " 27  primary_cleaner.state.floatbank8_c_level            19438 non-null  float64\n",
      " 28  primary_cleaner.state.floatbank8_d_air              19436 non-null  float64\n",
      " 29  primary_cleaner.state.floatbank8_d_level            19438 non-null  float64\n",
      " 30  rougher.calculation.sulfate_to_au_concentrate       19437 non-null  float64\n",
      " 31  rougher.calculation.floatbank10_sulfate_to_au_feed  19437 non-null  float64\n",
      " 32  rougher.calculation.floatbank11_sulfate_to_au_feed  19437 non-null  float64\n",
      " 33  rougher.calculation.au_pb_ratio                     19439 non-null  float64\n",
      " 34  rougher.input.feed_ag                               19439 non-null  float64\n",
      " 35  rougher.input.feed_pb                               19339 non-null  float64\n",
      " 36  rougher.input.feed_rate                             19428 non-null  float64\n",
      " 37  rougher.input.feed_size                             19294 non-null  float64\n",
      " 38  rougher.input.feed_sol                              19340 non-null  float64\n",
      " 39  rougher.input.feed_au                               19439 non-null  float64\n",
      " 40  rougher.input.floatbank10_sulfate                   19405 non-null  float64\n",
      " 41  rougher.input.floatbank10_xanthate                  19431 non-null  float64\n",
      " 42  rougher.input.floatbank11_sulfate                   19395 non-null  float64\n",
      " 43  rougher.input.floatbank11_xanthate                  18986 non-null  float64\n",
      " 44  rougher.output.concentrate_ag                       19439 non-null  float64\n",
      " 45  rougher.output.concentrate_pb                       19439 non-null  float64\n",
      " 46  rougher.output.concentrate_sol                      19416 non-null  float64\n",
      " 47  rougher.output.concentrate_au                       19439 non-null  float64\n",
      " 48  rougher.output.recovery                             19439 non-null  float64\n",
      " 49  rougher.output.tail_ag                              19438 non-null  float64\n",
      " 50  rougher.output.tail_pb                              19439 non-null  float64\n",
      " 51  rougher.output.tail_sol                             19439 non-null  float64\n",
      " 52  rougher.output.tail_au                              19439 non-null  float64\n",
      " 53  rougher.state.floatbank10_a_air                     19438 non-null  float64\n",
      " 54  rougher.state.floatbank10_a_level                   19438 non-null  float64\n",
      " 55  rougher.state.floatbank10_b_air                     19438 non-null  float64\n",
      " 56  rougher.state.floatbank10_b_level                   19438 non-null  float64\n",
      " 57  rougher.state.floatbank10_c_air                     19438 non-null  float64\n",
      " 58  rougher.state.floatbank10_c_level                   19438 non-null  float64\n",
      " 59  rougher.state.floatbank10_d_air                     19439 non-null  float64\n",
      " 60  rougher.state.floatbank10_d_level                   19439 non-null  float64\n",
      " 61  rougher.state.floatbank10_e_air                     19003 non-null  float64\n",
      " 62  rougher.state.floatbank10_e_level                   19439 non-null  float64\n",
      " 63  rougher.state.floatbank10_f_air                     19439 non-null  float64\n",
      " 64  rougher.state.floatbank10_f_level                   19439 non-null  float64\n",
      " 65  secondary_cleaner.output.tail_ag                    19437 non-null  float64\n",
      " 66  secondary_cleaner.output.tail_pb                    19427 non-null  float64\n",
      " 67  secondary_cleaner.output.tail_sol                   17691 non-null  float64\n",
      " 68  secondary_cleaner.output.tail_au                    19439 non-null  float64\n",
      " 69  secondary_cleaner.state.floatbank2_a_air            19219 non-null  float64\n",
      " 70  secondary_cleaner.state.floatbank2_a_level          19438 non-null  float64\n",
      " 71  secondary_cleaner.state.floatbank2_b_air            19416 non-null  float64\n",
      " 72  secondary_cleaner.state.floatbank2_b_level          19438 non-null  float64\n",
      " 73  secondary_cleaner.state.floatbank3_a_air            19426 non-null  float64\n",
      " 74  secondary_cleaner.state.floatbank3_a_level          19438 non-null  float64\n",
      " 75  secondary_cleaner.state.floatbank3_b_air            19438 non-null  float64\n",
      " 76  secondary_cleaner.state.floatbank3_b_level          19438 non-null  float64\n",
      " 77  secondary_cleaner.state.floatbank4_a_air            19433 non-null  float64\n",
      " 78  secondary_cleaner.state.floatbank4_a_level          19438 non-null  float64\n",
      " 79  secondary_cleaner.state.floatbank4_b_air            19438 non-null  float64\n",
      " 80  secondary_cleaner.state.floatbank4_b_level          19438 non-null  float64\n",
      " 81  secondary_cleaner.state.floatbank5_a_air            19438 non-null  float64\n",
      " 82  secondary_cleaner.state.floatbank5_a_level          19438 non-null  float64\n",
      " 83  secondary_cleaner.state.floatbank5_b_air            19438 non-null  float64\n",
      " 84  secondary_cleaner.state.floatbank5_b_level          19438 non-null  float64\n",
      " 85  secondary_cleaner.state.floatbank6_a_air            19437 non-null  float64\n",
      " 86  secondary_cleaner.state.floatbank6_a_level          19438 non-null  float64\n",
      "dtypes: float64(86), object(1)\n",
      "memory usage: 12.9+ MB\n",
      "None\n",
      "\n"
     ]
    }
   ],
   "source": [
    "for item in [train, test, full_data]:\n",
    "    print(item.info())\n",
    "    print( )"
   ]
  },
  {
   "cell_type": "markdown",
   "metadata": {},
   "source": [
    "### Проверка правильности расчета эффективности обогащения"
   ]
  },
  {
   "cell_type": "markdown",
   "metadata": {},
   "source": [
    "Вычислим эффективность обогащения на обучающей выборке для признака rougher.output.recovery. Найдем MAE между расчётами и значением признака."
   ]
  },
  {
   "cell_type": "code",
   "execution_count": 5,
   "metadata": {},
   "outputs": [
    {
     "data": {
      "text/plain": [
       "9.73512347450521e-15"
      ]
     },
     "execution_count": 5,
     "metadata": {},
     "output_type": "execute_result"
    }
   ],
   "source": [
    "C = train['rougher.output.concentrate_au']\n",
    "F = train['rougher.input.feed_au']\n",
    "T = train['rougher.output.tail_au']\n",
    "\n",
    "train['calc_recovery'] = ((C*(F-T))/(F*(C-T)))*100\n",
    "\n",
    "mean_absolute_error(train['calc_recovery'], train['rougher.output.recovery'])"
   ]
  },
  {
   "cell_type": "markdown",
   "metadata": {},
   "source": [
    "Значение MAE (средней абсолютной ошибки) мало, поэтому мы можем утверждать, что эффективность обогащения расчитана верно. Удалим добавленный столбец, в который мы записывали вычесленные значения эффективности обогащения."
   ]
  },
  {
   "cell_type": "code",
   "execution_count": 6,
   "metadata": {},
   "outputs": [],
   "source": [
    "train.drop('calc_recovery', axis=1, inplace=True)"
   ]
  },
  {
   "cell_type": "markdown",
   "metadata": {},
   "source": [
    "### Признаки, недоступные на тестовой выборке"
   ]
  },
  {
   "cell_type": "markdown",
   "metadata": {},
   "source": [
    "Посмотрим какие признаки отсутствуют в тестовой выборке."
   ]
  },
  {
   "cell_type": "code",
   "execution_count": 7,
   "metadata": {
    "scrolled": true
   },
   "outputs": [
    {
     "name": "stdout",
     "output_type": "stream",
     "text": [
      "['final.output.concentrate_ag', 'final.output.concentrate_pb', 'final.output.concentrate_sol', 'final.output.concentrate_au', 'final.output.recovery', 'final.output.tail_ag', 'final.output.tail_pb', 'final.output.tail_sol', 'final.output.tail_au', 'primary_cleaner.output.concentrate_ag', 'primary_cleaner.output.concentrate_pb', 'primary_cleaner.output.concentrate_sol', 'primary_cleaner.output.concentrate_au', 'primary_cleaner.output.tail_ag', 'primary_cleaner.output.tail_pb', 'primary_cleaner.output.tail_sol', 'primary_cleaner.output.tail_au', 'rougher.calculation.sulfate_to_au_concentrate', 'rougher.calculation.floatbank10_sulfate_to_au_feed', 'rougher.calculation.floatbank11_sulfate_to_au_feed', 'rougher.calculation.au_pb_ratio', 'rougher.output.concentrate_ag', 'rougher.output.concentrate_pb', 'rougher.output.concentrate_sol', 'rougher.output.concentrate_au', 'rougher.output.recovery', 'rougher.output.tail_ag', 'rougher.output.tail_pb', 'rougher.output.tail_sol', 'rougher.output.tail_au', 'secondary_cleaner.output.tail_ag', 'secondary_cleaner.output.tail_pb', 'secondary_cleaner.output.tail_sol', 'secondary_cleaner.output.tail_au']\n",
      "34\n"
     ]
    }
   ],
   "source": [
    "columns = []\n",
    "\n",
    "for item in full_data.columns:\n",
    "    if item not in test.columns:\n",
    "        columns.append(item)\n",
    "        \n",
    "print(columns)\n",
    "print(len(columns))"
   ]
  },
  {
   "cell_type": "markdown",
   "metadata": {},
   "source": [
    "В тестовой выборке отсутствуют 34 признака, это признаки, которые отвечают за параметры продуктов, а также расчетные признаки для разных этапов."
   ]
  },
  {
   "cell_type": "markdown",
   "metadata": {},
   "source": [
    "### Предобработка данных"
   ]
  },
  {
   "cell_type": "markdown",
   "metadata": {},
   "source": [
    "Проверим есть ли в данных пропуски:"
   ]
  },
  {
   "cell_type": "code",
   "execution_count": 8,
   "metadata": {
    "scrolled": true
   },
   "outputs": [
    {
     "data": {
      "text/plain": [
       "date                                           0\n",
       "primary_cleaner.input.sulfate                  4\n",
       "primary_cleaner.input.depressant               5\n",
       "primary_cleaner.input.feed_size                0\n",
       "primary_cleaner.input.xanthate                 4\n",
       "primary_cleaner.state.floatbank8_a_air         0\n",
       "primary_cleaner.state.floatbank8_a_level       0\n",
       "primary_cleaner.state.floatbank8_b_air         0\n",
       "primary_cleaner.state.floatbank8_b_level       0\n",
       "primary_cleaner.state.floatbank8_c_air         0\n",
       "primary_cleaner.state.floatbank8_c_level       0\n",
       "primary_cleaner.state.floatbank8_d_air         0\n",
       "primary_cleaner.state.floatbank8_d_level       0\n",
       "rougher.input.feed_ag                          0\n",
       "rougher.input.feed_pb                          0\n",
       "rougher.input.feed_rate                        3\n",
       "rougher.input.feed_size                        1\n",
       "rougher.input.feed_sol                        21\n",
       "rougher.input.feed_au                          0\n",
       "rougher.input.floatbank10_sulfate              5\n",
       "rougher.input.floatbank10_xanthate             0\n",
       "rougher.input.floatbank11_sulfate              8\n",
       "rougher.input.floatbank11_xanthate            25\n",
       "rougher.state.floatbank10_a_air                0\n",
       "rougher.state.floatbank10_a_level              0\n",
       "rougher.state.floatbank10_b_air                0\n",
       "rougher.state.floatbank10_b_level              0\n",
       "rougher.state.floatbank10_c_air                0\n",
       "rougher.state.floatbank10_c_level              0\n",
       "rougher.state.floatbank10_d_air                0\n",
       "rougher.state.floatbank10_d_level              0\n",
       "rougher.state.floatbank10_e_air                0\n",
       "rougher.state.floatbank10_e_level              0\n",
       "rougher.state.floatbank10_f_air                0\n",
       "rougher.state.floatbank10_f_level              0\n",
       "secondary_cleaner.state.floatbank2_a_air       3\n",
       "secondary_cleaner.state.floatbank2_a_level     0\n",
       "secondary_cleaner.state.floatbank2_b_air       2\n",
       "secondary_cleaner.state.floatbank2_b_level     0\n",
       "secondary_cleaner.state.floatbank3_a_air       9\n",
       "secondary_cleaner.state.floatbank3_a_level     0\n",
       "secondary_cleaner.state.floatbank3_b_air       0\n",
       "secondary_cleaner.state.floatbank3_b_level     0\n",
       "secondary_cleaner.state.floatbank4_a_air       0\n",
       "secondary_cleaner.state.floatbank4_a_level     0\n",
       "secondary_cleaner.state.floatbank4_b_air       0\n",
       "secondary_cleaner.state.floatbank4_b_level     0\n",
       "secondary_cleaner.state.floatbank5_a_air       0\n",
       "secondary_cleaner.state.floatbank5_a_level     0\n",
       "secondary_cleaner.state.floatbank5_b_air       0\n",
       "secondary_cleaner.state.floatbank5_b_level     0\n",
       "secondary_cleaner.state.floatbank6_a_air       0\n",
       "secondary_cleaner.state.floatbank6_a_level     0\n",
       "dtype: int64"
      ]
     },
     "execution_count": 8,
     "metadata": {},
     "output_type": "execute_result"
    }
   ],
   "source": [
    "test.isna().sum()"
   ]
  },
  {
   "cell_type": "code",
   "execution_count": 9,
   "metadata": {},
   "outputs": [
    {
     "data": {
      "text/plain": [
       "date                                            0\n",
       "final.output.concentrate_ag                     1\n",
       "final.output.concentrate_pb                     1\n",
       "final.output.concentrate_sol                  211\n",
       "final.output.concentrate_au                     0\n",
       "                                             ... \n",
       "secondary_cleaner.state.floatbank5_a_level      1\n",
       "secondary_cleaner.state.floatbank5_b_air        1\n",
       "secondary_cleaner.state.floatbank5_b_level      1\n",
       "secondary_cleaner.state.floatbank6_a_air        2\n",
       "secondary_cleaner.state.floatbank6_a_level      1\n",
       "Length: 87, dtype: int64"
      ]
     },
     "execution_count": 9,
     "metadata": {},
     "output_type": "execute_result"
    }
   ],
   "source": [
    "train.isna().sum()"
   ]
  },
  {
   "cell_type": "markdown",
   "metadata": {},
   "source": [
    "Найдено небольшое количество пропусков, больше всего содержится в переменной final.output.concentrate_sol в датасете train, но даже их в данных менее 10%. Для обработки пропусков используем метод ffil, так как наши данные представляют собой последовательные изменения. "
   ]
  },
  {
   "cell_type": "code",
   "execution_count": 10,
   "metadata": {
    "scrolled": true
   },
   "outputs": [],
   "source": [
    "test.ffill(axis=0, inplace=True)\n",
    "train.ffill(axis=0, inplace=True)"
   ]
  },
  {
   "cell_type": "markdown",
   "metadata": {},
   "source": [
    "Проверим данные на наличие дубликатов:"
   ]
  },
  {
   "cell_type": "code",
   "execution_count": 11,
   "metadata": {},
   "outputs": [
    {
     "name": "stdout",
     "output_type": "stream",
     "text": [
      "0\n",
      "\n",
      "0\n",
      "\n"
     ]
    }
   ],
   "source": [
    "for item in [train, test]:\n",
    "    print(item.duplicated().sum())\n",
    "    print( )"
   ]
  },
  {
   "cell_type": "markdown",
   "metadata": {},
   "source": [
    "В данных отсутвуют дубликаты. Также приведем столбец с датой в формат дат."
   ]
  },
  {
   "cell_type": "code",
   "execution_count": 12,
   "metadata": {},
   "outputs": [],
   "source": [
    "test['date'] = pd.to_datetime(test['date'], format='%Y-%m-%dT%H:%M:%S')\n",
    "train['date'] = pd.to_datetime(train['date'], format='%Y-%m-%dT%H:%M:%S')\n",
    "full_data['date'] = pd.to_datetime(full_data['date'], format='%Y-%m-%dT%H:%M:%S')"
   ]
  },
  {
   "cell_type": "markdown",
   "metadata": {},
   "source": [
    "## Анализ данных"
   ]
  },
  {
   "cell_type": "markdown",
   "metadata": {},
   "source": [
    "### Исследование изменения концентрации металлов на каждом этапе"
   ]
  },
  {
   "cell_type": "markdown",
   "metadata": {},
   "source": [
    "Напишем функцию, которая будет возвращать график изменения концентрации металлов. Работать будем с датасетом train, так как подразумевается, что test находится в условном будущем."
   ]
  },
  {
   "cell_type": "code",
   "execution_count": 13,
   "metadata": {},
   "outputs": [],
   "source": [
    "def metals(m):\n",
    "    df = train[[f'rougher.input.feed_{m}',\n",
    "                  f'rougher.output.concentrate_{m}', \n",
    "                  f'primary_cleaner.output.concentrate_{m}', \n",
    "                  f'final.output.concentrate_{m}']]\n",
    "    df.columns.values[0] = 'До флотации'\n",
    "    df.columns.values[1] = 'Флотация'\n",
    "    df.columns.values[2] = 'Первичная очистка'\n",
    "    df.columns.values[3] = 'Финальная очистка'\n",
    "\n",
    "    return df.mean().plot(kind='bar', title=m, color='gold', figsize=(10,6))"
   ]
  },
  {
   "cell_type": "markdown",
   "metadata": {},
   "source": [
    "Посмотрим на изменения концентрации золота:"
   ]
  },
  {
   "cell_type": "code",
   "execution_count": 14,
   "metadata": {
    "scrolled": true
   },
   "outputs": [
    {
     "data": {
      "text/plain": [
       "<AxesSubplot:title={'center':'au'}>"
      ]
     },
     "execution_count": 14,
     "metadata": {},
     "output_type": "execute_result"
    },
    {
     "data": {
      "image/png": "[encoded data removed]",
      "text/plain": [
       "<Figure size 720x432 with 1 Axes>"
      ]
     },
     "metadata": {
      "needs_background": "light"
     },
     "output_type": "display_data"
    }
   ],
   "source": [
    "metals('au')"
   ]
  },
  {
   "cell_type": "markdown",
   "metadata": {},
   "source": [
    "Концентрация золота постепенно растет по мере прохождения этапов очистки. Для серебра:"
   ]
  },
  {
   "cell_type": "code",
   "execution_count": 15,
   "metadata": {},
   "outputs": [
    {
     "data": {
      "text/plain": [
       "<AxesSubplot:title={'center':'ag'}>"
      ]
     },
     "execution_count": 15,
     "metadata": {},
     "output_type": "execute_result"
    },
    {
     "data": {
      "image/png": "[encoded data removed]",
      "text/plain": [
       "<Figure size 720x432 with 1 Axes>"
      ]
     },
     "metadata": {
      "needs_background": "light"
     },
     "output_type": "display_data"
    }
   ],
   "source": [
    "metals('ag')"
   ]
  },
  {
   "cell_type": "markdown",
   "metadata": {},
   "source": [
    "У серебра, наоборот, концентрация уменьшается (хотя на этапе флотации она максимальна). Для свинца:"
   ]
  },
  {
   "cell_type": "code",
   "execution_count": 16,
   "metadata": {},
   "outputs": [
    {
     "data": {
      "text/plain": [
       "<AxesSubplot:title={'center':'pb'}>"
      ]
     },
     "execution_count": 16,
     "metadata": {},
     "output_type": "execute_result"
    },
    {
     "data": {
      "image/png": "[encoded data removed]",
      "text/plain": [
       "<Figure size 720x432 with 1 Axes>"
      ]
     },
     "metadata": {
      "needs_background": "light"
     },
     "output_type": "display_data"
    }
   ],
   "source": [
    "metals('pb')"
   ]
  },
  {
   "cell_type": "markdown",
   "metadata": {},
   "source": [
    "Ситуация аналогична с золотом, концентрация увеличивается по мере прохождения этапов."
   ]
  },
  {
   "cell_type": "markdown",
   "metadata": {},
   "source": [
    "### Распределение размеров гранул сырья"
   ]
  },
  {
   "cell_type": "markdown",
   "metadata": {},
   "source": [
    "Сравним распределения размеров гранул сырья на обучающей и тестовой выборках. Если распределения сильно отличаются друг от друга, оценка модели будет неправильной. Для более корректного сравнивания нормализуем данные."
   ]
  },
  {
   "cell_type": "code",
   "execution_count": 17,
   "metadata": {},
   "outputs": [
    {
     "data": {
      "text/plain": [
       "Text(0.5, 1.0, 'Распределение размеров гранул сырья')"
      ]
     },
     "execution_count": 17,
     "metadata": {},
     "output_type": "execute_result"
    },
    {
     "data": {
      "image/png": "[encoded data removed]",
      "text/plain": [
       "<Figure size 432x288 with 1 Axes>"
      ]
     },
     "metadata": {
      "needs_background": "light"
     },
     "output_type": "display_data"
    }
   ],
   "source": [
    "for item in [test, train]:\n",
    "    plt.hist(item['rougher.input.feed_size'], bins=100, density=True, alpha=0.5)\n",
    "plt.title('Распределение размеров гранул сырья')"
   ]
  },
  {
   "cell_type": "markdown",
   "metadata": {},
   "source": [
    "Из графика видно, что распределения размеров гранул сырья на тестовой и обучающей выборке отличаются, но не сильно, в обеих выборках наиболее частое значение размера гранул равно примерно 50."
   ]
  },
  {
   "cell_type": "markdown",
   "metadata": {},
   "source": [
    "### Суммарная концентрация всех веществ на разных стадиях"
   ]
  },
  {
   "cell_type": "markdown",
   "metadata": {},
   "source": [
    "Изучим суммарную концентрацию всех веществ на разных стадиях: в сырье, в черновом и финальном концентратах. "
   ]
  },
  {
   "cell_type": "code",
   "execution_count": 18,
   "metadata": {},
   "outputs": [
    {
     "data": {
      "text/html": [
       "<div>\n",
       "<style scoped>\n",
       "    .dataframe tbody tr th:only-of-type {\n",
       "        vertical-align: middle;\n",
       "    }\n",
       "\n",
       "    .dataframe tbody tr th {\n",
       "        vertical-align: top;\n",
       "    }\n",
       "\n",
       "    .dataframe thead th {\n",
       "        text-align: right;\n",
       "    }\n",
       "</style>\n",
       "<table border=\"1\" class=\"dataframe\">\n",
       "  <thead>\n",
       "    <tr style=\"text-align: right;\">\n",
       "      <th></th>\n",
       "      <th>rougher.input.feed_ag</th>\n",
       "      <th>rougher.input.feed_pb</th>\n",
       "      <th>rougher.input.feed_au</th>\n",
       "      <th>rougher.input.feed_sol</th>\n",
       "      <th>rougher.output.concentrate_ag</th>\n",
       "      <th>rougher.output.concentrate_pb</th>\n",
       "      <th>rougher.output.concentrate_au</th>\n",
       "      <th>rougher.output.concentrate_sol</th>\n",
       "      <th>final.output.concentrate_ag</th>\n",
       "      <th>final.output.concentrate_pb</th>\n",
       "      <th>final.output.concentrate_au</th>\n",
       "      <th>final.output.concentrate_sol</th>\n",
       "    </tr>\n",
       "  </thead>\n",
       "  <tbody>\n",
       "    <tr>\n",
       "      <th>0</th>\n",
       "      <td>6.100378</td>\n",
       "      <td>2.284912</td>\n",
       "      <td>6.486150</td>\n",
       "      <td>36.808594</td>\n",
       "      <td>11.500771</td>\n",
       "      <td>7.101074</td>\n",
       "      <td>19.793808</td>\n",
       "      <td>28.029297</td>\n",
       "      <td>6.055403</td>\n",
       "      <td>9.889648</td>\n",
       "      <td>42.192020</td>\n",
       "      <td>5.507324</td>\n",
       "    </tr>\n",
       "    <tr>\n",
       "      <th>1</th>\n",
       "      <td>6.161113</td>\n",
       "      <td>2.266033</td>\n",
       "      <td>6.478583</td>\n",
       "      <td>35.753385</td>\n",
       "      <td>11.615865</td>\n",
       "      <td>7.278807</td>\n",
       "      <td>20.050975</td>\n",
       "      <td>28.067063</td>\n",
       "      <td>6.029369</td>\n",
       "      <td>9.968944</td>\n",
       "      <td>42.701629</td>\n",
       "      <td>5.257781</td>\n",
       "    </tr>\n",
       "    <tr>\n",
       "      <th>2</th>\n",
       "      <td>6.116455</td>\n",
       "      <td>2.159622</td>\n",
       "      <td>6.362222</td>\n",
       "      <td>35.971630</td>\n",
       "      <td>11.695753</td>\n",
       "      <td>7.216833</td>\n",
       "      <td>19.737170</td>\n",
       "      <td>27.454037</td>\n",
       "      <td>6.055926</td>\n",
       "      <td>10.213995</td>\n",
       "      <td>42.657501</td>\n",
       "      <td>5.383759</td>\n",
       "    </tr>\n",
       "    <tr>\n",
       "      <th>3</th>\n",
       "      <td>6.043309</td>\n",
       "      <td>2.037807</td>\n",
       "      <td>6.118189</td>\n",
       "      <td>36.862241</td>\n",
       "      <td>11.915047</td>\n",
       "      <td>7.175616</td>\n",
       "      <td>19.320810</td>\n",
       "      <td>27.341277</td>\n",
       "      <td>6.047977</td>\n",
       "      <td>9.977019</td>\n",
       "      <td>42.689819</td>\n",
       "      <td>4.858634</td>\n",
       "    </tr>\n",
       "    <tr>\n",
       "      <th>4</th>\n",
       "      <td>6.060915</td>\n",
       "      <td>1.786875</td>\n",
       "      <td>5.663707</td>\n",
       "      <td>34.347666</td>\n",
       "      <td>12.411054</td>\n",
       "      <td>7.240205</td>\n",
       "      <td>19.216101</td>\n",
       "      <td>27.041023</td>\n",
       "      <td>6.148599</td>\n",
       "      <td>10.142511</td>\n",
       "      <td>42.774141</td>\n",
       "      <td>4.939416</td>\n",
       "    </tr>\n",
       "    <tr>\n",
       "      <th>...</th>\n",
       "      <td>...</td>\n",
       "      <td>...</td>\n",
       "      <td>...</td>\n",
       "      <td>...</td>\n",
       "      <td>...</td>\n",
       "      <td>...</td>\n",
       "      <td>...</td>\n",
       "      <td>...</td>\n",
       "      <td>...</td>\n",
       "      <td>...</td>\n",
       "      <td>...</td>\n",
       "      <td>...</td>\n",
       "    </tr>\n",
       "    <tr>\n",
       "      <th>19434</th>\n",
       "      <td>6.091855</td>\n",
       "      <td>4.617558</td>\n",
       "      <td>5.335862</td>\n",
       "      <td>37.369774</td>\n",
       "      <td>11.124896</td>\n",
       "      <td>10.984003</td>\n",
       "      <td>18.603550</td>\n",
       "      <td>30.068876</td>\n",
       "      <td>3.224920</td>\n",
       "      <td>11.356233</td>\n",
       "      <td>46.713954</td>\n",
       "      <td>6.803482</td>\n",
       "    </tr>\n",
       "    <tr>\n",
       "      <th>19435</th>\n",
       "      <td>6.121323</td>\n",
       "      <td>4.144989</td>\n",
       "      <td>4.838619</td>\n",
       "      <td>38.591551</td>\n",
       "      <td>11.425983</td>\n",
       "      <td>10.888213</td>\n",
       "      <td>18.441436</td>\n",
       "      <td>29.783972</td>\n",
       "      <td>3.195978</td>\n",
       "      <td>11.349355</td>\n",
       "      <td>46.866780</td>\n",
       "      <td>6.862249</td>\n",
       "    </tr>\n",
       "    <tr>\n",
       "      <th>19436</th>\n",
       "      <td>5.970515</td>\n",
       "      <td>4.020002</td>\n",
       "      <td>4.525061</td>\n",
       "      <td>40.074026</td>\n",
       "      <td>8.523497</td>\n",
       "      <td>8.955135</td>\n",
       "      <td>15.111231</td>\n",
       "      <td>22.786467</td>\n",
       "      <td>3.109998</td>\n",
       "      <td>11.434366</td>\n",
       "      <td>46.795691</td>\n",
       "      <td>6.886013</td>\n",
       "    </tr>\n",
       "    <tr>\n",
       "      <th>19437</th>\n",
       "      <td>6.048130</td>\n",
       "      <td>3.902537</td>\n",
       "      <td>4.362781</td>\n",
       "      <td>39.713906</td>\n",
       "      <td>11.658799</td>\n",
       "      <td>10.655377</td>\n",
       "      <td>17.834772</td>\n",
       "      <td>29.052742</td>\n",
       "      <td>3.367241</td>\n",
       "      <td>11.625587</td>\n",
       "      <td>46.408188</td>\n",
       "      <td>6.799433</td>\n",
       "    </tr>\n",
       "    <tr>\n",
       "      <th>19438</th>\n",
       "      <td>6.158718</td>\n",
       "      <td>3.875727</td>\n",
       "      <td>4.365491</td>\n",
       "      <td>39.135119</td>\n",
       "      <td>11.959486</td>\n",
       "      <td>10.702148</td>\n",
       "      <td>17.804134</td>\n",
       "      <td>29.078235</td>\n",
       "      <td>3.598375</td>\n",
       "      <td>11.737832</td>\n",
       "      <td>46.299438</td>\n",
       "      <td>6.717509</td>\n",
       "    </tr>\n",
       "  </tbody>\n",
       "</table>\n",
       "<p>19439 rows × 12 columns</p>\n",
       "</div>"
      ],
      "text/plain": [
       "       rougher.input.feed_ag  rougher.input.feed_pb  rougher.input.feed_au  \\\n",
       "0                   6.100378               2.284912               6.486150   \n",
       "1                   6.161113               2.266033               6.478583   \n",
       "2                   6.116455               2.159622               6.362222   \n",
       "3                   6.043309               2.037807               6.118189   \n",
       "4                   6.060915               1.786875               5.663707   \n",
       "...                      ...                    ...                    ...   \n",
       "19434               6.091855               4.617558               5.335862   \n",
       "19435               6.121323               4.144989               4.838619   \n",
       "19436               5.970515               4.020002               4.525061   \n",
       "19437               6.048130               3.902537               4.362781   \n",
       "19438               6.158718               3.875727               4.365491   \n",
       "\n",
       "       rougher.input.feed_sol  rougher.output.concentrate_ag  \\\n",
       "0                   36.808594                      11.500771   \n",
       "1                   35.753385                      11.615865   \n",
       "2                   35.971630                      11.695753   \n",
       "3                   36.862241                      11.915047   \n",
       "4                   34.347666                      12.411054   \n",
       "...                       ...                            ...   \n",
       "19434               37.369774                      11.124896   \n",
       "19435               38.591551                      11.425983   \n",
       "19436               40.074026                       8.523497   \n",
       "19437               39.713906                      11.658799   \n",
       "19438               39.135119                      11.959486   \n",
       "\n",
       "       rougher.output.concentrate_pb  rougher.output.concentrate_au  \\\n",
       "0                           7.101074                      19.793808   \n",
       "1                           7.278807                      20.050975   \n",
       "2                           7.216833                      19.737170   \n",
       "3                           7.175616                      19.320810   \n",
       "4                           7.240205                      19.216101   \n",
       "...                              ...                            ...   \n",
       "19434                      10.984003                      18.603550   \n",
       "19435                      10.888213                      18.441436   \n",
       "19436                       8.955135                      15.111231   \n",
       "19437                      10.655377                      17.834772   \n",
       "19438                      10.702148                      17.804134   \n",
       "\n",
       "       rougher.output.concentrate_sol  final.output.concentrate_ag  \\\n",
       "0                           28.029297                     6.055403   \n",
       "1                           28.067063                     6.029369   \n",
       "2                           27.454037                     6.055926   \n",
       "3                           27.341277                     6.047977   \n",
       "4                           27.041023                     6.148599   \n",
       "...                               ...                          ...   \n",
       "19434                       30.068876                     3.224920   \n",
       "19435                       29.783972                     3.195978   \n",
       "19436                       22.786467                     3.109998   \n",
       "19437                       29.052742                     3.367241   \n",
       "19438                       29.078235                     3.598375   \n",
       "\n",
       "       final.output.concentrate_pb  final.output.concentrate_au  \\\n",
       "0                         9.889648                    42.192020   \n",
       "1                         9.968944                    42.701629   \n",
       "2                        10.213995                    42.657501   \n",
       "3                         9.977019                    42.689819   \n",
       "4                        10.142511                    42.774141   \n",
       "...                            ...                          ...   \n",
       "19434                    11.356233                    46.713954   \n",
       "19435                    11.349355                    46.866780   \n",
       "19436                    11.434366                    46.795691   \n",
       "19437                    11.625587                    46.408188   \n",
       "19438                    11.737832                    46.299438   \n",
       "\n",
       "       final.output.concentrate_sol  \n",
       "0                          5.507324  \n",
       "1                          5.257781  \n",
       "2                          5.383759  \n",
       "3                          4.858634  \n",
       "4                          4.939416  \n",
       "...                             ...  \n",
       "19434                      6.803482  \n",
       "19435                      6.862249  \n",
       "19436                      6.886013  \n",
       "19437                      6.799433  \n",
       "19438                      6.717509  \n",
       "\n",
       "[19439 rows x 12 columns]"
      ]
     },
     "execution_count": 18,
     "metadata": {},
     "output_type": "execute_result"
    }
   ],
   "source": [
    "stage_data = full_data[['rougher.input.feed_ag', 'rougher.input.feed_pb', 'rougher.input.feed_au', 'rougher.input.feed_sol',\n",
    "                      'rougher.output.concentrate_ag', 'rougher.output.concentrate_pb', 'rougher.output.concentrate_au', 'rougher.output.concentrate_sol',\n",
    "                      'final.output.concentrate_ag', 'final.output.concentrate_pb', 'final.output.concentrate_au', 'final.output.concentrate_sol'\n",
    "                      ]]\n",
    "stage_data"
   ]
  },
  {
   "cell_type": "code",
   "execution_count": 19,
   "metadata": {},
   "outputs": [
    {
     "name": "stderr",
     "output_type": "stream",
     "text": [
      "/tmp/ipykernel_31/3158299312.py:1: SettingWithCopyWarning: \n",
      "A value is trying to be set on a copy of a slice from a DataFrame.\n",
      "Try using .loc[row_indexer,col_indexer] = value instead\n",
      "\n",
      "See the caveats in the documentation: https://pandas.pydata.org/pandas-docs/stable/user_guide/indexing.html#returning-a-view-versus-a-copy\n",
      "  stage_data['rougher_input_sum'] = (\n"
     ]
    },
    {
     "data": {
      "text/plain": [
       "Text(0.5, 1.0, 'Концентрация металлов в сырье')"
      ]
     },
     "execution_count": 19,
     "metadata": {},
     "output_type": "execute_result"
    },
    {
     "data": {
      "image/png": "[encoded data removed]",
      "text/plain": [
       "<Figure size 432x288 with 1 Axes>"
      ]
     },
     "metadata": {
      "needs_background": "light"
     },
     "output_type": "display_data"
    }
   ],
   "source": [
    "stage_data['rougher_input_sum'] = (\n",
    "    stage_data['rougher.input.feed_ag'] + \n",
    "    stage_data['rougher.input.feed_pb'] + \n",
    "    stage_data['rougher.input.feed_au'] +\n",
    "    stage_data['rougher.input.feed_sol']\n",
    ")\n",
    "\n",
    "sns.histplot(stage_data['rougher_input_sum'], fill=True, bins=50, color='gold')\n",
    "plt.title('Концентрация металлов в сырье')"
   ]
  },
  {
   "cell_type": "code",
   "execution_count": 20,
   "metadata": {},
   "outputs": [
    {
     "name": "stderr",
     "output_type": "stream",
     "text": [
      "/opt/conda/lib/python3.9/site-packages/seaborn/_decorators.py:36: FutureWarning: Pass the following variable as a keyword arg: x. From version 0.12, the only valid positional argument will be `data`, and passing other arguments without an explicit keyword will result in an error or misinterpretation.\n",
      "  warnings.warn(\n"
     ]
    },
    {
     "data": {
      "text/plain": [
       "Text(0.5, 1.0, 'Концентрация металлов в сырье')"
      ]
     },
     "execution_count": 20,
     "metadata": {},
     "output_type": "execute_result"
    },
    {
     "data": {
      "image/png": "[encoded data removed]",
      "text/plain": [
       "<Figure size 432x288 with 1 Axes>"
      ]
     },
     "metadata": {
      "needs_background": "light"
     },
     "output_type": "display_data"
    }
   ],
   "source": [
    "sns.boxplot(stage_data['rougher_input_sum'], color='gold')\n",
    "plt.title('Концентрация металлов в сырье')"
   ]
  },
  {
   "cell_type": "markdown",
   "metadata": {},
   "source": [
    "Как видно из графиков, в данных по этому этапу есть некоторые выбросы, посмотрим есть ли они на следующем этапе: "
   ]
  },
  {
   "cell_type": "code",
   "execution_count": 21,
   "metadata": {},
   "outputs": [
    {
     "name": "stderr",
     "output_type": "stream",
     "text": [
      "/tmp/ipykernel_31/1391726171.py:1: SettingWithCopyWarning: \n",
      "A value is trying to be set on a copy of a slice from a DataFrame.\n",
      "Try using .loc[row_indexer,col_indexer] = value instead\n",
      "\n",
      "See the caveats in the documentation: https://pandas.pydata.org/pandas-docs/stable/user_guide/indexing.html#returning-a-view-versus-a-copy\n",
      "  stage_data['rougher_output_sum'] = (\n"
     ]
    },
    {
     "data": {
      "text/plain": [
       "Text(0.5, 1.0, 'Концентрация металлов в черновом концентрате')"
      ]
     },
     "execution_count": 21,
     "metadata": {},
     "output_type": "execute_result"
    },
    {
     "data": {
      "image/png": "[encoded data removed]",
      "text/plain": [
       "<Figure size 432x288 with 1 Axes>"
      ]
     },
     "metadata": {
      "needs_background": "light"
     },
     "output_type": "display_data"
    }
   ],
   "source": [
    "stage_data['rougher_output_sum'] = (\n",
    "    stage_data['rougher.output.concentrate_ag'] + \n",
    "    stage_data['rougher.output.concentrate_pb'] + \n",
    "    stage_data['rougher.output.concentrate_au'] +\n",
    "    stage_data['rougher.output.concentrate_sol']\n",
    ")\n",
    "\n",
    "sns.histplot(stage_data['rougher_output_sum'], fill=True, bins=50, color='gold')\n",
    "plt.title('Концентрация металлов в черновом концентрате')"
   ]
  },
  {
   "cell_type": "code",
   "execution_count": 22,
   "metadata": {},
   "outputs": [
    {
     "name": "stderr",
     "output_type": "stream",
     "text": [
      "/opt/conda/lib/python3.9/site-packages/seaborn/_decorators.py:36: FutureWarning: Pass the following variable as a keyword arg: x. From version 0.12, the only valid positional argument will be `data`, and passing other arguments without an explicit keyword will result in an error or misinterpretation.\n",
      "  warnings.warn(\n"
     ]
    },
    {
     "data": {
      "text/plain": [
       "Text(0.5, 1.0, 'Концентрация металлов в черновом концентрате')"
      ]
     },
     "execution_count": 22,
     "metadata": {},
     "output_type": "execute_result"
    },
    {
     "data": {
      "image/png": "[encoded data removed]",
      "text/plain": [
       "<Figure size 432x288 with 1 Axes>"
      ]
     },
     "metadata": {
      "needs_background": "light"
     },
     "output_type": "display_data"
    }
   ],
   "source": [
    "sns.boxplot(stage_data['rougher_output_sum'], color='gold')\n",
    "plt.title('Концентрация металлов в черновом концентрате')"
   ]
  },
  {
   "cell_type": "markdown",
   "metadata": {},
   "source": [
    "Здесь мы видим намного больше выбросов, их видно как на гистограмме, так и на боксплоте. Рассмотрим распределение сумм концентрации металов в финальном концентрате."
   ]
  },
  {
   "cell_type": "code",
   "execution_count": 23,
   "metadata": {},
   "outputs": [
    {
     "name": "stderr",
     "output_type": "stream",
     "text": [
      "/tmp/ipykernel_31/3047326200.py:1: SettingWithCopyWarning: \n",
      "A value is trying to be set on a copy of a slice from a DataFrame.\n",
      "Try using .loc[row_indexer,col_indexer] = value instead\n",
      "\n",
      "See the caveats in the documentation: https://pandas.pydata.org/pandas-docs/stable/user_guide/indexing.html#returning-a-view-versus-a-copy\n",
      "  stage_data['final_sum'] = (\n"
     ]
    },
    {
     "data": {
      "text/plain": [
       "Text(0.5, 1.0, 'Концентрация металлов в финальном концентрате')"
      ]
     },
     "execution_count": 23,
     "metadata": {},
     "output_type": "execute_result"
    },
    {
     "data": {
      "image/png": "[encoded data removed]",
      "text/plain": [
       "<Figure size 432x288 with 1 Axes>"
      ]
     },
     "metadata": {
      "needs_background": "light"
     },
     "output_type": "display_data"
    }
   ],
   "source": [
    "stage_data['final_sum'] = (\n",
    "    stage_data['final.output.concentrate_ag'] + \n",
    "    stage_data['final.output.concentrate_pb'] + \n",
    "    stage_data['final.output.concentrate_au'] +\n",
    "    stage_data['final.output.concentrate_sol']\n",
    ")\n",
    "\n",
    "sns.histplot(stage_data['final_sum'], fill=True, bins=50, color='gold')\n",
    "plt.title('Концентрация металлов в финальном концентрате')"
   ]
  },
  {
   "cell_type": "code",
   "execution_count": 24,
   "metadata": {},
   "outputs": [
    {
     "name": "stderr",
     "output_type": "stream",
     "text": [
      "/opt/conda/lib/python3.9/site-packages/seaborn/_decorators.py:36: FutureWarning: Pass the following variable as a keyword arg: x. From version 0.12, the only valid positional argument will be `data`, and passing other arguments without an explicit keyword will result in an error or misinterpretation.\n",
      "  warnings.warn(\n"
     ]
    },
    {
     "data": {
      "text/plain": [
       "Text(0.5, 1.0, 'Концентрация металлов в финальном концентрате')"
      ]
     },
     "execution_count": 24,
     "metadata": {},
     "output_type": "execute_result"
    },
    {
     "data": {
      "image/png": "[encoded data removed]",
      "text/plain": [
       "<Figure size 432x288 with 1 Axes>"
      ]
     },
     "metadata": {
      "needs_background": "light"
     },
     "output_type": "display_data"
    }
   ],
   "source": [
    "sns.boxplot(stage_data['final_sum'], color='gold')\n",
    "plt.title('Концентрация металлов в финальном концентрате')"
   ]
  },
  {
   "cell_type": "markdown",
   "metadata": {},
   "source": [
    "На финальном этапе мы видим большое количество выбросов, их количество растет по мере прохождения этапов. На гистограммах также можно увидеть, что достаточно много данных, где значение суммы концентраций равно нулю, возможно, причиной этого может быть технический сбой. Чтобы наша будущая модель корректно обучилась, удалим выбросы (где сумма равна 0) из датасета train."
   ]
  },
  {
   "cell_type": "code",
   "execution_count": 25,
   "metadata": {},
   "outputs": [],
   "source": [
    "stage_data = stage_data[(stage_data['rougher_input_sum'] > 0) & \n",
    "                      (stage_data['rougher_output_sum'] > 0) & \n",
    "                      (stage_data['final_sum'] > 0)]\n",
    "\n",
    "to_select = full_data.loc[stage_data.index]['date']\n",
    "train = train.query('date in @to_select')"
   ]
  },
  {
   "cell_type": "markdown",
   "metadata": {},
   "source": [
    "## Модель"
   ]
  },
  {
   "cell_type": "markdown",
   "metadata": {},
   "source": [
    "### Функция для подсчета итогового sMAPE"
   ]
  },
  {
   "cell_type": "markdown",
   "metadata": {},
   "source": [
    "Функция для расчета sMAPE:"
   ]
  },
  {
   "cell_type": "code",
   "execution_count": 26,
   "metadata": {},
   "outputs": [],
   "source": [
    "def smape(pred, true):\n",
    "    return 1/len(true) * np.sum((np.abs(true - pred) / (np.abs(true) + np.abs(pred))*2)*100)"
   ]
  },
  {
   "cell_type": "markdown",
   "metadata": {},
   "source": [
    "Считаем итоговое sMAPE:"
   ]
  },
  {
   "cell_type": "code",
   "execution_count": 27,
   "metadata": {},
   "outputs": [],
   "source": [
    "def total_smape(rougher, final):\n",
    "    return (0.25*rougher + 0.75*final)"
   ]
  },
  {
   "cell_type": "markdown",
   "metadata": {},
   "source": [
    "### Подготовка данных для обучения моделей"
   ]
  },
  {
   "cell_type": "markdown",
   "metadata": {},
   "source": [
    "Восстановим в тестовой выборке переменные rougher.output.recovery и final.output.recovery. Для этого вытащим необходимые переменные из полного датасета и дату, затем соединим по дате с тестовой выборкой."
   ]
  },
  {
   "cell_type": "code",
   "execution_count": 28,
   "metadata": {
    "scrolled": true
   },
   "outputs": [],
   "source": [
    "to_merge = full_data[['date', 'rougher.output.recovery', 'final.output.recovery']]\n",
    "test = test.merge(to_merge, how = 'left', on = 'date')"
   ]
  },
  {
   "cell_type": "markdown",
   "metadata": {},
   "source": [
    "Выделим в данных целевые признаки. Также уберем из обучающей выборки данные, которые не вошли в тестовую выборку, и из двух датасетов удалим даты."
   ]
  },
  {
   "cell_type": "code",
   "execution_count": 29,
   "metadata": {},
   "outputs": [],
   "source": [
    "train = train.drop(set(train.columns)-set(test.columns), axis=1)\n",
    "\n",
    "target_train_rougher = train['rougher.output.recovery']\n",
    "target_train_final = train['final.output.recovery']\n",
    "features_train = train.drop(['date', 'rougher.output.recovery', 'final.output.recovery'], axis=1)\n",
    "\n",
    "\n",
    "target_test_rougher = test['rougher.output.recovery']\n",
    "target_test_final = test['final.output.recovery']\n",
    "features_test = test.drop(['date', 'rougher.output.recovery', 'final.output.recovery'], axis=1)"
   ]
  },
  {
   "cell_type": "markdown",
   "metadata": {},
   "source": [
    "### Выбор модели"
   ]
  },
  {
   "cell_type": "markdown",
   "metadata": {},
   "source": [
    "#### Линейная регрессия"
   ]
  },
  {
   "cell_type": "code",
   "execution_count": 30,
   "metadata": {},
   "outputs": [
    {
     "name": "stdout",
     "output_type": "stream",
     "text": [
      "Итоговый sMAPE: -9.409606689656588\n"
     ]
    }
   ],
   "source": [
    "scorer = make_scorer(smape, greater_is_better=False)\n",
    "\n",
    "linear_model = LinearRegression()\n",
    "smape_rougher = np.mean(cross_val_score(linear_model, features_train, \n",
    "                                        target_train_rougher, scoring=scorer, cv=5))\n",
    "smape_final = np.mean(cross_val_score(linear_model, features_train, \n",
    "                                      target_train_final, scoring=scorer, cv=5))\n",
    "\n",
    "print('Итоговый sMAPE:',total_smape(smape_rougher, smape_final))"
   ]
  },
  {
   "cell_type": "markdown",
   "metadata": {},
   "source": [
    "#### Дерево решений"
   ]
  },
  {
   "cell_type": "markdown",
   "metadata": {},
   "source": [
    "Подберем гиперпараментры:"
   ]
  },
  {
   "cell_type": "code",
   "execution_count": 31,
   "metadata": {},
   "outputs": [
    {
     "name": "stdout",
     "output_type": "stream",
     "text": [
      "Для rougher.output.recovery:\n",
      "best parameter: {'min_samples_split': 5, 'min_samples_leaf': 3, 'max_depth': 3}\n",
      "Для final.output.recovery:\n",
      "best parameter: {'min_samples_split': 5, 'min_samples_leaf': 8, 'max_depth': 4}\n"
     ]
    }
   ],
   "source": [
    "params_tree = {\n",
    "    'max_depth': range(1,10),\n",
    "    'min_samples_leaf': range(1,10),\n",
    "    'min_samples_split': range(2,10)}\n",
    "\n",
    "tree_model = DecisionTreeRegressor(random_state=12345)\n",
    "tree_r = RandomizedSearchCV(tree_model, params_tree, scoring=scorer, cv=5, n_iter=20)\n",
    "tree_r.fit(features_train, target_train_rougher)\n",
    "print('Для rougher.output.recovery:')\n",
    "print('best parameter: {}'.format(tree_r.best_params_))\n",
    "\n",
    "tree_f = RandomizedSearchCV(tree_model, params_tree, scoring=scorer, cv=5, n_iter=20)\n",
    "tree_f.fit(features_train, target_train_final)\n",
    "print('Для final.output.recovery:')\n",
    "print('best parameter: {}'.format(tree_f.best_params_))"
   ]
  },
  {
   "cell_type": "code",
   "execution_count": 32,
   "metadata": {},
   "outputs": [
    {
     "name": "stdout",
     "output_type": "stream",
     "text": [
      "Итоговый sMAPE: -8.604076528835085\n"
     ]
    }
   ],
   "source": [
    "tree_model_r = DecisionTreeRegressor(random_state=12345, min_samples_split=5, min_samples_leaf=4, max_depth=3)\n",
    "tree_model_f = DecisionTreeRegressor(random_state=12345, min_samples_split=7, min_samples_leaf=1, max_depth=1)\n",
    "\n",
    "smape_rougher = np.mean(cross_val_score(tree_model_r, features_train, \n",
    "                                        target_train_rougher, scoring=scorer, cv=5))\n",
    "smape_final = np.mean(cross_val_score(tree_model_f, features_train, \n",
    "                                      target_train_final, scoring=scorer, cv=5))\n",
    "\n",
    "print('Итоговый sMAPE:',total_smape(smape_rougher, smape_final))"
   ]
  },
  {
   "cell_type": "markdown",
   "metadata": {},
   "source": [
    "#### Случайный лес"
   ]
  },
  {
   "cell_type": "markdown",
   "metadata": {},
   "source": [
    "Подберем гиперпараметры:"
   ]
  },
  {
   "cell_type": "code",
   "execution_count": 33,
   "metadata": {},
   "outputs": [
    {
     "name": "stdout",
     "output_type": "stream",
     "text": [
      "Для rougher.output.recovery:\n",
      "best parameter: {'n_estimators': 19, 'max_depth': 2}\n",
      "Для final.output.recovery:\n",
      "best parameter: {'n_estimators': 23, 'max_depth': 4}\n"
     ]
    }
   ],
   "source": [
    "params_forest = {\n",
    "    'n_estimators': np.arange(10, 50),\n",
    "    'max_depth': np.arange(2, 15)}\n",
    "\n",
    "forest_model = RandomForestRegressor(random_state=12345)\n",
    "forest_r = RandomizedSearchCV(forest_model, params_forest, scoring=scorer, cv=5, n_iter=10)\n",
    "forest_r.fit(features_train, target_train_rougher)\n",
    "print('Для rougher.output.recovery:')\n",
    "print('best parameter: {}'.format(forest_r.best_params_))\n",
    "\n",
    "forest_f = RandomizedSearchCV(forest_model, params_forest, scoring=scorer, cv=5, n_iter=10)\n",
    "forest_f.fit(features_train, target_train_final)\n",
    "print('Для final.output.recovery:')\n",
    "print('best parameter: {}'.format(forest_f.best_params_))"
   ]
  },
  {
   "cell_type": "code",
   "execution_count": 34,
   "metadata": {},
   "outputs": [
    {
     "name": "stdout",
     "output_type": "stream",
     "text": [
      "Итоговый sMAPE: -8.053987266359552\n"
     ]
    }
   ],
   "source": [
    "forest_model_r = RandomForestRegressor(random_state=12345, n_estimators=26, max_depth=3)\n",
    "forest_model_f = RandomForestRegressor(random_state=12345, n_estimators=37, max_depth=4)\n",
    "\n",
    "smape_rougher = np.mean(cross_val_score(forest_model_r, features_train, \n",
    "                                        target_train_rougher, scoring=scorer, cv=5))\n",
    "smape_final = np.mean(cross_val_score(forest_model_f, features_train, \n",
    "                                      target_train_final, scoring=scorer, cv=5))\n",
    "\n",
    "print('Итоговый sMAPE:',total_smape(smape_rougher, smape_final))"
   ]
  },
  {
   "cell_type": "markdown",
   "metadata": {},
   "source": [
    "На тренировочной выборке лучше всего показала себя модель случайного леса."
   ]
  },
  {
   "cell_type": "markdown",
   "metadata": {},
   "source": [
    "### Проверка качества модели на тестовой выборке"
   ]
  },
  {
   "cell_type": "markdown",
   "metadata": {},
   "source": [
    "Проверим работу модели на тестовой выборке:"
   ]
  },
  {
   "cell_type": "code",
   "execution_count": 35,
   "metadata": {},
   "outputs": [
    {
     "name": "stdout",
     "output_type": "stream",
     "text": [
      "Итоговое sMAPE на тестовой выборке: 5.326082164980128\n"
     ]
    }
   ],
   "source": [
    "forest_model_r.fit(features_train, target_train_rougher)\n",
    "predicted_rought = forest_model_r.predict(features_test)\n",
    "smape_rought = smape(target_test_rougher, predicted_rought)\n",
    "\n",
    "forest_model_f.fit(features_train, target_train_final)\n",
    "predicted_final = forest_model_f.predict(features_test)\n",
    "smape_final = smape(target_test_final, predicted_final)\n",
    "\n",
    "print('Итоговое sMAPE на тестовой выборке:', total_smape(smape_rougher, smape_final))"
   ]
  },
  {
   "cell_type": "markdown",
   "metadata": {},
   "source": [
    "### Сравнение модели с константной моделью"
   ]
  },
  {
   "cell_type": "markdown",
   "metadata": {},
   "source": [
    "Для проверки адекватности работы модели сравним ее с константной моделью, которая будет предсказывать медиану по целевым признакам."
   ]
  },
  {
   "cell_type": "code",
   "execution_count": 36,
   "metadata": {},
   "outputs": [
    {
     "name": "stdout",
     "output_type": "stream",
     "text": [
      "Итоговое sMAPE для константной модели: 5.53190338911597\n"
     ]
    }
   ],
   "source": [
    "dummy_r = DummyRegressor(strategy=\"median\")\n",
    "dummy_r.fit(features_train, target_train_rougher)\n",
    "predicted_rought = dummy_r.predict(features_test)\n",
    "smape_rought = smape(target_test_rougher, predicted_rought)\n",
    "\n",
    "\n",
    "dummy_f = DummyRegressor(strategy=\"median\")\n",
    "dummy_f.fit(features_train, target_train_final)\n",
    "predicted_final = dummy_f.predict(features_test)\n",
    "smape_final = smape(target_test_final, predicted_final)\n",
    "\n",
    "print('Итоговое sMAPE для константной модели:', total_smape(smape_rougher, smape_final))"
   ]
  },
  {
   "cell_type": "markdown",
   "metadata": {},
   "source": [
    "Результат нашей модели лучше, чем у DummyRegressor, поэтому можно сказать, что она работает адекватно. "
   ]
  },
  {
   "cell_type": "markdown",
   "metadata": {},
   "source": [
    "## Вывод"
   ]
  },
  {
   "cell_type": "markdown",
   "metadata": {},
   "source": [
    "В ходе работы была произведена первичная обработка данных, в ходе которой мы избавились от пропусков методом ffill. Также в данных были обнаружены аномальные значения, которые были впоследствии удалены из обучающей выборки. В работе были рассмотрены 3 модели (линейная регрессия, дерево решений и случайный лес), лучше всего на тренировочной (с минимальным значением итогового sMAPE) выборке показала себя модель случайного леса с гиперпараметрами для предсказывания rougher.output.recovery n_estimators=26 и max_depth, для предсказывания final.output.recovery n_estimators=37 и max_depth=4."
   ]
  },
  {
   "cell_type": "markdown",
   "metadata": {},
   "source": [
    "## Чек-лист готовности проекта"
   ]
  },
  {
   "cell_type": "markdown",
   "metadata": {},
   "source": [
    "- [x]  Jupyter Notebook открыт\n",
    "- [x]  Весь код выполняется без ошибок\n",
    "- [x]  Ячейки с кодом расположены в порядке выполнения\n",
    "- [x]  Выполнен шаг 1: данные подготовлены\n",
    "    - [x]  Проверена формула вычисления эффективности обогащения\n",
    "    - [x]  Проанализированы признаки, недоступные в тестовой выборке\n",
    "    - [x]  Проведена предобработка данных\n",
    "- [x]  Выполнен шаг 2: данные проанализированы\n",
    "    - [x]  Исследовано изменение концентрации элементов на каждом этапе\n",
    "    - [x]  Проанализированы распределения размеров гранул на обучающей и тестовой выборках\n",
    "    - [x]  Исследованы суммарные концентрации\n",
    "- [x]  Выполнен шаг 3: построена модель прогнозирования\n",
    "    - [x]  Написана функция для вычисления итогового *sMAPE*\n",
    "    - [x]  Обучено и проверено несколько моделей\n",
    "    - [x]  Выбрана лучшая модель, её качество проверено на тестовой выборке"
   ]
  }
 ],
 "metadata": {
  "ExecuteTimeLog": [
   {
    "duration": 459,
    "start_time": "2023-04-12T14:59:42.053Z"
   },
   {
    "duration": 3955,
    "start_time": "2023-04-12T15:02:50.801Z"
   },
   {
    "duration": 49,
    "start_time": "2023-04-12T15:09:49.466Z"
   },
   {
    "duration": 38,
    "start_time": "2023-04-12T15:26:28.346Z"
   },
   {
    "duration": 30,
    "start_time": "2023-04-12T15:26:48.447Z"
   },
   {
    "duration": 65,
    "start_time": "2023-04-12T15:48:42.132Z"
   },
   {
    "duration": 1111,
    "start_time": "2023-04-12T15:48:58.939Z"
   },
   {
    "duration": 7,
    "start_time": "2023-04-12T15:49:04.008Z"
   },
   {
    "duration": 15,
    "start_time": "2023-04-12T15:51:26.331Z"
   },
   {
    "duration": 39,
    "start_time": "2023-04-12T15:58:40.948Z"
   },
   {
    "duration": 4,
    "start_time": "2023-04-12T15:58:45.326Z"
   },
   {
    "duration": 5,
    "start_time": "2023-04-12T15:59:21.201Z"
   },
   {
    "duration": 4,
    "start_time": "2023-04-12T16:05:48.918Z"
   },
   {
    "duration": 4,
    "start_time": "2023-04-12T16:06:41.194Z"
   },
   {
    "duration": 4,
    "start_time": "2023-04-12T16:06:52.649Z"
   },
   {
    "duration": 9,
    "start_time": "2023-04-12T16:07:07.357Z"
   },
   {
    "duration": 3,
    "start_time": "2023-04-12T16:07:19.870Z"
   },
   {
    "duration": 17,
    "start_time": "2023-04-12T18:13:32.887Z"
   },
   {
    "duration": 15,
    "start_time": "2023-04-12T18:13:57.355Z"
   },
   {
    "duration": 242,
    "start_time": "2023-04-12T18:25:34.784Z"
   },
   {
    "duration": 73,
    "start_time": "2023-04-12T18:27:38.160Z"
   },
   {
    "duration": 32,
    "start_time": "2023-04-12T18:27:51.367Z"
   },
   {
    "duration": 28,
    "start_time": "2023-04-12T18:27:54.562Z"
   },
   {
    "duration": 24,
    "start_time": "2023-04-12T18:27:58.295Z"
   },
   {
    "duration": 17,
    "start_time": "2023-04-12T18:28:01.595Z"
   },
   {
    "duration": 1775,
    "start_time": "2023-04-12T18:28:13.017Z"
   },
   {
    "duration": 1072,
    "start_time": "2023-04-14T19:03:38.876Z"
   },
   {
    "duration": 2134,
    "start_time": "2023-04-14T19:03:40.591Z"
   },
   {
    "duration": 44,
    "start_time": "2023-04-14T19:03:43.298Z"
   },
   {
    "duration": 15,
    "start_time": "2023-04-14T19:03:45.483Z"
   },
   {
    "duration": 18,
    "start_time": "2023-04-14T19:03:47.486Z"
   },
   {
    "duration": 5,
    "start_time": "2023-04-14T19:03:54.523Z"
   },
   {
    "duration": 20,
    "start_time": "2023-04-14T19:03:58.307Z"
   },
   {
    "duration": 14,
    "start_time": "2023-04-14T19:08:15.088Z"
   },
   {
    "duration": 12,
    "start_time": "2023-04-14T19:13:11.640Z"
   },
   {
    "duration": 155,
    "start_time": "2023-04-14T19:16:00.351Z"
   },
   {
    "duration": 14,
    "start_time": "2023-04-14T19:17:47.591Z"
   },
   {
    "duration": 8,
    "start_time": "2023-04-14T19:17:52.708Z"
   },
   {
    "duration": 10,
    "start_time": "2023-04-14T19:18:00.088Z"
   },
   {
    "duration": 7,
    "start_time": "2023-04-14T19:20:39.169Z"
   },
   {
    "duration": 9,
    "start_time": "2023-04-14T19:20:56.979Z"
   },
   {
    "duration": 6,
    "start_time": "2023-04-14T19:23:04.761Z"
   },
   {
    "duration": 1279,
    "start_time": "2023-04-14T19:23:12.511Z"
   },
   {
    "duration": 13,
    "start_time": "2023-04-14T19:27:16.272Z"
   },
   {
    "duration": 9,
    "start_time": "2023-04-14T19:27:18.431Z"
   },
   {
    "duration": 14,
    "start_time": "2023-04-14T19:27:49.276Z"
   },
   {
    "duration": 9,
    "start_time": "2023-04-14T19:27:51.468Z"
   },
   {
    "duration": 8,
    "start_time": "2023-04-14T19:51:29.421Z"
   },
   {
    "duration": 9,
    "start_time": "2023-04-14T19:51:34.813Z"
   },
   {
    "duration": 12,
    "start_time": "2023-04-14T20:03:09.414Z"
   },
   {
    "duration": 9,
    "start_time": "2023-04-14T20:03:11.520Z"
   },
   {
    "duration": 5,
    "start_time": "2023-04-14T20:04:28.745Z"
   },
   {
    "duration": 9,
    "start_time": "2023-04-14T20:04:33.995Z"
   },
   {
    "duration": 8,
    "start_time": "2023-04-14T20:04:43.027Z"
   },
   {
    "duration": 9,
    "start_time": "2023-04-14T20:04:45.966Z"
   },
   {
    "duration": 9,
    "start_time": "2023-04-14T20:05:29.306Z"
   },
   {
    "duration": 16,
    "start_time": "2023-04-14T20:05:35.245Z"
   },
   {
    "duration": 11,
    "start_time": "2023-04-14T20:39:18.991Z"
   },
   {
    "duration": 20,
    "start_time": "2023-04-14T20:39:28.190Z"
   },
   {
    "duration": 67,
    "start_time": "2023-04-14T20:54:29.723Z"
   },
   {
    "duration": 77,
    "start_time": "2023-04-14T20:54:45.427Z"
   },
   {
    "duration": 95,
    "start_time": "2023-04-14T20:54:49.927Z"
   },
   {
    "duration": 5,
    "start_time": "2023-04-14T20:55:10.302Z"
   },
   {
    "duration": 566,
    "start_time": "2023-04-14T20:55:20.949Z"
   },
   {
    "duration": 4,
    "start_time": "2023-04-14T20:57:01.573Z"
   },
   {
    "duration": 3,
    "start_time": "2023-04-14T20:57:08.573Z"
   },
   {
    "duration": 129,
    "start_time": "2023-04-14T20:57:09.862Z"
   },
   {
    "duration": 4,
    "start_time": "2023-04-14T20:57:34.730Z"
   },
   {
    "duration": 133,
    "start_time": "2023-04-14T20:57:35.902Z"
   },
   {
    "duration": 3,
    "start_time": "2023-04-14T20:58:07.803Z"
   },
   {
    "duration": 124,
    "start_time": "2023-04-14T20:58:08.883Z"
   },
   {
    "duration": 76,
    "start_time": "2023-04-14T20:59:51.651Z"
   },
   {
    "duration": 71,
    "start_time": "2023-04-14T21:02:52.701Z"
   },
   {
    "duration": 5,
    "start_time": "2023-04-14T21:02:59.685Z"
   },
   {
    "duration": 115,
    "start_time": "2023-04-14T21:03:01.698Z"
   },
   {
    "duration": 83,
    "start_time": "2023-04-14T21:04:40.655Z"
   },
   {
    "duration": 129,
    "start_time": "2023-04-14T21:05:06.232Z"
   },
   {
    "duration": 199,
    "start_time": "2023-04-14T21:07:43.386Z"
   },
   {
    "duration": 1022,
    "start_time": "2023-04-15T08:27:11.873Z"
   },
   {
    "duration": 1946,
    "start_time": "2023-04-15T08:27:12.897Z"
   },
   {
    "duration": 44,
    "start_time": "2023-04-15T08:27:14.845Z"
   },
   {
    "duration": 13,
    "start_time": "2023-04-15T08:27:14.891Z"
   },
   {
    "duration": 18,
    "start_time": "2023-04-15T08:27:14.911Z"
   },
   {
    "duration": 4,
    "start_time": "2023-04-15T08:27:14.931Z"
   },
   {
    "duration": 9,
    "start_time": "2023-04-15T08:27:14.937Z"
   },
   {
    "duration": 10,
    "start_time": "2023-04-15T08:27:14.947Z"
   },
   {
    "duration": 8,
    "start_time": "2023-04-15T08:27:14.959Z"
   },
   {
    "duration": 189,
    "start_time": "2023-04-15T08:27:14.968Z"
   },
   {
    "duration": 9,
    "start_time": "2023-04-15T08:27:15.159Z"
   },
   {
    "duration": 5,
    "start_time": "2023-04-15T08:27:15.170Z"
   },
   {
    "duration": 577,
    "start_time": "2023-04-15T08:27:15.176Z"
   },
   {
    "duration": 130,
    "start_time": "2023-04-15T08:27:15.756Z"
   },
   {
    "duration": 129,
    "start_time": "2023-04-15T08:27:15.888Z"
   },
   {
    "duration": 56,
    "start_time": "2023-04-15T08:27:53.639Z"
   },
   {
    "duration": 747,
    "start_time": "2023-04-15T08:29:21.436Z"
   },
   {
    "duration": 627,
    "start_time": "2023-04-15T08:30:11.959Z"
   },
   {
    "duration": 639,
    "start_time": "2023-04-15T08:30:27.596Z"
   },
   {
    "duration": 659,
    "start_time": "2023-04-15T08:30:44.381Z"
   },
   {
    "duration": 778,
    "start_time": "2023-04-15T08:30:57.155Z"
   },
   {
    "duration": 3,
    "start_time": "2023-04-15T10:37:37.623Z"
   },
   {
    "duration": 660,
    "start_time": "2023-04-15T10:38:00.794Z"
   },
   {
    "duration": 120,
    "start_time": "2023-04-15T10:38:19.816Z"
   },
   {
    "duration": 565,
    "start_time": "2023-04-15T10:38:26.901Z"
   },
   {
    "duration": 659,
    "start_time": "2023-04-15T10:38:37.111Z"
   },
   {
    "duration": 340,
    "start_time": "2023-04-15T10:38:48.173Z"
   },
   {
    "duration": 353,
    "start_time": "2023-04-15T10:40:02.520Z"
   },
   {
    "duration": 451,
    "start_time": "2023-04-15T10:40:14.197Z"
   },
   {
    "duration": 142,
    "start_time": "2023-04-15T10:40:51.473Z"
   },
   {
    "duration": 157,
    "start_time": "2023-04-15T10:42:43.056Z"
   },
   {
    "duration": 682,
    "start_time": "2023-04-15T10:47:18.541Z"
   },
   {
    "duration": 155,
    "start_time": "2023-04-15T10:47:22.101Z"
   },
   {
    "duration": 231,
    "start_time": "2023-04-15T10:47:41.480Z"
   },
   {
    "duration": 283,
    "start_time": "2023-04-15T10:47:50.909Z"
   },
   {
    "duration": 286,
    "start_time": "2023-04-15T10:48:43.906Z"
   },
   {
    "duration": 168,
    "start_time": "2023-04-15T10:48:48.306Z"
   },
   {
    "duration": 1158,
    "start_time": "2023-04-15T10:50:05.339Z"
   },
   {
    "duration": 255,
    "start_time": "2023-04-15T10:50:20.505Z"
   },
   {
    "duration": 154,
    "start_time": "2023-04-15T10:50:37.789Z"
   },
   {
    "duration": 258,
    "start_time": "2023-04-15T10:52:36.683Z"
   },
   {
    "duration": 160,
    "start_time": "2023-04-15T10:53:22.429Z"
   },
   {
    "duration": 4,
    "start_time": "2023-04-15T11:00:06.690Z"
   },
   {
    "duration": 318,
    "start_time": "2023-04-15T11:00:08.306Z"
   },
   {
    "duration": 4,
    "start_time": "2023-04-15T11:00:12.634Z"
   },
   {
    "duration": 153,
    "start_time": "2023-04-15T11:00:15.932Z"
   },
   {
    "duration": 180,
    "start_time": "2023-04-15T11:00:20.516Z"
   },
   {
    "duration": 161,
    "start_time": "2023-04-15T11:00:25.492Z"
   },
   {
    "duration": 286,
    "start_time": "2023-04-15T11:00:39.113Z"
   },
   {
    "duration": 204,
    "start_time": "2023-04-15T11:00:48.810Z"
   },
   {
    "duration": 247,
    "start_time": "2023-04-15T11:00:53.420Z"
   },
   {
    "duration": 139,
    "start_time": "2023-04-15T11:00:57.483Z"
   },
   {
    "duration": 263,
    "start_time": "2023-04-15T11:01:01.689Z"
   },
   {
    "duration": 209,
    "start_time": "2023-04-15T11:01:08.810Z"
   },
   {
    "duration": 1269,
    "start_time": "2023-04-15T12:32:32.933Z"
   },
   {
    "duration": 38,
    "start_time": "2023-04-15T12:32:53.026Z"
   },
   {
    "duration": 315,
    "start_time": "2023-04-15T12:33:39.526Z"
   },
   {
    "duration": 177,
    "start_time": "2023-04-15T12:33:44.060Z"
   },
   {
    "duration": 351,
    "start_time": "2023-04-15T12:34:00.456Z"
   },
   {
    "duration": 286,
    "start_time": "2023-04-15T12:34:23.176Z"
   },
   {
    "duration": 165,
    "start_time": "2023-04-15T12:34:40.565Z"
   },
   {
    "duration": 305,
    "start_time": "2023-04-15T12:35:00.038Z"
   },
   {
    "duration": 202,
    "start_time": "2023-04-15T12:35:04.571Z"
   },
   {
    "duration": 16,
    "start_time": "2023-04-15T12:35:48.555Z"
   },
   {
    "duration": 45,
    "start_time": "2023-04-15T12:35:58.507Z"
   },
   {
    "duration": 1411,
    "start_time": "2023-04-16T17:37:18.235Z"
   },
   {
    "duration": 3259,
    "start_time": "2023-04-16T17:37:19.649Z"
   },
   {
    "duration": 37,
    "start_time": "2023-04-16T17:37:22.910Z"
   },
   {
    "duration": 9,
    "start_time": "2023-04-16T17:37:22.948Z"
   },
   {
    "duration": 27,
    "start_time": "2023-04-16T17:37:22.959Z"
   },
   {
    "duration": 9,
    "start_time": "2023-04-16T17:37:22.989Z"
   },
   {
    "duration": 8,
    "start_time": "2023-04-16T17:37:23.000Z"
   },
   {
    "duration": 8,
    "start_time": "2023-04-16T17:37:23.009Z"
   },
   {
    "duration": 7,
    "start_time": "2023-04-16T17:37:23.019Z"
   },
   {
    "duration": 166,
    "start_time": "2023-04-16T17:37:23.027Z"
   },
   {
    "duration": 7,
    "start_time": "2023-04-16T17:37:23.195Z"
   },
   {
    "duration": 4,
    "start_time": "2023-04-16T17:37:23.203Z"
   },
   {
    "duration": 126,
    "start_time": "2023-04-16T17:37:23.209Z"
   },
   {
    "duration": 121,
    "start_time": "2023-04-16T17:37:23.337Z"
   },
   {
    "duration": 105,
    "start_time": "2023-04-16T17:37:23.460Z"
   },
   {
    "duration": 691,
    "start_time": "2023-04-16T17:37:23.567Z"
   },
   {
    "duration": 28,
    "start_time": "2023-04-16T17:37:24.259Z"
   },
   {
    "duration": 245,
    "start_time": "2023-04-16T17:37:24.288Z"
   },
   {
    "duration": 160,
    "start_time": "2023-04-16T17:37:24.534Z"
   },
   {
    "duration": 224,
    "start_time": "2023-04-16T17:37:24.696Z"
   },
   {
    "duration": 136,
    "start_time": "2023-04-16T17:37:24.921Z"
   },
   {
    "duration": 256,
    "start_time": "2023-04-16T17:37:25.058Z"
   },
   {
    "duration": 161,
    "start_time": "2023-04-16T17:37:25.316Z"
   },
   {
    "duration": 31,
    "start_time": "2023-04-16T17:37:25.480Z"
   },
   {
    "duration": 4,
    "start_time": "2023-04-16T17:57:37.219Z"
   },
   {
    "duration": 3,
    "start_time": "2023-04-16T17:59:09.962Z"
   },
   {
    "duration": 3,
    "start_time": "2023-04-16T18:04:44.653Z"
   },
   {
    "duration": 118,
    "start_time": "2023-04-16T18:24:50.359Z"
   },
   {
    "duration": 13,
    "start_time": "2023-04-16T18:26:15.627Z"
   },
   {
    "duration": 305,
    "start_time": "2023-04-16T18:26:24.828Z"
   },
   {
    "duration": 469,
    "start_time": "2023-04-16T18:26:51.969Z"
   },
   {
    "duration": 414,
    "start_time": "2023-04-16T18:27:14.431Z"
   },
   {
    "duration": 428,
    "start_time": "2023-04-16T18:27:19.326Z"
   },
   {
    "duration": 424,
    "start_time": "2023-04-16T18:28:04.018Z"
   },
   {
    "duration": 605,
    "start_time": "2023-04-16T18:28:07.259Z"
   },
   {
    "duration": 383,
    "start_time": "2023-04-16T18:28:29.130Z"
   },
   {
    "duration": 3,
    "start_time": "2023-04-16T18:28:40.432Z"
   },
   {
    "duration": 675,
    "start_time": "2023-04-16T18:28:40.437Z"
   },
   {
    "duration": 43,
    "start_time": "2023-04-16T18:28:41.114Z"
   },
   {
    "duration": 31,
    "start_time": "2023-04-16T18:28:41.159Z"
   },
   {
    "duration": 15,
    "start_time": "2023-04-16T18:28:41.192Z"
   },
   {
    "duration": 4,
    "start_time": "2023-04-16T18:28:41.209Z"
   },
   {
    "duration": 10,
    "start_time": "2023-04-16T18:28:41.214Z"
   },
   {
    "duration": 7,
    "start_time": "2023-04-16T18:28:41.225Z"
   },
   {
    "duration": 17,
    "start_time": "2023-04-16T18:28:41.233Z"
   },
   {
    "duration": 151,
    "start_time": "2023-04-16T18:28:41.251Z"
   },
   {
    "duration": 8,
    "start_time": "2023-04-16T18:28:41.403Z"
   },
   {
    "duration": 8,
    "start_time": "2023-04-16T18:28:41.413Z"
   },
   {
    "duration": 159,
    "start_time": "2023-04-16T18:28:41.422Z"
   },
   {
    "duration": 144,
    "start_time": "2023-04-16T18:28:41.592Z"
   },
   {
    "duration": 161,
    "start_time": "2023-04-16T18:28:41.739Z"
   },
   {
    "duration": 489,
    "start_time": "2023-04-16T18:28:41.902Z"
   },
   {
    "duration": 18,
    "start_time": "2023-04-16T18:28:42.393Z"
   },
   {
    "duration": 279,
    "start_time": "2023-04-16T18:28:42.413Z"
   },
   {
    "duration": 163,
    "start_time": "2023-04-16T18:28:42.694Z"
   },
   {
    "duration": 245,
    "start_time": "2023-04-16T18:28:42.858Z"
   },
   {
    "duration": 161,
    "start_time": "2023-04-16T18:28:43.105Z"
   },
   {
    "duration": 259,
    "start_time": "2023-04-16T18:28:43.267Z"
   },
   {
    "duration": 176,
    "start_time": "2023-04-16T18:28:43.527Z"
   },
   {
    "duration": 27,
    "start_time": "2023-04-16T18:28:43.705Z"
   },
   {
    "duration": 3,
    "start_time": "2023-04-16T18:28:43.734Z"
   },
   {
    "duration": 3,
    "start_time": "2023-04-16T18:28:44.691Z"
   },
   {
    "duration": 777,
    "start_time": "2023-04-16T18:38:34.069Z"
   },
   {
    "duration": 3,
    "start_time": "2023-04-16T18:39:45.198Z"
   },
   {
    "duration": 708,
    "start_time": "2023-04-16T18:39:45.203Z"
   },
   {
    "duration": 37,
    "start_time": "2023-04-16T18:39:45.912Z"
   },
   {
    "duration": 7,
    "start_time": "2023-04-16T18:39:45.951Z"
   },
   {
    "duration": 38,
    "start_time": "2023-04-16T18:39:45.960Z"
   },
   {
    "duration": 4,
    "start_time": "2023-04-16T18:39:45.999Z"
   },
   {
    "duration": 47,
    "start_time": "2023-04-16T18:39:46.004Z"
   },
   {
    "duration": 15,
    "start_time": "2023-04-16T18:39:46.053Z"
   },
   {
    "duration": 24,
    "start_time": "2023-04-16T18:39:46.070Z"
   },
   {
    "duration": 172,
    "start_time": "2023-04-16T18:39:46.096Z"
   },
   {
    "duration": 24,
    "start_time": "2023-04-16T18:39:46.270Z"
   },
   {
    "duration": 8,
    "start_time": "2023-04-16T18:39:46.296Z"
   },
   {
    "duration": 187,
    "start_time": "2023-04-16T18:39:46.306Z"
   },
   {
    "duration": 153,
    "start_time": "2023-04-16T18:39:46.496Z"
   },
   {
    "duration": 161,
    "start_time": "2023-04-16T18:39:46.650Z"
   },
   {
    "duration": 396,
    "start_time": "2023-04-16T18:39:46.814Z"
   },
   {
    "duration": 16,
    "start_time": "2023-04-16T18:39:47.213Z"
   },
   {
    "duration": 295,
    "start_time": "2023-04-16T18:39:47.231Z"
   },
   {
    "duration": 175,
    "start_time": "2023-04-16T18:39:47.527Z"
   },
   {
    "duration": 428,
    "start_time": "2023-04-16T18:39:47.703Z"
   },
   {
    "duration": 158,
    "start_time": "2023-04-16T18:39:48.133Z"
   },
   {
    "duration": 271,
    "start_time": "2023-04-16T18:39:48.296Z"
   },
   {
    "duration": 172,
    "start_time": "2023-04-16T18:39:48.572Z"
   },
   {
    "duration": 34,
    "start_time": "2023-04-16T18:39:48.746Z"
   },
   {
    "duration": 11,
    "start_time": "2023-04-16T18:39:48.783Z"
   },
   {
    "duration": 5,
    "start_time": "2023-04-16T18:39:48.798Z"
   },
   {
    "duration": 1130,
    "start_time": "2023-04-16T18:39:52.976Z"
   },
   {
    "duration": 1130,
    "start_time": "2023-04-16T18:40:55.459Z"
   },
   {
    "duration": 29,
    "start_time": "2023-04-16T18:41:04.667Z"
   },
   {
    "duration": 12,
    "start_time": "2023-04-16T18:41:19.352Z"
   },
   {
    "duration": 6,
    "start_time": "2023-04-16T18:44:14.183Z"
   },
   {
    "duration": 195,
    "start_time": "2023-04-16T18:44:15.937Z"
   },
   {
    "duration": 7,
    "start_time": "2023-04-16T18:44:20.386Z"
   },
   {
    "duration": 118,
    "start_time": "2023-04-16T18:44:21.847Z"
   },
   {
    "duration": 4,
    "start_time": "2023-04-16T18:44:29.840Z"
   },
   {
    "duration": 164,
    "start_time": "2023-04-16T18:44:30.889Z"
   },
   {
    "duration": 135,
    "start_time": "2023-04-16T18:44:35.332Z"
   },
   {
    "duration": 156,
    "start_time": "2023-04-16T18:44:37.764Z"
   },
   {
    "duration": 13,
    "start_time": "2023-04-16T18:52:57.058Z"
   },
   {
    "duration": 15,
    "start_time": "2023-04-16T18:53:02.929Z"
   },
   {
    "duration": 18,
    "start_time": "2023-04-16T18:53:31.023Z"
   },
   {
    "duration": 4,
    "start_time": "2023-04-16T18:53:46.196Z"
   },
   {
    "duration": 689,
    "start_time": "2023-04-16T18:53:46.202Z"
   },
   {
    "duration": 36,
    "start_time": "2023-04-16T18:53:46.892Z"
   },
   {
    "duration": 11,
    "start_time": "2023-04-16T18:53:46.930Z"
   },
   {
    "duration": 10,
    "start_time": "2023-04-16T18:53:46.943Z"
   },
   {
    "duration": 25,
    "start_time": "2023-04-16T18:53:46.973Z"
   },
   {
    "duration": 16,
    "start_time": "2023-04-16T18:53:47.000Z"
   },
   {
    "duration": 17,
    "start_time": "2023-04-16T18:53:47.017Z"
   },
   {
    "duration": 7,
    "start_time": "2023-04-16T18:53:47.035Z"
   },
   {
    "duration": 146,
    "start_time": "2023-04-16T18:53:47.043Z"
   },
   {
    "duration": 25,
    "start_time": "2023-04-16T18:53:52.360Z"
   },
   {
    "duration": 4,
    "start_time": "2023-04-16T18:53:56.945Z"
   },
   {
    "duration": 369,
    "start_time": "2023-04-16T18:54:01.223Z"
   },
   {
    "duration": 18,
    "start_time": "2023-04-16T18:54:07.240Z"
   },
   {
    "duration": 229,
    "start_time": "2023-04-16T18:54:15.200Z"
   },
   {
    "duration": 1049,
    "start_time": "2023-04-16T18:54:18.984Z"
   },
   {
    "duration": 2,
    "start_time": "2023-04-16T18:54:31.765Z"
   },
   {
    "duration": 653,
    "start_time": "2023-04-16T18:54:31.769Z"
   },
   {
    "duration": 35,
    "start_time": "2023-04-16T18:54:32.424Z"
   },
   {
    "duration": 17,
    "start_time": "2023-04-16T18:54:32.460Z"
   },
   {
    "duration": 15,
    "start_time": "2023-04-16T18:54:32.480Z"
   },
   {
    "duration": 4,
    "start_time": "2023-04-16T18:54:32.496Z"
   },
   {
    "duration": 7,
    "start_time": "2023-04-16T18:54:32.502Z"
   },
   {
    "duration": 12,
    "start_time": "2023-04-16T18:54:32.510Z"
   },
   {
    "duration": 7,
    "start_time": "2023-04-16T18:54:32.523Z"
   },
   {
    "duration": 167,
    "start_time": "2023-04-16T18:54:32.531Z"
   },
   {
    "duration": 14,
    "start_time": "2023-04-16T18:54:32.700Z"
   },
   {
    "duration": 5,
    "start_time": "2023-04-16T18:54:32.715Z"
   },
   {
    "duration": 130,
    "start_time": "2023-04-16T18:54:32.721Z"
   },
   {
    "duration": 156,
    "start_time": "2023-04-16T18:54:32.853Z"
   },
   {
    "duration": 142,
    "start_time": "2023-04-16T18:54:33.010Z"
   },
   {
    "duration": 544,
    "start_time": "2023-04-16T18:54:33.154Z"
   },
   {
    "duration": 16,
    "start_time": "2023-04-16T18:54:33.700Z"
   },
   {
    "duration": 273,
    "start_time": "2023-04-16T18:54:33.717Z"
   },
   {
    "duration": 151,
    "start_time": "2023-04-16T18:54:33.991Z"
   },
   {
    "duration": 244,
    "start_time": "2023-04-16T18:54:34.143Z"
   },
   {
    "duration": 154,
    "start_time": "2023-04-16T18:54:34.389Z"
   },
   {
    "duration": 305,
    "start_time": "2023-04-16T18:54:34.544Z"
   },
   {
    "duration": 153,
    "start_time": "2023-04-16T18:54:34.851Z"
   },
   {
    "duration": 21,
    "start_time": "2023-04-16T18:54:35.006Z"
   },
   {
    "duration": 2,
    "start_time": "2023-04-16T18:54:35.029Z"
   },
   {
    "duration": 4,
    "start_time": "2023-04-16T18:54:35.033Z"
   },
   {
    "duration": 10,
    "start_time": "2023-04-16T18:54:36.683Z"
   },
   {
    "duration": 9,
    "start_time": "2023-04-16T18:54:38.768Z"
   },
   {
    "duration": 49,
    "start_time": "2023-04-16T19:11:52.729Z"
   },
   {
    "duration": 3,
    "start_time": "2023-04-16T19:18:01.236Z"
   },
   {
    "duration": 3172,
    "start_time": "2023-04-16T19:26:58.123Z"
   },
   {
    "duration": 3255,
    "start_time": "2023-04-16T19:27:34.139Z"
   },
   {
    "duration": 4362,
    "start_time": "2023-04-16T19:27:47.615Z"
   },
   {
    "duration": 4,
    "start_time": "2023-04-16T19:39:54.744Z"
   },
   {
    "duration": 15,
    "start_time": "2023-04-16T19:39:59.186Z"
   },
   {
    "duration": 10,
    "start_time": "2023-04-16T19:43:14.049Z"
   },
   {
    "duration": 12,
    "start_time": "2023-04-16T19:43:57.471Z"
   },
   {
    "duration": 10,
    "start_time": "2023-04-16T19:44:02.041Z"
   },
   {
    "duration": 886060,
    "start_time": "2023-04-16T19:44:08.937Z"
   },
   {
    "duration": 11,
    "start_time": "2023-04-16T20:05:53.414Z"
   },
   {
    "duration": 3,
    "start_time": "2023-04-16T20:06:07.340Z"
   },
   {
    "duration": 20557,
    "start_time": "2023-04-16T20:06:43.440Z"
   },
   {
    "duration": 59914,
    "start_time": "2023-04-16T20:09:17.187Z"
   },
   {
    "duration": 1222,
    "start_time": "2023-04-16T20:12:26.524Z"
   },
   {
    "duration": 32,
    "start_time": "2023-04-16T20:19:11.921Z"
   },
   {
    "duration": 42,
    "start_time": "2023-04-16T20:19:43.552Z"
   },
   {
    "duration": 30,
    "start_time": "2023-04-16T20:22:23.066Z"
   },
   {
    "duration": 29,
    "start_time": "2023-04-16T20:23:05.855Z"
   },
   {
    "duration": 26,
    "start_time": "2023-04-16T20:24:31.048Z"
   },
   {
    "duration": 613921,
    "start_time": "2023-04-16T20:25:02.831Z"
   },
   {
    "duration": 864270,
    "start_time": "2023-04-16T20:35:23.411Z"
   },
   {
    "duration": 40532,
    "start_time": "2023-04-16T20:50:29.835Z"
   },
   {
    "duration": 11025,
    "start_time": "2023-04-16T20:56:00.133Z"
   },
   {
    "duration": 10609,
    "start_time": "2023-04-16T20:57:48.194Z"
   },
   {
    "duration": 3,
    "start_time": "2023-04-16T21:06:16.822Z"
   },
   {
    "duration": 666,
    "start_time": "2023-04-16T21:06:16.827Z"
   },
   {
    "duration": 35,
    "start_time": "2023-04-16T21:06:17.494Z"
   },
   {
    "duration": 6,
    "start_time": "2023-04-16T21:06:17.530Z"
   },
   {
    "duration": 19,
    "start_time": "2023-04-16T21:06:17.538Z"
   },
   {
    "duration": 27,
    "start_time": "2023-04-16T21:06:17.558Z"
   },
   {
    "duration": 15,
    "start_time": "2023-04-16T21:06:17.587Z"
   },
   {
    "duration": 10,
    "start_time": "2023-04-16T21:06:17.604Z"
   },
   {
    "duration": 14,
    "start_time": "2023-04-16T21:06:17.615Z"
   },
   {
    "duration": 137,
    "start_time": "2023-04-16T21:06:17.631Z"
   },
   {
    "duration": 23,
    "start_time": "2023-04-16T21:06:17.769Z"
   },
   {
    "duration": 26,
    "start_time": "2023-04-16T21:06:17.794Z"
   },
   {
    "duration": 147,
    "start_time": "2023-04-16T21:06:17.822Z"
   },
   {
    "duration": 135,
    "start_time": "2023-04-16T21:06:17.972Z"
   },
   {
    "duration": 136,
    "start_time": "2023-04-16T21:06:18.108Z"
   },
   {
    "duration": 352,
    "start_time": "2023-04-16T21:06:18.246Z"
   },
   {
    "duration": 16,
    "start_time": "2023-04-16T21:06:18.599Z"
   },
   {
    "duration": 271,
    "start_time": "2023-04-16T21:06:18.616Z"
   },
   {
    "duration": 142,
    "start_time": "2023-04-16T21:06:18.889Z"
   },
   {
    "duration": 207,
    "start_time": "2023-04-16T21:06:19.033Z"
   },
   {
    "duration": 147,
    "start_time": "2023-04-16T21:06:19.242Z"
   },
   {
    "duration": 226,
    "start_time": "2023-04-16T21:06:19.391Z"
   },
   {
    "duration": 346,
    "start_time": "2023-04-16T21:06:19.618Z"
   },
   {
    "duration": 23,
    "start_time": "2023-04-16T21:06:19.977Z"
   },
   {
    "duration": 7,
    "start_time": "2023-04-16T21:06:20.001Z"
   },
   {
    "duration": 14,
    "start_time": "2023-04-16T21:06:20.009Z"
   },
   {
    "duration": 30,
    "start_time": "2023-04-16T21:06:20.024Z"
   },
   {
    "duration": 40,
    "start_time": "2023-04-16T21:06:20.055Z"
   },
   {
    "duration": 3387,
    "start_time": "2023-04-16T21:06:20.097Z"
   },
   {
    "duration": 57014,
    "start_time": "2023-04-16T21:06:23.486Z"
   },
   {
    "duration": 1245,
    "start_time": "2023-04-16T21:07:20.502Z"
   },
   {
    "duration": 789363,
    "start_time": "2023-04-16T21:07:21.749Z"
   },
   {
    "duration": 40050,
    "start_time": "2023-04-16T21:20:31.114Z"
   },
   {
    "duration": 10453,
    "start_time": "2023-04-16T21:21:11.165Z"
   },
   {
    "duration": 1279,
    "start_time": "2023-04-17T08:59:19.181Z"
   },
   {
    "duration": 120,
    "start_time": "2023-04-17T08:59:20.462Z"
   },
   {
    "duration": 0,
    "start_time": "2023-04-17T08:59:20.584Z"
   },
   {
    "duration": 0,
    "start_time": "2023-04-17T08:59:20.585Z"
   },
   {
    "duration": 0,
    "start_time": "2023-04-17T08:59:20.586Z"
   },
   {
    "duration": 0,
    "start_time": "2023-04-17T08:59:20.587Z"
   },
   {
    "duration": 0,
    "start_time": "2023-04-17T08:59:20.588Z"
   },
   {
    "duration": 0,
    "start_time": "2023-04-17T08:59:20.588Z"
   },
   {
    "duration": 0,
    "start_time": "2023-04-17T08:59:20.589Z"
   },
   {
    "duration": 0,
    "start_time": "2023-04-17T08:59:20.590Z"
   },
   {
    "duration": 0,
    "start_time": "2023-04-17T08:59:20.591Z"
   },
   {
    "duration": 0,
    "start_time": "2023-04-17T08:59:20.592Z"
   },
   {
    "duration": 0,
    "start_time": "2023-04-17T08:59:20.593Z"
   },
   {
    "duration": 0,
    "start_time": "2023-04-17T08:59:20.594Z"
   },
   {
    "duration": 0,
    "start_time": "2023-04-17T08:59:20.594Z"
   },
   {
    "duration": 0,
    "start_time": "2023-04-17T08:59:20.595Z"
   },
   {
    "duration": 0,
    "start_time": "2023-04-17T08:59:20.597Z"
   },
   {
    "duration": 0,
    "start_time": "2023-04-17T08:59:20.598Z"
   },
   {
    "duration": 0,
    "start_time": "2023-04-17T08:59:20.600Z"
   },
   {
    "duration": 0,
    "start_time": "2023-04-17T08:59:20.601Z"
   },
   {
    "duration": 0,
    "start_time": "2023-04-17T08:59:20.603Z"
   },
   {
    "duration": 0,
    "start_time": "2023-04-17T08:59:20.604Z"
   },
   {
    "duration": 0,
    "start_time": "2023-04-17T08:59:20.605Z"
   },
   {
    "duration": 0,
    "start_time": "2023-04-17T08:59:20.607Z"
   },
   {
    "duration": 0,
    "start_time": "2023-04-17T08:59:20.608Z"
   },
   {
    "duration": 0,
    "start_time": "2023-04-17T08:59:20.609Z"
   },
   {
    "duration": 0,
    "start_time": "2023-04-17T08:59:20.610Z"
   },
   {
    "duration": 0,
    "start_time": "2023-04-17T08:59:20.611Z"
   },
   {
    "duration": 0,
    "start_time": "2023-04-17T08:59:20.612Z"
   },
   {
    "duration": 0,
    "start_time": "2023-04-17T08:59:20.613Z"
   },
   {
    "duration": 0,
    "start_time": "2023-04-17T08:59:20.614Z"
   },
   {
    "duration": 0,
    "start_time": "2023-04-17T08:59:20.615Z"
   },
   {
    "duration": 0,
    "start_time": "2023-04-17T08:59:20.616Z"
   },
   {
    "duration": 0,
    "start_time": "2023-04-17T08:59:20.617Z"
   },
   {
    "duration": 5410,
    "start_time": "2023-04-17T09:30:28.146Z"
   },
   {
    "duration": 2116,
    "start_time": "2023-04-17T09:30:33.558Z"
   },
   {
    "duration": 185,
    "start_time": "2023-04-17T09:30:35.676Z"
   },
   {
    "duration": 10,
    "start_time": "2023-04-17T09:30:35.863Z"
   },
   {
    "duration": 91,
    "start_time": "2023-04-17T09:30:35.874Z"
   },
   {
    "duration": 4,
    "start_time": "2023-04-17T09:30:35.967Z"
   },
   {
    "duration": 78,
    "start_time": "2023-04-17T09:30:35.973Z"
   },
   {
    "duration": 9,
    "start_time": "2023-04-17T09:30:36.053Z"
   },
   {
    "duration": 87,
    "start_time": "2023-04-17T09:30:36.063Z"
   },
   {
    "duration": 497,
    "start_time": "2023-04-17T09:30:36.152Z"
   },
   {
    "duration": 16,
    "start_time": "2023-04-17T09:30:36.651Z"
   },
   {
    "duration": 82,
    "start_time": "2023-04-17T09:30:36.669Z"
   },
   {
    "duration": 701,
    "start_time": "2023-04-17T09:30:36.752Z"
   },
   {
    "duration": 513,
    "start_time": "2023-04-17T09:30:37.455Z"
   },
   {
    "duration": 407,
    "start_time": "2023-04-17T09:30:37.970Z"
   },
   {
    "duration": 1589,
    "start_time": "2023-04-17T09:30:38.378Z"
   },
   {
    "duration": 94,
    "start_time": "2023-04-17T09:30:39.969Z"
   },
   {
    "duration": 898,
    "start_time": "2023-04-17T09:30:40.065Z"
   },
   {
    "duration": 409,
    "start_time": "2023-04-17T09:30:40.965Z"
   },
   {
    "duration": 816,
    "start_time": "2023-04-17T09:30:41.449Z"
   },
   {
    "duration": 498,
    "start_time": "2023-04-17T09:30:42.267Z"
   },
   {
    "duration": 882,
    "start_time": "2023-04-17T09:30:42.767Z"
   },
   {
    "duration": 321,
    "start_time": "2023-04-17T09:30:43.651Z"
   },
   {
    "duration": 402,
    "start_time": "2023-04-17T09:30:43.973Z"
   },
   {
    "duration": 74,
    "start_time": "2023-04-17T09:30:44.376Z"
   },
   {
    "duration": 8,
    "start_time": "2023-04-17T09:30:44.453Z"
   },
   {
    "duration": 99,
    "start_time": "2023-04-17T09:30:44.463Z"
   },
   {
    "duration": 94,
    "start_time": "2023-04-17T09:30:44.566Z"
   },
   {
    "duration": 4290,
    "start_time": "2023-04-17T09:30:44.662Z"
   },
   {
    "duration": 193294,
    "start_time": "2023-04-17T09:30:48.954Z"
   },
   {
    "duration": 4117,
    "start_time": "2023-04-17T09:34:02.251Z"
   },
   {
    "duration": 2081819,
    "start_time": "2023-04-17T09:34:06.370Z"
   },
   {
    "duration": 41731,
    "start_time": "2023-04-17T10:08:48.191Z"
   },
   {
    "duration": 10593,
    "start_time": "2023-04-17T10:09:29.924Z"
   },
   {
    "duration": 1667,
    "start_time": "2023-04-17T11:50:38.060Z"
   },
   {
    "duration": 5,
    "start_time": "2023-04-17T11:50:50.330Z"
   },
   {
    "duration": 1837,
    "start_time": "2023-04-17T11:50:50.338Z"
   },
   {
    "duration": 41,
    "start_time": "2023-04-17T11:50:52.177Z"
   },
   {
    "duration": 10,
    "start_time": "2023-04-17T11:50:52.220Z"
   },
   {
    "duration": 16,
    "start_time": "2023-04-17T11:50:52.232Z"
   },
   {
    "duration": 12,
    "start_time": "2023-04-17T11:50:52.250Z"
   },
   {
    "duration": 10,
    "start_time": "2023-04-17T11:50:52.263Z"
   },
   {
    "duration": 8,
    "start_time": "2023-04-17T11:50:52.275Z"
   },
   {
    "duration": 7,
    "start_time": "2023-04-17T11:50:52.285Z"
   },
   {
    "duration": 176,
    "start_time": "2023-04-17T11:50:52.294Z"
   },
   {
    "duration": 14,
    "start_time": "2023-04-17T11:50:52.471Z"
   },
   {
    "duration": 53,
    "start_time": "2023-04-17T11:50:52.486Z"
   },
   {
    "duration": 153,
    "start_time": "2023-04-17T11:50:52.540Z"
   },
   {
    "duration": 152,
    "start_time": "2023-04-17T11:50:52.696Z"
   },
   {
    "duration": 142,
    "start_time": "2023-04-17T11:50:52.850Z"
   },
   {
    "duration": 455,
    "start_time": "2023-04-17T11:50:52.994Z"
   },
   {
    "duration": 25,
    "start_time": "2023-04-17T11:50:53.451Z"
   },
   {
    "duration": 261,
    "start_time": "2023-04-17T11:50:53.477Z"
   },
   {
    "duration": 169,
    "start_time": "2023-04-17T11:50:53.739Z"
   },
   {
    "duration": 224,
    "start_time": "2023-04-17T11:50:53.909Z"
   },
   {
    "duration": 112,
    "start_time": "2023-04-17T11:50:54.135Z"
   },
   {
    "duration": 237,
    "start_time": "2023-04-17T11:50:54.258Z"
   },
   {
    "duration": 132,
    "start_time": "2023-04-17T11:50:54.497Z"
   },
   {
    "duration": 39,
    "start_time": "2023-04-17T11:50:54.631Z"
   },
   {
    "duration": 4,
    "start_time": "2023-04-17T11:50:54.672Z"
   },
   {
    "duration": 27,
    "start_time": "2023-04-17T11:50:54.678Z"
   },
   {
    "duration": 32,
    "start_time": "2023-04-17T11:50:54.707Z"
   },
   {
    "duration": 32,
    "start_time": "2023-04-17T11:50:54.741Z"
   },
   {
    "duration": 2689,
    "start_time": "2023-04-17T11:50:54.775Z"
   },
   {
    "duration": 54649,
    "start_time": "2023-04-17T11:50:57.467Z"
   },
   {
    "duration": 1310,
    "start_time": "2023-04-17T11:51:52.118Z"
   },
   {
    "duration": 694693,
    "start_time": "2023-04-17T11:51:53.430Z"
   },
   {
    "duration": 37036,
    "start_time": "2023-04-17T12:03:28.125Z"
   },
   {
    "duration": 9371,
    "start_time": "2023-04-17T12:04:05.163Z"
   },
   {
    "duration": 9,
    "start_time": "2023-04-17T12:04:14.537Z"
   }
  ],
  "kernelspec": {
   "display_name": "Python 3",
   "language": "python",
   "name": "python3"
  },
  "language_info": {
   "codemirror_mode": {
    "name": "ipython",
    "version": 3
   },
   "file_extension": ".py",
   "mimetype": "text/x-python",
   "name": "python",
   "nbconvert_exporter": "python",
   "pygments_lexer": "ipython3",
   "version": "3.8.5"
  },
  "toc": {
   "base_numbering": 1,
   "nav_menu": {},
   "number_sections": true,
   "sideBar": true,
   "skip_h1_title": true,
   "title_cell": "Содержание",
   "title_sidebar": "Contents",
   "toc_cell": true,
   "toc_position": {
    "height": "calc(100% - 180px)",
    "left": "10px",
    "top": "150px",
    "width": "165px"
   },
   "toc_section_display": true,
   "toc_window_display": true
  }
 },
 "nbformat": 4,
 "nbformat_minor": 2
}
