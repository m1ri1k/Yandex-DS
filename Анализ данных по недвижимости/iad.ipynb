{
 "cells": [
  {
   "cell_type": "markdown",
   "metadata": {},
   "source": [
    "# Исследование объявлений о продаже квартир\n",
    "\n",
    "В вашем распоряжении данные сервиса Яндекс.Недвижимость — архив объявлений о продаже квартир в Санкт-Петербурге и соседних населённых пунктов за несколько лет. Нужно научиться определять рыночную стоимость объектов недвижимости. Ваша задача — установить параметры. Это позволит построить автоматизированную систему: она отследит аномалии и мошенническую деятельность. \n",
    "\n",
    "По каждой квартире на продажу доступны два вида данных. Первые вписаны пользователем, вторые — получены автоматически на основе картографических данных. Например, расстояние до центра, аэропорта, ближайшего парка и водоёма. "
   ]
  },
  {
   "cell_type": "markdown",
   "metadata": {},
   "source": [
    "План работы:   \n",
    "* Изучить данные, обработать пропущенные значения и дубликаты, исправить аномальные значения  \n",
    "* Добавить в таблицу новые переменные, которые помогут проанализировать рынок недвижимости  \n",
    "* Изучить, как быстро продаются квартиры  \n",
    "* Выявить факторы, которые влияют на стоимость объектов   \n",
    "* Выделить населённые пункты с самой высокой и низкой стоимостью квадратного метра  \n",
    "* Выявить зависимость стоимости квартир от расстояния до центра города в Санкт-Петербурге  "
   ]
  },
  {
   "cell_type": "markdown",
   "metadata": {},
   "source": [
    "### Откройте файл с данными и изучите общую информацию. "
   ]
  },
  {
   "cell_type": "markdown",
   "metadata": {},
   "source": [
    "Загрузим данные и посмотрим на первые пять строк датасета:"
   ]
  },
  {
   "cell_type": "code",
   "execution_count": 1,
   "metadata": {
    "scrolled": false
   },
   "outputs": [
    {
     "data": {
      "text/html": [
       "<div>\n",
       "<style scoped>\n",
       "    .dataframe tbody tr th:only-of-type {\n",
       "        vertical-align: middle;\n",
       "    }\n",
       "\n",
       "    .dataframe tbody tr th {\n",
       "        vertical-align: top;\n",
       "    }\n",
       "\n",
       "    .dataframe thead th {\n",
       "        text-align: right;\n",
       "    }\n",
       "</style>\n",
       "<table border=\"1\" class=\"dataframe\">\n",
       "  <thead>\n",
       "    <tr style=\"text-align: right;\">\n",
       "      <th></th>\n",
       "      <th>total_images</th>\n",
       "      <th>last_price</th>\n",
       "      <th>total_area</th>\n",
       "      <th>first_day_exposition</th>\n",
       "      <th>rooms</th>\n",
       "      <th>ceiling_height</th>\n",
       "      <th>floors_total</th>\n",
       "      <th>living_area</th>\n",
       "      <th>floor</th>\n",
       "      <th>is_apartment</th>\n",
       "      <th>...</th>\n",
       "      <th>kitchen_area</th>\n",
       "      <th>balcony</th>\n",
       "      <th>locality_name</th>\n",
       "      <th>airports_nearest</th>\n",
       "      <th>cityCenters_nearest</th>\n",
       "      <th>parks_around3000</th>\n",
       "      <th>parks_nearest</th>\n",
       "      <th>ponds_around3000</th>\n",
       "      <th>ponds_nearest</th>\n",
       "      <th>days_exposition</th>\n",
       "    </tr>\n",
       "  </thead>\n",
       "  <tbody>\n",
       "    <tr>\n",
       "      <th>0</th>\n",
       "      <td>20</td>\n",
       "      <td>13000000.0</td>\n",
       "      <td>108.0</td>\n",
       "      <td>2019-03-07T00:00:00</td>\n",
       "      <td>3</td>\n",
       "      <td>2.70</td>\n",
       "      <td>16.0</td>\n",
       "      <td>51.0</td>\n",
       "      <td>8</td>\n",
       "      <td>NaN</td>\n",
       "      <td>...</td>\n",
       "      <td>25.0</td>\n",
       "      <td>NaN</td>\n",
       "      <td>Санкт-Петербург</td>\n",
       "      <td>18863.0</td>\n",
       "      <td>16028.0</td>\n",
       "      <td>1.0</td>\n",
       "      <td>482.0</td>\n",
       "      <td>2.0</td>\n",
       "      <td>755.0</td>\n",
       "      <td>NaN</td>\n",
       "    </tr>\n",
       "    <tr>\n",
       "      <th>1</th>\n",
       "      <td>7</td>\n",
       "      <td>3350000.0</td>\n",
       "      <td>40.4</td>\n",
       "      <td>2018-12-04T00:00:00</td>\n",
       "      <td>1</td>\n",
       "      <td>NaN</td>\n",
       "      <td>11.0</td>\n",
       "      <td>18.6</td>\n",
       "      <td>1</td>\n",
       "      <td>NaN</td>\n",
       "      <td>...</td>\n",
       "      <td>11.0</td>\n",
       "      <td>2.0</td>\n",
       "      <td>посёлок Шушары</td>\n",
       "      <td>12817.0</td>\n",
       "      <td>18603.0</td>\n",
       "      <td>0.0</td>\n",
       "      <td>NaN</td>\n",
       "      <td>0.0</td>\n",
       "      <td>NaN</td>\n",
       "      <td>81.0</td>\n",
       "    </tr>\n",
       "    <tr>\n",
       "      <th>2</th>\n",
       "      <td>10</td>\n",
       "      <td>5196000.0</td>\n",
       "      <td>56.0</td>\n",
       "      <td>2015-08-20T00:00:00</td>\n",
       "      <td>2</td>\n",
       "      <td>NaN</td>\n",
       "      <td>5.0</td>\n",
       "      <td>34.3</td>\n",
       "      <td>4</td>\n",
       "      <td>NaN</td>\n",
       "      <td>...</td>\n",
       "      <td>8.3</td>\n",
       "      <td>0.0</td>\n",
       "      <td>Санкт-Петербург</td>\n",
       "      <td>21741.0</td>\n",
       "      <td>13933.0</td>\n",
       "      <td>1.0</td>\n",
       "      <td>90.0</td>\n",
       "      <td>2.0</td>\n",
       "      <td>574.0</td>\n",
       "      <td>558.0</td>\n",
       "    </tr>\n",
       "    <tr>\n",
       "      <th>3</th>\n",
       "      <td>0</td>\n",
       "      <td>64900000.0</td>\n",
       "      <td>159.0</td>\n",
       "      <td>2015-07-24T00:00:00</td>\n",
       "      <td>3</td>\n",
       "      <td>NaN</td>\n",
       "      <td>14.0</td>\n",
       "      <td>NaN</td>\n",
       "      <td>9</td>\n",
       "      <td>NaN</td>\n",
       "      <td>...</td>\n",
       "      <td>NaN</td>\n",
       "      <td>0.0</td>\n",
       "      <td>Санкт-Петербург</td>\n",
       "      <td>28098.0</td>\n",
       "      <td>6800.0</td>\n",
       "      <td>2.0</td>\n",
       "      <td>84.0</td>\n",
       "      <td>3.0</td>\n",
       "      <td>234.0</td>\n",
       "      <td>424.0</td>\n",
       "    </tr>\n",
       "    <tr>\n",
       "      <th>4</th>\n",
       "      <td>2</td>\n",
       "      <td>10000000.0</td>\n",
       "      <td>100.0</td>\n",
       "      <td>2018-06-19T00:00:00</td>\n",
       "      <td>2</td>\n",
       "      <td>3.03</td>\n",
       "      <td>14.0</td>\n",
       "      <td>32.0</td>\n",
       "      <td>13</td>\n",
       "      <td>NaN</td>\n",
       "      <td>...</td>\n",
       "      <td>41.0</td>\n",
       "      <td>NaN</td>\n",
       "      <td>Санкт-Петербург</td>\n",
       "      <td>31856.0</td>\n",
       "      <td>8098.0</td>\n",
       "      <td>2.0</td>\n",
       "      <td>112.0</td>\n",
       "      <td>1.0</td>\n",
       "      <td>48.0</td>\n",
       "      <td>121.0</td>\n",
       "    </tr>\n",
       "  </tbody>\n",
       "</table>\n",
       "<p>5 rows × 22 columns</p>\n",
       "</div>"
      ],
      "text/plain": [
       "   total_images  last_price  total_area first_day_exposition  rooms  \\\n",
       "0            20  13000000.0       108.0  2019-03-07T00:00:00      3   \n",
       "1             7   3350000.0        40.4  2018-12-04T00:00:00      1   \n",
       "2            10   5196000.0        56.0  2015-08-20T00:00:00      2   \n",
       "3             0  64900000.0       159.0  2015-07-24T00:00:00      3   \n",
       "4             2  10000000.0       100.0  2018-06-19T00:00:00      2   \n",
       "\n",
       "   ceiling_height  floors_total  living_area  floor is_apartment  ...  \\\n",
       "0            2.70          16.0         51.0      8          NaN  ...   \n",
       "1             NaN          11.0         18.6      1          NaN  ...   \n",
       "2             NaN           5.0         34.3      4          NaN  ...   \n",
       "3             NaN          14.0          NaN      9          NaN  ...   \n",
       "4            3.03          14.0         32.0     13          NaN  ...   \n",
       "\n",
       "   kitchen_area  balcony    locality_name  airports_nearest  \\\n",
       "0          25.0      NaN  Санкт-Петербург           18863.0   \n",
       "1          11.0      2.0   посёлок Шушары           12817.0   \n",
       "2           8.3      0.0  Санкт-Петербург           21741.0   \n",
       "3           NaN      0.0  Санкт-Петербург           28098.0   \n",
       "4          41.0      NaN  Санкт-Петербург           31856.0   \n",
       "\n",
       "  cityCenters_nearest  parks_around3000  parks_nearest  ponds_around3000  \\\n",
       "0             16028.0               1.0          482.0               2.0   \n",
       "1             18603.0               0.0            NaN               0.0   \n",
       "2             13933.0               1.0           90.0               2.0   \n",
       "3              6800.0               2.0           84.0               3.0   \n",
       "4              8098.0               2.0          112.0               1.0   \n",
       "\n",
       "   ponds_nearest  days_exposition  \n",
       "0          755.0              NaN  \n",
       "1            NaN             81.0  \n",
       "2          574.0            558.0  \n",
       "3          234.0            424.0  \n",
       "4           48.0            121.0  \n",
       "\n",
       "[5 rows x 22 columns]"
      ]
     },
     "execution_count": 1,
     "metadata": {},
     "output_type": "execute_result"
    }
   ],
   "source": [
    "import pandas as pd\n",
    "data = pd.read_csv('/datasets/real_estate_data.csv', sep='\\t')\n",
    "data.head()"
   ]
  },
  {
   "cell_type": "markdown",
   "metadata": {},
   "source": [
    "Выведем общую информацию о датасете. Всего в датасете 23699 строк и 22 столбцов, из них 2 переменные имеют булев тип данных, 14 - вещественный, 3 - целочисленный и 3 переменных заданы в виде строк."
   ]
  },
  {
   "cell_type": "code",
   "execution_count": 2,
   "metadata": {
    "scrolled": true
   },
   "outputs": [
    {
     "name": "stdout",
     "output_type": "stream",
     "text": [
      "<class 'pandas.core.frame.DataFrame'>\n",
      "RangeIndex: 23699 entries, 0 to 23698\n",
      "Data columns (total 22 columns):\n",
      " #   Column                Non-Null Count  Dtype  \n",
      "---  ------                --------------  -----  \n",
      " 0   total_images          23699 non-null  int64  \n",
      " 1   last_price            23699 non-null  float64\n",
      " 2   total_area            23699 non-null  float64\n",
      " 3   first_day_exposition  23699 non-null  object \n",
      " 4   rooms                 23699 non-null  int64  \n",
      " 5   ceiling_height        14504 non-null  float64\n",
      " 6   floors_total          23613 non-null  float64\n",
      " 7   living_area           21796 non-null  float64\n",
      " 8   floor                 23699 non-null  int64  \n",
      " 9   is_apartment          2775 non-null   object \n",
      " 10  studio                23699 non-null  bool   \n",
      " 11  open_plan             23699 non-null  bool   \n",
      " 12  kitchen_area          21421 non-null  float64\n",
      " 13  balcony               12180 non-null  float64\n",
      " 14  locality_name         23650 non-null  object \n",
      " 15  airports_nearest      18157 non-null  float64\n",
      " 16  cityCenters_nearest   18180 non-null  float64\n",
      " 17  parks_around3000      18181 non-null  float64\n",
      " 18  parks_nearest         8079 non-null   float64\n",
      " 19  ponds_around3000      18181 non-null  float64\n",
      " 20  ponds_nearest         9110 non-null   float64\n",
      " 21  days_exposition       20518 non-null  float64\n",
      "dtypes: bool(2), float64(14), int64(3), object(3)\n",
      "memory usage: 3.7+ MB\n"
     ]
    }
   ],
   "source": [
    "data.info()"
   ]
  },
  {
   "cell_type": "markdown",
   "metadata": {},
   "source": [
    "Построим гистограммы для числовых переменных."
   ]
  },
  {
   "cell_type": "code",
   "execution_count": 3,
   "metadata": {
    "scrolled": true
   },
   "outputs": [
    {
     "data": {
      "text/plain": [
       "array([[<AxesSubplot:title={'center':'total_images'}>,\n",
       "        <AxesSubplot:title={'center':'last_price'}>,\n",
       "        <AxesSubplot:title={'center':'total_area'}>,\n",
       "        <AxesSubplot:title={'center':'rooms'}>],\n",
       "       [<AxesSubplot:title={'center':'ceiling_height'}>,\n",
       "        <AxesSubplot:title={'center':'floors_total'}>,\n",
       "        <AxesSubplot:title={'center':'living_area'}>,\n",
       "        <AxesSubplot:title={'center':'floor'}>],\n",
       "       [<AxesSubplot:title={'center':'kitchen_area'}>,\n",
       "        <AxesSubplot:title={'center':'balcony'}>,\n",
       "        <AxesSubplot:title={'center':'airports_nearest'}>,\n",
       "        <AxesSubplot:title={'center':'cityCenters_nearest'}>],\n",
       "       [<AxesSubplot:title={'center':'parks_around3000'}>,\n",
       "        <AxesSubplot:title={'center':'parks_nearest'}>,\n",
       "        <AxesSubplot:title={'center':'ponds_around3000'}>,\n",
       "        <AxesSubplot:title={'center':'ponds_nearest'}>],\n",
       "       [<AxesSubplot:title={'center':'days_exposition'}>, <AxesSubplot:>,\n",
       "        <AxesSubplot:>, <AxesSubplot:>]], dtype=object)"
      ]
     },
     "execution_count": 3,
     "metadata": {},
     "output_type": "execute_result"
    },
    {
     "data": {
      "image/png": "[encoded data removed]",
      "text/plain": [
       "<Figure size 1080x1440 with 20 Axes>"
      ]
     },
     "metadata": {
      "needs_background": "light"
     },
     "output_type": "display_data"
    }
   ],
   "source": [
    "data.hist(figsize=(15, 20), bins=50)"
   ]
  },
  {
   "cell_type": "markdown",
   "metadata": {},
   "source": [
    "По общей инфомации видно, что в данных достаточно много пропусков. Также из гистограм видно, что в данных пристутствуют аномальные значения, например 100 метровые потолки, квартира в 0 метрах от аэоропорта и др."
   ]
  },
  {
   "cell_type": "markdown",
   "metadata": {},
   "source": [
    "### Предобработка данных"
   ]
  },
  {
   "cell_type": "markdown",
   "metadata": {},
   "source": [
    "#### Обработка пропущенных значений"
   ]
  },
  {
   "cell_type": "markdown",
   "metadata": {},
   "source": [
    "Посмотрим, есть ли пропущенные значения в датасете."
   ]
  },
  {
   "cell_type": "code",
   "execution_count": 4,
   "metadata": {
    "scrolled": true
   },
   "outputs": [
    {
     "data": {
      "text/plain": [
       "total_images                0\n",
       "last_price                  0\n",
       "total_area                  0\n",
       "first_day_exposition        0\n",
       "rooms                       0\n",
       "ceiling_height           9195\n",
       "floors_total               86\n",
       "living_area              1903\n",
       "floor                       0\n",
       "is_apartment            20924\n",
       "studio                      0\n",
       "open_plan                   0\n",
       "kitchen_area             2278\n",
       "balcony                 11519\n",
       "locality_name              49\n",
       "airports_nearest         5542\n",
       "cityCenters_nearest      5519\n",
       "parks_around3000         5518\n",
       "parks_nearest           15620\n",
       "ponds_around3000         5518\n",
       "ponds_nearest           14589\n",
       "days_exposition          3181\n",
       "dtype: int64"
      ]
     },
     "execution_count": 4,
     "metadata": {},
     "output_type": "execute_result"
    }
   ],
   "source": [
    "data.isna().sum()"
   ]
  },
  {
   "cell_type": "markdown",
   "metadata": {},
   "source": [
    "Наименьшее количество пропусков содержится в переменных floors_total (0.36% от всех данных) и locality_name (0.21%), их количество крайне мало, поэтому мы можем удалить эти строки из датасета."
   ]
  },
  {
   "cell_type": "code",
   "execution_count": 5,
   "metadata": {},
   "outputs": [],
   "source": [
    "data = data.loc[data['floors_total'].isna()==False].reset_index(drop=True)\n",
    "data = data.loc[data['locality_name'].isna()==False].reset_index(drop=True)"
   ]
  },
  {
   "cell_type": "markdown",
   "metadata": {},
   "source": [
    "Пропуски в значениях высот потолков составляют около 40% от всех данных, что является довольно большой частью. Они могли возникнуть так и по причине не заполнения полей в объявлении, так и если потолки типовой высоты. Если мы заменим такую большую часть искусственными данными, то можем потерять реальную картину, что плохо скажется на дальнейшем исследовании."
   ]
  },
  {
   "cell_type": "markdown",
   "metadata": {},
   "source": [
    "Также содержатся пропуски в переменной days_exposition, которая показывает сколько дней висело объявление. Такие пропуски могли возникнуть, если объявления не были закрыты при продаже, причем это могло произойти как из-за того, что продавец просто забыл закрыть его, так и если объявление свежее (мы видим, что есть пропуски как и в 2014 году, так и в 2019). В таком случае нельзя корректно заполнить пропуски в данных, поэтому мы их оставим."
   ]
  },
  {
   "cell_type": "code",
   "execution_count": 7,
   "metadata": {},
   "outputs": [
    {
     "data": {
      "text/plain": [
       "3277     2014-11-27T00:00:00\n",
       "3855     2014-11-27T00:00:00\n",
       "15770    2014-11-27T00:00:00\n",
       "6887     2014-12-08T00:00:00\n",
       "10993    2014-12-09T00:00:00\n",
       "                ...         \n",
       "17771    2019-05-03T00:00:00\n",
       "12274    2019-05-03T00:00:00\n",
       "12310    2019-05-03T00:00:00\n",
       "14986    2019-05-03T00:00:00\n",
       "15793    2019-05-03T00:00:00\n",
       "Name: first_day_exposition, Length: 3171, dtype: object"
      ]
     },
     "execution_count": 7,
     "metadata": {},
     "output_type": "execute_result"
    }
   ],
   "source": [
    "data.loc[data['days_exposition'].isna()==True]['first_day_exposition'].sort_values()"
   ]
  },
  {
   "cell_type": "markdown",
   "metadata": {},
   "source": [
    "Наблюдаются пропуски в заполнении данных площадей кухонь и жилых площадей, в данном случае нельзя корректно восстановить данные значения в силу того, что медианное значение может сильно отличаться от реальной картины, что может пагубно повлиять, например, на исследования влияния площадей на стоимость квартиры. Кроме того при таком заполнении есть шанс получить общую площаль, значительно отличающуюся от total_area."
   ]
  },
  {
   "cell_type": "markdown",
   "metadata": {},
   "source": [
    "Также имеются пропуски в географических данных (переменные airports_nearest, parks_nearest, ponds_nearest, cityCenters_nearest. Эти пропущенные значения могли возникнуть как из-за ошибки в сборе данных, так и по причине того, что объекты находятся слишком далеко от помещения. Такие пропуски нельзя корректно восстановить, поэтому мы их оставим."
   ]
  },
  {
   "cell_type": "markdown",
   "metadata": {},
   "source": [
    "Далее перейдем к пропускам в переменной is_apartment. Переменная принимает два значения: True и False, скорее всего пропуски данных связаны с тем, что для помещений, не являющихся апартаментами, пользователи указывали не False, а просто пропускали эту строку в данных, поэтому заменим все пропущенные значения на False."
   ]
  },
  {
   "cell_type": "code",
   "execution_count": 8,
   "metadata": {},
   "outputs": [],
   "source": [
    "data['is_apartment'] = data['is_apartment'].fillna(False)"
   ]
  },
  {
   "cell_type": "markdown",
   "metadata": {},
   "source": [
    "Много пропущенных значений наблюдается в переменной balcony, которое указывает на количество балконов. Пропуски могут быть связаны с тем, что балконов нет в помещении, поэтому заменим все пропуски на 0."
   ]
  },
  {
   "cell_type": "code",
   "execution_count": 9,
   "metadata": {},
   "outputs": [],
   "source": [
    "data['balcony'] = data['balcony'].fillna(0)"
   ]
  },
  {
   "cell_type": "markdown",
   "metadata": {},
   "source": [
    "Также достаточно много пропусков содержится в parks_around3000 и ponds_around3000, отвечающие за количество парков и мостов соответсвенно в радиусе 3 км. Пропуски связаны с тем, что объекты отстутвуют в заданном радиусе, поэтому заменим их на 0."
   ]
  },
  {
   "cell_type": "code",
   "execution_count": 10,
   "metadata": {},
   "outputs": [],
   "source": [
    "data['parks_around3000'] = data['parks_around3000'].fillna(0)\n",
    "data['ponds_around3000'] = data['ponds_around3000'].fillna(0)"
   ]
  },
  {
   "cell_type": "markdown",
   "metadata": {},
   "source": [
    "#### Корректировка типа данных"
   ]
  },
  {
   "cell_type": "markdown",
   "metadata": {},
   "source": [
    "Далее посмотрим для всех ли переменных задан корректный тип данных."
   ]
  },
  {
   "cell_type": "code",
   "execution_count": 11,
   "metadata": {},
   "outputs": [
    {
     "data": {
      "text/plain": [
       "total_images              int64\n",
       "last_price              float64\n",
       "total_area              float64\n",
       "first_day_exposition     object\n",
       "rooms                     int64\n",
       "ceiling_height          float64\n",
       "floors_total            float64\n",
       "living_area             float64\n",
       "floor                     int64\n",
       "is_apartment               bool\n",
       "studio                     bool\n",
       "open_plan                  bool\n",
       "kitchen_area            float64\n",
       "balcony                 float64\n",
       "locality_name            object\n",
       "airports_nearest        float64\n",
       "cityCenters_nearest     float64\n",
       "parks_around3000        float64\n",
       "parks_nearest           float64\n",
       "ponds_around3000        float64\n",
       "ponds_nearest           float64\n",
       "days_exposition         float64\n",
       "dtype: object"
      ]
     },
     "execution_count": 11,
     "metadata": {},
     "output_type": "execute_result"
    }
   ],
   "source": [
    "data.dtypes"
   ]
  },
  {
   "cell_type": "markdown",
   "metadata": {},
   "source": [
    "В столбце first_day_exposition дата указана в формате строки, переведем данные в формат даты."
   ]
  },
  {
   "cell_type": "code",
   "execution_count": 12,
   "metadata": {},
   "outputs": [],
   "source": [
    "data['first_day_exposition'] = pd.to_datetime(data['first_day_exposition'], format='%Y-%m-%dT%H:%M:%S')"
   ]
  },
  {
   "cell_type": "markdown",
   "metadata": {},
   "source": [
    "Также есть количественные переменные, которые сейчас представленны в вещественном типе (floors_total, balcony, parks_around3000, ponds_around3000), они измеряются в штуках, поэтому переведем их в целочисленный формат."
   ]
  },
  {
   "cell_type": "code",
   "execution_count": 13,
   "metadata": {},
   "outputs": [],
   "source": [
    "data['floors_total'] = data['floors_total'].astype('int')\n",
    "data['balcony'] = data['balcony'].astype('int')\n",
    "data['parks_around3000'] = data['parks_around3000'].astype('int')\n",
    "data['ponds_around3000'] = data['ponds_around3000'].astype('int')"
   ]
  },
  {
   "cell_type": "markdown",
   "metadata": {},
   "source": [
    "В целочисленный формат можно тажке перевести days_exposition."
   ]
  },
  {
   "cell_type": "code",
   "execution_count": 14,
   "metadata": {},
   "outputs": [],
   "source": [
    "data['days_exposition'] = pd.to_numeric(data['days_exposition'], errors='coerce')"
   ]
  },
  {
   "cell_type": "markdown",
   "metadata": {},
   "source": [
    "#### Удаление дубликатов"
   ]
  },
  {
   "cell_type": "markdown",
   "metadata": {},
   "source": [
    "И наконец перейдем к проверки данных на дубликаты в столбце с названиями населенного пункта, для начала посмотрим на уникальные значения столбца, чтобы избежать дубликатов, возникающих из-за разных регистров, для начала переведем все названия к нижнему регистру."
   ]
  },
  {
   "cell_type": "code",
   "execution_count": 15,
   "metadata": {},
   "outputs": [
    {
     "data": {
      "text/plain": [
       "array(['санкт-петербург', 'посёлок шушары', 'городской посёлок янино-1',\n",
       "       'посёлок парголово', 'посёлок мурино', 'ломоносов', 'сертолово',\n",
       "       'петергоф', 'пушкин', 'деревня кудрово', 'коммунар', 'колпино',\n",
       "       'поселок городского типа красный бор', 'гатчина', 'поселок мурино',\n",
       "       'деревня фёдоровское', 'выборг', 'кронштадт', 'кировск',\n",
       "       'деревня новое девяткино', 'посёлок металлострой',\n",
       "       'посёлок городского типа лебяжье',\n",
       "       'посёлок городского типа сиверский', 'поселок молодцово',\n",
       "       'поселок городского типа кузьмоловский',\n",
       "       'садовое товарищество новая ропша', 'павловск',\n",
       "       'деревня пикколово', 'всеволожск', 'волхов', 'кингисепп',\n",
       "       'приозерск', 'сестрорецк', 'деревня куттузи', 'посёлок аннино',\n",
       "       'поселок городского типа ефимовский', 'посёлок плодовое',\n",
       "       'деревня заклинье', 'поселок торковичи', 'поселок первомайское',\n",
       "       'красное село', 'посёлок понтонный', 'сясьстрой', 'деревня старая',\n",
       "       'деревня лесколово', 'посёлок новый свет', 'сланцы',\n",
       "       'село путилово', 'ивангород', 'мурино', 'шлиссельбург',\n",
       "       'никольское', 'зеленогорск', 'сосновый бор', 'поселок новый свет',\n",
       "       'деревня оржицы', 'деревня кальтино', 'кудрово',\n",
       "       'поселок романовка', 'посёлок бугры', 'поселок бугры',\n",
       "       'поселок городского типа рощино', 'кириши', 'луга', 'волосово',\n",
       "       'отрадное', 'село павлово', 'поселок оредеж', 'село копорье',\n",
       "       'посёлок городского типа красный бор', 'посёлок молодёжное',\n",
       "       'тихвин', 'посёлок победа', 'деревня нурма',\n",
       "       'поселок городского типа синявино', 'тосно',\n",
       "       'посёлок городского типа кузьмоловский', 'посёлок стрельна',\n",
       "       'бокситогорск', 'посёлок александровская', 'деревня лопухинка',\n",
       "       'пикалёво', 'поселок терволово',\n",
       "       'поселок городского типа советский', 'подпорожье',\n",
       "       'посёлок петровское', 'посёлок городского типа токсово',\n",
       "       'поселок сельцо', 'посёлок городского типа вырица',\n",
       "       'деревня кипень', 'деревня келози', 'деревня вартемяги',\n",
       "       'посёлок тельмана', 'поселок севастьяново',\n",
       "       'городской поселок большая ижора', 'городской посёлок павлово',\n",
       "       'деревня агалатово', 'посёлок новогорелово',\n",
       "       'городской посёлок лесогорский', 'деревня лаголово',\n",
       "       'поселок цвелодубово', 'поселок городского типа рахья',\n",
       "       'поселок городского типа вырица', 'деревня белогорка',\n",
       "       'поселок заводской', 'городской посёлок новоселье',\n",
       "       'деревня большие колпаны', 'деревня горбунки', 'деревня батово',\n",
       "       'деревня заневка', 'деревня иссад', 'приморск',\n",
       "       'городской посёлок фёдоровское', 'деревня мистолово',\n",
       "       'новая ладога', 'поселок зимитицы', 'поселок барышево',\n",
       "       'деревня разметелево', 'поселок городского типа имени свердлова',\n",
       "       'деревня пеники', 'поселок рябово', 'деревня пудомяги',\n",
       "       'поселок станции корнево', 'деревня низино', 'деревня бегуницы',\n",
       "       'посёлок поляны', 'городской посёлок мга', 'поселок елизаветино',\n",
       "       'посёлок городского типа кузнечное', 'деревня колтуши',\n",
       "       'поселок запорожское', 'посёлок городского типа рощино',\n",
       "       'деревня гостилицы', 'деревня малое карлино',\n",
       "       'посёлок мичуринское', 'посёлок городского типа имени морозова',\n",
       "       'посёлок песочный', 'посёлок сосново', 'деревня аро',\n",
       "       'поселок ильичёво', 'посёлок городского типа тайцы',\n",
       "       'деревня малое верево', 'деревня извара', 'поселок станции вещево',\n",
       "       'село паша', 'деревня калитино',\n",
       "       'посёлок городского типа ульяновка', 'деревня чудской бор',\n",
       "       'поселок городского типа дубровка', 'деревня мины',\n",
       "       'поселок войсковицы', 'посёлок городского типа имени свердлова',\n",
       "       'деревня коркино', 'посёлок ропша',\n",
       "       'поселок городского типа приладожский', 'посёлок щеглово',\n",
       "       'посёлок гаврилово', 'лодейное поле', 'деревня рабитицы',\n",
       "       'поселок городского типа никольский', 'деревня кузьмолово',\n",
       "       'деревня малые колпаны', 'поселок тельмана',\n",
       "       'посёлок петро-славянка', 'городской посёлок назия',\n",
       "       'посёлок репино', 'посёлок ильичёво', 'поселок углово',\n",
       "       'поселок старая малукса', 'садовое товарищество рахья',\n",
       "       'поселок аннино', 'поселок победа', 'деревня меньково',\n",
       "       'деревня старые бегуницы', 'посёлок сапёрный', 'поселок семрино',\n",
       "       'поселок гаврилово', 'поселок глажево', 'поселок кобринское',\n",
       "       'деревня гарболово', 'деревня юкки',\n",
       "       'поселок станции приветнинское', 'деревня мануйлово',\n",
       "       'деревня пчева', 'поселок поляны', 'поселок цвылёво',\n",
       "       'поселок мельниково', 'посёлок пудость', 'посёлок усть-луга',\n",
       "       'светогорск', 'любань', 'поселок селезнёво',\n",
       "       'поселок городского типа рябово', 'каменногорск', 'деревня кривко',\n",
       "       'поселок глебычево', 'деревня парицы', 'поселок жилпосёлок',\n",
       "       'посёлок городского типа мга', 'городской поселок янино-1',\n",
       "       'посёлок войскорово', 'село никольское', 'посёлок терволово',\n",
       "       'поселок стеклянный', 'посёлок городского типа важины',\n",
       "       'посёлок мыза-ивановка', 'село русско-высоцкое',\n",
       "       'поселок городского типа лебяжье',\n",
       "       'поселок городского типа форносово', 'село старая ладога',\n",
       "       'поселок житково', 'городской посёлок виллози', 'деревня лампово',\n",
       "       'деревня шпаньково', 'деревня лаврики', 'посёлок сумино',\n",
       "       'посёлок возрождение', 'деревня старосиверская',\n",
       "       'посёлок кикерино', 'поселок возрождение',\n",
       "       'деревня старое хинколово', 'посёлок пригородный',\n",
       "       'посёлок торфяное', 'городской посёлок будогощь',\n",
       "       'поселок суходолье', 'поселок красная долина', 'деревня хапо-ое',\n",
       "       'поселок городского типа дружная горка', 'поселок лисий нос',\n",
       "       'деревня яльгелево', 'посёлок стеклянный', 'село рождествено',\n",
       "       'деревня старополье', 'посёлок левашово', 'деревня сяськелево',\n",
       "       'деревня камышовка',\n",
       "       'садоводческое некоммерческое товарищество лесная поляна',\n",
       "       'деревня хязельки', 'поселок жилгородок',\n",
       "       'посёлок городского типа павлово', 'деревня ялгино',\n",
       "       'поселок новый учхоз', 'городской посёлок рощино',\n",
       "       'поселок гончарово', 'поселок почап', 'посёлок сапёрное',\n",
       "       'посёлок платформа 69-й километр', 'поселок каложицы',\n",
       "       'деревня фалилеево', 'деревня пельгора',\n",
       "       'поселок городского типа лесогорский', 'деревня торошковичи',\n",
       "       'посёлок белоостров', 'посёлок алексеевка', 'поселок серебрянский',\n",
       "       'поселок лукаши', 'поселок петровское', 'деревня щеглово',\n",
       "       'поселок мичуринское', 'деревня тарасово', 'поселок кингисеппский',\n",
       "       'посёлок при железнодорожной станции вещево', 'поселок ушаки',\n",
       "       'деревня котлы', 'деревня сижно', 'деревня торосово',\n",
       "       'посёлок форт красная горка', 'деревня новолисино',\n",
       "       'посёлок станции громово', 'деревня глинка', 'посёлок мельниково',\n",
       "       'поселок городского типа назия', 'деревня старая пустошь',\n",
       "       'поселок коммунары', 'поселок починок',\n",
       "       'посёлок городского типа вознесенье', 'деревня разбегаево',\n",
       "       'посёлок городского типа рябово', 'поселок гладкое',\n",
       "       'посёлок при железнодорожной станции приветнинское',\n",
       "       'поселок тёсово-4', 'посёлок жилгородок', 'деревня бор',\n",
       "       'посёлок коробицыно', 'деревня большая вруда', 'деревня курковицы',\n",
       "       'посёлок лисий нос', 'городской посёлок советский',\n",
       "       'посёлок кобралово', 'деревня суоранда', 'поселок кобралово',\n",
       "       'поселок городского типа кондратьево',\n",
       "       'коттеджный поселок счастье', 'поселок любань', 'деревня реброво',\n",
       "       'деревня зимитицы', 'деревня тойворово', 'поселок семиозерье',\n",
       "       'поселок лесное', 'поселок совхозный', 'поселок усть-луга',\n",
       "       'посёлок ленинское', 'посёлок суйда',\n",
       "       'посёлок городского типа форносово', 'деревня нижние осельки',\n",
       "       'посёлок станции свирь', 'поселок перово', 'высоцк',\n",
       "       'поселок гарболово', 'село шум', 'поселок котельский',\n",
       "       'поселок станции лужайка', 'деревня большая пустомержа',\n",
       "       'поселок красносельское', 'деревня вахнова кара', 'деревня пижма',\n",
       "       'коттеджный поселок кивеннапа север', 'поселок коробицыно',\n",
       "       'поселок ромашки', 'посёлок перово', 'деревня каськово',\n",
       "       'деревня куровицы', 'посёлок плоское', 'поселок сумино',\n",
       "       'поселок городского типа большая ижора', 'поселок кирпичное',\n",
       "       'деревня ям-тесово', 'деревня раздолье', 'деревня терпилицы',\n",
       "       'поселок городского типа токсово', 'посёлок шугозеро',\n",
       "       'деревня ваганово', 'поселок пушное', 'садовое товарищество садко',\n",
       "       'посёлок усть-ижора', 'деревня выскатка',\n",
       "       'городской посёлок свирьстрой', 'поселок громово',\n",
       "       'деревня кисельня', 'посёлок старая малукса',\n",
       "       'деревня трубников бор', 'поселок калитино',\n",
       "       'посёлок высокоключевой', 'садовое товарищество приладожский',\n",
       "       'посёлок пансионат зелёный бор', 'деревня ненимяки',\n",
       "       'поселок пансионат зелёный бор', 'деревня снегирёвка',\n",
       "       'деревня рапполово', 'деревня пустынка', 'поселок рабитицы',\n",
       "       'деревня большой сабск', 'деревня русско', 'деревня лупполово',\n",
       "       'деревня большое рейзино', 'деревня малая романовка',\n",
       "       'поселок дружноселье', 'поселок пчевжа', 'поселок володарское',\n",
       "       'деревня нижняя', 'коттеджный посёлок лесное', 'деревня тихковицы',\n",
       "       'деревня борисова грива', 'посёлок дзержинского'], dtype=object)"
      ]
     },
     "execution_count": 15,
     "metadata": {},
     "output_type": "execute_result"
    }
   ],
   "source": [
    "data['locality_name'] = data['locality_name'].str.lower()\n",
    "data['locality_name'].unique()"
   ]
  },
  {
   "cell_type": "markdown",
   "metadata": {},
   "source": [
    "Мы видим, что дублируются названия, где есть буквы е/ё (поселок-посёлок), заменим в названиях все ё на е."
   ]
  },
  {
   "cell_type": "code",
   "execution_count": 16,
   "metadata": {
    "scrolled": true
   },
   "outputs": [
    {
     "data": {
      "text/plain": [
       "array(['санкт-петербург', 'поселок шушары', 'городской поселок янино-1',\n",
       "       'поселок парголово', 'поселок мурино', 'ломоносов', 'сертолово',\n",
       "       'петергоф', 'пушкин', 'деревня кудрово', 'коммунар', 'колпино',\n",
       "       'поселок городского типа красный бор', 'гатчина',\n",
       "       'деревня федоровское', 'выборг', 'кронштадт', 'кировск',\n",
       "       'деревня новое девяткино', 'поселок металлострой',\n",
       "       'поселок городского типа лебяжье',\n",
       "       'поселок городского типа сиверский', 'поселок молодцово',\n",
       "       'поселок городского типа кузьмоловский',\n",
       "       'садовое товарищество новая ропша', 'павловск',\n",
       "       'деревня пикколово', 'всеволожск', 'волхов', 'кингисепп',\n",
       "       'приозерск', 'сестрорецк', 'деревня куттузи', 'поселок аннино',\n",
       "       'поселок городского типа ефимовский', 'поселок плодовое',\n",
       "       'деревня заклинье', 'поселок торковичи', 'поселок первомайское',\n",
       "       'красное село', 'поселок понтонный', 'сясьстрой', 'деревня старая',\n",
       "       'деревня лесколово', 'поселок новый свет', 'сланцы',\n",
       "       'село путилово', 'ивангород', 'мурино', 'шлиссельбург',\n",
       "       'никольское', 'зеленогорск', 'сосновый бор', 'деревня оржицы',\n",
       "       'деревня кальтино', 'кудрово', 'поселок романовка',\n",
       "       'поселок бугры', 'поселок городского типа рощино', 'кириши',\n",
       "       'луга', 'волосово', 'отрадное', 'село павлово', 'поселок оредеж',\n",
       "       'село копорье', 'поселок молодежное', 'тихвин', 'поселок победа',\n",
       "       'деревня нурма', 'поселок городского типа синявино', 'тосно',\n",
       "       'поселок стрельна', 'бокситогорск', 'поселок александровская',\n",
       "       'деревня лопухинка', 'пикалево', 'поселок терволово',\n",
       "       'поселок городского типа советский', 'подпорожье',\n",
       "       'поселок петровское', 'поселок городского типа токсово',\n",
       "       'поселок сельцо', 'поселок городского типа вырица',\n",
       "       'деревня кипень', 'деревня келози', 'деревня вартемяги',\n",
       "       'поселок тельмана', 'поселок севастьяново',\n",
       "       'городской поселок большая ижора', 'городской поселок павлово',\n",
       "       'деревня агалатово', 'поселок новогорелово',\n",
       "       'городской поселок лесогорский', 'деревня лаголово',\n",
       "       'поселок цвелодубово', 'поселок городского типа рахья',\n",
       "       'деревня белогорка', 'поселок заводской',\n",
       "       'городской поселок новоселье', 'деревня большие колпаны',\n",
       "       'деревня горбунки', 'деревня батово', 'деревня заневка',\n",
       "       'деревня иссад', 'приморск', 'городской поселок федоровское',\n",
       "       'деревня мистолово', 'новая ладога', 'поселок зимитицы',\n",
       "       'поселок барышево', 'деревня разметелево',\n",
       "       'поселок городского типа имени свердлова', 'деревня пеники',\n",
       "       'поселок рябово', 'деревня пудомяги', 'поселок станции корнево',\n",
       "       'деревня низино', 'деревня бегуницы', 'поселок поляны',\n",
       "       'городской поселок мга', 'поселок елизаветино',\n",
       "       'поселок городского типа кузнечное', 'деревня колтуши',\n",
       "       'поселок запорожское', 'деревня гостилицы',\n",
       "       'деревня малое карлино', 'поселок мичуринское',\n",
       "       'поселок городского типа имени морозова', 'поселок песочный',\n",
       "       'поселок сосново', 'деревня аро', 'поселок ильичево',\n",
       "       'поселок городского типа тайцы', 'деревня малое верево',\n",
       "       'деревня извара', 'поселок станции вещево', 'село паша',\n",
       "       'деревня калитино', 'поселок городского типа ульяновка',\n",
       "       'деревня чудской бор', 'поселок городского типа дубровка',\n",
       "       'деревня мины', 'поселок войсковицы', 'деревня коркино',\n",
       "       'поселок ропша', 'поселок городского типа приладожский',\n",
       "       'поселок щеглово', 'поселок гаврилово', 'лодейное поле',\n",
       "       'деревня рабитицы', 'поселок городского типа никольский',\n",
       "       'деревня кузьмолово', 'деревня малые колпаны',\n",
       "       'поселок петро-славянка', 'городской поселок назия',\n",
       "       'поселок репино', 'поселок углово', 'поселок старая малукса',\n",
       "       'садовое товарищество рахья', 'деревня меньково',\n",
       "       'деревня старые бегуницы', 'поселок саперный', 'поселок семрино',\n",
       "       'поселок глажево', 'поселок кобринское', 'деревня гарболово',\n",
       "       'деревня юкки', 'поселок станции приветнинское',\n",
       "       'деревня мануйлово', 'деревня пчева', 'поселок цвылево',\n",
       "       'поселок мельниково', 'поселок пудость', 'поселок усть-луга',\n",
       "       'светогорск', 'любань', 'поселок селезнево',\n",
       "       'поселок городского типа рябово', 'каменногорск', 'деревня кривко',\n",
       "       'поселок глебычево', 'деревня парицы', 'поселок жилпоселок',\n",
       "       'поселок городского типа мга', 'поселок войскорово',\n",
       "       'село никольское', 'поселок стеклянный',\n",
       "       'поселок городского типа важины', 'поселок мыза-ивановка',\n",
       "       'село русско-высоцкое', 'поселок городского типа форносово',\n",
       "       'село старая ладога', 'поселок житково',\n",
       "       'городской поселок виллози', 'деревня лампово',\n",
       "       'деревня шпаньково', 'деревня лаврики', 'поселок сумино',\n",
       "       'поселок возрождение', 'деревня старосиверская',\n",
       "       'поселок кикерино', 'деревня старое хинколово',\n",
       "       'поселок пригородный', 'поселок торфяное',\n",
       "       'городской поселок будогощь', 'поселок суходолье',\n",
       "       'поселок красная долина', 'деревня хапо-ое',\n",
       "       'поселок городского типа дружная горка', 'поселок лисий нос',\n",
       "       'деревня яльгелево', 'село рождествено', 'деревня старополье',\n",
       "       'поселок левашово', 'деревня сяськелево', 'деревня камышовка',\n",
       "       'садоводческое некоммерческое товарищество лесная поляна',\n",
       "       'деревня хязельки', 'поселок жилгородок',\n",
       "       'поселок городского типа павлово', 'деревня ялгино',\n",
       "       'поселок новый учхоз', 'городской поселок рощино',\n",
       "       'поселок гончарово', 'поселок почап', 'поселок саперное',\n",
       "       'поселок платформа 69-й километр', 'поселок каложицы',\n",
       "       'деревня фалилеево', 'деревня пельгора',\n",
       "       'поселок городского типа лесогорский', 'деревня торошковичи',\n",
       "       'поселок белоостров', 'поселок алексеевка', 'поселок серебрянский',\n",
       "       'поселок лукаши', 'деревня щеглово', 'деревня тарасово',\n",
       "       'поселок кингисеппский',\n",
       "       'поселок при железнодорожной станции вещево', 'поселок ушаки',\n",
       "       'деревня котлы', 'деревня сижно', 'деревня торосово',\n",
       "       'поселок форт красная горка', 'деревня новолисино',\n",
       "       'поселок станции громово', 'деревня глинка',\n",
       "       'поселок городского типа назия', 'деревня старая пустошь',\n",
       "       'поселок коммунары', 'поселок починок',\n",
       "       'поселок городского типа вознесенье', 'деревня разбегаево',\n",
       "       'поселок гладкое',\n",
       "       'поселок при железнодорожной станции приветнинское',\n",
       "       'поселок тесово-4', 'деревня бор', 'поселок коробицыно',\n",
       "       'деревня большая вруда', 'деревня курковицы',\n",
       "       'городской поселок советский', 'поселок кобралово',\n",
       "       'деревня суоранда', 'поселок городского типа кондратьево',\n",
       "       'коттеджный поселок счастье', 'поселок любань', 'деревня реброво',\n",
       "       'деревня зимитицы', 'деревня тойворово', 'поселок семиозерье',\n",
       "       'поселок лесное', 'поселок совхозный', 'поселок ленинское',\n",
       "       'поселок суйда', 'деревня нижние осельки', 'поселок станции свирь',\n",
       "       'поселок перово', 'высоцк', 'поселок гарболово', 'село шум',\n",
       "       'поселок котельский', 'поселок станции лужайка',\n",
       "       'деревня большая пустомержа', 'поселок красносельское',\n",
       "       'деревня вахнова кара', 'деревня пижма',\n",
       "       'коттеджный поселок кивеннапа север', 'поселок ромашки',\n",
       "       'деревня каськово', 'деревня куровицы', 'поселок плоское',\n",
       "       'поселок городского типа большая ижора', 'поселок кирпичное',\n",
       "       'деревня ям-тесово', 'деревня раздолье', 'деревня терпилицы',\n",
       "       'поселок шугозеро', 'деревня ваганово', 'поселок пушное',\n",
       "       'садовое товарищество садко', 'поселок усть-ижора',\n",
       "       'деревня выскатка', 'городской поселок свирьстрой',\n",
       "       'поселок громово', 'деревня кисельня', 'деревня трубников бор',\n",
       "       'поселок калитино', 'поселок высокоключевой',\n",
       "       'садовое товарищество приладожский',\n",
       "       'поселок пансионат зеленый бор', 'деревня ненимяки',\n",
       "       'деревня снегиревка', 'деревня рапполово', 'деревня пустынка',\n",
       "       'поселок рабитицы', 'деревня большой сабск', 'деревня русско',\n",
       "       'деревня лупполово', 'деревня большое рейзино',\n",
       "       'деревня малая романовка', 'поселок дружноселье', 'поселок пчевжа',\n",
       "       'поселок володарское', 'деревня нижняя',\n",
       "       'коттеджный поселок лесное', 'деревня тихковицы',\n",
       "       'деревня борисова грива', 'поселок дзержинского'], dtype=object)"
      ]
     },
     "execution_count": 16,
     "metadata": {},
     "output_type": "execute_result"
    }
   ],
   "source": [
    "data['locality_name'] = data['locality_name'].str.replace('ё', 'е')\n",
    "data['locality_name'].unique()"
   ]
  },
  {
   "cell_type": "markdown",
   "metadata": {},
   "source": [
    "#### Обработка аномальных значений"
   ]
  },
  {
   "cell_type": "markdown",
   "metadata": {},
   "source": [
    "И наконец, посмотрим на описание данных, чтобы понять есть ли у нас редкие и выбивающиеся значения."
   ]
  },
  {
   "cell_type": "code",
   "execution_count": 17,
   "metadata": {},
   "outputs": [
    {
     "data": {
      "text/html": [
       "<div>\n",
       "<style scoped>\n",
       "    .dataframe tbody tr th:only-of-type {\n",
       "        vertical-align: middle;\n",
       "    }\n",
       "\n",
       "    .dataframe tbody tr th {\n",
       "        vertical-align: top;\n",
       "    }\n",
       "\n",
       "    .dataframe thead th {\n",
       "        text-align: right;\n",
       "    }\n",
       "</style>\n",
       "<table border=\"1\" class=\"dataframe\">\n",
       "  <thead>\n",
       "    <tr style=\"text-align: right;\">\n",
       "      <th></th>\n",
       "      <th>total_images</th>\n",
       "      <th>last_price</th>\n",
       "      <th>total_area</th>\n",
       "      <th>rooms</th>\n",
       "      <th>ceiling_height</th>\n",
       "      <th>floors_total</th>\n",
       "      <th>living_area</th>\n",
       "      <th>floor</th>\n",
       "      <th>kitchen_area</th>\n",
       "      <th>balcony</th>\n",
       "      <th>airports_nearest</th>\n",
       "      <th>cityCenters_nearest</th>\n",
       "      <th>parks_around3000</th>\n",
       "      <th>parks_nearest</th>\n",
       "      <th>ponds_around3000</th>\n",
       "      <th>ponds_nearest</th>\n",
       "      <th>days_exposition</th>\n",
       "    </tr>\n",
       "  </thead>\n",
       "  <tbody>\n",
       "    <tr>\n",
       "      <th>count</th>\n",
       "      <td>23565.000000</td>\n",
       "      <td>2.356500e+04</td>\n",
       "      <td>23565.000000</td>\n",
       "      <td>23565.000000</td>\n",
       "      <td>14481.000000</td>\n",
       "      <td>23565.000000</td>\n",
       "      <td>21700.000000</td>\n",
       "      <td>23565.000000</td>\n",
       "      <td>21343.000000</td>\n",
       "      <td>23565.000000</td>\n",
       "      <td>18041.000000</td>\n",
       "      <td>18064.000000</td>\n",
       "      <td>23565.000000</td>\n",
       "      <td>8030.000000</td>\n",
       "      <td>23565.000000</td>\n",
       "      <td>9036.000000</td>\n",
       "      <td>20394.000000</td>\n",
       "    </tr>\n",
       "    <tr>\n",
       "      <th>mean</th>\n",
       "      <td>9.878421</td>\n",
       "      <td>6.540058e+06</td>\n",
       "      <td>60.322824</td>\n",
       "      <td>2.070656</td>\n",
       "      <td>2.771283</td>\n",
       "      <td>10.675875</td>\n",
       "      <td>34.454822</td>\n",
       "      <td>5.878124</td>\n",
       "      <td>10.560994</td>\n",
       "      <td>0.593677</td>\n",
       "      <td>28797.082701</td>\n",
       "      <td>14192.656056</td>\n",
       "      <td>0.468831</td>\n",
       "      <td>490.580448</td>\n",
       "      <td>0.589900</td>\n",
       "      <td>518.289509</td>\n",
       "      <td>180.741395</td>\n",
       "    </tr>\n",
       "    <tr>\n",
       "      <th>std</th>\n",
       "      <td>5.681156</td>\n",
       "      <td>1.091093e+07</td>\n",
       "      <td>35.657060</td>\n",
       "      <td>1.078591</td>\n",
       "      <td>1.261983</td>\n",
       "      <td>6.594823</td>\n",
       "      <td>22.045359</td>\n",
       "      <td>4.871485</td>\n",
       "      <td>5.900630</td>\n",
       "      <td>0.960660</td>\n",
       "      <td>12632.499735</td>\n",
       "      <td>8613.348153</td>\n",
       "      <td>0.748403</td>\n",
       "      <td>341.572956</td>\n",
       "      <td>0.883966</td>\n",
       "      <td>278.009558</td>\n",
       "      <td>219.732782</td>\n",
       "    </tr>\n",
       "    <tr>\n",
       "      <th>min</th>\n",
       "      <td>0.000000</td>\n",
       "      <td>1.219000e+04</td>\n",
       "      <td>12.000000</td>\n",
       "      <td>0.000000</td>\n",
       "      <td>1.000000</td>\n",
       "      <td>1.000000</td>\n",
       "      <td>2.000000</td>\n",
       "      <td>1.000000</td>\n",
       "      <td>1.300000</td>\n",
       "      <td>0.000000</td>\n",
       "      <td>0.000000</td>\n",
       "      <td>181.000000</td>\n",
       "      <td>0.000000</td>\n",
       "      <td>1.000000</td>\n",
       "      <td>0.000000</td>\n",
       "      <td>13.000000</td>\n",
       "      <td>1.000000</td>\n",
       "    </tr>\n",
       "    <tr>\n",
       "      <th>25%</th>\n",
       "      <td>6.000000</td>\n",
       "      <td>3.400000e+06</td>\n",
       "      <td>40.000000</td>\n",
       "      <td>1.000000</td>\n",
       "      <td>2.510000</td>\n",
       "      <td>5.000000</td>\n",
       "      <td>18.600000</td>\n",
       "      <td>2.000000</td>\n",
       "      <td>7.000000</td>\n",
       "      <td>0.000000</td>\n",
       "      <td>18565.000000</td>\n",
       "      <td>9238.000000</td>\n",
       "      <td>0.000000</td>\n",
       "      <td>288.000000</td>\n",
       "      <td>0.000000</td>\n",
       "      <td>293.000000</td>\n",
       "      <td>45.000000</td>\n",
       "    </tr>\n",
       "    <tr>\n",
       "      <th>50%</th>\n",
       "      <td>9.000000</td>\n",
       "      <td>4.646000e+06</td>\n",
       "      <td>52.000000</td>\n",
       "      <td>2.000000</td>\n",
       "      <td>2.650000</td>\n",
       "      <td>9.000000</td>\n",
       "      <td>30.000000</td>\n",
       "      <td>4.000000</td>\n",
       "      <td>9.100000</td>\n",
       "      <td>0.000000</td>\n",
       "      <td>26757.000000</td>\n",
       "      <td>13096.500000</td>\n",
       "      <td>0.000000</td>\n",
       "      <td>455.000000</td>\n",
       "      <td>0.000000</td>\n",
       "      <td>503.000000</td>\n",
       "      <td>95.000000</td>\n",
       "    </tr>\n",
       "    <tr>\n",
       "      <th>75%</th>\n",
       "      <td>14.000000</td>\n",
       "      <td>6.790000e+06</td>\n",
       "      <td>69.700000</td>\n",
       "      <td>3.000000</td>\n",
       "      <td>2.800000</td>\n",
       "      <td>16.000000</td>\n",
       "      <td>42.300000</td>\n",
       "      <td>8.000000</td>\n",
       "      <td>12.000000</td>\n",
       "      <td>1.000000</td>\n",
       "      <td>37273.000000</td>\n",
       "      <td>16285.000000</td>\n",
       "      <td>1.000000</td>\n",
       "      <td>612.000000</td>\n",
       "      <td>1.000000</td>\n",
       "      <td>730.000000</td>\n",
       "      <td>231.000000</td>\n",
       "    </tr>\n",
       "    <tr>\n",
       "      <th>max</th>\n",
       "      <td>50.000000</td>\n",
       "      <td>7.630000e+08</td>\n",
       "      <td>900.000000</td>\n",
       "      <td>19.000000</td>\n",
       "      <td>100.000000</td>\n",
       "      <td>60.000000</td>\n",
       "      <td>409.700000</td>\n",
       "      <td>33.000000</td>\n",
       "      <td>112.000000</td>\n",
       "      <td>5.000000</td>\n",
       "      <td>84869.000000</td>\n",
       "      <td>65968.000000</td>\n",
       "      <td>3.000000</td>\n",
       "      <td>3190.000000</td>\n",
       "      <td>3.000000</td>\n",
       "      <td>1344.000000</td>\n",
       "      <td>1580.000000</td>\n",
       "    </tr>\n",
       "  </tbody>\n",
       "</table>\n",
       "</div>"
      ],
      "text/plain": [
       "       total_images    last_price    total_area         rooms  ceiling_height  \\\n",
       "count  23565.000000  2.356500e+04  23565.000000  23565.000000    14481.000000   \n",
       "mean       9.878421  6.540058e+06     60.322824      2.070656        2.771283   \n",
       "std        5.681156  1.091093e+07     35.657060      1.078591        1.261983   \n",
       "min        0.000000  1.219000e+04     12.000000      0.000000        1.000000   \n",
       "25%        6.000000  3.400000e+06     40.000000      1.000000        2.510000   \n",
       "50%        9.000000  4.646000e+06     52.000000      2.000000        2.650000   \n",
       "75%       14.000000  6.790000e+06     69.700000      3.000000        2.800000   \n",
       "max       50.000000  7.630000e+08    900.000000     19.000000      100.000000   \n",
       "\n",
       "       floors_total   living_area         floor  kitchen_area       balcony  \\\n",
       "count  23565.000000  21700.000000  23565.000000  21343.000000  23565.000000   \n",
       "mean      10.675875     34.454822      5.878124     10.560994      0.593677   \n",
       "std        6.594823     22.045359      4.871485      5.900630      0.960660   \n",
       "min        1.000000      2.000000      1.000000      1.300000      0.000000   \n",
       "25%        5.000000     18.600000      2.000000      7.000000      0.000000   \n",
       "50%        9.000000     30.000000      4.000000      9.100000      0.000000   \n",
       "75%       16.000000     42.300000      8.000000     12.000000      1.000000   \n",
       "max       60.000000    409.700000     33.000000    112.000000      5.000000   \n",
       "\n",
       "       airports_nearest  cityCenters_nearest  parks_around3000  parks_nearest  \\\n",
       "count      18041.000000         18064.000000      23565.000000    8030.000000   \n",
       "mean       28797.082701         14192.656056          0.468831     490.580448   \n",
       "std        12632.499735          8613.348153          0.748403     341.572956   \n",
       "min            0.000000           181.000000          0.000000       1.000000   \n",
       "25%        18565.000000          9238.000000          0.000000     288.000000   \n",
       "50%        26757.000000         13096.500000          0.000000     455.000000   \n",
       "75%        37273.000000         16285.000000          1.000000     612.000000   \n",
       "max        84869.000000         65968.000000          3.000000    3190.000000   \n",
       "\n",
       "       ponds_around3000  ponds_nearest  days_exposition  \n",
       "count      23565.000000    9036.000000     20394.000000  \n",
       "mean           0.589900     518.289509       180.741395  \n",
       "std            0.883966     278.009558       219.732782  \n",
       "min            0.000000      13.000000         1.000000  \n",
       "25%            0.000000     293.000000        45.000000  \n",
       "50%            0.000000     503.000000        95.000000  \n",
       "75%            1.000000     730.000000       231.000000  \n",
       "max            3.000000    1344.000000      1580.000000  "
      ]
     },
     "execution_count": 17,
     "metadata": {},
     "output_type": "execute_result"
    }
   ],
   "source": [
    "data.describe()"
   ]
  },
  {
   "cell_type": "markdown",
   "metadata": {},
   "source": [
    "Мы видим выбивающиеся значения в переменной ceiling_height, максимальное значение высоты потолка достигает 100м, что не похоже на реальное значение, скорее всего в таких значениях пропущена точка (10.0м). Учитывая, что потолки обычно имеют высоту от 2м до около 10-15м, то отфильтруем значения переменной, где они будут больше 20."
   ]
  },
  {
   "cell_type": "code",
   "execution_count": 18,
   "metadata": {
    "scrolled": true
   },
   "outputs": [
    {
     "data": {
      "text/plain": [
       "353       25.0\n",
       "3134      32.0\n",
       "4621      25.0\n",
       "4852      27.0\n",
       "5051      24.0\n",
       "5219      27.0\n",
       "5641      26.0\n",
       "5777      27.0\n",
       "6213      25.0\n",
       "9334      25.0\n",
       "10713     27.0\n",
       "11221     25.0\n",
       "14298     25.0\n",
       "17399     20.0\n",
       "17756     27.0\n",
       "18442     25.0\n",
       "20364     27.0\n",
       "20393     22.6\n",
       "21256     27.5\n",
       "21700     27.0\n",
       "22211     32.0\n",
       "22739    100.0\n",
       "22807     27.0\n",
       "Name: ceiling_height, dtype: float64"
      ]
     },
     "execution_count": 18,
     "metadata": {},
     "output_type": "execute_result"
    }
   ],
   "source": [
    "data.loc[data['ceiling_height'] >= 20]['ceiling_height']"
   ]
  },
  {
   "cell_type": "markdown",
   "metadata": {},
   "source": [
    "Мы получили 23 строки с анломальными значениями, исправим ошибки в данных путем деления таких чисел на 10."
   ]
  },
  {
   "cell_type": "code",
   "execution_count": 19,
   "metadata": {
    "scrolled": true
   },
   "outputs": [
    {
     "data": {
      "text/plain": [
       "count    14481.000000\n",
       "mean         2.729325\n",
       "std          0.319779\n",
       "min          1.000000\n",
       "25%          2.510000\n",
       "50%          2.650000\n",
       "75%          2.800000\n",
       "max         14.000000\n",
       "Name: ceiling_height, dtype: float64"
      ]
     },
     "execution_count": 19,
     "metadata": {},
     "output_type": "execute_result"
    }
   ],
   "source": [
    "def ceiling(height):\n",
    "    if height >= 20:\n",
    "        height = round(height/10, 2)\n",
    "    return height\n",
    "        \n",
    "data['ceiling_height'] = data['ceiling_height'].apply(ceiling)\n",
    "data['ceiling_height'].describe()"
   ]
  },
  {
   "cell_type": "markdown",
   "metadata": {},
   "source": [
    "Также мы видим, что минимальное значение жилой площади в датасете равно 2 кв метрам, что не может быть нормальным значением, ведь по закону минимально на 1 человека может приходится как минимум 12 кв метров. Возможно, при записи площади была совершена ошибка в написании, могли как и не написать еще одно число, так и поставить точку в другом месте, посмотрим много ли таких значений:"
   ]
  },
  {
   "cell_type": "code",
   "execution_count": 20,
   "metadata": {
    "scrolled": true
   },
   "outputs": [
    {
     "data": {
      "text/plain": [
       "6        10.60\n",
       "114       8.30\n",
       "246      10.00\n",
       "612      10.00\n",
       "676       9.00\n",
       "         ...  \n",
       "22883    10.90\n",
       "23077     8.00\n",
       "23227    10.00\n",
       "23349    10.08\n",
       "23442     3.00\n",
       "Name: living_area, Length: 128, dtype: float64"
      ]
     },
     "execution_count": 20,
     "metadata": {},
     "output_type": "execute_result"
    }
   ],
   "source": [
    "data.loc[data['living_area'] < 12]['living_area']"
   ]
  },
  {
   "cell_type": "markdown",
   "metadata": {},
   "source": [
    "Таких наблюдений 128, что составляет небольшую часть информации, поэтому удалим эти строки."
   ]
  },
  {
   "cell_type": "code",
   "execution_count": 21,
   "metadata": {},
   "outputs": [],
   "source": [
    "data = data.loc[data['living_area'] >= 12]"
   ]
  },
  {
   "cell_type": "markdown",
   "metadata": {},
   "source": [
    "Также странным кажется, что есть объекты, которые имеют расстояние до аэропорта 0 метров, удалим это значение."
   ]
  },
  {
   "cell_type": "code",
   "execution_count": 22,
   "metadata": {},
   "outputs": [
    {
     "data": {
      "text/plain": [
       "20968    0.0\n",
       "Name: airports_nearest, dtype: float64"
      ]
     },
     "execution_count": 22,
     "metadata": {},
     "output_type": "execute_result"
    }
   ],
   "source": [
    "data.loc[data['airports_nearest'] == 0]['airports_nearest']"
   ]
  },
  {
   "cell_type": "markdown",
   "metadata": {},
   "source": [
    "Такое значение лишь одно, поэтому мы смело можем удалить его из датасета."
   ]
  },
  {
   "cell_type": "code",
   "execution_count": 23,
   "metadata": {},
   "outputs": [],
   "source": [
    "data = data.loc[data['airports_nearest'] > 0]"
   ]
  },
  {
   "cell_type": "markdown",
   "metadata": {},
   "source": [
    "### Посчитайте и добавьте в таблицу новые столбцы"
   ]
  },
  {
   "cell_type": "markdown",
   "metadata": {},
   "source": [
    "Далее добавим в датасет несколько столбцов, которые помогут для анализа данных."
   ]
  },
  {
   "cell_type": "markdown",
   "metadata": {},
   "source": [
    "#### Цена одного квадратного метра"
   ]
  },
  {
   "cell_type": "code",
   "execution_count": 25,
   "metadata": {},
   "outputs": [],
   "source": [
    "data['price_for_meter'] = data['last_price']/data['total_area']"
   ]
  },
  {
   "cell_type": "markdown",
   "metadata": {},
   "source": [
    "#### День недели публикации объявления"
   ]
  },
  {
   "cell_type": "code",
   "execution_count": 26,
   "metadata": {},
   "outputs": [],
   "source": [
    "data['publication_day'] = pd.DatetimeIndex(data['first_day_exposition']).weekday"
   ]
  },
  {
   "cell_type": "markdown",
   "metadata": {},
   "source": [
    "#### Месяц публикации объявления"
   ]
  },
  {
   "cell_type": "code",
   "execution_count": 27,
   "metadata": {},
   "outputs": [],
   "source": [
    "data['publication_month'] = pd.DatetimeIndex(data['first_day_exposition']).month"
   ]
  },
  {
   "cell_type": "markdown",
   "metadata": {},
   "source": [
    "#### Год публикации объявления"
   ]
  },
  {
   "cell_type": "code",
   "execution_count": 28,
   "metadata": {},
   "outputs": [],
   "source": [
    "data['publication_year'] = pd.DatetimeIndex(data['first_day_exposition']).year"
   ]
  },
  {
   "cell_type": "markdown",
   "metadata": {},
   "source": [
    "#### Тип этажа квартиры"
   ]
  },
  {
   "cell_type": "code",
   "execution_count": 29,
   "metadata": {},
   "outputs": [],
   "source": [
    "def floor_type(df):\n",
    "    if df['floor'] == 1:\n",
    "        return 'первый'\n",
    "    elif df['floor'] == df['floors_total']:\n",
    "        return 'последний'\n",
    "    return 'другой'"
   ]
  },
  {
   "cell_type": "code",
   "execution_count": 30,
   "metadata": {},
   "outputs": [],
   "source": [
    "data['floor_type'] = data.apply(floor_type, axis=1)"
   ]
  },
  {
   "cell_type": "markdown",
   "metadata": {},
   "source": [
    "#### Расстояние до центра города в километрах"
   ]
  },
  {
   "cell_type": "code",
   "execution_count": 31,
   "metadata": {},
   "outputs": [],
   "source": [
    "data['center_distance'] = round(data['cityCenters_nearest']/1000, 0)"
   ]
  },
  {
   "cell_type": "code",
   "execution_count": 32,
   "metadata": {},
   "outputs": [
    {
     "data": {
      "text/html": [
       "<div>\n",
       "<style scoped>\n",
       "    .dataframe tbody tr th:only-of-type {\n",
       "        vertical-align: middle;\n",
       "    }\n",
       "\n",
       "    .dataframe tbody tr th {\n",
       "        vertical-align: top;\n",
       "    }\n",
       "\n",
       "    .dataframe thead th {\n",
       "        text-align: right;\n",
       "    }\n",
       "</style>\n",
       "<table border=\"1\" class=\"dataframe\">\n",
       "  <thead>\n",
       "    <tr style=\"text-align: right;\">\n",
       "      <th></th>\n",
       "      <th>total_images</th>\n",
       "      <th>last_price</th>\n",
       "      <th>total_area</th>\n",
       "      <th>first_day_exposition</th>\n",
       "      <th>rooms</th>\n",
       "      <th>ceiling_height</th>\n",
       "      <th>floors_total</th>\n",
       "      <th>living_area</th>\n",
       "      <th>floor</th>\n",
       "      <th>is_apartment</th>\n",
       "      <th>...</th>\n",
       "      <th>parks_nearest</th>\n",
       "      <th>ponds_around3000</th>\n",
       "      <th>ponds_nearest</th>\n",
       "      <th>days_exposition</th>\n",
       "      <th>price_for_meter</th>\n",
       "      <th>publication_day</th>\n",
       "      <th>publication_month</th>\n",
       "      <th>publication_year</th>\n",
       "      <th>floor_type</th>\n",
       "      <th>center_distance</th>\n",
       "    </tr>\n",
       "  </thead>\n",
       "  <tbody>\n",
       "    <tr>\n",
       "      <th>0</th>\n",
       "      <td>20</td>\n",
       "      <td>13000000.0</td>\n",
       "      <td>108.0</td>\n",
       "      <td>2019-03-07</td>\n",
       "      <td>3</td>\n",
       "      <td>2.70</td>\n",
       "      <td>16</td>\n",
       "      <td>51.0</td>\n",
       "      <td>8</td>\n",
       "      <td>False</td>\n",
       "      <td>...</td>\n",
       "      <td>482.0</td>\n",
       "      <td>2</td>\n",
       "      <td>755.0</td>\n",
       "      <td>NaN</td>\n",
       "      <td>120370.370370</td>\n",
       "      <td>3</td>\n",
       "      <td>3</td>\n",
       "      <td>2019</td>\n",
       "      <td>другой</td>\n",
       "      <td>16.0</td>\n",
       "    </tr>\n",
       "    <tr>\n",
       "      <th>1</th>\n",
       "      <td>7</td>\n",
       "      <td>3350000.0</td>\n",
       "      <td>40.4</td>\n",
       "      <td>2018-12-04</td>\n",
       "      <td>1</td>\n",
       "      <td>NaN</td>\n",
       "      <td>11</td>\n",
       "      <td>18.6</td>\n",
       "      <td>1</td>\n",
       "      <td>False</td>\n",
       "      <td>...</td>\n",
       "      <td>NaN</td>\n",
       "      <td>0</td>\n",
       "      <td>NaN</td>\n",
       "      <td>81.0</td>\n",
       "      <td>82920.792079</td>\n",
       "      <td>1</td>\n",
       "      <td>12</td>\n",
       "      <td>2018</td>\n",
       "      <td>первый</td>\n",
       "      <td>19.0</td>\n",
       "    </tr>\n",
       "    <tr>\n",
       "      <th>2</th>\n",
       "      <td>10</td>\n",
       "      <td>5196000.0</td>\n",
       "      <td>56.0</td>\n",
       "      <td>2015-08-20</td>\n",
       "      <td>2</td>\n",
       "      <td>NaN</td>\n",
       "      <td>5</td>\n",
       "      <td>34.3</td>\n",
       "      <td>4</td>\n",
       "      <td>False</td>\n",
       "      <td>...</td>\n",
       "      <td>90.0</td>\n",
       "      <td>2</td>\n",
       "      <td>574.0</td>\n",
       "      <td>558.0</td>\n",
       "      <td>92785.714286</td>\n",
       "      <td>3</td>\n",
       "      <td>8</td>\n",
       "      <td>2015</td>\n",
       "      <td>другой</td>\n",
       "      <td>14.0</td>\n",
       "    </tr>\n",
       "    <tr>\n",
       "      <th>4</th>\n",
       "      <td>2</td>\n",
       "      <td>10000000.0</td>\n",
       "      <td>100.0</td>\n",
       "      <td>2018-06-19</td>\n",
       "      <td>2</td>\n",
       "      <td>3.03</td>\n",
       "      <td>14</td>\n",
       "      <td>32.0</td>\n",
       "      <td>13</td>\n",
       "      <td>False</td>\n",
       "      <td>...</td>\n",
       "      <td>112.0</td>\n",
       "      <td>1</td>\n",
       "      <td>48.0</td>\n",
       "      <td>121.0</td>\n",
       "      <td>100000.000000</td>\n",
       "      <td>1</td>\n",
       "      <td>6</td>\n",
       "      <td>2018</td>\n",
       "      <td>другой</td>\n",
       "      <td>8.0</td>\n",
       "    </tr>\n",
       "    <tr>\n",
       "      <th>9</th>\n",
       "      <td>18</td>\n",
       "      <td>5400000.0</td>\n",
       "      <td>61.0</td>\n",
       "      <td>2017-02-26</td>\n",
       "      <td>3</td>\n",
       "      <td>2.50</td>\n",
       "      <td>9</td>\n",
       "      <td>43.6</td>\n",
       "      <td>7</td>\n",
       "      <td>False</td>\n",
       "      <td>...</td>\n",
       "      <td>NaN</td>\n",
       "      <td>0</td>\n",
       "      <td>NaN</td>\n",
       "      <td>289.0</td>\n",
       "      <td>88524.590164</td>\n",
       "      <td>6</td>\n",
       "      <td>2</td>\n",
       "      <td>2017</td>\n",
       "      <td>другой</td>\n",
       "      <td>15.0</td>\n",
       "    </tr>\n",
       "  </tbody>\n",
       "</table>\n",
       "<p>5 rows × 28 columns</p>\n",
       "</div>"
      ],
      "text/plain": [
       "   total_images  last_price  total_area first_day_exposition  rooms  \\\n",
       "0            20  13000000.0       108.0           2019-03-07      3   \n",
       "1             7   3350000.0        40.4           2018-12-04      1   \n",
       "2            10   5196000.0        56.0           2015-08-20      2   \n",
       "4             2  10000000.0       100.0           2018-06-19      2   \n",
       "9            18   5400000.0        61.0           2017-02-26      3   \n",
       "\n",
       "   ceiling_height  floors_total  living_area  floor  is_apartment  ...  \\\n",
       "0            2.70            16         51.0      8         False  ...   \n",
       "1             NaN            11         18.6      1         False  ...   \n",
       "2             NaN             5         34.3      4         False  ...   \n",
       "4            3.03            14         32.0     13         False  ...   \n",
       "9            2.50             9         43.6      7         False  ...   \n",
       "\n",
       "   parks_nearest  ponds_around3000  ponds_nearest  days_exposition  \\\n",
       "0          482.0                 2          755.0              NaN   \n",
       "1            NaN                 0            NaN             81.0   \n",
       "2           90.0                 2          574.0            558.0   \n",
       "4          112.0                 1           48.0            121.0   \n",
       "9            NaN                 0            NaN            289.0   \n",
       "\n",
       "  price_for_meter  publication_day  publication_month  publication_year  \\\n",
       "0   120370.370370                3                  3              2019   \n",
       "1    82920.792079                1                 12              2018   \n",
       "2    92785.714286                3                  8              2015   \n",
       "4   100000.000000                1                  6              2018   \n",
       "9    88524.590164                6                  2              2017   \n",
       "\n",
       "   floor_type  center_distance  \n",
       "0      другой             16.0  \n",
       "1      первый             19.0  \n",
       "2      другой             14.0  \n",
       "4      другой              8.0  \n",
       "9      другой             15.0  \n",
       "\n",
       "[5 rows x 28 columns]"
      ]
     },
     "execution_count": 32,
     "metadata": {},
     "output_type": "execute_result"
    }
   ],
   "source": [
    "data.head()"
   ]
  },
  {
   "cell_type": "markdown",
   "metadata": {},
   "source": [
    "### Проведите исследовательский анализ данных"
   ]
  },
  {
   "cell_type": "markdown",
   "metadata": {},
   "source": [
    "#### Изучение параментов объектов"
   ]
  },
  {
   "cell_type": "markdown",
   "metadata": {},
   "source": [
    "##### Общая площадь"
   ]
  },
  {
   "cell_type": "code",
   "execution_count": 33,
   "metadata": {},
   "outputs": [
    {
     "data": {
      "text/plain": [
       "count    16695.000000\n",
       "mean        63.001880\n",
       "std         37.325273\n",
       "min         16.000000\n",
       "25%         41.300000\n",
       "50%         54.100000\n",
       "75%         72.900000\n",
       "max        900.000000\n",
       "Name: total_area, dtype: float64"
      ]
     },
     "execution_count": 33,
     "metadata": {},
     "output_type": "execute_result"
    }
   ],
   "source": [
    "data['total_area'].describe()"
   ]
  },
  {
   "cell_type": "code",
   "execution_count": 34,
   "metadata": {
    "scrolled": true
   },
   "outputs": [
    {
     "data": {
      "text/plain": [
       "<AxesSubplot:>"
      ]
     },
     "execution_count": 34,
     "metadata": {},
     "output_type": "execute_result"
    },
    {
     "data": {
      "image/png": "[encoded data removed]",
      "text/plain": [
       "<Figure size 432x288 with 1 Axes>"
      ]
     },
     "metadata": {
      "needs_background": "light"
     },
     "output_type": "display_data"
    }
   ],
   "source": [
    "data['total_area'].hist(bins=100)"
   ]
  },
  {
   "cell_type": "markdown",
   "metadata": {},
   "source": [
    "Переменная имеет значения, находящиеся в диапазоне от 16 до 900. Больше всего значений площадей обектов находится в районе 54 кв метров, также из гистрограммы видно, что площади более 200 кв метром довольно редки."
   ]
  },
  {
   "cell_type": "markdown",
   "metadata": {},
   "source": [
    "##### Жилая площадь"
   ]
  },
  {
   "cell_type": "code",
   "execution_count": 35,
   "metadata": {},
   "outputs": [
    {
     "data": {
      "text/plain": [
       "count    16695.000000\n",
       "mean        36.226644\n",
       "std         23.571972\n",
       "min         12.000000\n",
       "25%         19.300000\n",
       "50%         31.000000\n",
       "75%         43.600000\n",
       "max        409.700000\n",
       "Name: living_area, dtype: float64"
      ]
     },
     "execution_count": 35,
     "metadata": {},
     "output_type": "execute_result"
    }
   ],
   "source": [
    "data['living_area'].describe()"
   ]
  },
  {
   "cell_type": "code",
   "execution_count": 36,
   "metadata": {},
   "outputs": [
    {
     "data": {
      "text/plain": [
       "<AxesSubplot:>"
      ]
     },
     "execution_count": 36,
     "metadata": {},
     "output_type": "execute_result"
    },
    {
     "data": {
      "image/png": "[encoded data removed]",
      "text/plain": [
       "<Figure size 432x288 with 1 Axes>"
      ]
     },
     "metadata": {
      "needs_background": "light"
     },
     "output_type": "display_data"
    }
   ],
   "source": [
    "data['living_area'].hist(bins=100)"
   ]
  },
  {
   "cell_type": "markdown",
   "metadata": {},
   "source": [
    "Значения жилой площади варьируются от 12 до 409.7 кв метров. Чаще всего жилая площадь составляет около 30 кв метров, а также достаточно много значений равных примерно 15 кв метрам, редкими можно назвать значения от 120 кв метров."
   ]
  },
  {
   "cell_type": "markdown",
   "metadata": {},
   "source": [
    "##### Площадь кухни"
   ]
  },
  {
   "cell_type": "code",
   "execution_count": 37,
   "metadata": {},
   "outputs": [
    {
     "data": {
      "text/plain": [
       "count    16158.000000\n",
       "mean        10.852674\n",
       "std          6.264844\n",
       "min          1.300000\n",
       "25%          7.000000\n",
       "50%          9.500000\n",
       "75%         12.000000\n",
       "max        112.000000\n",
       "Name: kitchen_area, dtype: float64"
      ]
     },
     "execution_count": 37,
     "metadata": {},
     "output_type": "execute_result"
    }
   ],
   "source": [
    "data['kitchen_area'].describe()"
   ]
  },
  {
   "cell_type": "code",
   "execution_count": 38,
   "metadata": {
    "scrolled": true
   },
   "outputs": [
    {
     "data": {
      "text/plain": [
       "<AxesSubplot:>"
      ]
     },
     "execution_count": 38,
     "metadata": {},
     "output_type": "execute_result"
    },
    {
     "data": {
      "image/png": "[encoded data removed]",
      "text/plain": [
       "<Figure size 432x288 with 1 Axes>"
      ]
     },
     "metadata": {
      "needs_background": "light"
     },
     "output_type": "display_data"
    }
   ],
   "source": [
    "data['kitchen_area'].hist(bins=100)"
   ]
  },
  {
   "cell_type": "markdown",
   "metadata": {},
   "source": [
    "Значения площадей кухонь находятся в диапозоне от 1.3 до 112 кв метров. Чаще всего встречаются объекты с площадью кухни в 10 кв метров, редко можно встретить кухни меньше 5 кв метров, а также более 30 кв метров."
   ]
  },
  {
   "cell_type": "markdown",
   "metadata": {},
   "source": [
    "##### Цена объекта"
   ]
  },
  {
   "cell_type": "code",
   "execution_count": 39,
   "metadata": {},
   "outputs": [
    {
     "data": {
      "text/plain": [
       "count    1.669500e+04\n",
       "mean     7.474588e+06\n",
       "std      1.208855e+07\n",
       "min      1.219000e+04\n",
       "25%      4.000000e+06\n",
       "50%      5.250000e+06\n",
       "75%      7.600000e+06\n",
       "max      7.630000e+08\n",
       "Name: last_price, dtype: float64"
      ]
     },
     "execution_count": 39,
     "metadata": {},
     "output_type": "execute_result"
    }
   ],
   "source": [
    "data['last_price'].describe()"
   ]
  },
  {
   "cell_type": "code",
   "execution_count": 40,
   "metadata": {},
   "outputs": [
    {
     "data": {
      "text/plain": [
       "<AxesSubplot:>"
      ]
     },
     "execution_count": 40,
     "metadata": {},
     "output_type": "execute_result"
    },
    {
     "data": {
      "image/png": "[encoded data removed]",
      "text/plain": [
       "<Figure size 432x288 with 1 Axes>"
      ]
     },
     "metadata": {
      "needs_background": "light"
     },
     "output_type": "display_data"
    }
   ],
   "source": [
    "data['last_price'].hist(bins=100)"
   ]
  },
  {
   "cell_type": "markdown",
   "metadata": {},
   "source": [
    "Цены на объекты варьируются от 12190 до 763000000 рублей. В основном значения стоимости объектов концентрируется около 4650000."
   ]
  },
  {
   "cell_type": "markdown",
   "metadata": {},
   "source": [
    "##### Количество комнат"
   ]
  },
  {
   "cell_type": "code",
   "execution_count": 41,
   "metadata": {},
   "outputs": [
    {
     "data": {
      "text/plain": [
       "count    16695.000000\n",
       "mean         2.145852\n",
       "std          1.122642\n",
       "min          0.000000\n",
       "25%          1.000000\n",
       "50%          2.000000\n",
       "75%          3.000000\n",
       "max         19.000000\n",
       "Name: rooms, dtype: float64"
      ]
     },
     "execution_count": 41,
     "metadata": {},
     "output_type": "execute_result"
    }
   ],
   "source": [
    "data['rooms'].describe()"
   ]
  },
  {
   "cell_type": "code",
   "execution_count": 42,
   "metadata": {
    "scrolled": true
   },
   "outputs": [
    {
     "data": {
      "text/plain": [
       "2     5485\n",
       "1     5331\n",
       "3     4353\n",
       "4      973\n",
       "5      269\n",
       "0      108\n",
       "6       95\n",
       "7       51\n",
       "8       12\n",
       "9        7\n",
       "10       3\n",
       "11       2\n",
       "14       2\n",
       "19       1\n",
       "16       1\n",
       "12       1\n",
       "15       1\n",
       "Name: rooms, dtype: int64"
      ]
     },
     "execution_count": 42,
     "metadata": {},
     "output_type": "execute_result"
    }
   ],
   "source": [
    "data['rooms'].value_counts()"
   ]
  },
  {
   "cell_type": "code",
   "execution_count": 43,
   "metadata": {
    "scrolled": true
   },
   "outputs": [
    {
     "data": {
      "text/plain": [
       "<AxesSubplot:>"
      ]
     },
     "execution_count": 43,
     "metadata": {},
     "output_type": "execute_result"
    },
    {
     "data": {
      "image/png": "[encoded data removed]",
      "text/plain": [
       "<Figure size 432x288 with 1 Axes>"
      ]
     },
     "metadata": {
      "needs_background": "light"
     },
     "output_type": "display_data"
    }
   ],
   "source": [
    "data['rooms'].hist(bins=100)"
   ]
  },
  {
   "cell_type": "markdown",
   "metadata": {},
   "source": [
    "Больше всего объектов с 1-2 комнатами, они составляют основную часть датасета, редко встречаются объекты с более 6 комнатами."
   ]
  },
  {
   "cell_type": "markdown",
   "metadata": {},
   "source": [
    "##### Высота потолков"
   ]
  },
  {
   "cell_type": "code",
   "execution_count": 44,
   "metadata": {
    "scrolled": true
   },
   "outputs": [
    {
     "data": {
      "text/plain": [
       "count    10887.000000\n",
       "mean         2.750318\n",
       "std          0.337921\n",
       "min          1.000000\n",
       "25%          2.550000\n",
       "50%          2.650000\n",
       "75%          2.800000\n",
       "max         14.000000\n",
       "Name: ceiling_height, dtype: float64"
      ]
     },
     "execution_count": 44,
     "metadata": {},
     "output_type": "execute_result"
    }
   ],
   "source": [
    "data['ceiling_height'].describe()"
   ]
  },
  {
   "cell_type": "code",
   "execution_count": 45,
   "metadata": {
    "scrolled": true
   },
   "outputs": [
    {
     "data": {
      "text/plain": [
       "<AxesSubplot:>"
      ]
     },
     "execution_count": 45,
     "metadata": {},
     "output_type": "execute_result"
    },
    {
     "data": {
      "image/png": "[encoded data removed]",
      "text/plain": [
       "<Figure size 432x288 with 1 Axes>"
      ]
     },
     "metadata": {
      "needs_background": "light"
     },
     "output_type": "display_data"
    }
   ],
   "source": [
    "data['ceiling_height'].hist(bins=100)"
   ]
  },
  {
   "cell_type": "markdown",
   "metadata": {},
   "source": [
    "Высота потолков объектов варьируется от 1 до 14 метров, чаще всего можно встретить потолки около 2.65 метров, очень редко - полотки от 4 метров высотой."
   ]
  },
  {
   "cell_type": "markdown",
   "metadata": {},
   "source": [
    "##### Этаж квартиры"
   ]
  },
  {
   "cell_type": "code",
   "execution_count": 46,
   "metadata": {},
   "outputs": [
    {
     "data": {
      "text/plain": [
       "count    16695.000000\n",
       "mean         6.096496\n",
       "std          4.900089\n",
       "min          1.000000\n",
       "25%          3.000000\n",
       "50%          5.000000\n",
       "75%          8.000000\n",
       "max         33.000000\n",
       "Name: floor, dtype: float64"
      ]
     },
     "execution_count": 46,
     "metadata": {},
     "output_type": "execute_result"
    }
   ],
   "source": [
    "data['floor'].describe()"
   ]
  },
  {
   "cell_type": "code",
   "execution_count": 47,
   "metadata": {},
   "outputs": [
    {
     "data": {
      "text/plain": [
       "<AxesSubplot:>"
      ]
     },
     "execution_count": 47,
     "metadata": {},
     "output_type": "execute_result"
    },
    {
     "data": {
      "image/png": "[encoded data removed]",
      "text/plain": [
       "<Figure size 432x288 with 1 Axes>"
      ]
     },
     "metadata": {
      "needs_background": "light"
     },
     "output_type": "display_data"
    }
   ],
   "source": [
    "data['floor'].hist(bins=100)"
   ]
  },
  {
   "cell_type": "markdown",
   "metadata": {},
   "source": [
    "В датасете представлена информация об объектах, которые находятся на 1-33 этажах. Большая часть объектов расположена на 1-5 этажах, редко встречаются объекты на более чем 25 этажах."
   ]
  },
  {
   "cell_type": "markdown",
   "metadata": {},
   "source": [
    "##### Тип этажа квартиры"
   ]
  },
  {
   "cell_type": "code",
   "execution_count": 48,
   "metadata": {},
   "outputs": [
    {
     "data": {
      "text/plain": [
       "другой       12678\n",
       "последний     2179\n",
       "первый        1838\n",
       "Name: floor_type, dtype: int64"
      ]
     },
     "execution_count": 48,
     "metadata": {},
     "output_type": "execute_result"
    }
   ],
   "source": [
    "data['floor_type'].value_counts()"
   ]
  },
  {
   "cell_type": "code",
   "execution_count": 49,
   "metadata": {},
   "outputs": [
    {
     "data": {
      "text/plain": [
       "<AxesSubplot:>"
      ]
     },
     "execution_count": 49,
     "metadata": {},
     "output_type": "execute_result"
    },
    {
     "data": {
      "image/png": "[encoded data removed]",
      "text/plain": [
       "<Figure size 432x288 with 1 Axes>"
      ]
     },
     "metadata": {
      "needs_background": "light"
     },
     "output_type": "display_data"
    }
   ],
   "source": [
    "data['floor_type'].hist(bins=10)"
   ]
  },
  {
   "cell_type": "markdown",
   "metadata": {},
   "source": [
    "Преимущественно даны объекты которые имеют \"другой\" тип этажа, далее по частоте идут последние этажи, меньше встречаются объекты на первых этажах."
   ]
  },
  {
   "cell_type": "markdown",
   "metadata": {},
   "source": [
    "##### Общее количество этажей в доме"
   ]
  },
  {
   "cell_type": "code",
   "execution_count": 50,
   "metadata": {},
   "outputs": [
    {
     "data": {
      "text/plain": [
       "count    16695.000000\n",
       "mean        11.089188\n",
       "std          6.484031\n",
       "min          1.000000\n",
       "25%          5.000000\n",
       "50%          9.000000\n",
       "75%         16.000000\n",
       "max         60.000000\n",
       "Name: floors_total, dtype: float64"
      ]
     },
     "execution_count": 50,
     "metadata": {},
     "output_type": "execute_result"
    }
   ],
   "source": [
    "data['floors_total'].describe()"
   ]
  },
  {
   "cell_type": "code",
   "execution_count": 51,
   "metadata": {
    "scrolled": true
   },
   "outputs": [
    {
     "data": {
      "text/plain": [
       "<AxesSubplot:>"
      ]
     },
     "execution_count": 51,
     "metadata": {},
     "output_type": "execute_result"
    },
    {
     "data": {
      "image/png": "[encoded data removed]",
      "text/plain": [
       "<Figure size 432x288 with 1 Axes>"
      ]
     },
     "metadata": {
      "needs_background": "light"
     },
     "output_type": "display_data"
    }
   ],
   "source": [
    "data['floors_total'].hist(bins=100)"
   ]
  },
  {
   "cell_type": "markdown",
   "metadata": {},
   "source": [
    "В основном встречаются объекты в домах с 5 этажами, также достаточно много объектов в девятиэтажках, очень редко встречаются объекты в домах с более чем 30 этажами."
   ]
  },
  {
   "cell_type": "markdown",
   "metadata": {},
   "source": [
    "##### Расстояние до центра города в метрах"
   ]
  },
  {
   "cell_type": "code",
   "execution_count": 52,
   "metadata": {
    "scrolled": true
   },
   "outputs": [
    {
     "data": {
      "text/plain": [
       "count    16694.000000\n",
       "mean     14235.886306\n",
       "std       8673.303052\n",
       "min        181.000000\n",
       "25%       9304.000000\n",
       "50%      13105.000000\n",
       "75%      16252.500000\n",
       "max      65968.000000\n",
       "Name: cityCenters_nearest, dtype: float64"
      ]
     },
     "execution_count": 52,
     "metadata": {},
     "output_type": "execute_result"
    }
   ],
   "source": [
    "data['cityCenters_nearest'].describe()"
   ]
  },
  {
   "cell_type": "code",
   "execution_count": 53,
   "metadata": {},
   "outputs": [
    {
     "data": {
      "text/plain": [
       "<AxesSubplot:>"
      ]
     },
     "execution_count": 53,
     "metadata": {},
     "output_type": "execute_result"
    },
    {
     "data": {
      "image/png": "[encoded data removed]",
      "text/plain": [
       "<Figure size 432x288 with 1 Axes>"
      ]
     },
     "metadata": {
      "needs_background": "light"
     },
     "output_type": "display_data"
    }
   ],
   "source": [
    "data['cityCenters_nearest'].hist(bins=100)"
   ]
  },
  {
   "cell_type": "markdown",
   "metadata": {},
   "source": [
    "Расстояния от объекта до центра города варьируются от 181м до 65968м. Больше всего объектов, которые расположены в пределах примерно 10000-17000м от центра."
   ]
  },
  {
   "cell_type": "markdown",
   "metadata": {},
   "source": [
    "##### Расстояние до ближайшего аэропорта"
   ]
  },
  {
   "cell_type": "code",
   "execution_count": 54,
   "metadata": {},
   "outputs": [
    {
     "data": {
      "text/plain": [
       "count    16695.000000\n",
       "mean     28758.091704\n",
       "std      12645.722169\n",
       "min       6450.000000\n",
       "25%      18501.500000\n",
       "50%      26674.000000\n",
       "75%      37227.000000\n",
       "max      84869.000000\n",
       "Name: airports_nearest, dtype: float64"
      ]
     },
     "execution_count": 54,
     "metadata": {},
     "output_type": "execute_result"
    }
   ],
   "source": [
    "data['airports_nearest'].describe()"
   ]
  },
  {
   "cell_type": "code",
   "execution_count": 55,
   "metadata": {},
   "outputs": [
    {
     "data": {
      "text/plain": [
       "<AxesSubplot:>"
      ]
     },
     "execution_count": 55,
     "metadata": {},
     "output_type": "execute_result"
    },
    {
     "data": {
      "image/png": "[encoded data removed]",
      "text/plain": [
       "<Figure size 432x288 with 1 Axes>"
      ]
     },
     "metadata": {
      "needs_background": "light"
     },
     "output_type": "display_data"
    }
   ],
   "source": [
    "data['airports_nearest'].hist(bins=100)"
   ]
  },
  {
   "cell_type": "markdown",
   "metadata": {},
   "source": [
    "Расстояния до ближайших аэропортов варьируются от 6450 до 84869, большая часть объектов расположена на расстоянии около 19000м от аэропорта."
   ]
  },
  {
   "cell_type": "markdown",
   "metadata": {},
   "source": [
    "##### Расстояние до до ближайшего парка"
   ]
  },
  {
   "cell_type": "code",
   "execution_count": 56,
   "metadata": {},
   "outputs": [
    {
     "data": {
      "text/plain": [
       "count    7405.000000\n",
       "mean      487.925321\n",
       "std       337.439886\n",
       "min         1.000000\n",
       "25%       288.000000\n",
       "50%       452.000000\n",
       "75%       610.000000\n",
       "max      3190.000000\n",
       "Name: parks_nearest, dtype: float64"
      ]
     },
     "execution_count": 56,
     "metadata": {},
     "output_type": "execute_result"
    }
   ],
   "source": [
    "data['parks_nearest'].describe()"
   ]
  },
  {
   "cell_type": "code",
   "execution_count": 57,
   "metadata": {
    "scrolled": true
   },
   "outputs": [
    {
     "data": {
      "text/plain": [
       "<AxesSubplot:>"
      ]
     },
     "execution_count": 57,
     "metadata": {},
     "output_type": "execute_result"
    },
    {
     "data": {
      "image/png": "[encoded data removed]",
      "text/plain": [
       "<Figure size 432x288 with 1 Axes>"
      ]
     },
     "metadata": {
      "needs_background": "light"
     },
     "output_type": "display_data"
    }
   ],
   "source": [
    "data['parks_nearest'].hist(bins=100)"
   ]
  },
  {
   "cell_type": "markdown",
   "metadata": {},
   "source": [
    "В данных имеются объекты расположеные около парка (расстояние равно 1м), так и очень далеко от парка (3190м). Большая часть объектов расположена примерно в 290-600м от парка."
   ]
  },
  {
   "cell_type": "markdown",
   "metadata": {},
   "source": [
    "##### День и месяц публикации объявления"
   ]
  },
  {
   "cell_type": "code",
   "execution_count": 58,
   "metadata": {},
   "outputs": [
    {
     "data": {
      "text/plain": [
       "3    3055\n",
       "1    2992\n",
       "4    2853\n",
       "2    2794\n",
       "0    2564\n",
       "5    1292\n",
       "6    1145\n",
       "Name: publication_day, dtype: int64"
      ]
     },
     "execution_count": 58,
     "metadata": {},
     "output_type": "execute_result"
    }
   ],
   "source": [
    "data['publication_day'].value_counts()"
   ]
  },
  {
   "cell_type": "code",
   "execution_count": 59,
   "metadata": {},
   "outputs": [
    {
     "data": {
      "text/plain": [
       "<AxesSubplot:>"
      ]
     },
     "execution_count": 59,
     "metadata": {},
     "output_type": "execute_result"
    },
    {
     "data": {
      "image/png": "[encoded data removed]",
      "text/plain": [
       "<Figure size 432x288 with 1 Axes>"
      ]
     },
     "metadata": {
      "needs_background": "light"
     },
     "output_type": "display_data"
    }
   ],
   "source": [
    "data['publication_day'].hist(bins=100)"
   ]
  },
  {
   "cell_type": "markdown",
   "metadata": {},
   "source": [
    "Чаще всего объявления публиковали в четверг и вторник, меньше всего публикаций приходилось на выходные."
   ]
  },
  {
   "cell_type": "code",
   "execution_count": 60,
   "metadata": {},
   "outputs": [
    {
     "data": {
      "text/plain": [
       "2     1846\n",
       "3     1759\n",
       "11    1735\n",
       "4     1711\n",
       "10    1526\n",
       "9     1450\n",
       "8     1255\n",
       "6     1248\n",
       "7     1192\n",
       "12    1040\n",
       "1      998\n",
       "5      935\n",
       "Name: publication_month, dtype: int64"
      ]
     },
     "execution_count": 60,
     "metadata": {},
     "output_type": "execute_result"
    }
   ],
   "source": [
    "data['publication_month'].value_counts()"
   ]
  },
  {
   "cell_type": "code",
   "execution_count": 61,
   "metadata": {},
   "outputs": [
    {
     "data": {
      "text/plain": [
       "<AxesSubplot:>"
      ]
     },
     "execution_count": 61,
     "metadata": {},
     "output_type": "execute_result"
    },
    {
     "data": {
      "image/png": "[encoded data removed]",
      "text/plain": [
       "<Figure size 432x288 with 1 Axes>"
      ]
     },
     "metadata": {
      "needs_background": "light"
     },
     "output_type": "display_data"
    }
   ],
   "source": [
    "data['publication_month'].hist(bins=100)"
   ]
  },
  {
   "cell_type": "markdown",
   "metadata": {},
   "source": [
    "Большая часть объявлений была опубликована в ферале-марте, реже всего делают публикации в мае."
   ]
  },
  {
   "cell_type": "markdown",
   "metadata": {},
   "source": [
    "#### Анализ скорости продажи квартир"
   ]
  },
  {
   "cell_type": "code",
   "execution_count": 62,
   "metadata": {},
   "outputs": [
    {
     "data": {
      "text/plain": [
       "<AxesSubplot:>"
      ]
     },
     "execution_count": 62,
     "metadata": {},
     "output_type": "execute_result"
    },
    {
     "data": {
      "image/png": "[encoded data removed]",
      "text/plain": [
       "<Figure size 432x288 with 1 Axes>"
      ]
     },
     "metadata": {
      "needs_background": "light"
     },
     "output_type": "display_data"
    }
   ],
   "source": [
    "data['days_exposition'].hist(bins=100)"
   ]
  },
  {
   "cell_type": "code",
   "execution_count": 63,
   "metadata": {},
   "outputs": [
    {
     "data": {
      "text/plain": [
       "count    14526.000000\n",
       "mean       184.912984\n",
       "std        224.488834\n",
       "min          1.000000\n",
       "25%         42.000000\n",
       "50%        100.000000\n",
       "75%        238.000000\n",
       "max       1572.000000\n",
       "Name: days_exposition, dtype: float64"
      ]
     },
     "execution_count": 63,
     "metadata": {},
     "output_type": "execute_result"
    }
   ],
   "source": [
    "data['days_exposition'].describe()"
   ]
  },
  {
   "cell_type": "code",
   "execution_count": 64,
   "metadata": {},
   "outputs": [
    {
     "name": "stdout",
     "output_type": "stream",
     "text": [
      "Среднее значение переменной, отвечающией за количество дней, в течение которых было вывешено объявление: 184.91298361558586\n",
      "Медиана переменной 100.0\n"
     ]
    }
   ],
   "source": [
    "print('Среднее значение переменной, отвечающией за количество дней, в течение которых было вывешено объявление:', data['days_exposition'].mean())\n",
    "print('Медиана переменной', data['days_exposition'].median())"
   ]
  },
  {
   "cell_type": "markdown",
   "metadata": {},
   "source": [
    "Значения медианы и среднего days_exposition значительно отличаются, это вызвано тем, что в данных есть выбросы (которые учитывает среднее, медиана же к ним устойчива). Продажа объекта обычно занимает около 95 дней."
   ]
  },
  {
   "cell_type": "markdown",
   "metadata": {},
   "source": [
    "Необычайно долгие продажи будут лежать за 3 квантилем, то есть они будут занимать более 238 дней. Быстрыми же продажи будут считаться, если они занимают менее 42 дней."
   ]
  },
  {
   "cell_type": "markdown",
   "metadata": {},
   "source": [
    "#### Факторы, влияющие на стоимость объекта"
   ]
  },
  {
   "cell_type": "markdown",
   "metadata": {},
   "source": [
    "##### Общая площадь объекта"
   ]
  },
  {
   "cell_type": "markdown",
   "metadata": {},
   "source": [
    "Так как обе переменные количественные, мы можем расчитать корреляцию между ними:"
   ]
  },
  {
   "cell_type": "code",
   "execution_count": 65,
   "metadata": {
    "scrolled": false
   },
   "outputs": [
    {
     "data": {
      "text/plain": [
       "0.6368032159730384"
      ]
     },
     "execution_count": 65,
     "metadata": {},
     "output_type": "execute_result"
    }
   ],
   "source": [
    "data['last_price'].corr(data['total_area'])"
   ]
  },
  {
   "cell_type": "code",
   "execution_count": 66,
   "metadata": {
    "scrolled": true
   },
   "outputs": [
    {
     "data": {
      "text/plain": [
       "<AxesSubplot:xlabel='total_area', ylabel='last_price'>"
      ]
     },
     "execution_count": 66,
     "metadata": {},
     "output_type": "execute_result"
    },
    {
     "data": {
      "image/png": "[encoded data removed]",
      "text/plain": [
       "<Figure size 432x288 with 1 Axes>"
      ]
     },
     "metadata": {
      "needs_background": "light"
     },
     "output_type": "display_data"
    }
   ],
   "source": [
    "data.plot(y='last_price', x='total_area', kind='scatter', alpha=0.1) "
   ]
  },
  {
   "cell_type": "markdown",
   "metadata": {},
   "source": [
    "Значение корреляции между ценой объекта и его общей площадью достаточно высоко (0,65). Глядя на диаграмму рассеивания, мы видим, что по мере возрастания общей площади увеличивается цена (не считая некоторых выбросов)."
   ]
  },
  {
   "cell_type": "markdown",
   "metadata": {},
   "source": [
    "##### Жилая площадь"
   ]
  },
  {
   "cell_type": "code",
   "execution_count": 67,
   "metadata": {},
   "outputs": [
    {
     "data": {
      "text/plain": [
       "0.5656080929767803"
      ]
     },
     "execution_count": 67,
     "metadata": {},
     "output_type": "execute_result"
    }
   ],
   "source": [
    "data['last_price'].corr(data['living_area'])"
   ]
  },
  {
   "cell_type": "code",
   "execution_count": 68,
   "metadata": {},
   "outputs": [
    {
     "data": {
      "text/plain": [
       "<AxesSubplot:xlabel='living_area', ylabel='last_price'>"
      ]
     },
     "execution_count": 68,
     "metadata": {},
     "output_type": "execute_result"
    },
    {
     "data": {
      "image/png": "[encoded data removed]",
      "text/plain": [
       "<Figure size 432x288 with 1 Axes>"
      ]
     },
     "metadata": {
      "needs_background": "light"
     },
     "output_type": "display_data"
    }
   ],
   "source": [
    "data.plot(y='last_price', x='living_area', kind='scatter', alpha=0.1) "
   ]
  },
  {
   "cell_type": "markdown",
   "metadata": {},
   "source": [
    "Размер жилой площади тоже влияет на цену объекта, но уже меньше, чем его общая площадь (0,54 против 0,65)."
   ]
  },
  {
   "cell_type": "markdown",
   "metadata": {},
   "source": [
    "##### Площадь кухни"
   ]
  },
  {
   "cell_type": "code",
   "execution_count": 69,
   "metadata": {},
   "outputs": [
    {
     "data": {
      "text/plain": [
       "0.5186885739863913"
      ]
     },
     "execution_count": 69,
     "metadata": {},
     "output_type": "execute_result"
    }
   ],
   "source": [
    "data['last_price'].corr(data['kitchen_area'])"
   ]
  },
  {
   "cell_type": "code",
   "execution_count": 70,
   "metadata": {},
   "outputs": [
    {
     "data": {
      "text/plain": [
       "<AxesSubplot:xlabel='kitchen_area', ylabel='last_price'>"
      ]
     },
     "execution_count": 70,
     "metadata": {},
     "output_type": "execute_result"
    },
    {
     "data": {
      "image/png": "[encoded data removed]",
      "text/plain": [
       "<Figure size 432x288 with 1 Axes>"
      ]
     },
     "metadata": {
      "needs_background": "light"
     },
     "output_type": "display_data"
    }
   ],
   "source": [
    "data.plot(y='last_price', x='kitchen_area', kind='scatter', alpha=0.1) "
   ]
  },
  {
   "cell_type": "markdown",
   "metadata": {},
   "source": [
    "Площадь кухни уже не так сильно влияет на стоимоть объекта как жилая площадь или общая площадь объекта (в данном случае коэффициент корреляции равен 0,44), однако стоит отметить, что взаимосвязь, хоть и не слишком сильная, прослеживается."
   ]
  },
  {
   "cell_type": "markdown",
   "metadata": {},
   "source": [
    "##### Количество комнат"
   ]
  },
  {
   "cell_type": "code",
   "execution_count": 71,
   "metadata": {},
   "outputs": [
    {
     "data": {
      "text/plain": [
       "0.36528682924115946"
      ]
     },
     "execution_count": 71,
     "metadata": {},
     "output_type": "execute_result"
    }
   ],
   "source": [
    "data['last_price'].corr(data['rooms'])"
   ]
  },
  {
   "cell_type": "code",
   "execution_count": 72,
   "metadata": {
    "scrolled": true
   },
   "outputs": [
    {
     "data": {
      "text/plain": [
       "<AxesSubplot:xlabel='rooms', ylabel='last_price'>"
      ]
     },
     "execution_count": 72,
     "metadata": {},
     "output_type": "execute_result"
    },
    {
     "data": {
      "image/png": "[encoded data removed]",
      "text/plain": [
       "<Figure size 432x288 with 1 Axes>"
      ]
     },
     "metadata": {
      "needs_background": "light"
     },
     "output_type": "display_data"
    }
   ],
   "source": [
    "data.plot(y='last_price', x='rooms', kind='scatter', alpha=0.1) "
   ]
  },
  {
   "cell_type": "markdown",
   "metadata": {},
   "source": [
    "Количество комнат, которое имеет объект, слабо влияет на цену (значение корреляции равно 0.37). Это видно также из графика: до 5 комнат цена последовательно растет, однако далее мы видим убывание цены."
   ]
  },
  {
   "cell_type": "markdown",
   "metadata": {},
   "source": [
    "##### Тип этажа"
   ]
  },
  {
   "cell_type": "code",
   "execution_count": 73,
   "metadata": {},
   "outputs": [
    {
     "data": {
      "text/plain": [
       "floor_type\n",
       "другой       7.440198e+06\n",
       "первый       5.819899e+06\n",
       "последний    9.070420e+06\n",
       "Name: last_price, dtype: float64"
      ]
     },
     "execution_count": 73,
     "metadata": {},
     "output_type": "execute_result"
    }
   ],
   "source": [
    "data.groupby('floor_type')['last_price'].mean()"
   ]
  },
  {
   "cell_type": "code",
   "execution_count": 74,
   "metadata": {
    "scrolled": false
   },
   "outputs": [
    {
     "data": {
      "text/plain": [
       "<AxesSubplot:xlabel='floor_type'>"
      ]
     },
     "execution_count": 74,
     "metadata": {},
     "output_type": "execute_result"
    },
    {
     "data": {
      "image/png": "[encoded data removed]",
      "text/plain": [
       "<Figure size 432x288 with 1 Axes>"
      ]
     },
     "metadata": {
      "needs_background": "light"
     },
     "output_type": "display_data"
    }
   ],
   "source": [
    "data.pivot_table(index='floor_type', values='last_price', aggfunc='mean').plot(kind='bar')"
   ]
  },
  {
   "cell_type": "markdown",
   "metadata": {},
   "source": [
    "Взаимосвязь между типом этажа и ценой объекта прослеживается. Так, средняя стоимость объектов на первых этажах ялвяется наименьшей, далее идут объекты на других этажах, а на последних этажах располагаются самые дорогие объекты."
   ]
  },
  {
   "cell_type": "markdown",
   "metadata": {},
   "source": [
    "##### Дата размещения"
   ]
  },
  {
   "cell_type": "code",
   "execution_count": 75,
   "metadata": {},
   "outputs": [
    {
     "data": {
      "text/plain": [
       "<AxesSubplot:xlabel='publication_day'>"
      ]
     },
     "execution_count": 75,
     "metadata": {},
     "output_type": "execute_result"
    },
    {
     "data": {
      "image/png": "[encoded data removed]",
      "text/plain": [
       "<Figure size 432x288 with 1 Axes>"
      ]
     },
     "metadata": {
      "needs_background": "light"
     },
     "output_type": "display_data"
    }
   ],
   "source": [
    "data.pivot_table(index='publication_day', values='last_price', aggfunc='mean').plot(kind='bar')"
   ]
  },
  {
   "cell_type": "markdown",
   "metadata": {},
   "source": [
    "Средняя цена объектов, публикации которых были в субботу, является самой высокой, однако цены в остальные дни практически не отличаются, следовательно день размещения слабо влияет на стоимость объекта."
   ]
  },
  {
   "cell_type": "code",
   "execution_count": 76,
   "metadata": {},
   "outputs": [
    {
     "data": {
      "text/plain": [
       "<AxesSubplot:xlabel='publication_month'>"
      ]
     },
     "execution_count": 76,
     "metadata": {},
     "output_type": "execute_result"
    },
    {
     "data": {
      "image/png": "[encoded data removed]",
      "text/plain": [
       "<Figure size 432x288 with 1 Axes>"
      ]
     },
     "metadata": {
      "needs_background": "light"
     },
     "output_type": "display_data"
    }
   ],
   "source": [
    "data.pivot_table(index='publication_month', values='last_price', aggfunc='mean').plot(kind='bar')"
   ]
  },
  {
   "cell_type": "markdown",
   "metadata": {},
   "source": [
    "Мы видим не очень сильную корреляцию между месяцем публикации и ценой объекта, однако тут можно отметить, что средняя цена объектов в декабре яляется наибольшей, а в октябре - наименьшей."
   ]
  },
  {
   "cell_type": "code",
   "execution_count": 77,
   "metadata": {
    "scrolled": true
   },
   "outputs": [
    {
     "data": {
      "text/plain": [
       "<AxesSubplot:xlabel='publication_year'>"
      ]
     },
     "execution_count": 77,
     "metadata": {},
     "output_type": "execute_result"
    },
    {
     "data": {
      "image/png": "[encoded data removed]",
      "text/plain": [
       "<Figure size 432x288 with 1 Axes>"
      ]
     },
     "metadata": {
      "needs_background": "light"
     },
     "output_type": "display_data"
    }
   ],
   "source": [
    "data.pivot_table(index='publication_year', values='last_price', aggfunc='mean').plot(kind='bar')"
   ]
  },
  {
   "cell_type": "markdown",
   "metadata": {},
   "source": [
    "Прослеживается снижение стоимости обектов по мере повышения года (кроме 2019 года), наиболее дорогими объекты были в 2014 году, а в 2018 средняя цена была наименьшей."
   ]
  },
  {
   "cell_type": "markdown",
   "metadata": {},
   "source": [
    "**Вывод:** показателями, оказывающими достаточно сильное влияение на формирование стоимости объектов, являются общая площадь, тип этажа а также год публикации объявления о продаже."
   ]
  },
  {
   "cell_type": "markdown",
   "metadata": {},
   "source": [
    "#### Средняя цена одного квадратного метра"
   ]
  },
  {
   "cell_type": "markdown",
   "metadata": {},
   "source": [
    "Для простоты поделим цену на 1000, далее будем измерять цену в тыс руб."
   ]
  },
  {
   "cell_type": "code",
   "execution_count": 79,
   "metadata": {},
   "outputs": [],
   "source": [
    "data['last_price'] = data['last_price']/1000"
   ]
  },
  {
   "cell_type": "code",
   "execution_count": 80,
   "metadata": {},
   "outputs": [],
   "source": [
    "data['price_meter'] = data['last_price']/data['total_area']"
   ]
  },
  {
   "cell_type": "code",
   "execution_count": 81,
   "metadata": {},
   "outputs": [
    {
     "data": {
      "text/plain": [
       "count    16695.000000\n",
       "mean       109.965550\n",
       "std         49.383920\n",
       "min          0.111835\n",
       "25%         87.333333\n",
       "50%        101.420455\n",
       "75%        120.242041\n",
       "max       1907.500000\n",
       "Name: price_meter, dtype: float64"
      ]
     },
     "execution_count": 81,
     "metadata": {},
     "output_type": "execute_result"
    }
   ],
   "source": [
    "data['price_meter'].describe()"
   ]
  },
  {
   "cell_type": "code",
   "execution_count": 82,
   "metadata": {},
   "outputs": [
    {
     "data": {
      "text/plain": [
       "<AxesSubplot:>"
      ]
     },
     "execution_count": 82,
     "metadata": {},
     "output_type": "execute_result"
    },
    {
     "data": {
      "image/png": "[encoded data removed]",
      "text/plain": [
       "<Figure size 432x288 with 1 Axes>"
      ]
     },
     "metadata": {
      "needs_background": "light"
     },
     "output_type": "display_data"
    }
   ],
   "source": [
    "data.boxplot(column=['price_meter'])"
   ]
  },
  {
   "cell_type": "markdown",
   "metadata": {},
   "source": [
    "Удалим выбросы из данных, это будут значения, которые наиболее явно выбиваются из общей картины. На графике выше есть кружки - выбросы, стоит заметить, что они достаточно плотно распределены до 750, поэтому оставим эту часть. Проверим, много ли данных находится выше 750. Таких значений всего 8, поэтому мы их можем удалить:"
   ]
  },
  {
   "cell_type": "code",
   "execution_count": 83,
   "metadata": {},
   "outputs": [
    {
     "data": {
      "text/html": [
       "<div>\n",
       "<style scoped>\n",
       "    .dataframe tbody tr th:only-of-type {\n",
       "        vertical-align: middle;\n",
       "    }\n",
       "\n",
       "    .dataframe tbody tr th {\n",
       "        vertical-align: top;\n",
       "    }\n",
       "\n",
       "    .dataframe thead th {\n",
       "        text-align: right;\n",
       "    }\n",
       "</style>\n",
       "<table border=\"1\" class=\"dataframe\">\n",
       "  <thead>\n",
       "    <tr style=\"text-align: right;\">\n",
       "      <th></th>\n",
       "      <th>total_images</th>\n",
       "      <th>last_price</th>\n",
       "      <th>total_area</th>\n",
       "      <th>first_day_exposition</th>\n",
       "      <th>rooms</th>\n",
       "      <th>ceiling_height</th>\n",
       "      <th>floors_total</th>\n",
       "      <th>living_area</th>\n",
       "      <th>floor</th>\n",
       "      <th>is_apartment</th>\n",
       "      <th>...</th>\n",
       "      <th>ponds_around3000</th>\n",
       "      <th>ponds_nearest</th>\n",
       "      <th>days_exposition</th>\n",
       "      <th>price_for_meter</th>\n",
       "      <th>publication_day</th>\n",
       "      <th>publication_month</th>\n",
       "      <th>publication_year</th>\n",
       "      <th>floor_type</th>\n",
       "      <th>center_distance</th>\n",
       "      <th>price_meter</th>\n",
       "    </tr>\n",
       "  </thead>\n",
       "  <tbody>\n",
       "    <tr>\n",
       "      <th>1431</th>\n",
       "      <td>19</td>\n",
       "      <td>330000.0</td>\n",
       "      <td>190.0</td>\n",
       "      <td>2018-04-04</td>\n",
       "      <td>3</td>\n",
       "      <td>3.50</td>\n",
       "      <td>7</td>\n",
       "      <td>95.0</td>\n",
       "      <td>5</td>\n",
       "      <td>False</td>\n",
       "      <td>...</td>\n",
       "      <td>3</td>\n",
       "      <td>285.0</td>\n",
       "      <td>233.0</td>\n",
       "      <td>1.736842e+06</td>\n",
       "      <td>2</td>\n",
       "      <td>4</td>\n",
       "      <td>2018</td>\n",
       "      <td>другой</td>\n",
       "      <td>1.0</td>\n",
       "      <td>1736.842105</td>\n",
       "    </tr>\n",
       "    <tr>\n",
       "      <th>4971</th>\n",
       "      <td>20</td>\n",
       "      <td>124000.0</td>\n",
       "      <td>124.5</td>\n",
       "      <td>2017-10-12</td>\n",
       "      <td>4</td>\n",
       "      <td>3.00</td>\n",
       "      <td>4</td>\n",
       "      <td>67.2</td>\n",
       "      <td>2</td>\n",
       "      <td>False</td>\n",
       "      <td>...</td>\n",
       "      <td>3</td>\n",
       "      <td>172.0</td>\n",
       "      <td>45.0</td>\n",
       "      <td>9.959839e+05</td>\n",
       "      <td>3</td>\n",
       "      <td>10</td>\n",
       "      <td>2017</td>\n",
       "      <td>другой</td>\n",
       "      <td>2.0</td>\n",
       "      <td>995.983936</td>\n",
       "    </tr>\n",
       "    <tr>\n",
       "      <th>12897</th>\n",
       "      <td>19</td>\n",
       "      <td>763000.0</td>\n",
       "      <td>400.0</td>\n",
       "      <td>2017-09-30</td>\n",
       "      <td>7</td>\n",
       "      <td>NaN</td>\n",
       "      <td>10</td>\n",
       "      <td>250.0</td>\n",
       "      <td>10</td>\n",
       "      <td>False</td>\n",
       "      <td>...</td>\n",
       "      <td>3</td>\n",
       "      <td>756.0</td>\n",
       "      <td>33.0</td>\n",
       "      <td>1.907500e+06</td>\n",
       "      <td>5</td>\n",
       "      <td>9</td>\n",
       "      <td>2017</td>\n",
       "      <td>последний</td>\n",
       "      <td>4.0</td>\n",
       "      <td>1907.500000</td>\n",
       "    </tr>\n",
       "    <tr>\n",
       "      <th>14621</th>\n",
       "      <td>15</td>\n",
       "      <td>401300.0</td>\n",
       "      <td>401.0</td>\n",
       "      <td>2016-02-20</td>\n",
       "      <td>5</td>\n",
       "      <td>NaN</td>\n",
       "      <td>9</td>\n",
       "      <td>204.0</td>\n",
       "      <td>9</td>\n",
       "      <td>False</td>\n",
       "      <td>...</td>\n",
       "      <td>1</td>\n",
       "      <td>478.0</td>\n",
       "      <td>393.0</td>\n",
       "      <td>1.000748e+06</td>\n",
       "      <td>5</td>\n",
       "      <td>2</td>\n",
       "      <td>2016</td>\n",
       "      <td>последний</td>\n",
       "      <td>2.0</td>\n",
       "      <td>1000.748130</td>\n",
       "    </tr>\n",
       "    <tr>\n",
       "      <th>16372</th>\n",
       "      <td>17</td>\n",
       "      <td>245000.0</td>\n",
       "      <td>285.7</td>\n",
       "      <td>2017-04-10</td>\n",
       "      <td>6</td>\n",
       "      <td>3.35</td>\n",
       "      <td>7</td>\n",
       "      <td>182.8</td>\n",
       "      <td>4</td>\n",
       "      <td>False</td>\n",
       "      <td>...</td>\n",
       "      <td>3</td>\n",
       "      <td>140.0</td>\n",
       "      <td>249.0</td>\n",
       "      <td>8.575429e+05</td>\n",
       "      <td>0</td>\n",
       "      <td>4</td>\n",
       "      <td>2017</td>\n",
       "      <td>другой</td>\n",
       "      <td>6.0</td>\n",
       "      <td>857.542877</td>\n",
       "    </tr>\n",
       "    <tr>\n",
       "      <th>16552</th>\n",
       "      <td>15</td>\n",
       "      <td>122000.0</td>\n",
       "      <td>145.0</td>\n",
       "      <td>2017-04-25</td>\n",
       "      <td>3</td>\n",
       "      <td>3.30</td>\n",
       "      <td>6</td>\n",
       "      <td>36.0</td>\n",
       "      <td>2</td>\n",
       "      <td>False</td>\n",
       "      <td>...</td>\n",
       "      <td>3</td>\n",
       "      <td>250.0</td>\n",
       "      <td>335.0</td>\n",
       "      <td>8.413793e+05</td>\n",
       "      <td>1</td>\n",
       "      <td>4</td>\n",
       "      <td>2017</td>\n",
       "      <td>другой</td>\n",
       "      <td>7.0</td>\n",
       "      <td>841.379310</td>\n",
       "    </tr>\n",
       "    <tr>\n",
       "      <th>17811</th>\n",
       "      <td>17</td>\n",
       "      <td>135000.0</td>\n",
       "      <td>166.0</td>\n",
       "      <td>2019-02-07</td>\n",
       "      <td>3</td>\n",
       "      <td>3.30</td>\n",
       "      <td>7</td>\n",
       "      <td>52.0</td>\n",
       "      <td>1</td>\n",
       "      <td>False</td>\n",
       "      <td>...</td>\n",
       "      <td>3</td>\n",
       "      <td>215.0</td>\n",
       "      <td>NaN</td>\n",
       "      <td>8.132530e+05</td>\n",
       "      <td>3</td>\n",
       "      <td>2</td>\n",
       "      <td>2019</td>\n",
       "      <td>первый</td>\n",
       "      <td>6.0</td>\n",
       "      <td>813.253012</td>\n",
       "    </tr>\n",
       "    <tr>\n",
       "      <th>22701</th>\n",
       "      <td>18</td>\n",
       "      <td>289238.4</td>\n",
       "      <td>187.5</td>\n",
       "      <td>2019-03-19</td>\n",
       "      <td>2</td>\n",
       "      <td>3.37</td>\n",
       "      <td>6</td>\n",
       "      <td>63.7</td>\n",
       "      <td>6</td>\n",
       "      <td>False</td>\n",
       "      <td>...</td>\n",
       "      <td>3</td>\n",
       "      <td>188.0</td>\n",
       "      <td>NaN</td>\n",
       "      <td>1.542605e+06</td>\n",
       "      <td>1</td>\n",
       "      <td>3</td>\n",
       "      <td>2019</td>\n",
       "      <td>последний</td>\n",
       "      <td>1.0</td>\n",
       "      <td>1542.604800</td>\n",
       "    </tr>\n",
       "  </tbody>\n",
       "</table>\n",
       "<p>8 rows × 29 columns</p>\n",
       "</div>"
      ],
      "text/plain": [
       "       total_images  last_price  total_area first_day_exposition  rooms  \\\n",
       "1431             19    330000.0       190.0           2018-04-04      3   \n",
       "4971             20    124000.0       124.5           2017-10-12      4   \n",
       "12897            19    763000.0       400.0           2017-09-30      7   \n",
       "14621            15    401300.0       401.0           2016-02-20      5   \n",
       "16372            17    245000.0       285.7           2017-04-10      6   \n",
       "16552            15    122000.0       145.0           2017-04-25      3   \n",
       "17811            17    135000.0       166.0           2019-02-07      3   \n",
       "22701            18    289238.4       187.5           2019-03-19      2   \n",
       "\n",
       "       ceiling_height  floors_total  living_area  floor  is_apartment  ...  \\\n",
       "1431             3.50             7         95.0      5         False  ...   \n",
       "4971             3.00             4         67.2      2         False  ...   \n",
       "12897             NaN            10        250.0     10         False  ...   \n",
       "14621             NaN             9        204.0      9         False  ...   \n",
       "16372            3.35             7        182.8      4         False  ...   \n",
       "16552            3.30             6         36.0      2         False  ...   \n",
       "17811            3.30             7         52.0      1         False  ...   \n",
       "22701            3.37             6         63.7      6         False  ...   \n",
       "\n",
       "       ponds_around3000  ponds_nearest  days_exposition  price_for_meter  \\\n",
       "1431                  3          285.0            233.0     1.736842e+06   \n",
       "4971                  3          172.0             45.0     9.959839e+05   \n",
       "12897                 3          756.0             33.0     1.907500e+06   \n",
       "14621                 1          478.0            393.0     1.000748e+06   \n",
       "16372                 3          140.0            249.0     8.575429e+05   \n",
       "16552                 3          250.0            335.0     8.413793e+05   \n",
       "17811                 3          215.0              NaN     8.132530e+05   \n",
       "22701                 3          188.0              NaN     1.542605e+06   \n",
       "\n",
       "      publication_day  publication_month  publication_year  floor_type  \\\n",
       "1431                2                  4              2018      другой   \n",
       "4971                3                 10              2017      другой   \n",
       "12897               5                  9              2017   последний   \n",
       "14621               5                  2              2016   последний   \n",
       "16372               0                  4              2017      другой   \n",
       "16552               1                  4              2017      другой   \n",
       "17811               3                  2              2019      первый   \n",
       "22701               1                  3              2019   последний   \n",
       "\n",
       "       center_distance  price_meter  \n",
       "1431               1.0  1736.842105  \n",
       "4971               2.0   995.983936  \n",
       "12897              4.0  1907.500000  \n",
       "14621              2.0  1000.748130  \n",
       "16372              6.0   857.542877  \n",
       "16552              7.0   841.379310  \n",
       "17811              6.0   813.253012  \n",
       "22701              1.0  1542.604800  \n",
       "\n",
       "[8 rows x 29 columns]"
      ]
     },
     "execution_count": 83,
     "metadata": {},
     "output_type": "execute_result"
    }
   ],
   "source": [
    "data.loc[data['price_meter'] > 750]"
   ]
  },
  {
   "cell_type": "code",
   "execution_count": 84,
   "metadata": {},
   "outputs": [],
   "source": [
    "locality = data.loc[data['price_meter'] < 750]"
   ]
  },
  {
   "cell_type": "code",
   "execution_count": 85,
   "metadata": {},
   "outputs": [
    {
     "data": {
      "text/html": [
       "<div>\n",
       "<style scoped>\n",
       "    .dataframe tbody tr th:only-of-type {\n",
       "        vertical-align: middle;\n",
       "    }\n",
       "\n",
       "    .dataframe tbody tr th {\n",
       "        vertical-align: top;\n",
       "    }\n",
       "\n",
       "    .dataframe thead th {\n",
       "        text-align: right;\n",
       "    }\n",
       "</style>\n",
       "<table border=\"1\" class=\"dataframe\">\n",
       "  <thead>\n",
       "    <tr style=\"text-align: right;\">\n",
       "      <th></th>\n",
       "      <th>count</th>\n",
       "      <th>mean</th>\n",
       "    </tr>\n",
       "    <tr>\n",
       "      <th>locality_name</th>\n",
       "      <th></th>\n",
       "      <th></th>\n",
       "    </tr>\n",
       "  </thead>\n",
       "  <tbody>\n",
       "    <tr>\n",
       "      <th>санкт-петербург</th>\n",
       "      <td>14381</td>\n",
       "      <td>113.342639</td>\n",
       "    </tr>\n",
       "    <tr>\n",
       "      <th>поселок шушары</th>\n",
       "      <td>393</td>\n",
       "      <td>78.341625</td>\n",
       "    </tr>\n",
       "    <tr>\n",
       "      <th>пушкин</th>\n",
       "      <td>344</td>\n",
       "      <td>103.427481</td>\n",
       "    </tr>\n",
       "    <tr>\n",
       "      <th>колпино</th>\n",
       "      <td>327</td>\n",
       "      <td>75.321096</td>\n",
       "    </tr>\n",
       "    <tr>\n",
       "      <th>поселок парголово</th>\n",
       "      <td>293</td>\n",
       "      <td>90.182439</td>\n",
       "    </tr>\n",
       "    <tr>\n",
       "      <th>петергоф</th>\n",
       "      <td>197</td>\n",
       "      <td>84.480970</td>\n",
       "    </tr>\n",
       "    <tr>\n",
       "      <th>сестрорецк</th>\n",
       "      <td>165</td>\n",
       "      <td>101.352361</td>\n",
       "    </tr>\n",
       "    <tr>\n",
       "      <th>красное село</th>\n",
       "      <td>165</td>\n",
       "      <td>72.279146</td>\n",
       "    </tr>\n",
       "    <tr>\n",
       "      <th>ломоносов</th>\n",
       "      <td>128</td>\n",
       "      <td>72.811422</td>\n",
       "    </tr>\n",
       "    <tr>\n",
       "      <th>кронштадт</th>\n",
       "      <td>90</td>\n",
       "      <td>79.454509</td>\n",
       "    </tr>\n",
       "  </tbody>\n",
       "</table>\n",
       "</div>"
      ],
      "text/plain": [
       "                   count        mean\n",
       "locality_name                       \n",
       "санкт-петербург    14381  113.342639\n",
       "поселок шушары       393   78.341625\n",
       "пушкин               344  103.427481\n",
       "колпино              327   75.321096\n",
       "поселок парголово    293   90.182439\n",
       "петергоф             197   84.480970\n",
       "сестрорецк           165  101.352361\n",
       "красное село         165   72.279146\n",
       "ломоносов            128   72.811422\n",
       "кронштадт             90   79.454509"
      ]
     },
     "execution_count": 85,
     "metadata": {},
     "output_type": "execute_result"
    }
   ],
   "source": [
    "locality = locality.pivot_table(index='locality_name', values='price_meter', aggfunc=['count', 'mean'])\n",
    "locality.columns = ['count', 'mean']\n",
    "locality = locality.sort_values(by='count', ascending=False).head(10)\n",
    "locality"
   ]
  },
  {
   "cell_type": "code",
   "execution_count": 86,
   "metadata": {},
   "outputs": [
    {
     "data": {
      "text/html": [
       "<div>\n",
       "<style scoped>\n",
       "    .dataframe tbody tr th:only-of-type {\n",
       "        vertical-align: middle;\n",
       "    }\n",
       "\n",
       "    .dataframe tbody tr th {\n",
       "        vertical-align: top;\n",
       "    }\n",
       "\n",
       "    .dataframe thead th {\n",
       "        text-align: right;\n",
       "    }\n",
       "</style>\n",
       "<table border=\"1\" class=\"dataframe\">\n",
       "  <thead>\n",
       "    <tr style=\"text-align: right;\">\n",
       "      <th></th>\n",
       "      <th>count</th>\n",
       "      <th>mean</th>\n",
       "    </tr>\n",
       "    <tr>\n",
       "      <th>locality_name</th>\n",
       "      <th></th>\n",
       "      <th></th>\n",
       "    </tr>\n",
       "  </thead>\n",
       "  <tbody>\n",
       "    <tr>\n",
       "      <th>санкт-петербург</th>\n",
       "      <td>14381</td>\n",
       "      <td>113.342639</td>\n",
       "    </tr>\n",
       "    <tr>\n",
       "      <th>пушкин</th>\n",
       "      <td>344</td>\n",
       "      <td>103.427481</td>\n",
       "    </tr>\n",
       "    <tr>\n",
       "      <th>сестрорецк</th>\n",
       "      <td>165</td>\n",
       "      <td>101.352361</td>\n",
       "    </tr>\n",
       "    <tr>\n",
       "      <th>поселок парголово</th>\n",
       "      <td>293</td>\n",
       "      <td>90.182439</td>\n",
       "    </tr>\n",
       "    <tr>\n",
       "      <th>петергоф</th>\n",
       "      <td>197</td>\n",
       "      <td>84.480970</td>\n",
       "    </tr>\n",
       "    <tr>\n",
       "      <th>кронштадт</th>\n",
       "      <td>90</td>\n",
       "      <td>79.454509</td>\n",
       "    </tr>\n",
       "    <tr>\n",
       "      <th>поселок шушары</th>\n",
       "      <td>393</td>\n",
       "      <td>78.341625</td>\n",
       "    </tr>\n",
       "    <tr>\n",
       "      <th>колпино</th>\n",
       "      <td>327</td>\n",
       "      <td>75.321096</td>\n",
       "    </tr>\n",
       "    <tr>\n",
       "      <th>ломоносов</th>\n",
       "      <td>128</td>\n",
       "      <td>72.811422</td>\n",
       "    </tr>\n",
       "    <tr>\n",
       "      <th>красное село</th>\n",
       "      <td>165</td>\n",
       "      <td>72.279146</td>\n",
       "    </tr>\n",
       "  </tbody>\n",
       "</table>\n",
       "</div>"
      ],
      "text/plain": [
       "                   count        mean\n",
       "locality_name                       \n",
       "санкт-петербург    14381  113.342639\n",
       "пушкин               344  103.427481\n",
       "сестрорецк           165  101.352361\n",
       "поселок парголово    293   90.182439\n",
       "петергоф             197   84.480970\n",
       "кронштадт             90   79.454509\n",
       "поселок шушары       393   78.341625\n",
       "колпино              327   75.321096\n",
       "ломоносов            128   72.811422\n",
       "красное село         165   72.279146"
      ]
     },
     "execution_count": 86,
     "metadata": {},
     "output_type": "execute_result"
    }
   ],
   "source": [
    "locality.sort_values(by='mean', ascending=False)"
   ]
  },
  {
   "cell_type": "markdown",
   "metadata": {},
   "source": [
    "**Вывод:** Самая высокая средняя стоимость среди населенных пунктов с наибольшим количеством объявлений наблюдается в Санкт-Петербурге, Пушкине и Сестрорецке, меньше всего средняя цена за квадратный метр в Колпино, Ломоносове и Красном Селе."
   ]
  },
  {
   "cell_type": "markdown",
   "metadata": {},
   "source": [
    "#### Стоимость квартир в Санкт-Петербурге в зависимости от расстояния до центра"
   ]
  },
  {
   "cell_type": "markdown",
   "metadata": {},
   "source": [
    "Средняя цена каждого километра:"
   ]
  },
  {
   "cell_type": "code",
   "execution_count": 87,
   "metadata": {},
   "outputs": [
    {
     "data": {
      "text/plain": [
       "684.6880836510113"
      ]
     },
     "execution_count": 87,
     "metadata": {},
     "output_type": "execute_result"
    }
   ],
   "source": [
    "saint_p = data.loc[data['locality_name']=='санкт-петербург']\n",
    "sum(saint_p['last_price'])/sum(saint_p['center_distance'])"
   ]
  },
  {
   "cell_type": "markdown",
   "metadata": {},
   "source": [
    "Посмотрим влиет ли расстояние до центра на цену объекта:"
   ]
  },
  {
   "cell_type": "code",
   "execution_count": 88,
   "metadata": {
    "scrolled": true
   },
   "outputs": [
    {
     "data": {
      "text/plain": [
       "<AxesSubplot:xlabel='center_distance', ylabel='last_price'>"
      ]
     },
     "execution_count": 88,
     "metadata": {},
     "output_type": "execute_result"
    },
    {
     "data": {
      "image/png": "[encoded data removed]",
      "text/plain": [
       "<Figure size 432x288 with 1 Axes>"
      ]
     },
     "metadata": {
      "needs_background": "light"
     },
     "output_type": "display_data"
    }
   ],
   "source": [
    "saint_p.plot(y='last_price', x='center_distance', kind='scatter', alpha=0.1) "
   ]
  },
  {
   "cell_type": "code",
   "execution_count": 89,
   "metadata": {},
   "outputs": [
    {
     "data": {
      "text/plain": [
       "-0.20191262316791014"
      ]
     },
     "execution_count": 89,
     "metadata": {},
     "output_type": "execute_result"
    }
   ],
   "source": [
    "data['last_price'].corr(data['center_distance'])"
   ]
  },
  {
   "cell_type": "markdown",
   "metadata": {},
   "source": [
    "**Вывод:** в среднем один километр до центра стоит 693722 руб., также стоит отметить, что между расстоянием до центра и стоимостью объекта прослеживается небольшая (слабая) зависимость: при уменьшении расстояния до центра увеличивается цена."
   ]
  },
  {
   "cell_type": "markdown",
   "metadata": {},
   "source": [
    "### Общий вывод"
   ]
  },
  {
   "cell_type": "markdown",
   "metadata": {},
   "source": [
    "В результате работы были определены особенности объектов, размещенных в объявлениях:  \n",
    "* в основном площадь объектов составляет около 54 кв. метров\n",
    "* значения жилой площади варьируются от 12 до 409.7 кв метров, чаще всего жилая площадь составляет около 30 кв. метров\n",
    "* площадь кухонь в квартирах в основном составляет примерно 10 кв. метров\n",
    "* цены на объекты варьируются от 12190 до 763000000 рублей, в основном значения стоимости объектов концентрируется около 4650000 руб.\n",
    "* больше всего объектов с 1-2 комнатами, редко встечаются объекты с более 6 комнатами\n",
    "* высота потолков объектов варьируется от 1 до 14 метров, чаще всего можно встретить потолки около 2.65 метров, очень редко - полотки от 4 метров высотой\n",
    "* большая часть объектов расположена на 1-5 этажах\n",
    "* в основном встречаются объекты в домах с 5 этажами, также достаточно много объектов в девятиэтажках, очень редко встречаются объекты в домах с более чем 30 этажами\n",
    "* расстояния от объекта до центра города варьируются от 181м до 65968м, больше всего объектов, которые расположены в пределах примерно 10000-17000м от центра\n",
    "* расстояния до ближайших аэропортов варьируются от 6450 до 84869, большая часть объектов расположена достаточно далеко от аэропортов - на расстоянии около 19000м \n",
    "* большая часть объектов расположена примерно в 290-600м от парка\n",
    "* чаще всего объявления публиковали в четверг и вторник, меньше всего публикаций приходилось на выходные, большая часть объявлений была опубликована в ферале-марте, реже всего делают публикации в мае\n",
    "* продажа объекта обычно занимает около 95 дней, если же объявление провисело меньше 42 дней, то такую продажу можно назвать быстрой, необычайно долгие продажи - те, которые занимают более 238 дней\n",
    "  \n",
    "Были также выявлены факторы, влияющие на стоимость квартир. Больше всего на цену влияет общая площадь объекта (по мере возрастания общей площади увеличивается цена), тип этажа (средняя стоимость объектов на первых этажах ялвяется наименьшей, далее идут объекты на других этажах, а на последних этажах располагаются самые дорогие объекты) а также год публикации объявления о продаже (прослеживается снижение стоимости обектов по мере повышения года (кроме 2019 года)).\n",
    "  \n",
    "В работе был проведен анализ населенных пунктов с наибольшим количеством объявлений, выяснилось, что среди таких городов самая высокая средняя стоимость наблюдается в Санкт-Петербурге, Пушкине и Сестрорецке, меньше всего средняя цена за квадратный метр в Колпино, Ломоносове и Красном Селе.\n",
    "  \n",
    "Также была расчитана средняя цена за километр (близости к центру) в Санкт-Петербурге, она составляет 693722 руб., также стоит отметить, что между расстоянием до центра и стоимостью объекта прослеживается небольшая (слабая) зависимость: при уменьшении расстояния до центра увеличивается цена."
   ]
  },
  {
   "cell_type": "markdown",
   "metadata": {},
   "source": [
    "**Чек-лист готовности проекта**\n",
    "\n",
    "Поставьте 'x' в выполненных пунктах. Далее нажмите Shift+Enter."
   ]
  },
  {
   "cell_type": "markdown",
   "metadata": {},
   "source": [
    "- [x]  открыт файл\n",
    "- [x]  файлы изучены (выведены первые строки, метод `info()`, гистограммы и т.д.)\n",
    "- [x]  определены пропущенные значения\n",
    "- [x]  заполнены пропущенные значения там, где это возможно\n",
    "- [x]  есть пояснение, какие пропущенные значения обнаружены\n",
    "- [x]  изменены типы данных\n",
    "- [x]  есть пояснение, в каких столбцах изменены типы и почему\n",
    "- [x]  устранены неявные дубликаты в названиях населённых пунктов\n",
    "- [x]  устранены редкие и выбивающиеся значения (аномалии) во всех столбцах\n",
    "- [x]  посчитано и добавлено в таблицу: цена одного квадратного метра\n",
    "- [x]  посчитано и добавлено в таблицу: день публикации объявления (0 - понедельник, 1 - вторник и т.д.)\n",
    "- [x]  посчитано и добавлено в таблицу: месяц публикации объявления\n",
    "- [x]  посчитано и добавлено в таблицу: год публикации объявления\n",
    "- [x]  посчитано и добавлено в таблицу: тип этажа квартиры (значения — «первый», «последний», «другой»)\n",
    "- [x]  посчитано и добавлено в таблицу: расстояние в км до центра города\n",
    "- [x]  изучены и описаны следующие параметры:\n",
    "        - общая площадь;\n",
    "        - жилая площадь;\n",
    "        - площадь кухни;\n",
    "        - цена объекта;\n",
    "        - количество комнат;\n",
    "        - высота потолков;\n",
    "        - этаж квартиры;\n",
    "        - тип этажа квартиры («первый», «последний», «другой»);\n",
    "        - общее количество этажей в доме;\n",
    "        - расстояние до центра города в метрах;\n",
    "        - расстояние до ближайшего аэропорта;\n",
    "        - расстояние до ближайшего парка;\n",
    "        - день и месяц публикации объявления\n",
    "- [x]  построены гистограммы для каждого параметра\n",
    "- [x]  выполнено задание: \"Изучите, как быстро продавались квартиры (столбец days_exposition). Этот параметр показывает, сколько дней «висело» каждое объявление.\n",
    "    - Постройте гистограмму.\n",
    "    - Посчитайте среднее и медиану.\n",
    "    - В ячейке типа markdown опишите, сколько обычно занимает продажа. Какие продажи можно считать быстрыми, а какие — необычно долгими?\"\n",
    "- [x]  выполнено задание: \"Какие факторы больше всего влияют на общую (полную) стоимость объекта? Постройте графики, которые покажут зависимость цены от указанных ниже параметров. Для подготовки данных перед визуализацией вы можете использовать сводные таблицы.\"\n",
    "        - общей площади;\n",
    "        - жилой площади;\n",
    "        - площади кухни;\n",
    "        - количество комнат;\n",
    "        - типа этажа, на котором расположена квартира (первый, последний, другой);\n",
    "        - даты размещения (день недели, месяц, год);\n",
    "- [x]  выполнено задание: \"Посчитайте среднюю цену одного квадратного метра в 10 населённых пунктах с наибольшим числом объявлений. Выделите населённые пункты с самой высокой и низкой стоимостью квадратного метра. Эти данные можно найти по имени в столбце `locality_name`.\"\n",
    "- [x]  выполнено задание: \"Ранее вы посчитали расстояние до центра в километрах. Теперь выделите квартиры в Санкт-Петербурге с помощью столбца `locality_name` и вычислите среднюю цену каждого километра. Опишите, как стоимость объектов зависит от расстояния до центра города.\"\n",
    "- [x]  в каждом этапе есть промежуточные выводы\n",
    "- [x]  есть общий вывод"
   ]
  }
 ],
 "metadata": {
  "ExecuteTimeLog": [
   {
    "duration": 616,
    "start_time": "2023-01-15T10:37:03.065Z"
   },
   {
    "duration": 124,
    "start_time": "2023-01-15T10:37:42.125Z"
   },
   {
    "duration": 88,
    "start_time": "2023-01-15T10:37:48.725Z"
   },
   {
    "duration": 13,
    "start_time": "2023-01-15T10:37:56.233Z"
   },
   {
    "duration": 435,
    "start_time": "2023-01-15T10:38:20.374Z"
   },
   {
    "duration": 77,
    "start_time": "2023-01-15T10:38:58.205Z"
   },
   {
    "duration": 142,
    "start_time": "2023-01-15T10:40:50.743Z"
   },
   {
    "duration": 116,
    "start_time": "2023-01-15T10:40:57.592Z"
   },
   {
    "duration": 22,
    "start_time": "2023-01-15T10:40:59.745Z"
   },
   {
    "duration": 14,
    "start_time": "2023-01-15T10:41:12.446Z"
   },
   {
    "duration": 2428,
    "start_time": "2023-01-15T10:41:57.997Z"
   },
   {
    "duration": 9,
    "start_time": "2023-01-15T10:44:26.220Z"
   },
   {
    "duration": 16,
    "start_time": "2023-01-15T12:10:54.600Z"
   },
   {
    "duration": 8,
    "start_time": "2023-01-15T12:11:26.093Z"
   },
   {
    "duration": 4,
    "start_time": "2023-01-15T12:11:33.311Z"
   },
   {
    "duration": 5,
    "start_time": "2023-01-15T12:11:36.675Z"
   },
   {
    "duration": 130,
    "start_time": "2023-01-15T12:11:46.116Z"
   },
   {
    "duration": 10,
    "start_time": "2023-01-15T12:11:50.346Z"
   },
   {
    "duration": 45,
    "start_time": "2023-01-16T15:41:50.275Z"
   },
   {
    "duration": 745,
    "start_time": "2023-01-16T15:41:56.535Z"
   },
   {
    "duration": 8,
    "start_time": "2023-01-16T15:42:01.479Z"
   },
   {
    "duration": 9,
    "start_time": "2023-01-16T15:42:05.448Z"
   },
   {
    "duration": 13,
    "start_time": "2023-01-16T15:42:26.056Z"
   },
   {
    "duration": 9,
    "start_time": "2023-01-16T15:42:29.091Z"
   },
   {
    "duration": 111,
    "start_time": "2023-01-16T15:58:01.427Z"
   },
   {
    "duration": 15,
    "start_time": "2023-01-16T15:58:05.575Z"
   },
   {
    "duration": 7,
    "start_time": "2023-01-16T16:15:23.521Z"
   },
   {
    "duration": 13,
    "start_time": "2023-01-16T16:16:35.976Z"
   },
   {
    "duration": 10,
    "start_time": "2023-01-16T16:16:39.395Z"
   },
   {
    "duration": 6,
    "start_time": "2023-01-16T16:19:56.972Z"
   },
   {
    "duration": 9,
    "start_time": "2023-01-16T16:20:03.048Z"
   },
   {
    "duration": 4,
    "start_time": "2023-01-16T16:23:49.694Z"
   },
   {
    "duration": 12,
    "start_time": "2023-01-16T16:23:53.005Z"
   },
   {
    "duration": 13,
    "start_time": "2023-01-16T16:24:32.715Z"
   },
   {
    "duration": 8,
    "start_time": "2023-01-16T16:24:34.553Z"
   },
   {
    "duration": 4,
    "start_time": "2023-01-16T16:44:51.908Z"
   },
   {
    "duration": 7,
    "start_time": "2023-01-16T16:45:12.664Z"
   },
   {
    "duration": 76,
    "start_time": "2023-01-16T16:48:45.350Z"
   },
   {
    "duration": 15,
    "start_time": "2023-01-16T16:48:54.203Z"
   },
   {
    "duration": 46,
    "start_time": "2023-01-16T19:00:42.406Z"
   },
   {
    "duration": 6,
    "start_time": "2023-01-16T19:01:20.862Z"
   },
   {
    "duration": 5,
    "start_time": "2023-01-16T19:10:37.775Z"
   },
   {
    "duration": 7,
    "start_time": "2023-01-16T19:11:22.138Z"
   },
   {
    "duration": 5,
    "start_time": "2023-01-16T19:11:23.477Z"
   },
   {
    "duration": 6,
    "start_time": "2023-01-16T19:11:33.489Z"
   },
   {
    "duration": 7,
    "start_time": "2023-01-16T19:17:53.248Z"
   },
   {
    "duration": 5,
    "start_time": "2023-01-16T19:17:55.350Z"
   },
   {
    "duration": 112,
    "start_time": "2023-01-16T19:19:33.763Z"
   },
   {
    "duration": 12,
    "start_time": "2023-01-16T19:19:46.630Z"
   },
   {
    "duration": 43,
    "start_time": "2023-01-18T06:43:58.695Z"
   },
   {
    "duration": 681,
    "start_time": "2023-01-18T06:44:12.410Z"
   },
   {
    "duration": 14,
    "start_time": "2023-01-18T06:44:13.093Z"
   },
   {
    "duration": 2268,
    "start_time": "2023-01-18T06:44:13.108Z"
   },
   {
    "duration": 9,
    "start_time": "2023-01-18T06:44:15.378Z"
   },
   {
    "duration": 18,
    "start_time": "2023-01-18T06:44:15.389Z"
   },
   {
    "duration": 9,
    "start_time": "2023-01-18T06:44:15.408Z"
   },
   {
    "duration": 5,
    "start_time": "2023-01-18T06:44:15.418Z"
   },
   {
    "duration": 5,
    "start_time": "2023-01-18T06:44:15.425Z"
   },
   {
    "duration": 5,
    "start_time": "2023-01-18T06:44:15.431Z"
   },
   {
    "duration": 7,
    "start_time": "2023-01-18T06:44:15.437Z"
   },
   {
    "duration": 30,
    "start_time": "2023-01-18T06:44:15.445Z"
   },
   {
    "duration": 7,
    "start_time": "2023-01-18T06:44:15.477Z"
   },
   {
    "duration": 8,
    "start_time": "2023-01-18T06:44:21.310Z"
   },
   {
    "duration": 21,
    "start_time": "2023-01-18T06:53:01.513Z"
   },
   {
    "duration": 6,
    "start_time": "2023-01-18T06:56:00.562Z"
   },
   {
    "duration": 10,
    "start_time": "2023-01-18T06:56:10.218Z"
   },
   {
    "duration": 11,
    "start_time": "2023-01-18T06:59:17.908Z"
   },
   {
    "duration": 12,
    "start_time": "2023-01-18T07:19:15.350Z"
   },
   {
    "duration": 41,
    "start_time": "2023-01-18T07:20:59.220Z"
   },
   {
    "duration": 15,
    "start_time": "2023-01-18T07:24:03.422Z"
   },
   {
    "duration": 65,
    "start_time": "2023-01-18T07:25:06.442Z"
   },
   {
    "duration": 6,
    "start_time": "2023-01-18T07:30:45.772Z"
   },
   {
    "duration": 40,
    "start_time": "2023-01-18T07:38:50.842Z"
   },
   {
    "duration": 8,
    "start_time": "2023-01-18T07:39:12.938Z"
   },
   {
    "duration": 8,
    "start_time": "2023-01-18T07:39:22.374Z"
   },
   {
    "duration": 116,
    "start_time": "2023-01-18T07:41:23.535Z"
   },
   {
    "duration": 24,
    "start_time": "2023-01-18T07:41:23.654Z"
   },
   {
    "duration": 2009,
    "start_time": "2023-01-18T07:41:23.679Z"
   },
   {
    "duration": 9,
    "start_time": "2023-01-18T07:41:25.690Z"
   },
   {
    "duration": 12,
    "start_time": "2023-01-18T07:41:25.701Z"
   },
   {
    "duration": 9,
    "start_time": "2023-01-18T07:41:25.715Z"
   },
   {
    "duration": 6,
    "start_time": "2023-01-18T07:41:25.726Z"
   },
   {
    "duration": 34,
    "start_time": "2023-01-18T07:41:25.733Z"
   },
   {
    "duration": 7,
    "start_time": "2023-01-18T07:41:25.769Z"
   },
   {
    "duration": 7,
    "start_time": "2023-01-18T07:41:25.777Z"
   },
   {
    "duration": 8,
    "start_time": "2023-01-18T07:41:25.785Z"
   },
   {
    "duration": 9,
    "start_time": "2023-01-18T07:41:25.795Z"
   },
   {
    "duration": 31,
    "start_time": "2023-01-18T07:41:25.806Z"
   },
   {
    "duration": 18,
    "start_time": "2023-01-18T07:41:38.254Z"
   },
   {
    "duration": 8,
    "start_time": "2023-01-18T07:42:08.652Z"
   },
   {
    "duration": 9,
    "start_time": "2023-01-18T08:03:47.150Z"
   },
   {
    "duration": 8,
    "start_time": "2023-01-18T08:11:13.844Z"
   },
   {
    "duration": 65,
    "start_time": "2023-01-21T06:32:19.091Z"
   },
   {
    "duration": 7,
    "start_time": "2023-01-21T06:32:23.518Z"
   },
   {
    "duration": 598,
    "start_time": "2023-01-21T06:32:28.852Z"
   },
   {
    "duration": 15,
    "start_time": "2023-01-21T06:32:29.452Z"
   },
   {
    "duration": 2441,
    "start_time": "2023-01-21T06:32:29.469Z"
   },
   {
    "duration": 10,
    "start_time": "2023-01-21T06:32:31.912Z"
   },
   {
    "duration": 20,
    "start_time": "2023-01-21T06:32:31.924Z"
   },
   {
    "duration": 9,
    "start_time": "2023-01-21T06:32:31.945Z"
   },
   {
    "duration": 7,
    "start_time": "2023-01-21T06:32:31.956Z"
   },
   {
    "duration": 7,
    "start_time": "2023-01-21T06:32:31.964Z"
   },
   {
    "duration": 9,
    "start_time": "2023-01-21T06:32:31.972Z"
   },
   {
    "duration": 9,
    "start_time": "2023-01-21T06:32:31.983Z"
   },
   {
    "duration": 11,
    "start_time": "2023-01-21T06:32:31.993Z"
   },
   {
    "duration": 9,
    "start_time": "2023-01-21T06:32:32.006Z"
   },
   {
    "duration": 36,
    "start_time": "2023-01-21T06:32:32.017Z"
   },
   {
    "duration": 17,
    "start_time": "2023-01-21T06:32:32.056Z"
   },
   {
    "duration": 82,
    "start_time": "2023-01-21T06:32:32.075Z"
   },
   {
    "duration": 8,
    "start_time": "2023-01-21T06:32:32.158Z"
   },
   {
    "duration": 10,
    "start_time": "2023-01-21T06:32:32.168Z"
   },
   {
    "duration": 8,
    "start_time": "2023-01-21T06:32:40.897Z"
   },
   {
    "duration": 7,
    "start_time": "2023-01-21T06:32:52.810Z"
   },
   {
    "duration": 8,
    "start_time": "2023-01-21T06:33:10.442Z"
   },
   {
    "duration": 13,
    "start_time": "2023-01-21T06:37:33.372Z"
   },
   {
    "duration": 6,
    "start_time": "2023-01-21T06:37:37.782Z"
   },
   {
    "duration": 16,
    "start_time": "2023-01-21T06:37:53.038Z"
   },
   {
    "duration": 9,
    "start_time": "2023-01-21T06:38:09.055Z"
   },
   {
    "duration": 16,
    "start_time": "2023-01-21T06:38:17.055Z"
   },
   {
    "duration": 19,
    "start_time": "2023-01-21T06:38:34.104Z"
   },
   {
    "duration": 4,
    "start_time": "2023-01-21T06:47:17.003Z"
   },
   {
    "duration": 5,
    "start_time": "2023-01-21T06:56:33.162Z"
   },
   {
    "duration": 5,
    "start_time": "2023-01-21T06:57:17.757Z"
   },
   {
    "duration": 6,
    "start_time": "2023-01-21T06:57:50.027Z"
   },
   {
    "duration": 4,
    "start_time": "2023-01-21T09:39:33.144Z"
   },
   {
    "duration": 365,
    "start_time": "2023-01-21T09:39:34.417Z"
   },
   {
    "duration": 3,
    "start_time": "2023-01-21T09:46:12.934Z"
   },
   {
    "duration": 309,
    "start_time": "2023-01-21T09:46:14.440Z"
   },
   {
    "duration": 33,
    "start_time": "2023-01-21T09:54:26.186Z"
   },
   {
    "duration": 0,
    "start_time": "2023-01-21T09:54:26.221Z"
   },
   {
    "duration": 4,
    "start_time": "2023-01-21T09:58:36.338Z"
   },
   {
    "duration": 25,
    "start_time": "2023-01-21T09:58:38.322Z"
   },
   {
    "duration": 17,
    "start_time": "2023-01-21T09:59:27.336Z"
   },
   {
    "duration": 13,
    "start_time": "2023-01-21T09:59:29.423Z"
   },
   {
    "duration": 4,
    "start_time": "2023-01-21T10:02:25.268Z"
   },
   {
    "duration": 203,
    "start_time": "2023-01-21T10:51:57.450Z"
   },
   {
    "duration": 136,
    "start_time": "2023-01-21T10:52:02.671Z"
   },
   {
    "duration": 183,
    "start_time": "2023-01-21T10:52:08.341Z"
   },
   {
    "duration": 127,
    "start_time": "2023-01-21T10:53:00.101Z"
   },
   {
    "duration": 108,
    "start_time": "2023-01-21T10:53:03.867Z"
   },
   {
    "duration": 168,
    "start_time": "2023-01-21T10:53:09.341Z"
   },
   {
    "duration": 157,
    "start_time": "2023-01-21T10:53:14.960Z"
   },
   {
    "duration": 9,
    "start_time": "2023-01-21T11:10:10.469Z"
   },
   {
    "duration": 9,
    "start_time": "2023-01-21T12:04:33.639Z"
   },
   {
    "duration": 188,
    "start_time": "2023-01-21T12:04:56.873Z"
   },
   {
    "duration": 216,
    "start_time": "2023-01-21T12:05:00.987Z"
   },
   {
    "duration": 172,
    "start_time": "2023-01-21T12:05:06.670Z"
   },
   {
    "duration": 205,
    "start_time": "2023-01-21T12:05:10.814Z"
   },
   {
    "duration": 301,
    "start_time": "2023-01-21T12:05:14.746Z"
   },
   {
    "duration": 11,
    "start_time": "2023-01-21T12:08:46.257Z"
   },
   {
    "duration": 9,
    "start_time": "2023-01-21T12:17:50.878Z"
   },
   {
    "duration": 163,
    "start_time": "2023-01-21T12:17:54.645Z"
   },
   {
    "duration": 9,
    "start_time": "2023-01-21T12:17:58.389Z"
   },
   {
    "duration": 9,
    "start_time": "2023-01-21T12:18:00.972Z"
   },
   {
    "duration": 200,
    "start_time": "2023-01-21T12:18:03.104Z"
   },
   {
    "duration": 6,
    "start_time": "2023-01-21T12:22:43.145Z"
   },
   {
    "duration": 9,
    "start_time": "2023-01-21T12:54:14.209Z"
   },
   {
    "duration": 165,
    "start_time": "2023-01-21T12:54:32.368Z"
   },
   {
    "duration": 214,
    "start_time": "2023-01-21T12:54:36.869Z"
   },
   {
    "duration": 199,
    "start_time": "2023-01-21T12:54:41.246Z"
   },
   {
    "duration": 181,
    "start_time": "2023-01-21T12:54:44.678Z"
   },
   {
    "duration": 357,
    "start_time": "2023-01-21T12:54:57.936Z"
   },
   {
    "duration": 224,
    "start_time": "2023-01-21T12:55:04.386Z"
   },
   {
    "duration": 227,
    "start_time": "2023-01-21T12:55:10.211Z"
   },
   {
    "duration": 10,
    "start_time": "2023-01-21T13:12:24.152Z"
   },
   {
    "duration": 286,
    "start_time": "2023-01-21T13:12:47.134Z"
   },
   {
    "duration": 132,
    "start_time": "2023-01-21T13:12:58.159Z"
   },
   {
    "duration": 182,
    "start_time": "2023-01-21T13:13:02.647Z"
   },
   {
    "duration": 1434,
    "start_time": "2023-01-21T13:19:52.255Z"
   },
   {
    "duration": 409,
    "start_time": "2023-01-21T13:19:59.016Z"
   },
   {
    "duration": 10,
    "start_time": "2023-01-21T13:24:52.290Z"
   },
   {
    "duration": 141,
    "start_time": "2023-01-21T13:25:06.705Z"
   },
   {
    "duration": 242,
    "start_time": "2023-01-21T13:25:13.618Z"
   },
   {
    "duration": 191,
    "start_time": "2023-01-21T13:25:18.154Z"
   },
   {
    "duration": 127,
    "start_time": "2023-01-21T13:25:34.168Z"
   },
   {
    "duration": 151,
    "start_time": "2023-01-21T13:25:44.549Z"
   },
   {
    "duration": 171,
    "start_time": "2023-01-21T13:25:59.764Z"
   },
   {
    "duration": 8,
    "start_time": "2023-01-21T14:29:52.955Z"
   },
   {
    "duration": 1484,
    "start_time": "2023-01-21T14:38:15.755Z"
   },
   {
    "duration": 247,
    "start_time": "2023-01-21T14:38:22.609Z"
   },
   {
    "duration": 10,
    "start_time": "2023-01-21T14:40:35.504Z"
   },
   {
    "duration": 8,
    "start_time": "2023-01-21T14:40:52.704Z"
   },
   {
    "duration": 10,
    "start_time": "2023-01-21T14:46:40.498Z"
   },
   {
    "duration": 44,
    "start_time": "2023-01-22T09:26:24.484Z"
   },
   {
    "duration": 712,
    "start_time": "2023-01-22T09:26:39.324Z"
   },
   {
    "duration": 15,
    "start_time": "2023-01-22T09:26:40.037Z"
   },
   {
    "duration": 2334,
    "start_time": "2023-01-22T09:26:40.054Z"
   },
   {
    "duration": 11,
    "start_time": "2023-01-22T09:26:42.390Z"
   },
   {
    "duration": 20,
    "start_time": "2023-01-22T09:26:42.402Z"
   },
   {
    "duration": 10,
    "start_time": "2023-01-22T09:26:42.424Z"
   },
   {
    "duration": 5,
    "start_time": "2023-01-22T09:26:42.436Z"
   },
   {
    "duration": 6,
    "start_time": "2023-01-22T09:26:42.443Z"
   },
   {
    "duration": 6,
    "start_time": "2023-01-22T09:26:42.450Z"
   },
   {
    "duration": 5,
    "start_time": "2023-01-22T09:26:42.468Z"
   },
   {
    "duration": 9,
    "start_time": "2023-01-22T09:26:42.475Z"
   },
   {
    "duration": 18,
    "start_time": "2023-01-22T09:26:42.486Z"
   },
   {
    "duration": 21,
    "start_time": "2023-01-22T09:26:42.505Z"
   },
   {
    "duration": 17,
    "start_time": "2023-01-22T09:26:42.527Z"
   },
   {
    "duration": 88,
    "start_time": "2023-01-22T09:26:42.546Z"
   },
   {
    "duration": 6,
    "start_time": "2023-01-22T09:26:42.636Z"
   },
   {
    "duration": 31,
    "start_time": "2023-01-22T09:26:42.643Z"
   },
   {
    "duration": 7,
    "start_time": "2023-01-22T09:26:42.676Z"
   },
   {
    "duration": 8,
    "start_time": "2023-01-22T09:26:42.685Z"
   },
   {
    "duration": 5,
    "start_time": "2023-01-22T09:26:42.695Z"
   },
   {
    "duration": 7,
    "start_time": "2023-01-22T09:26:42.702Z"
   },
   {
    "duration": 8,
    "start_time": "2023-01-22T09:26:42.711Z"
   },
   {
    "duration": 6,
    "start_time": "2023-01-22T09:26:42.720Z"
   },
   {
    "duration": 4,
    "start_time": "2023-01-22T09:26:42.727Z"
   },
   {
    "duration": 373,
    "start_time": "2023-01-22T09:26:42.733Z"
   },
   {
    "duration": 4,
    "start_time": "2023-01-22T09:26:43.108Z"
   },
   {
    "duration": 37,
    "start_time": "2023-01-22T09:26:43.113Z"
   },
   {
    "duration": 16,
    "start_time": "2023-01-22T09:26:43.154Z"
   },
   {
    "duration": 217,
    "start_time": "2023-01-22T09:26:43.172Z"
   },
   {
    "duration": 8,
    "start_time": "2023-01-22T09:26:43.391Z"
   },
   {
    "duration": 292,
    "start_time": "2023-01-22T09:26:43.400Z"
   },
   {
    "duration": 8,
    "start_time": "2023-01-22T09:26:43.694Z"
   },
   {
    "duration": 239,
    "start_time": "2023-01-22T09:26:43.704Z"
   },
   {
    "duration": 9,
    "start_time": "2023-01-22T09:26:43.945Z"
   },
   {
    "duration": 255,
    "start_time": "2023-01-22T09:26:43.967Z"
   },
   {
    "duration": 7,
    "start_time": "2023-01-22T09:26:44.224Z"
   },
   {
    "duration": 2,
    "start_time": "2023-01-22T09:26:44.233Z"
   },
   {
    "duration": 11,
    "start_time": "2023-01-22T09:26:44.237Z"
   },
   {
    "duration": 246,
    "start_time": "2023-01-22T09:26:52.023Z"
   },
   {
    "duration": 42,
    "start_time": "2023-01-22T09:31:06.229Z"
   },
   {
    "duration": 28,
    "start_time": "2023-01-22T09:31:27.483Z"
   },
   {
    "duration": 13,
    "start_time": "2023-01-22T09:31:40.544Z"
   },
   {
    "duration": 25,
    "start_time": "2023-01-22T09:37:39.867Z"
   },
   {
    "duration": 6,
    "start_time": "2023-01-22T09:38:00.712Z"
   },
   {
    "duration": 135,
    "start_time": "2023-01-22T09:38:54.434Z"
   },
   {
    "duration": 245,
    "start_time": "2023-01-22T09:39:00.117Z"
   },
   {
    "duration": 8,
    "start_time": "2023-01-22T09:42:06.986Z"
   },
   {
    "duration": 6,
    "start_time": "2023-01-22T09:42:18.481Z"
   },
   {
    "duration": 336,
    "start_time": "2023-01-22T09:42:41.994Z"
   },
   {
    "duration": 8,
    "start_time": "2023-01-22T09:50:00.636Z"
   },
   {
    "duration": 7,
    "start_time": "2023-01-22T09:52:31.553Z"
   },
   {
    "duration": 33403,
    "start_time": "2023-01-22T09:52:36.733Z"
   },
   {
    "duration": 242,
    "start_time": "2023-01-22T09:56:40.687Z"
   },
   {
    "duration": 3356,
    "start_time": "2023-01-22T09:56:44.766Z"
   },
   {
    "duration": 135,
    "start_time": "2023-01-22T09:56:51.235Z"
   },
   {
    "duration": 10,
    "start_time": "2023-01-22T09:58:44.276Z"
   },
   {
    "duration": 275,
    "start_time": "2023-01-22T09:58:55.591Z"
   },
   {
    "duration": 5404,
    "start_time": "2023-01-22T10:00:58.211Z"
   },
   {
    "duration": 3522,
    "start_time": "2023-01-22T10:01:13.164Z"
   },
   {
    "duration": 11,
    "start_time": "2023-01-22T10:13:58.342Z"
   },
   {
    "duration": 274,
    "start_time": "2023-01-22T10:14:10.840Z"
   },
   {
    "duration": 1737,
    "start_time": "2023-01-22T10:14:14.340Z"
   },
   {
    "duration": 249,
    "start_time": "2023-01-22T10:14:20.992Z"
   },
   {
    "duration": 13,
    "start_time": "2023-01-22T10:25:29.572Z"
   },
   {
    "duration": 251,
    "start_time": "2023-01-22T10:25:40.590Z"
   },
   {
    "duration": 1672,
    "start_time": "2023-01-22T10:29:03.306Z"
   },
   {
    "duration": 221,
    "start_time": "2023-01-22T10:29:09.547Z"
   },
   {
    "duration": 12,
    "start_time": "2023-01-22T10:35:28.813Z"
   },
   {
    "duration": 9,
    "start_time": "2023-01-22T10:35:37.320Z"
   },
   {
    "duration": 6,
    "start_time": "2023-01-22T10:43:19.192Z"
   },
   {
    "duration": 6,
    "start_time": "2023-01-22T10:43:22.329Z"
   },
   {
    "duration": 6,
    "start_time": "2023-01-22T10:44:00.681Z"
   },
   {
    "duration": 9,
    "start_time": "2023-01-22T10:44:07.646Z"
   },
   {
    "duration": 239,
    "start_time": "2023-01-22T10:44:09.356Z"
   },
   {
    "duration": 11,
    "start_time": "2023-01-22T10:45:32.161Z"
   },
   {
    "duration": 225,
    "start_time": "2023-01-22T10:45:49.189Z"
   },
   {
    "duration": 6,
    "start_time": "2023-01-22T10:48:17.350Z"
   },
   {
    "duration": 5,
    "start_time": "2023-01-22T10:48:22.184Z"
   },
   {
    "duration": 6,
    "start_time": "2023-01-22T10:48:26.817Z"
   },
   {
    "duration": 10,
    "start_time": "2023-01-22T10:48:45.367Z"
   },
   {
    "duration": 5,
    "start_time": "2023-01-22T10:48:51.389Z"
   },
   {
    "duration": 10,
    "start_time": "2023-01-22T10:48:57.251Z"
   },
   {
    "duration": 223,
    "start_time": "2023-01-22T10:49:06.433Z"
   },
   {
    "duration": 5,
    "start_time": "2023-01-22T10:50:02.989Z"
   },
   {
    "duration": 4,
    "start_time": "2023-01-22T10:51:07.857Z"
   },
   {
    "duration": 8,
    "start_time": "2023-01-22T10:51:24.223Z"
   },
   {
    "duration": 230,
    "start_time": "2023-01-22T10:51:26.005Z"
   },
   {
    "duration": 6,
    "start_time": "2023-01-22T10:51:49.953Z"
   },
   {
    "duration": 6,
    "start_time": "2023-01-22T10:52:34.197Z"
   },
   {
    "duration": 243,
    "start_time": "2023-01-22T10:52:44.074Z"
   },
   {
    "duration": 138,
    "start_time": "2023-01-22T13:27:00.599Z"
   },
   {
    "duration": 250,
    "start_time": "2023-01-22T13:27:07.336Z"
   },
   {
    "duration": 193,
    "start_time": "2023-01-22T13:27:12.642Z"
   },
   {
    "duration": 558,
    "start_time": "2023-01-22T13:27:16.146Z"
   },
   {
    "duration": 6,
    "start_time": "2023-01-22T13:29:45.332Z"
   },
   {
    "duration": 5,
    "start_time": "2023-01-22T13:37:05.347Z"
   },
   {
    "duration": 8,
    "start_time": "2023-01-22T13:37:10.046Z"
   },
   {
    "duration": 46,
    "start_time": "2023-01-23T19:39:11.332Z"
   },
   {
    "duration": 804,
    "start_time": "2023-01-23T19:39:17.094Z"
   },
   {
    "duration": 15,
    "start_time": "2023-01-23T19:39:17.900Z"
   },
   {
    "duration": 3449,
    "start_time": "2023-01-23T19:39:17.916Z"
   },
   {
    "duration": 11,
    "start_time": "2023-01-23T19:39:21.367Z"
   },
   {
    "duration": 24,
    "start_time": "2023-01-23T19:39:21.380Z"
   },
   {
    "duration": 11,
    "start_time": "2023-01-23T19:39:21.405Z"
   },
   {
    "duration": 11,
    "start_time": "2023-01-23T19:39:21.417Z"
   },
   {
    "duration": 8,
    "start_time": "2023-01-23T19:39:21.430Z"
   },
   {
    "duration": 10,
    "start_time": "2023-01-23T19:39:21.439Z"
   },
   {
    "duration": 13,
    "start_time": "2023-01-23T19:39:21.451Z"
   },
   {
    "duration": 21,
    "start_time": "2023-01-23T19:39:21.466Z"
   },
   {
    "duration": 22,
    "start_time": "2023-01-23T19:39:21.489Z"
   },
   {
    "duration": 40,
    "start_time": "2023-01-23T19:39:21.513Z"
   },
   {
    "duration": 31,
    "start_time": "2023-01-23T19:39:21.557Z"
   },
   {
    "duration": 88,
    "start_time": "2023-01-23T19:39:21.591Z"
   },
   {
    "duration": 8,
    "start_time": "2023-01-23T19:39:21.681Z"
   },
   {
    "duration": 24,
    "start_time": "2023-01-23T19:39:21.690Z"
   },
   {
    "duration": 11,
    "start_time": "2023-01-23T19:39:21.715Z"
   },
   {
    "duration": 7,
    "start_time": "2023-01-23T19:39:21.727Z"
   },
   {
    "duration": 13,
    "start_time": "2023-01-23T19:39:21.735Z"
   },
   {
    "duration": 4,
    "start_time": "2023-01-23T19:39:21.750Z"
   },
   {
    "duration": 24,
    "start_time": "2023-01-23T19:39:21.755Z"
   },
   {
    "duration": 10,
    "start_time": "2023-01-23T19:39:21.781Z"
   },
   {
    "duration": 5,
    "start_time": "2023-01-23T19:39:21.793Z"
   },
   {
    "duration": 14,
    "start_time": "2023-01-23T19:39:21.799Z"
   },
   {
    "duration": 260,
    "start_time": "2023-01-23T19:39:21.814Z"
   },
   {
    "duration": 5,
    "start_time": "2023-01-23T19:39:22.076Z"
   },
   {
    "duration": 26,
    "start_time": "2023-01-23T19:39:22.083Z"
   },
   {
    "duration": 9,
    "start_time": "2023-01-23T19:39:22.110Z"
   },
   {
    "duration": 270,
    "start_time": "2023-01-23T19:39:22.120Z"
   },
   {
    "duration": 11,
    "start_time": "2023-01-23T19:39:22.391Z"
   },
   {
    "duration": 334,
    "start_time": "2023-01-23T19:39:22.404Z"
   },
   {
    "duration": 11,
    "start_time": "2023-01-23T19:39:22.741Z"
   },
   {
    "duration": 333,
    "start_time": "2023-01-23T19:39:22.753Z"
   },
   {
    "duration": 28,
    "start_time": "2023-01-23T19:39:23.090Z"
   },
   {
    "duration": 443,
    "start_time": "2023-01-23T19:39:23.124Z"
   },
   {
    "duration": 16,
    "start_time": "2023-01-23T19:39:23.569Z"
   },
   {
    "duration": 50,
    "start_time": "2023-01-23T19:39:23.587Z"
   },
   {
    "duration": 324,
    "start_time": "2023-01-23T19:39:23.639Z"
   },
   {
    "duration": 8,
    "start_time": "2023-01-23T19:39:23.965Z"
   },
   {
    "duration": 265,
    "start_time": "2023-01-23T19:39:23.983Z"
   },
   {
    "duration": 8,
    "start_time": "2023-01-23T19:39:24.250Z"
   },
   {
    "duration": 248,
    "start_time": "2023-01-23T19:39:24.259Z"
   },
   {
    "duration": 7,
    "start_time": "2023-01-23T19:39:24.509Z"
   },
   {
    "duration": 134,
    "start_time": "2023-01-23T19:39:24.518Z"
   },
   {
    "duration": 8,
    "start_time": "2023-01-23T19:39:24.654Z"
   },
   {
    "duration": 275,
    "start_time": "2023-01-23T19:39:24.663Z"
   },
   {
    "duration": 9,
    "start_time": "2023-01-23T19:39:24.940Z"
   },
   {
    "duration": 379,
    "start_time": "2023-01-23T19:39:24.951Z"
   },
   {
    "duration": 8,
    "start_time": "2023-01-23T19:39:25.332Z"
   },
   {
    "duration": 284,
    "start_time": "2023-01-23T19:39:25.343Z"
   },
   {
    "duration": 11,
    "start_time": "2023-01-23T19:39:25.629Z"
   },
   {
    "duration": 223,
    "start_time": "2023-01-23T19:39:25.642Z"
   },
   {
    "duration": 16,
    "start_time": "2023-01-23T19:39:25.867Z"
   },
   {
    "duration": 303,
    "start_time": "2023-01-23T19:39:25.884Z"
   },
   {
    "duration": 7,
    "start_time": "2023-01-23T19:39:26.189Z"
   },
   {
    "duration": 357,
    "start_time": "2023-01-23T19:39:26.197Z"
   },
   {
    "duration": 289,
    "start_time": "2023-01-23T19:39:26.556Z"
   },
   {
    "duration": 11,
    "start_time": "2023-01-23T19:39:26.847Z"
   },
   {
    "duration": 5,
    "start_time": "2023-01-23T19:39:26.860Z"
   },
   {
    "duration": 62,
    "start_time": "2023-01-23T19:39:26.867Z"
   },
   {
    "duration": 9,
    "start_time": "2023-01-23T19:39:32.836Z"
   },
   {
    "duration": 10,
    "start_time": "2023-01-23T19:39:41.415Z"
   },
   {
    "duration": 30,
    "start_time": "2023-01-23T19:40:00.866Z"
   },
   {
    "duration": 169,
    "start_time": "2023-01-23T19:42:19.957Z"
   },
   {
    "duration": 154,
    "start_time": "2023-01-23T19:43:17.611Z"
   },
   {
    "duration": 160,
    "start_time": "2023-01-23T19:43:22.182Z"
   },
   {
    "duration": 177,
    "start_time": "2023-01-23T19:43:25.678Z"
   },
   {
    "duration": 6,
    "start_time": "2023-01-23T19:44:17.120Z"
   },
   {
    "duration": 6,
    "start_time": "2023-01-23T19:48:04.923Z"
   },
   {
    "duration": 341,
    "start_time": "2023-01-23T19:48:15.804Z"
   },
   {
    "duration": 7,
    "start_time": "2023-01-23T19:51:00.046Z"
   },
   {
    "duration": 157,
    "start_time": "2023-01-23T19:51:11.347Z"
   },
   {
    "duration": 163,
    "start_time": "2023-01-23T19:51:27.731Z"
   },
   {
    "duration": 191,
    "start_time": "2023-01-23T19:51:37.291Z"
   },
   {
    "duration": 192,
    "start_time": "2023-01-23T19:51:43.490Z"
   },
   {
    "duration": 6,
    "start_time": "2023-01-23T19:54:47.349Z"
   },
   {
    "duration": 182,
    "start_time": "2023-01-23T19:54:56.591Z"
   },
   {
    "duration": 10,
    "start_time": "2023-01-23T19:55:10.670Z"
   },
   {
    "duration": 205,
    "start_time": "2023-01-23T19:55:19.944Z"
   },
   {
    "duration": 0,
    "start_time": "2023-01-23T19:56:26.750Z"
   },
   {
    "duration": 45,
    "start_time": "2023-01-24T08:15:48.769Z"
   },
   {
    "duration": 684,
    "start_time": "2023-01-24T08:15:54.031Z"
   },
   {
    "duration": 15,
    "start_time": "2023-01-24T08:15:54.717Z"
   },
   {
    "duration": 3038,
    "start_time": "2023-01-24T08:15:54.734Z"
   },
   {
    "duration": 12,
    "start_time": "2023-01-24T08:15:57.774Z"
   },
   {
    "duration": 18,
    "start_time": "2023-01-24T08:15:57.789Z"
   },
   {
    "duration": 9,
    "start_time": "2023-01-24T08:15:57.809Z"
   },
   {
    "duration": 5,
    "start_time": "2023-01-24T08:15:57.820Z"
   },
   {
    "duration": 4,
    "start_time": "2023-01-24T08:15:57.827Z"
   },
   {
    "duration": 34,
    "start_time": "2023-01-24T08:15:57.833Z"
   },
   {
    "duration": 7,
    "start_time": "2023-01-24T08:15:57.869Z"
   },
   {
    "duration": 9,
    "start_time": "2023-01-24T08:15:57.877Z"
   },
   {
    "duration": 8,
    "start_time": "2023-01-24T08:15:57.888Z"
   },
   {
    "duration": 19,
    "start_time": "2023-01-24T08:15:57.898Z"
   },
   {
    "duration": 16,
    "start_time": "2023-01-24T08:15:57.920Z"
   },
   {
    "duration": 94,
    "start_time": "2023-01-24T08:15:57.937Z"
   },
   {
    "duration": 7,
    "start_time": "2023-01-24T08:15:58.032Z"
   },
   {
    "duration": 29,
    "start_time": "2023-01-24T08:15:58.040Z"
   },
   {
    "duration": 6,
    "start_time": "2023-01-24T08:15:58.072Z"
   },
   {
    "duration": 16,
    "start_time": "2023-01-24T08:15:58.080Z"
   },
   {
    "duration": 20,
    "start_time": "2023-01-24T08:15:58.097Z"
   },
   {
    "duration": 18,
    "start_time": "2023-01-24T08:15:58.119Z"
   },
   {
    "duration": 35,
    "start_time": "2023-01-24T08:15:58.138Z"
   },
   {
    "duration": 9,
    "start_time": "2023-01-24T08:15:58.175Z"
   },
   {
    "duration": 5,
    "start_time": "2023-01-24T08:15:58.186Z"
   },
   {
    "duration": 4,
    "start_time": "2023-01-24T08:15:58.192Z"
   },
   {
    "duration": 234,
    "start_time": "2023-01-24T08:15:58.197Z"
   },
   {
    "duration": 4,
    "start_time": "2023-01-24T08:15:58.433Z"
   },
   {
    "duration": 33,
    "start_time": "2023-01-24T08:15:58.438Z"
   },
   {
    "duration": 7,
    "start_time": "2023-01-24T08:15:58.473Z"
   },
   {
    "duration": 225,
    "start_time": "2023-01-24T08:15:58.482Z"
   },
   {
    "duration": 7,
    "start_time": "2023-01-24T08:15:58.709Z"
   },
   {
    "duration": 243,
    "start_time": "2023-01-24T08:15:58.718Z"
   },
   {
    "duration": 8,
    "start_time": "2023-01-24T08:15:58.967Z"
   },
   {
    "duration": 233,
    "start_time": "2023-01-24T08:15:58.977Z"
   },
   {
    "duration": 8,
    "start_time": "2023-01-24T08:15:59.212Z"
   },
   {
    "duration": 333,
    "start_time": "2023-01-24T08:15:59.221Z"
   },
   {
    "duration": 12,
    "start_time": "2023-01-24T08:15:59.556Z"
   },
   {
    "duration": 5,
    "start_time": "2023-01-24T08:15:59.569Z"
   },
   {
    "duration": 259,
    "start_time": "2023-01-24T08:15:59.576Z"
   },
   {
    "duration": 9,
    "start_time": "2023-01-24T08:15:59.837Z"
   },
   {
    "duration": 250,
    "start_time": "2023-01-24T08:15:59.850Z"
   },
   {
    "duration": 10,
    "start_time": "2023-01-24T08:16:00.101Z"
   },
   {
    "duration": 261,
    "start_time": "2023-01-24T08:16:00.113Z"
   },
   {
    "duration": 7,
    "start_time": "2023-01-24T08:16:00.376Z"
   },
   {
    "duration": 140,
    "start_time": "2023-01-24T08:16:00.385Z"
   },
   {
    "duration": 9,
    "start_time": "2023-01-24T08:16:00.527Z"
   },
   {
    "duration": 249,
    "start_time": "2023-01-24T08:16:00.538Z"
   },
   {
    "duration": 10,
    "start_time": "2023-01-24T08:16:00.789Z"
   },
   {
    "duration": 376,
    "start_time": "2023-01-24T08:16:00.801Z"
   },
   {
    "duration": 8,
    "start_time": "2023-01-24T08:16:01.179Z"
   },
   {
    "duration": 234,
    "start_time": "2023-01-24T08:16:01.189Z"
   },
   {
    "duration": 9,
    "start_time": "2023-01-24T08:16:01.424Z"
   },
   {
    "duration": 246,
    "start_time": "2023-01-24T08:16:01.434Z"
   },
   {
    "duration": 5,
    "start_time": "2023-01-24T08:16:01.681Z"
   },
   {
    "duration": 265,
    "start_time": "2023-01-24T08:16:01.688Z"
   },
   {
    "duration": 5,
    "start_time": "2023-01-24T08:16:01.954Z"
   },
   {
    "duration": 239,
    "start_time": "2023-01-24T08:16:01.967Z"
   },
   {
    "duration": 234,
    "start_time": "2023-01-24T08:16:02.208Z"
   },
   {
    "duration": 8,
    "start_time": "2023-01-24T08:16:02.444Z"
   },
   {
    "duration": 16,
    "start_time": "2023-01-24T08:16:02.453Z"
   },
   {
    "duration": 33,
    "start_time": "2023-01-24T08:16:02.470Z"
   },
   {
    "duration": 182,
    "start_time": "2023-01-24T08:16:02.505Z"
   },
   {
    "duration": 4,
    "start_time": "2023-01-24T08:16:02.689Z"
   },
   {
    "duration": 188,
    "start_time": "2023-01-24T08:16:02.694Z"
   },
   {
    "duration": 5,
    "start_time": "2023-01-24T08:16:02.883Z"
   },
   {
    "duration": 200,
    "start_time": "2023-01-24T08:16:02.890Z"
   },
   {
    "duration": 5,
    "start_time": "2023-01-24T08:16:03.092Z"
   },
   {
    "duration": 179,
    "start_time": "2023-01-24T08:16:08.863Z"
   },
   {
    "duration": 5,
    "start_time": "2023-01-24T08:22:46.893Z"
   },
   {
    "duration": 38,
    "start_time": "2023-01-24T08:24:58.541Z"
   },
   {
    "duration": 26,
    "start_time": "2023-01-24T08:25:07.338Z"
   },
   {
    "duration": 9,
    "start_time": "2023-01-24T08:25:24.561Z"
   },
   {
    "duration": 10,
    "start_time": "2023-01-24T08:26:23.167Z"
   },
   {
    "duration": 6,
    "start_time": "2023-01-24T08:26:29.061Z"
   },
   {
    "duration": 8,
    "start_time": "2023-01-24T08:34:30.913Z"
   },
   {
    "duration": 6,
    "start_time": "2023-01-24T08:35:19.383Z"
   },
   {
    "duration": 16,
    "start_time": "2023-01-24T08:48:21.316Z"
   },
   {
    "duration": 15,
    "start_time": "2023-01-24T08:52:10.633Z"
   },
   {
    "duration": 8,
    "start_time": "2023-01-24T08:52:57.872Z"
   },
   {
    "duration": 144,
    "start_time": "2023-01-24T08:53:24.774Z"
   },
   {
    "duration": 17,
    "start_time": "2023-01-24T08:55:12.207Z"
   },
   {
    "duration": 8,
    "start_time": "2023-01-24T09:00:39.885Z"
   },
   {
    "duration": 123,
    "start_time": "2023-01-24T09:00:46.006Z"
   },
   {
    "duration": 145,
    "start_time": "2023-01-24T09:17:02.303Z"
   },
   {
    "duration": 174,
    "start_time": "2023-01-24T09:17:23.904Z"
   },
   {
    "duration": 143,
    "start_time": "2023-01-24T09:17:45.992Z"
   },
   {
    "duration": 48,
    "start_time": "2023-01-24T13:15:19.153Z"
   },
   {
    "duration": 566,
    "start_time": "2023-01-24T13:15:26.695Z"
   },
   {
    "duration": 14,
    "start_time": "2023-01-24T13:15:27.264Z"
   },
   {
    "duration": 3390,
    "start_time": "2023-01-24T13:15:27.280Z"
   },
   {
    "duration": 10,
    "start_time": "2023-01-24T13:15:30.673Z"
   },
   {
    "duration": 32,
    "start_time": "2023-01-24T13:15:30.685Z"
   },
   {
    "duration": 9,
    "start_time": "2023-01-24T13:15:30.719Z"
   },
   {
    "duration": 20,
    "start_time": "2023-01-24T13:15:30.730Z"
   },
   {
    "duration": 50,
    "start_time": "2023-01-24T13:15:30.751Z"
   },
   {
    "duration": 48,
    "start_time": "2023-01-24T13:15:30.802Z"
   },
   {
    "duration": 29,
    "start_time": "2023-01-24T13:15:30.853Z"
   },
   {
    "duration": 28,
    "start_time": "2023-01-24T13:15:30.884Z"
   },
   {
    "duration": 22,
    "start_time": "2023-01-24T13:15:30.914Z"
   },
   {
    "duration": 29,
    "start_time": "2023-01-24T13:15:30.938Z"
   },
   {
    "duration": 36,
    "start_time": "2023-01-24T13:15:30.969Z"
   },
   {
    "duration": 70,
    "start_time": "2023-01-24T13:15:31.007Z"
   },
   {
    "duration": 8,
    "start_time": "2023-01-24T13:15:31.079Z"
   },
   {
    "duration": 21,
    "start_time": "2023-01-24T13:15:31.089Z"
   },
   {
    "duration": 10,
    "start_time": "2023-01-24T13:15:31.111Z"
   },
   {
    "duration": 19,
    "start_time": "2023-01-24T13:15:31.122Z"
   },
   {
    "duration": 11,
    "start_time": "2023-01-24T13:15:31.142Z"
   },
   {
    "duration": 15,
    "start_time": "2023-01-24T13:15:31.155Z"
   },
   {
    "duration": 18,
    "start_time": "2023-01-24T13:15:31.172Z"
   },
   {
    "duration": 6,
    "start_time": "2023-01-24T13:15:31.192Z"
   },
   {
    "duration": 11,
    "start_time": "2023-01-24T13:15:31.200Z"
   },
   {
    "duration": 7,
    "start_time": "2023-01-24T13:15:31.213Z"
   },
   {
    "duration": 242,
    "start_time": "2023-01-24T13:15:31.221Z"
   },
   {
    "duration": 4,
    "start_time": "2023-01-24T13:15:31.465Z"
   },
   {
    "duration": 31,
    "start_time": "2023-01-24T13:15:31.473Z"
   },
   {
    "duration": 9,
    "start_time": "2023-01-24T13:15:31.506Z"
   },
   {
    "duration": 253,
    "start_time": "2023-01-24T13:15:31.517Z"
   },
   {
    "duration": 10,
    "start_time": "2023-01-24T13:15:31.772Z"
   },
   {
    "duration": 265,
    "start_time": "2023-01-24T13:15:31.784Z"
   },
   {
    "duration": 8,
    "start_time": "2023-01-24T13:15:32.053Z"
   },
   {
    "duration": 261,
    "start_time": "2023-01-24T13:15:32.063Z"
   },
   {
    "duration": 10,
    "start_time": "2023-01-24T13:15:32.326Z"
   },
   {
    "duration": 394,
    "start_time": "2023-01-24T13:15:32.338Z"
   },
   {
    "duration": 8,
    "start_time": "2023-01-24T13:15:32.734Z"
   },
   {
    "duration": 22,
    "start_time": "2023-01-24T13:15:32.743Z"
   },
   {
    "duration": 249,
    "start_time": "2023-01-24T13:15:32.767Z"
   },
   {
    "duration": 9,
    "start_time": "2023-01-24T13:15:33.018Z"
   },
   {
    "duration": 243,
    "start_time": "2023-01-24T13:15:33.029Z"
   },
   {
    "duration": 9,
    "start_time": "2023-01-24T13:15:33.274Z"
   },
   {
    "duration": 268,
    "start_time": "2023-01-24T13:15:33.285Z"
   },
   {
    "duration": 7,
    "start_time": "2023-01-24T13:15:33.555Z"
   },
   {
    "duration": 143,
    "start_time": "2023-01-24T13:15:33.564Z"
   },
   {
    "duration": 10,
    "start_time": "2023-01-24T13:15:33.709Z"
   },
   {
    "duration": 254,
    "start_time": "2023-01-24T13:15:33.721Z"
   },
   {
    "duration": 8,
    "start_time": "2023-01-24T13:15:33.978Z"
   },
   {
    "duration": 382,
    "start_time": "2023-01-24T13:15:33.988Z"
   },
   {
    "duration": 10,
    "start_time": "2023-01-24T13:15:34.371Z"
   },
   {
    "duration": 255,
    "start_time": "2023-01-24T13:15:34.382Z"
   },
   {
    "duration": 15,
    "start_time": "2023-01-24T13:15:34.638Z"
   },
   {
    "duration": 237,
    "start_time": "2023-01-24T13:15:34.655Z"
   },
   {
    "duration": 6,
    "start_time": "2023-01-24T13:15:34.894Z"
   },
   {
    "duration": 255,
    "start_time": "2023-01-24T13:15:34.902Z"
   },
   {
    "duration": 7,
    "start_time": "2023-01-24T13:15:35.159Z"
   },
   {
    "duration": 260,
    "start_time": "2023-01-24T13:15:35.168Z"
   },
   {
    "duration": 272,
    "start_time": "2023-01-24T13:15:35.430Z"
   },
   {
    "duration": 9,
    "start_time": "2023-01-24T13:15:35.703Z"
   },
   {
    "duration": 7,
    "start_time": "2023-01-24T13:15:35.713Z"
   },
   {
    "duration": 13,
    "start_time": "2023-01-24T13:15:35.722Z"
   },
   {
    "duration": 198,
    "start_time": "2023-01-24T13:15:35.737Z"
   },
   {
    "duration": 17,
    "start_time": "2023-01-24T13:15:35.937Z"
   },
   {
    "duration": 203,
    "start_time": "2023-01-24T13:15:35.956Z"
   },
   {
    "duration": 5,
    "start_time": "2023-01-24T13:15:36.160Z"
   },
   {
    "duration": 209,
    "start_time": "2023-01-24T13:15:36.167Z"
   },
   {
    "duration": 7,
    "start_time": "2023-01-24T13:15:36.378Z"
   },
   {
    "duration": 218,
    "start_time": "2023-01-24T13:15:36.386Z"
   },
   {
    "duration": 7,
    "start_time": "2023-01-24T13:15:36.606Z"
   },
   {
    "duration": 302,
    "start_time": "2023-01-24T13:15:36.615Z"
   },
   {
    "duration": 169,
    "start_time": "2023-01-24T13:15:36.918Z"
   },
   {
    "duration": 193,
    "start_time": "2023-01-24T13:15:37.089Z"
   },
   {
    "duration": 125,
    "start_time": "2023-01-24T13:15:49.885Z"
   },
   {
    "duration": 145,
    "start_time": "2023-01-24T13:15:54.802Z"
   },
   {
    "duration": 50,
    "start_time": "2023-01-24T13:35:15.875Z"
   },
   {
    "duration": 753,
    "start_time": "2023-01-24T13:35:20.108Z"
   },
   {
    "duration": 15,
    "start_time": "2023-01-24T13:35:20.863Z"
   },
   {
    "duration": 3350,
    "start_time": "2023-01-24T13:35:20.879Z"
   },
   {
    "duration": 10,
    "start_time": "2023-01-24T13:35:24.232Z"
   },
   {
    "duration": 19,
    "start_time": "2023-01-24T13:35:24.244Z"
   },
   {
    "duration": 9,
    "start_time": "2023-01-24T13:35:24.264Z"
   },
   {
    "duration": 9,
    "start_time": "2023-01-24T13:35:24.275Z"
   },
   {
    "duration": 8,
    "start_time": "2023-01-24T13:35:24.285Z"
   },
   {
    "duration": 9,
    "start_time": "2023-01-24T13:35:24.295Z"
   },
   {
    "duration": 9,
    "start_time": "2023-01-24T13:35:24.306Z"
   },
   {
    "duration": 10,
    "start_time": "2023-01-24T13:35:24.317Z"
   },
   {
    "duration": 9,
    "start_time": "2023-01-24T13:35:24.328Z"
   },
   {
    "duration": 19,
    "start_time": "2023-01-24T13:35:24.339Z"
   },
   {
    "duration": 34,
    "start_time": "2023-01-24T13:35:24.359Z"
   },
   {
    "duration": 67,
    "start_time": "2023-01-24T13:35:24.395Z"
   },
   {
    "duration": 23,
    "start_time": "2023-01-24T13:35:24.463Z"
   },
   {
    "duration": 16,
    "start_time": "2023-01-24T13:35:24.487Z"
   },
   {
    "duration": 8,
    "start_time": "2023-01-24T13:35:24.505Z"
   },
   {
    "duration": 6,
    "start_time": "2023-01-24T13:35:24.515Z"
   },
   {
    "duration": 7,
    "start_time": "2023-01-24T13:35:24.523Z"
   },
   {
    "duration": 5,
    "start_time": "2023-01-24T13:35:24.531Z"
   },
   {
    "duration": 43,
    "start_time": "2023-01-24T13:35:24.538Z"
   },
   {
    "duration": 6,
    "start_time": "2023-01-24T13:35:24.584Z"
   },
   {
    "duration": 6,
    "start_time": "2023-01-24T13:35:24.591Z"
   },
   {
    "duration": 4,
    "start_time": "2023-01-24T13:35:24.598Z"
   },
   {
    "duration": 264,
    "start_time": "2023-01-24T13:35:24.603Z"
   },
   {
    "duration": 4,
    "start_time": "2023-01-24T13:35:24.869Z"
   },
   {
    "duration": 35,
    "start_time": "2023-01-24T13:35:24.882Z"
   },
   {
    "duration": 8,
    "start_time": "2023-01-24T13:35:24.919Z"
   },
   {
    "duration": 239,
    "start_time": "2023-01-24T13:35:24.929Z"
   },
   {
    "duration": 14,
    "start_time": "2023-01-24T13:35:25.169Z"
   },
   {
    "duration": 257,
    "start_time": "2023-01-24T13:35:25.185Z"
   },
   {
    "duration": 9,
    "start_time": "2023-01-24T13:35:25.444Z"
   },
   {
    "duration": 261,
    "start_time": "2023-01-24T13:35:25.454Z"
   },
   {
    "duration": 10,
    "start_time": "2023-01-24T13:35:25.717Z"
   },
   {
    "duration": 383,
    "start_time": "2023-01-24T13:35:25.728Z"
   },
   {
    "duration": 8,
    "start_time": "2023-01-24T13:35:26.113Z"
   },
   {
    "duration": 7,
    "start_time": "2023-01-24T13:35:26.123Z"
   },
   {
    "duration": 290,
    "start_time": "2023-01-24T13:35:26.131Z"
   },
   {
    "duration": 11,
    "start_time": "2023-01-24T13:35:26.423Z"
   },
   {
    "duration": 301,
    "start_time": "2023-01-24T13:35:26.436Z"
   },
   {
    "duration": 9,
    "start_time": "2023-01-24T13:35:26.738Z"
   },
   {
    "duration": 247,
    "start_time": "2023-01-24T13:35:26.748Z"
   },
   {
    "duration": 6,
    "start_time": "2023-01-24T13:35:26.997Z"
   },
   {
    "duration": 134,
    "start_time": "2023-01-24T13:35:27.004Z"
   },
   {
    "duration": 10,
    "start_time": "2023-01-24T13:35:27.140Z"
   },
   {
    "duration": 258,
    "start_time": "2023-01-24T13:35:27.151Z"
   },
   {
    "duration": 8,
    "start_time": "2023-01-24T13:35:27.411Z"
   },
   {
    "duration": 401,
    "start_time": "2023-01-24T13:35:27.421Z"
   },
   {
    "duration": 8,
    "start_time": "2023-01-24T13:35:27.824Z"
   },
   {
    "duration": 268,
    "start_time": "2023-01-24T13:35:27.834Z"
   },
   {
    "duration": 9,
    "start_time": "2023-01-24T13:35:28.104Z"
   },
   {
    "duration": 251,
    "start_time": "2023-01-24T13:35:28.114Z"
   },
   {
    "duration": 15,
    "start_time": "2023-01-24T13:35:28.367Z"
   },
   {
    "duration": 253,
    "start_time": "2023-01-24T13:35:28.383Z"
   },
   {
    "duration": 6,
    "start_time": "2023-01-24T13:35:28.637Z"
   },
   {
    "duration": 258,
    "start_time": "2023-01-24T13:35:28.645Z"
   },
   {
    "duration": 259,
    "start_time": "2023-01-24T13:35:28.905Z"
   },
   {
    "duration": 17,
    "start_time": "2023-01-24T13:35:29.165Z"
   },
   {
    "duration": 6,
    "start_time": "2023-01-24T13:35:29.183Z"
   },
   {
    "duration": 12,
    "start_time": "2023-01-24T13:35:29.190Z"
   },
   {
    "duration": 200,
    "start_time": "2023-01-24T13:35:29.205Z"
   },
   {
    "duration": 6,
    "start_time": "2023-01-24T13:35:29.406Z"
   },
   {
    "duration": 215,
    "start_time": "2023-01-24T13:35:29.414Z"
   },
   {
    "duration": 5,
    "start_time": "2023-01-24T13:35:29.631Z"
   },
   {
    "duration": 203,
    "start_time": "2023-01-24T13:35:29.638Z"
   },
   {
    "duration": 5,
    "start_time": "2023-01-24T13:35:29.843Z"
   },
   {
    "duration": 210,
    "start_time": "2023-01-24T13:35:29.850Z"
   },
   {
    "duration": 8,
    "start_time": "2023-01-24T13:35:30.062Z"
   },
   {
    "duration": 307,
    "start_time": "2023-01-24T13:35:30.082Z"
   },
   {
    "duration": 163,
    "start_time": "2023-01-24T13:35:30.391Z"
   },
   {
    "duration": 210,
    "start_time": "2023-01-24T13:35:30.556Z"
   },
   {
    "duration": 165,
    "start_time": "2023-01-24T13:35:30.768Z"
   },
   {
    "duration": 16,
    "start_time": "2023-01-24T13:35:43.933Z"
   },
   {
    "duration": 44,
    "start_time": "2023-01-24T13:36:04.221Z"
   },
   {
    "duration": 17,
    "start_time": "2023-01-24T13:36:14.325Z"
   },
   {
    "duration": 16,
    "start_time": "2023-01-24T13:36:27.058Z"
   },
   {
    "duration": 9,
    "start_time": "2023-01-24T13:37:07.583Z"
   },
   {
    "duration": 10,
    "start_time": "2023-01-24T13:37:21.525Z"
   },
   {
    "duration": 12,
    "start_time": "2023-01-24T13:38:13.062Z"
   },
   {
    "duration": 15,
    "start_time": "2023-01-24T13:38:23.387Z"
   },
   {
    "duration": 52,
    "start_time": "2023-01-24T13:40:20.494Z"
   },
   {
    "duration": 74,
    "start_time": "2023-01-24T13:40:26.207Z"
   },
   {
    "duration": 67,
    "start_time": "2023-01-24T13:40:46.864Z"
   },
   {
    "duration": 13,
    "start_time": "2023-01-24T13:45:00.035Z"
   },
   {
    "duration": 12,
    "start_time": "2023-01-24T13:45:05.284Z"
   },
   {
    "duration": 10,
    "start_time": "2023-01-24T13:58:01.466Z"
   },
   {
    "duration": 10,
    "start_time": "2023-01-24T13:58:05.425Z"
   },
   {
    "duration": 735,
    "start_time": "2023-01-24T13:58:12.912Z"
   },
   {
    "duration": 28,
    "start_time": "2023-01-24T14:07:10.753Z"
   },
   {
    "duration": 21,
    "start_time": "2023-01-24T14:08:17.987Z"
   },
   {
    "duration": 24,
    "start_time": "2023-01-24T14:08:25.030Z"
   },
   {
    "duration": 30,
    "start_time": "2023-01-24T14:09:12.114Z"
   },
   {
    "duration": 27,
    "start_time": "2023-01-24T14:09:18.124Z"
   },
   {
    "duration": 8,
    "start_time": "2023-01-24T14:09:56.158Z"
   },
   {
    "duration": 803,
    "start_time": "2023-01-24T14:15:07.637Z"
   },
   {
    "duration": 797,
    "start_time": "2023-01-24T14:15:17.318Z"
   },
   {
    "duration": 44,
    "start_time": "2023-01-24T14:15:31.985Z"
   },
   {
    "duration": 8,
    "start_time": "2023-01-24T14:15:45.881Z"
   },
   {
    "duration": 48,
    "start_time": "2023-01-24T14:19:13.960Z"
   },
   {
    "duration": 44,
    "start_time": "2023-01-24T14:23:21.219Z"
   },
   {
    "duration": 181,
    "start_time": "2023-01-24T14:23:26.984Z"
   },
   {
    "duration": 5,
    "start_time": "2023-01-24T14:23:52.569Z"
   },
   {
    "duration": 11,
    "start_time": "2023-01-24T14:24:47.834Z"
   },
   {
    "duration": 600,
    "start_time": "2023-01-24T17:06:33.424Z"
   },
   {
    "duration": 18,
    "start_time": "2023-01-24T17:06:34.027Z"
   },
   {
    "duration": 3318,
    "start_time": "2023-01-24T17:06:34.047Z"
   },
   {
    "duration": 10,
    "start_time": "2023-01-24T17:06:37.368Z"
   },
   {
    "duration": 51,
    "start_time": "2023-01-24T17:06:37.380Z"
   },
   {
    "duration": 9,
    "start_time": "2023-01-24T17:06:37.432Z"
   },
   {
    "duration": 25,
    "start_time": "2023-01-24T17:06:37.442Z"
   },
   {
    "duration": 6,
    "start_time": "2023-01-24T17:06:37.468Z"
   },
   {
    "duration": 22,
    "start_time": "2023-01-24T17:06:37.475Z"
   },
   {
    "duration": 45,
    "start_time": "2023-01-24T17:06:37.511Z"
   },
   {
    "duration": 33,
    "start_time": "2023-01-24T17:06:37.558Z"
   },
   {
    "duration": 41,
    "start_time": "2023-01-24T17:06:37.594Z"
   },
   {
    "duration": 21,
    "start_time": "2023-01-24T17:06:37.637Z"
   },
   {
    "duration": 26,
    "start_time": "2023-01-24T17:06:37.660Z"
   },
   {
    "duration": 75,
    "start_time": "2023-01-24T17:06:37.689Z"
   },
   {
    "duration": 6,
    "start_time": "2023-01-24T17:06:37.766Z"
   },
   {
    "duration": 32,
    "start_time": "2023-01-24T17:06:37.774Z"
   },
   {
    "duration": 16,
    "start_time": "2023-01-24T17:06:37.809Z"
   },
   {
    "duration": 27,
    "start_time": "2023-01-24T17:06:37.828Z"
   },
   {
    "duration": 18,
    "start_time": "2023-01-24T17:06:37.856Z"
   },
   {
    "duration": 32,
    "start_time": "2023-01-24T17:06:37.876Z"
   },
   {
    "duration": 10,
    "start_time": "2023-01-24T17:06:37.910Z"
   },
   {
    "duration": 34,
    "start_time": "2023-01-24T17:06:37.922Z"
   },
   {
    "duration": 5,
    "start_time": "2023-01-24T17:06:37.957Z"
   },
   {
    "duration": 19,
    "start_time": "2023-01-24T17:06:37.964Z"
   },
   {
    "duration": 275,
    "start_time": "2023-01-24T17:06:37.984Z"
   },
   {
    "duration": 4,
    "start_time": "2023-01-24T17:06:38.261Z"
   },
   {
    "duration": 122,
    "start_time": "2023-01-24T17:06:38.270Z"
   },
   {
    "duration": 31,
    "start_time": "2023-01-24T17:06:38.397Z"
   },
   {
    "duration": 240,
    "start_time": "2023-01-24T17:06:38.430Z"
   },
   {
    "duration": 8,
    "start_time": "2023-01-24T17:06:38.672Z"
   },
   {
    "duration": 259,
    "start_time": "2023-01-24T17:06:38.681Z"
   },
   {
    "duration": 9,
    "start_time": "2023-01-24T17:06:38.942Z"
   },
   {
    "duration": 258,
    "start_time": "2023-01-24T17:06:38.953Z"
   },
   {
    "duration": 8,
    "start_time": "2023-01-24T17:06:39.213Z"
   },
   {
    "duration": 388,
    "start_time": "2023-01-24T17:06:39.223Z"
   },
   {
    "duration": 8,
    "start_time": "2023-01-24T17:06:39.613Z"
   },
   {
    "duration": 7,
    "start_time": "2023-01-24T17:06:39.623Z"
   },
   {
    "duration": 244,
    "start_time": "2023-01-24T17:06:39.631Z"
   },
   {
    "duration": 8,
    "start_time": "2023-01-24T17:06:39.876Z"
   },
   {
    "duration": 225,
    "start_time": "2023-01-24T17:06:39.898Z"
   },
   {
    "duration": 9,
    "start_time": "2023-01-24T17:06:40.125Z"
   },
   {
    "duration": 271,
    "start_time": "2023-01-24T17:06:40.135Z"
   },
   {
    "duration": 8,
    "start_time": "2023-01-24T17:06:40.409Z"
   },
   {
    "duration": 130,
    "start_time": "2023-01-24T17:06:40.419Z"
   },
   {
    "duration": 9,
    "start_time": "2023-01-24T17:06:40.551Z"
   },
   {
    "duration": 270,
    "start_time": "2023-01-24T17:06:40.561Z"
   },
   {
    "duration": 10,
    "start_time": "2023-01-24T17:06:40.834Z"
   },
   {
    "duration": 370,
    "start_time": "2023-01-24T17:06:40.846Z"
   },
   {
    "duration": 8,
    "start_time": "2023-01-24T17:06:41.218Z"
   },
   {
    "duration": 257,
    "start_time": "2023-01-24T17:06:41.227Z"
   },
   {
    "duration": 11,
    "start_time": "2023-01-24T17:06:41.486Z"
   },
   {
    "duration": 240,
    "start_time": "2023-01-24T17:06:41.498Z"
   },
   {
    "duration": 6,
    "start_time": "2023-01-24T17:06:41.739Z"
   },
   {
    "duration": 250,
    "start_time": "2023-01-24T17:06:41.746Z"
   },
   {
    "duration": 14,
    "start_time": "2023-01-24T17:06:41.998Z"
   },
   {
    "duration": 253,
    "start_time": "2023-01-24T17:06:42.016Z"
   },
   {
    "duration": 283,
    "start_time": "2023-01-24T17:06:42.271Z"
   },
   {
    "duration": 8,
    "start_time": "2023-01-24T17:06:42.556Z"
   },
   {
    "duration": 6,
    "start_time": "2023-01-24T17:06:42.565Z"
   },
   {
    "duration": 28,
    "start_time": "2023-01-24T17:06:42.572Z"
   },
   {
    "duration": 177,
    "start_time": "2023-01-24T17:06:42.602Z"
   },
   {
    "duration": 13,
    "start_time": "2023-01-24T17:06:42.781Z"
   },
   {
    "duration": 186,
    "start_time": "2023-01-24T17:06:42.797Z"
   },
   {
    "duration": 17,
    "start_time": "2023-01-24T17:06:42.984Z"
   },
   {
    "duration": 173,
    "start_time": "2023-01-24T17:06:43.003Z"
   },
   {
    "duration": 5,
    "start_time": "2023-01-24T17:06:43.178Z"
   },
   {
    "duration": 196,
    "start_time": "2023-01-24T17:06:43.184Z"
   },
   {
    "duration": 16,
    "start_time": "2023-01-24T17:06:43.384Z"
   },
   {
    "duration": 288,
    "start_time": "2023-01-24T17:06:43.401Z"
   },
   {
    "duration": 167,
    "start_time": "2023-01-24T17:06:43.691Z"
   },
   {
    "duration": 236,
    "start_time": "2023-01-24T17:06:43.859Z"
   },
   {
    "duration": 210,
    "start_time": "2023-01-24T17:06:44.099Z"
   },
   {
    "duration": 5,
    "start_time": "2023-01-24T17:06:44.316Z"
   },
   {
    "duration": 35,
    "start_time": "2023-01-24T17:06:44.323Z"
   },
   {
    "duration": 8,
    "start_time": "2023-01-24T17:06:44.359Z"
   },
   {
    "duration": 22,
    "start_time": "2023-01-24T17:06:44.369Z"
   },
   {
    "duration": 176,
    "start_time": "2023-01-24T17:06:44.395Z"
   },
   {
    "duration": 5,
    "start_time": "2023-01-24T17:06:44.573Z"
   },
   {
    "duration": 676,
    "start_time": "2023-01-27T18:31:56.801Z"
   },
   {
    "duration": 16,
    "start_time": "2023-01-27T18:31:57.479Z"
   },
   {
    "duration": 3540,
    "start_time": "2023-01-27T18:31:57.497Z"
   },
   {
    "duration": 11,
    "start_time": "2023-01-27T18:32:01.039Z"
   },
   {
    "duration": 45,
    "start_time": "2023-01-27T18:32:01.052Z"
   },
   {
    "duration": 10,
    "start_time": "2023-01-27T18:32:01.099Z"
   },
   {
    "duration": 17,
    "start_time": "2023-01-27T18:32:01.110Z"
   },
   {
    "duration": 33,
    "start_time": "2023-01-27T18:32:01.129Z"
   },
   {
    "duration": 27,
    "start_time": "2023-01-27T18:32:01.163Z"
   },
   {
    "duration": 33,
    "start_time": "2023-01-27T18:32:01.192Z"
   },
   {
    "duration": 51,
    "start_time": "2023-01-27T18:32:01.227Z"
   },
   {
    "duration": 46,
    "start_time": "2023-01-27T18:32:01.280Z"
   },
   {
    "duration": 33,
    "start_time": "2023-01-27T18:32:01.328Z"
   },
   {
    "duration": 26,
    "start_time": "2023-01-27T18:32:01.364Z"
   },
   {
    "duration": 98,
    "start_time": "2023-01-27T18:32:01.392Z"
   },
   {
    "duration": 8,
    "start_time": "2023-01-27T18:32:01.492Z"
   },
   {
    "duration": 28,
    "start_time": "2023-01-27T18:32:01.502Z"
   },
   {
    "duration": 16,
    "start_time": "2023-01-27T18:32:01.532Z"
   },
   {
    "duration": 38,
    "start_time": "2023-01-27T18:32:01.550Z"
   },
   {
    "duration": 8,
    "start_time": "2023-01-27T18:32:01.589Z"
   },
   {
    "duration": 103,
    "start_time": "2023-01-27T18:32:17.668Z"
   },
   {
    "duration": 31,
    "start_time": "2023-01-27T18:32:17.773Z"
   },
   {
    "duration": 2771,
    "start_time": "2023-01-27T18:32:17.806Z"
   },
   {
    "duration": 19,
    "start_time": "2023-01-27T18:32:20.579Z"
   },
   {
    "duration": 13,
    "start_time": "2023-01-27T18:32:20.601Z"
   },
   {
    "duration": 8,
    "start_time": "2023-01-27T18:32:20.616Z"
   },
   {
    "duration": 15,
    "start_time": "2023-01-27T18:32:20.626Z"
   },
   {
    "duration": 17,
    "start_time": "2023-01-27T18:32:20.643Z"
   },
   {
    "duration": 13,
    "start_time": "2023-01-27T18:32:20.662Z"
   },
   {
    "duration": 13,
    "start_time": "2023-01-27T18:32:20.676Z"
   },
   {
    "duration": 23,
    "start_time": "2023-01-27T18:32:20.691Z"
   },
   {
    "duration": 27,
    "start_time": "2023-01-27T18:32:20.715Z"
   },
   {
    "duration": 47,
    "start_time": "2023-01-27T18:32:20.744Z"
   },
   {
    "duration": 34,
    "start_time": "2023-01-27T18:32:20.794Z"
   },
   {
    "duration": 67,
    "start_time": "2023-01-27T18:32:20.829Z"
   },
   {
    "duration": 7,
    "start_time": "2023-01-27T18:32:20.898Z"
   },
   {
    "duration": 22,
    "start_time": "2023-01-27T18:32:20.906Z"
   },
   {
    "duration": 19,
    "start_time": "2023-01-27T18:32:20.929Z"
   },
   {
    "duration": 7,
    "start_time": "2023-01-27T18:32:27.691Z"
   },
   {
    "duration": 6,
    "start_time": "2023-01-27T18:32:38.431Z"
   },
   {
    "duration": 98,
    "start_time": "2023-01-27T19:02:48.813Z"
   },
   {
    "duration": 66,
    "start_time": "2023-01-27T19:03:47.668Z"
   },
   {
    "duration": 6,
    "start_time": "2023-01-27T19:03:50.853Z"
   },
   {
    "duration": 71,
    "start_time": "2023-01-27T19:04:03.189Z"
   },
   {
    "duration": 9,
    "start_time": "2023-01-27T19:04:06.287Z"
   },
   {
    "duration": 75,
    "start_time": "2023-01-27T19:08:04.886Z"
   },
   {
    "duration": 73,
    "start_time": "2023-01-27T19:08:10.680Z"
   },
   {
    "duration": 73,
    "start_time": "2023-01-27T19:08:16.138Z"
   },
   {
    "duration": 17,
    "start_time": "2023-01-27T19:09:27.196Z"
   },
   {
    "duration": 886,
    "start_time": "2023-01-31T14:03:01.788Z"
   },
   {
    "duration": 18,
    "start_time": "2023-01-31T14:03:02.677Z"
   },
   {
    "duration": 3716,
    "start_time": "2023-01-31T14:03:02.697Z"
   },
   {
    "duration": 20,
    "start_time": "2023-01-31T14:03:06.431Z"
   },
   {
    "duration": 33,
    "start_time": "2023-01-31T14:03:06.455Z"
   },
   {
    "duration": 7,
    "start_time": "2023-01-31T14:03:06.490Z"
   },
   {
    "duration": 25,
    "start_time": "2023-01-31T14:03:06.499Z"
   },
   {
    "duration": 36,
    "start_time": "2023-01-31T14:03:06.527Z"
   },
   {
    "duration": 73,
    "start_time": "2023-01-31T14:03:06.565Z"
   },
   {
    "duration": 9,
    "start_time": "2023-01-31T14:03:06.641Z"
   },
   {
    "duration": 43,
    "start_time": "2023-01-31T14:03:06.657Z"
   },
   {
    "duration": 22,
    "start_time": "2023-01-31T14:03:06.702Z"
   },
   {
    "duration": 14,
    "start_time": "2023-01-31T14:03:06.726Z"
   },
   {
    "duration": 4,
    "start_time": "2023-01-31T14:03:27.037Z"
   },
   {
    "duration": 5,
    "start_time": "2023-01-31T14:03:40.582Z"
   },
   {
    "duration": 7,
    "start_time": "2023-01-31T14:03:44.735Z"
   },
   {
    "duration": 122,
    "start_time": "2023-01-31T14:04:50.173Z"
   },
   {
    "duration": 17,
    "start_time": "2023-01-31T14:04:50.298Z"
   },
   {
    "duration": 3047,
    "start_time": "2023-01-31T14:04:50.317Z"
   },
   {
    "duration": 16,
    "start_time": "2023-01-31T14:04:53.366Z"
   },
   {
    "duration": 25,
    "start_time": "2023-01-31T14:04:53.384Z"
   },
   {
    "duration": 12,
    "start_time": "2023-01-31T14:04:53.411Z"
   },
   {
    "duration": 37,
    "start_time": "2023-01-31T14:04:53.424Z"
   },
   {
    "duration": 11,
    "start_time": "2023-01-31T14:04:53.463Z"
   },
   {
    "duration": 7,
    "start_time": "2023-01-31T14:04:53.476Z"
   },
   {
    "duration": 14,
    "start_time": "2023-01-31T14:04:53.485Z"
   },
   {
    "duration": 25,
    "start_time": "2023-01-31T14:04:53.501Z"
   },
   {
    "duration": 28,
    "start_time": "2023-01-31T14:04:53.528Z"
   },
   {
    "duration": 5,
    "start_time": "2023-01-31T14:35:31.628Z"
   },
   {
    "duration": 111,
    "start_time": "2023-01-31T14:35:35.932Z"
   },
   {
    "duration": 15,
    "start_time": "2023-01-31T14:35:36.045Z"
   },
   {
    "duration": 2864,
    "start_time": "2023-01-31T14:35:36.062Z"
   },
   {
    "duration": 8,
    "start_time": "2023-01-31T14:35:38.929Z"
   },
   {
    "duration": 33,
    "start_time": "2023-01-31T14:35:38.939Z"
   },
   {
    "duration": 8,
    "start_time": "2023-01-31T14:35:38.974Z"
   },
   {
    "duration": 31,
    "start_time": "2023-01-31T14:35:38.984Z"
   },
   {
    "duration": 12,
    "start_time": "2023-01-31T14:35:39.017Z"
   },
   {
    "duration": 24,
    "start_time": "2023-01-31T14:35:39.031Z"
   },
   {
    "duration": 12,
    "start_time": "2023-01-31T14:35:39.058Z"
   },
   {
    "duration": 17,
    "start_time": "2023-01-31T14:35:39.072Z"
   },
   {
    "duration": 18,
    "start_time": "2023-01-31T14:35:39.090Z"
   },
   {
    "duration": 17,
    "start_time": "2023-01-31T14:35:39.109Z"
   },
   {
    "duration": 78,
    "start_time": "2023-01-31T14:36:13.300Z"
   },
   {
    "duration": 18,
    "start_time": "2023-01-31T14:36:21.623Z"
   },
   {
    "duration": 17,
    "start_time": "2023-01-31T14:39:13.805Z"
   },
   {
    "duration": 8,
    "start_time": "2023-01-31T14:41:19.415Z"
   },
   {
    "duration": 8,
    "start_time": "2023-01-31T14:41:37.125Z"
   },
   {
    "duration": 8,
    "start_time": "2023-01-31T14:42:10.334Z"
   },
   {
    "duration": 8,
    "start_time": "2023-01-31T14:42:12.699Z"
   },
   {
    "duration": 3,
    "start_time": "2023-01-31T14:42:20.286Z"
   },
   {
    "duration": 5,
    "start_time": "2023-01-31T14:42:24.767Z"
   },
   {
    "duration": 119,
    "start_time": "2023-01-31T14:43:34.504Z"
   },
   {
    "duration": 229,
    "start_time": "2023-01-31T14:43:34.625Z"
   },
   {
    "duration": 3137,
    "start_time": "2023-01-31T14:43:34.855Z"
   },
   {
    "duration": 9,
    "start_time": "2023-01-31T14:43:37.995Z"
   },
   {
    "duration": 15,
    "start_time": "2023-01-31T14:43:38.005Z"
   },
   {
    "duration": 3,
    "start_time": "2023-01-31T14:43:38.022Z"
   },
   {
    "duration": 13,
    "start_time": "2023-01-31T14:43:38.026Z"
   },
   {
    "duration": 6,
    "start_time": "2023-01-31T14:43:38.041Z"
   },
   {
    "duration": 34,
    "start_time": "2023-01-31T14:43:38.048Z"
   },
   {
    "duration": 5,
    "start_time": "2023-01-31T14:43:38.085Z"
   },
   {
    "duration": 8,
    "start_time": "2023-01-31T14:43:38.092Z"
   },
   {
    "duration": 9,
    "start_time": "2023-01-31T14:43:38.102Z"
   },
   {
    "duration": 12,
    "start_time": "2023-01-31T14:43:38.113Z"
   },
   {
    "duration": 4,
    "start_time": "2023-01-31T14:43:38.126Z"
   },
   {
    "duration": 21,
    "start_time": "2023-01-31T14:43:38.131Z"
   },
   {
    "duration": 41,
    "start_time": "2023-01-31T14:43:38.153Z"
   },
   {
    "duration": 90,
    "start_time": "2023-01-31T14:43:38.196Z"
   },
   {
    "duration": 7,
    "start_time": "2023-01-31T14:43:38.288Z"
   },
   {
    "duration": 19,
    "start_time": "2023-01-31T14:43:38.297Z"
   },
   {
    "duration": 8,
    "start_time": "2023-01-31T14:43:38.318Z"
   },
   {
    "duration": 7,
    "start_time": "2023-01-31T14:43:38.329Z"
   },
   {
    "duration": 11,
    "start_time": "2023-01-31T14:43:38.338Z"
   },
   {
    "duration": 7,
    "start_time": "2023-01-31T14:43:38.381Z"
   },
   {
    "duration": 5,
    "start_time": "2023-01-31T14:43:38.390Z"
   },
   {
    "duration": 7,
    "start_time": "2023-01-31T14:43:38.396Z"
   },
   {
    "duration": 7,
    "start_time": "2023-01-31T14:43:38.404Z"
   },
   {
    "duration": 9,
    "start_time": "2023-01-31T14:43:38.413Z"
   },
   {
    "duration": 8,
    "start_time": "2023-01-31T14:43:38.428Z"
   },
   {
    "duration": 281,
    "start_time": "2023-01-31T14:43:38.437Z"
   },
   {
    "duration": 5,
    "start_time": "2023-01-31T14:43:38.720Z"
   },
   {
    "duration": 34,
    "start_time": "2023-01-31T14:43:38.727Z"
   },
   {
    "duration": 21,
    "start_time": "2023-01-31T14:43:38.763Z"
   },
   {
    "duration": 264,
    "start_time": "2023-01-31T14:43:38.786Z"
   },
   {
    "duration": 9,
    "start_time": "2023-01-31T14:43:39.052Z"
   },
   {
    "duration": 289,
    "start_time": "2023-01-31T14:43:39.062Z"
   },
   {
    "duration": 10,
    "start_time": "2023-01-31T14:43:39.353Z"
   },
   {
    "duration": 266,
    "start_time": "2023-01-31T14:43:39.366Z"
   },
   {
    "duration": 10,
    "start_time": "2023-01-31T14:43:39.634Z"
   },
   {
    "duration": 288,
    "start_time": "2023-01-31T14:43:39.646Z"
   },
   {
    "duration": 10,
    "start_time": "2023-01-31T14:43:39.936Z"
   },
   {
    "duration": 6,
    "start_time": "2023-01-31T14:43:39.947Z"
   },
   {
    "duration": 288,
    "start_time": "2023-01-31T14:43:39.955Z"
   },
   {
    "duration": 9,
    "start_time": "2023-01-31T14:43:40.245Z"
   },
   {
    "duration": 272,
    "start_time": "2023-01-31T14:43:40.257Z"
   },
   {
    "duration": 9,
    "start_time": "2023-01-31T14:43:40.531Z"
   },
   {
    "duration": 286,
    "start_time": "2023-01-31T14:43:40.542Z"
   },
   {
    "duration": 7,
    "start_time": "2023-01-31T14:43:40.829Z"
   },
   {
    "duration": 153,
    "start_time": "2023-01-31T14:43:40.838Z"
   },
   {
    "duration": 9,
    "start_time": "2023-01-31T14:43:40.992Z"
   },
   {
    "duration": 549,
    "start_time": "2023-01-31T14:43:41.002Z"
   },
   {
    "duration": 17,
    "start_time": "2023-01-31T14:43:41.553Z"
   },
   {
    "duration": 274,
    "start_time": "2023-01-31T14:43:41.572Z"
   },
   {
    "duration": 9,
    "start_time": "2023-01-31T14:43:41.848Z"
   },
   {
    "duration": 279,
    "start_time": "2023-01-31T14:43:41.859Z"
   },
   {
    "duration": 9,
    "start_time": "2023-01-31T14:43:42.139Z"
   },
   {
    "duration": 244,
    "start_time": "2023-01-31T14:43:42.150Z"
   },
   {
    "duration": 5,
    "start_time": "2023-01-31T14:43:42.396Z"
   },
   {
    "duration": 268,
    "start_time": "2023-01-31T14:43:42.403Z"
   },
   {
    "duration": 9,
    "start_time": "2023-01-31T14:43:42.673Z"
   },
   {
    "duration": 250,
    "start_time": "2023-01-31T14:43:42.684Z"
   },
   {
    "duration": 350,
    "start_time": "2023-01-31T14:43:42.936Z"
   },
   {
    "duration": 10,
    "start_time": "2023-01-31T14:43:43.287Z"
   },
   {
    "duration": 5,
    "start_time": "2023-01-31T14:43:43.299Z"
   },
   {
    "duration": 7,
    "start_time": "2023-01-31T14:43:43.306Z"
   },
   {
    "duration": 401,
    "start_time": "2023-01-31T14:43:43.314Z"
   },
   {
    "duration": 5,
    "start_time": "2023-01-31T14:43:43.717Z"
   },
   {
    "duration": 395,
    "start_time": "2023-01-31T14:43:43.724Z"
   },
   {
    "duration": 59,
    "start_time": "2023-01-31T14:43:44.122Z"
   },
   {
    "duration": 310,
    "start_time": "2023-01-31T14:43:44.184Z"
   },
   {
    "duration": 6,
    "start_time": "2023-01-31T14:43:44.496Z"
   },
   {
    "duration": 401,
    "start_time": "2023-01-31T14:43:44.503Z"
   },
   {
    "duration": 7,
    "start_time": "2023-01-31T14:43:44.906Z"
   },
   {
    "duration": 269,
    "start_time": "2023-01-31T14:43:44.915Z"
   },
   {
    "duration": 169,
    "start_time": "2023-01-31T14:43:45.185Z"
   },
   {
    "duration": 206,
    "start_time": "2023-01-31T14:43:45.356Z"
   },
   {
    "duration": 164,
    "start_time": "2023-01-31T14:43:45.575Z"
   },
   {
    "duration": 5,
    "start_time": "2023-01-31T14:43:45.741Z"
   },
   {
    "duration": 57,
    "start_time": "2023-01-31T14:43:45.748Z"
   },
   {
    "duration": 8,
    "start_time": "2023-01-31T14:43:45.807Z"
   },
   {
    "duration": 35,
    "start_time": "2023-01-31T14:43:45.817Z"
   },
   {
    "duration": 193,
    "start_time": "2023-01-31T14:43:45.854Z"
   },
   {
    "duration": 6,
    "start_time": "2023-01-31T14:43:46.052Z"
   },
   {
    "duration": 11,
    "start_time": "2023-01-31T14:46:45.442Z"
   },
   {
    "duration": 139,
    "start_time": "2023-01-31T14:47:01.429Z"
   },
   {
    "duration": 121,
    "start_time": "2023-01-31T14:47:50.455Z"
   },
   {
    "duration": 145,
    "start_time": "2023-01-31T14:48:11.518Z"
   },
   {
    "duration": 143,
    "start_time": "2023-01-31T14:56:56.685Z"
   },
   {
    "duration": 9,
    "start_time": "2023-01-31T14:57:44.161Z"
   },
   {
    "duration": 236,
    "start_time": "2023-01-31T15:29:41.232Z"
   },
   {
    "duration": 10,
    "start_time": "2023-01-31T15:29:56.694Z"
   },
   {
    "duration": 38,
    "start_time": "2023-01-31T15:30:12.200Z"
   },
   {
    "duration": 52,
    "start_time": "2023-01-31T15:30:43.085Z"
   },
   {
    "duration": 27,
    "start_time": "2023-01-31T15:30:53.951Z"
   },
   {
    "duration": 11,
    "start_time": "2023-01-31T15:32:09.534Z"
   },
   {
    "duration": 50,
    "start_time": "2023-01-31T15:34:57.471Z"
   },
   {
    "duration": 27,
    "start_time": "2023-01-31T15:35:02.860Z"
   },
   {
    "duration": 31,
    "start_time": "2023-01-31T15:35:12.376Z"
   },
   {
    "duration": 8,
    "start_time": "2023-01-31T15:35:22.329Z"
   },
   {
    "duration": 26,
    "start_time": "2023-01-31T15:35:33.831Z"
   },
   {
    "duration": 22,
    "start_time": "2023-01-31T15:35:55.256Z"
   },
   {
    "duration": 37,
    "start_time": "2023-01-31T15:36:01.070Z"
   },
   {
    "duration": 27,
    "start_time": "2023-01-31T15:36:31.807Z"
   },
   {
    "duration": 9,
    "start_time": "2023-01-31T15:36:34.196Z"
   },
   {
    "duration": 3,
    "start_time": "2023-01-31T15:41:15.100Z"
   },
   {
    "duration": 5,
    "start_time": "2023-01-31T15:41:17.355Z"
   },
   {
    "duration": 10,
    "start_time": "2023-01-31T15:41:19.232Z"
   },
   {
    "duration": 140,
    "start_time": "2023-01-31T15:41:24.264Z"
   },
   {
    "duration": 7,
    "start_time": "2023-01-31T15:43:29.819Z"
   },
   {
    "duration": 10,
    "start_time": "2023-01-31T15:43:49.346Z"
   },
   {
    "duration": 28,
    "start_time": "2023-01-31T15:43:51.270Z"
   },
   {
    "duration": 8,
    "start_time": "2023-01-31T15:43:54.647Z"
   },
   {
    "duration": 11,
    "start_time": "2023-01-31T15:44:56.228Z"
   },
   {
    "duration": 30,
    "start_time": "2023-01-31T15:44:58.295Z"
   },
   {
    "duration": 9,
    "start_time": "2023-01-31T15:45:00.904Z"
   },
   {
    "duration": 11,
    "start_time": "2023-01-31T15:45:09.543Z"
   },
   {
    "duration": 26,
    "start_time": "2023-01-31T15:45:10.644Z"
   },
   {
    "duration": 8,
    "start_time": "2023-01-31T15:45:12.854Z"
   },
   {
    "duration": 47,
    "start_time": "2023-02-01T11:12:53.524Z"
   },
   {
    "duration": 5,
    "start_time": "2023-02-01T11:13:04.937Z"
   },
   {
    "duration": 640,
    "start_time": "2023-02-01T11:13:11.489Z"
   },
   {
    "duration": 18,
    "start_time": "2023-02-01T11:13:12.131Z"
   },
   {
    "duration": 3177,
    "start_time": "2023-02-01T11:13:12.152Z"
   },
   {
    "duration": 13,
    "start_time": "2023-02-01T11:13:15.330Z"
   },
   {
    "duration": 116,
    "start_time": "2023-02-01T11:13:15.345Z"
   },
   {
    "duration": 23,
    "start_time": "2023-02-01T11:13:15.463Z"
   },
   {
    "duration": 49,
    "start_time": "2023-02-01T11:13:15.488Z"
   },
   {
    "duration": 64,
    "start_time": "2023-02-01T11:13:15.540Z"
   },
   {
    "duration": 76,
    "start_time": "2023-02-01T11:13:15.606Z"
   },
   {
    "duration": 63,
    "start_time": "2023-02-01T11:13:15.684Z"
   },
   {
    "duration": 12,
    "start_time": "2023-02-01T11:13:15.749Z"
   },
   {
    "duration": 15,
    "start_time": "2023-02-01T11:13:15.763Z"
   },
   {
    "duration": 22,
    "start_time": "2023-02-01T11:13:15.780Z"
   },
   {
    "duration": 4,
    "start_time": "2023-02-01T11:13:15.806Z"
   },
   {
    "duration": 30,
    "start_time": "2023-02-01T11:13:15.811Z"
   },
   {
    "duration": 23,
    "start_time": "2023-02-01T11:13:15.842Z"
   },
   {
    "duration": 80,
    "start_time": "2023-02-01T11:13:15.867Z"
   },
   {
    "duration": 7,
    "start_time": "2023-02-01T11:13:15.948Z"
   },
   {
    "duration": 29,
    "start_time": "2023-02-01T11:13:15.957Z"
   },
   {
    "duration": 11,
    "start_time": "2023-02-01T11:13:15.988Z"
   },
   {
    "duration": 6,
    "start_time": "2023-02-01T11:13:16.000Z"
   },
   {
    "duration": 14,
    "start_time": "2023-02-01T11:13:16.007Z"
   },
   {
    "duration": 10,
    "start_time": "2023-02-01T11:13:16.023Z"
   },
   {
    "duration": 18,
    "start_time": "2023-02-01T11:13:16.035Z"
   },
   {
    "duration": 20,
    "start_time": "2023-02-01T11:13:16.054Z"
   },
   {
    "duration": 13,
    "start_time": "2023-02-01T11:13:16.075Z"
   },
   {
    "duration": 7,
    "start_time": "2023-02-01T11:13:16.089Z"
   },
   {
    "duration": 4,
    "start_time": "2023-02-01T11:13:16.097Z"
   },
   {
    "duration": 223,
    "start_time": "2023-02-01T11:13:16.103Z"
   },
   {
    "duration": 5,
    "start_time": "2023-02-01T11:13:16.327Z"
   },
   {
    "duration": 71,
    "start_time": "2023-02-01T11:13:16.334Z"
   },
   {
    "duration": 17,
    "start_time": "2023-02-01T11:13:16.408Z"
   },
   {
    "duration": 261,
    "start_time": "2023-02-01T11:13:16.427Z"
   },
   {
    "duration": 11,
    "start_time": "2023-02-01T11:13:16.690Z"
   },
   {
    "duration": 258,
    "start_time": "2023-02-01T11:13:16.704Z"
   },
   {
    "duration": 9,
    "start_time": "2023-02-01T11:13:16.964Z"
   },
   {
    "duration": 280,
    "start_time": "2023-02-01T11:13:16.974Z"
   },
   {
    "duration": 9,
    "start_time": "2023-02-01T11:13:17.256Z"
   },
   {
    "duration": 266,
    "start_time": "2023-02-01T11:13:17.267Z"
   },
   {
    "duration": 8,
    "start_time": "2023-02-01T11:13:17.535Z"
   },
   {
    "duration": 7,
    "start_time": "2023-02-01T11:13:17.548Z"
   },
   {
    "duration": 370,
    "start_time": "2023-02-01T11:13:17.556Z"
   },
   {
    "duration": 9,
    "start_time": "2023-02-01T11:13:17.927Z"
   },
   {
    "duration": 257,
    "start_time": "2023-02-01T11:13:17.938Z"
   },
   {
    "duration": 8,
    "start_time": "2023-02-01T11:13:18.196Z"
   },
   {
    "duration": 247,
    "start_time": "2023-02-01T11:13:18.206Z"
   },
   {
    "duration": 7,
    "start_time": "2023-02-01T11:13:18.454Z"
   },
   {
    "duration": 131,
    "start_time": "2023-02-01T11:13:18.462Z"
   },
   {
    "duration": 10,
    "start_time": "2023-02-01T11:13:18.594Z"
   },
   {
    "duration": 288,
    "start_time": "2023-02-01T11:13:18.606Z"
   },
   {
    "duration": 10,
    "start_time": "2023-02-01T11:13:18.898Z"
   },
   {
    "duration": 256,
    "start_time": "2023-02-01T11:13:18.910Z"
   },
   {
    "duration": 10,
    "start_time": "2023-02-01T11:13:19.168Z"
   },
   {
    "duration": 449,
    "start_time": "2023-02-01T11:13:19.180Z"
   },
   {
    "duration": 11,
    "start_time": "2023-02-01T11:13:19.632Z"
   },
   {
    "duration": 259,
    "start_time": "2023-02-01T11:13:19.644Z"
   },
   {
    "duration": 5,
    "start_time": "2023-02-01T11:13:19.905Z"
   },
   {
    "duration": 273,
    "start_time": "2023-02-01T11:13:19.912Z"
   },
   {
    "duration": 12,
    "start_time": "2023-02-01T11:13:20.188Z"
   },
   {
    "duration": 298,
    "start_time": "2023-02-01T11:13:20.201Z"
   },
   {
    "duration": 284,
    "start_time": "2023-02-01T11:13:20.500Z"
   },
   {
    "duration": 14,
    "start_time": "2023-02-01T11:13:20.786Z"
   },
   {
    "duration": 31,
    "start_time": "2023-02-01T11:13:20.801Z"
   },
   {
    "duration": 8,
    "start_time": "2023-02-01T11:13:20.834Z"
   },
   {
    "duration": 231,
    "start_time": "2023-02-01T11:13:20.843Z"
   },
   {
    "duration": 6,
    "start_time": "2023-02-01T11:13:21.076Z"
   },
   {
    "duration": 182,
    "start_time": "2023-02-01T11:13:21.098Z"
   },
   {
    "duration": 5,
    "start_time": "2023-02-01T11:13:21.282Z"
   },
   {
    "duration": 163,
    "start_time": "2023-02-01T11:13:21.299Z"
   },
   {
    "duration": 6,
    "start_time": "2023-02-01T11:13:21.464Z"
   },
   {
    "duration": 200,
    "start_time": "2023-02-01T11:13:21.471Z"
   },
   {
    "duration": 8,
    "start_time": "2023-02-01T11:13:21.672Z"
   },
   {
    "duration": 148,
    "start_time": "2023-02-01T11:13:21.681Z"
   },
   {
    "duration": 172,
    "start_time": "2023-02-01T11:13:21.831Z"
   },
   {
    "duration": 328,
    "start_time": "2023-02-01T11:13:22.005Z"
   },
   {
    "duration": 171,
    "start_time": "2023-02-01T11:13:22.334Z"
   },
   {
    "duration": 4,
    "start_time": "2023-02-01T11:13:22.507Z"
   },
   {
    "duration": 14,
    "start_time": "2023-02-01T11:13:22.513Z"
   },
   {
    "duration": 11,
    "start_time": "2023-02-01T11:13:22.529Z"
   },
   {
    "duration": 24,
    "start_time": "2023-02-01T11:13:22.542Z"
   },
   {
    "duration": 133,
    "start_time": "2023-02-01T11:13:22.567Z"
   },
   {
    "duration": 9,
    "start_time": "2023-02-01T11:13:22.703Z"
   },
   {
    "duration": 57,
    "start_time": "2023-02-01T11:13:22.714Z"
   },
   {
    "duration": 85,
    "start_time": "2023-02-01T11:13:22.773Z"
   },
   {
    "duration": 139,
    "start_time": "2023-02-01T11:13:22.860Z"
   },
   {
    "duration": 0,
    "start_time": "2023-02-01T11:13:23.001Z"
   },
   {
    "duration": 0,
    "start_time": "2023-02-01T11:13:23.003Z"
   },
   {
    "duration": 0,
    "start_time": "2023-02-01T11:13:23.004Z"
   },
   {
    "duration": 10,
    "start_time": "2023-02-01T11:13:26.641Z"
   },
   {
    "duration": 6,
    "start_time": "2023-02-01T11:13:32.393Z"
   },
   {
    "duration": 634,
    "start_time": "2023-02-01T13:50:37.006Z"
   },
   {
    "duration": 15,
    "start_time": "2023-02-01T13:50:37.642Z"
   },
   {
    "duration": 3474,
    "start_time": "2023-02-01T13:50:37.659Z"
   },
   {
    "duration": 11,
    "start_time": "2023-02-01T13:50:41.135Z"
   },
   {
    "duration": 21,
    "start_time": "2023-02-01T13:50:41.148Z"
   },
   {
    "duration": 3,
    "start_time": "2023-02-01T13:50:41.171Z"
   },
   {
    "duration": 21,
    "start_time": "2023-02-01T13:50:41.176Z"
   },
   {
    "duration": 40,
    "start_time": "2023-02-01T13:50:41.200Z"
   },
   {
    "duration": 10,
    "start_time": "2023-02-01T13:50:41.241Z"
   },
   {
    "duration": 8,
    "start_time": "2023-02-01T13:50:41.254Z"
   },
   {
    "duration": 10,
    "start_time": "2023-02-01T13:50:41.263Z"
   },
   {
    "duration": 34,
    "start_time": "2023-02-01T13:50:41.275Z"
   },
   {
    "duration": 12,
    "start_time": "2023-02-01T13:50:41.311Z"
   },
   {
    "duration": 5,
    "start_time": "2023-02-01T13:50:41.325Z"
   },
   {
    "duration": 33,
    "start_time": "2023-02-01T13:50:41.332Z"
   },
   {
    "duration": 18,
    "start_time": "2023-02-01T13:50:41.367Z"
   },
   {
    "duration": 96,
    "start_time": "2023-02-01T13:50:41.388Z"
   },
   {
    "duration": 7,
    "start_time": "2023-02-01T13:50:41.486Z"
   },
   {
    "duration": 18,
    "start_time": "2023-02-01T13:50:41.503Z"
   },
   {
    "duration": 9,
    "start_time": "2023-02-01T13:50:41.522Z"
   },
   {
    "duration": 10,
    "start_time": "2023-02-01T13:50:41.532Z"
   },
   {
    "duration": 10,
    "start_time": "2023-02-01T13:50:41.544Z"
   },
   {
    "duration": 9,
    "start_time": "2023-02-01T13:50:41.555Z"
   },
   {
    "duration": 39,
    "start_time": "2023-02-01T13:50:41.566Z"
   },
   {
    "duration": 8,
    "start_time": "2023-02-01T13:50:41.607Z"
   },
   {
    "duration": 5,
    "start_time": "2023-02-01T13:50:41.617Z"
   },
   {
    "duration": 9,
    "start_time": "2023-02-01T13:50:41.624Z"
   },
   {
    "duration": 5,
    "start_time": "2023-02-01T13:50:41.638Z"
   },
   {
    "duration": 255,
    "start_time": "2023-02-01T13:50:41.645Z"
   },
   {
    "duration": 4,
    "start_time": "2023-02-01T13:50:41.902Z"
   },
   {
    "duration": 37,
    "start_time": "2023-02-01T13:50:41.908Z"
   },
   {
    "duration": 8,
    "start_time": "2023-02-01T13:50:41.947Z"
   },
   {
    "duration": 252,
    "start_time": "2023-02-01T13:50:41.956Z"
   },
   {
    "duration": 9,
    "start_time": "2023-02-01T13:50:42.210Z"
   },
   {
    "duration": 277,
    "start_time": "2023-02-01T13:50:42.221Z"
   },
   {
    "duration": 9,
    "start_time": "2023-02-01T13:50:42.502Z"
   },
   {
    "duration": 261,
    "start_time": "2023-02-01T13:50:42.514Z"
   },
   {
    "duration": 11,
    "start_time": "2023-02-01T13:50:42.778Z"
   },
   {
    "duration": 397,
    "start_time": "2023-02-01T13:50:42.803Z"
   },
   {
    "duration": 12,
    "start_time": "2023-02-01T13:50:43.203Z"
   },
   {
    "duration": 10,
    "start_time": "2023-02-01T13:50:43.217Z"
   },
   {
    "duration": 313,
    "start_time": "2023-02-01T13:50:43.229Z"
   },
   {
    "duration": 12,
    "start_time": "2023-02-01T13:50:43.544Z"
   },
   {
    "duration": 294,
    "start_time": "2023-02-01T13:50:43.558Z"
   },
   {
    "duration": 9,
    "start_time": "2023-02-01T13:50:43.853Z"
   },
   {
    "duration": 265,
    "start_time": "2023-02-01T13:50:43.863Z"
   },
   {
    "duration": 12,
    "start_time": "2023-02-01T13:50:44.130Z"
   },
   {
    "duration": 183,
    "start_time": "2023-02-01T13:50:44.145Z"
   },
   {
    "duration": 17,
    "start_time": "2023-02-01T13:50:44.333Z"
   },
   {
    "duration": 413,
    "start_time": "2023-02-01T13:50:44.352Z"
   },
   {
    "duration": 9,
    "start_time": "2023-02-01T13:50:44.767Z"
   },
   {
    "duration": 395,
    "start_time": "2023-02-01T13:50:44.778Z"
   },
   {
    "duration": 9,
    "start_time": "2023-02-01T13:50:45.175Z"
   },
   {
    "duration": 291,
    "start_time": "2023-02-01T13:50:45.186Z"
   },
   {
    "duration": 13,
    "start_time": "2023-02-01T13:50:45.478Z"
   },
   {
    "duration": 276,
    "start_time": "2023-02-01T13:50:45.502Z"
   },
   {
    "duration": 6,
    "start_time": "2023-02-01T13:50:45.780Z"
   },
   {
    "duration": 364,
    "start_time": "2023-02-01T13:50:45.788Z"
   },
   {
    "duration": 7,
    "start_time": "2023-02-01T13:50:46.154Z"
   },
   {
    "duration": 269,
    "start_time": "2023-02-01T13:50:46.162Z"
   },
   {
    "duration": 381,
    "start_time": "2023-02-01T13:50:46.432Z"
   },
   {
    "duration": 14,
    "start_time": "2023-02-01T13:50:46.815Z"
   },
   {
    "duration": 21,
    "start_time": "2023-02-01T13:50:46.831Z"
   },
   {
    "duration": 11,
    "start_time": "2023-02-01T13:50:46.854Z"
   },
   {
    "duration": 243,
    "start_time": "2023-02-01T13:50:46.867Z"
   },
   {
    "duration": 6,
    "start_time": "2023-02-01T13:50:47.113Z"
   },
   {
    "duration": 234,
    "start_time": "2023-02-01T13:50:47.121Z"
   },
   {
    "duration": 6,
    "start_time": "2023-02-01T13:50:47.357Z"
   },
   {
    "duration": 198,
    "start_time": "2023-02-01T13:50:47.365Z"
   },
   {
    "duration": 7,
    "start_time": "2023-02-01T13:50:47.565Z"
   },
   {
    "duration": 213,
    "start_time": "2023-02-01T13:50:47.574Z"
   },
   {
    "duration": 18,
    "start_time": "2023-02-01T13:50:47.790Z"
   },
   {
    "duration": 304,
    "start_time": "2023-02-01T13:50:47.810Z"
   },
   {
    "duration": 171,
    "start_time": "2023-02-01T13:50:48.116Z"
   },
   {
    "duration": 237,
    "start_time": "2023-02-01T13:50:48.289Z"
   },
   {
    "duration": 175,
    "start_time": "2023-02-01T13:50:48.529Z"
   },
   {
    "duration": 4,
    "start_time": "2023-02-01T13:50:48.706Z"
   },
   {
    "duration": 16,
    "start_time": "2023-02-01T13:50:48.712Z"
   },
   {
    "duration": 12,
    "start_time": "2023-02-01T13:50:48.730Z"
   },
   {
    "duration": 14,
    "start_time": "2023-02-01T13:50:48.745Z"
   },
   {
    "duration": 181,
    "start_time": "2023-02-01T13:50:48.762Z"
   },
   {
    "duration": 31,
    "start_time": "2023-02-01T13:50:48.949Z"
   },
   {
    "duration": 29,
    "start_time": "2023-02-01T13:50:48.982Z"
   },
   {
    "duration": 41,
    "start_time": "2023-02-01T13:50:49.013Z"
   },
   {
    "duration": 12,
    "start_time": "2023-02-01T13:50:49.056Z"
   },
   {
    "duration": 35,
    "start_time": "2023-02-01T13:50:49.070Z"
   },
   {
    "duration": 321,
    "start_time": "2023-02-01T13:50:49.107Z"
   },
   {
    "duration": 10,
    "start_time": "2023-02-01T13:50:49.430Z"
   },
   {
    "duration": 792,
    "start_time": "2023-02-02T09:08:43.089Z"
   },
   {
    "duration": 16,
    "start_time": "2023-02-02T09:08:43.884Z"
   },
   {
    "duration": 3274,
    "start_time": "2023-02-02T09:08:43.903Z"
   },
   {
    "duration": 10,
    "start_time": "2023-02-02T09:08:47.179Z"
   },
   {
    "duration": 19,
    "start_time": "2023-02-02T09:08:47.190Z"
   },
   {
    "duration": 3,
    "start_time": "2023-02-02T09:08:47.210Z"
   },
   {
    "duration": 12,
    "start_time": "2023-02-02T09:08:47.214Z"
   },
   {
    "duration": 6,
    "start_time": "2023-02-02T09:08:47.228Z"
   },
   {
    "duration": 8,
    "start_time": "2023-02-02T09:08:47.235Z"
   },
   {
    "duration": 5,
    "start_time": "2023-02-02T09:08:47.248Z"
   },
   {
    "duration": 7,
    "start_time": "2023-02-02T09:08:47.254Z"
   },
   {
    "duration": 10,
    "start_time": "2023-02-02T09:08:47.262Z"
   },
   {
    "duration": 10,
    "start_time": "2023-02-02T09:08:47.273Z"
   },
   {
    "duration": 4,
    "start_time": "2023-02-02T09:08:47.284Z"
   },
   {
    "duration": 22,
    "start_time": "2023-02-02T09:08:47.289Z"
   },
   {
    "duration": 39,
    "start_time": "2023-02-02T09:08:47.313Z"
   },
   {
    "duration": 71,
    "start_time": "2023-02-02T09:08:47.354Z"
   },
   {
    "duration": 7,
    "start_time": "2023-02-02T09:08:47.427Z"
   },
   {
    "duration": 17,
    "start_time": "2023-02-02T09:08:47.449Z"
   },
   {
    "duration": 18,
    "start_time": "2023-02-02T09:08:47.468Z"
   },
   {
    "duration": 22,
    "start_time": "2023-02-02T09:08:47.488Z"
   },
   {
    "duration": 26,
    "start_time": "2023-02-02T09:08:47.511Z"
   },
   {
    "duration": 20,
    "start_time": "2023-02-02T09:08:47.538Z"
   },
   {
    "duration": 4,
    "start_time": "2023-02-02T09:08:47.559Z"
   },
   {
    "duration": 23,
    "start_time": "2023-02-02T09:08:47.565Z"
   },
   {
    "duration": 15,
    "start_time": "2023-02-02T09:08:47.590Z"
   },
   {
    "duration": 24,
    "start_time": "2023-02-02T09:08:47.609Z"
   },
   {
    "duration": 18,
    "start_time": "2023-02-02T09:08:47.637Z"
   },
   {
    "duration": 25,
    "start_time": "2023-02-02T09:08:47.656Z"
   },
   {
    "duration": 261,
    "start_time": "2023-02-02T09:08:47.683Z"
   },
   {
    "duration": 4,
    "start_time": "2023-02-02T09:08:47.946Z"
   },
   {
    "duration": 51,
    "start_time": "2023-02-02T09:08:47.952Z"
   },
   {
    "duration": 31,
    "start_time": "2023-02-02T09:08:48.005Z"
   },
   {
    "duration": 259,
    "start_time": "2023-02-02T09:08:48.038Z"
   },
   {
    "duration": 9,
    "start_time": "2023-02-02T09:08:48.299Z"
   },
   {
    "duration": 256,
    "start_time": "2023-02-02T09:08:48.310Z"
   },
   {
    "duration": 9,
    "start_time": "2023-02-02T09:08:48.567Z"
   },
   {
    "duration": 237,
    "start_time": "2023-02-02T09:08:48.577Z"
   },
   {
    "duration": 8,
    "start_time": "2023-02-02T09:08:48.816Z"
   },
   {
    "duration": 362,
    "start_time": "2023-02-02T09:08:48.826Z"
   },
   {
    "duration": 8,
    "start_time": "2023-02-02T09:08:49.190Z"
   },
   {
    "duration": 5,
    "start_time": "2023-02-02T09:08:49.200Z"
   },
   {
    "duration": 290,
    "start_time": "2023-02-02T09:08:49.206Z"
   },
   {
    "duration": 14,
    "start_time": "2023-02-02T09:08:49.497Z"
   },
   {
    "duration": 281,
    "start_time": "2023-02-02T09:08:49.513Z"
   },
   {
    "duration": 10,
    "start_time": "2023-02-02T09:08:49.796Z"
   },
   {
    "duration": 245,
    "start_time": "2023-02-02T09:08:49.808Z"
   },
   {
    "duration": 7,
    "start_time": "2023-02-02T09:08:50.054Z"
   },
   {
    "duration": 131,
    "start_time": "2023-02-02T09:08:50.062Z"
   },
   {
    "duration": 8,
    "start_time": "2023-02-02T09:08:50.194Z"
   },
   {
    "duration": 262,
    "start_time": "2023-02-02T09:08:50.203Z"
   },
   {
    "duration": 9,
    "start_time": "2023-02-02T09:08:50.466Z"
   },
   {
    "duration": 356,
    "start_time": "2023-02-02T09:08:50.476Z"
   },
   {
    "duration": 15,
    "start_time": "2023-02-02T09:08:50.834Z"
   },
   {
    "duration": 250,
    "start_time": "2023-02-02T09:08:50.851Z"
   },
   {
    "duration": 9,
    "start_time": "2023-02-02T09:08:51.102Z"
   },
   {
    "duration": 236,
    "start_time": "2023-02-02T09:08:51.112Z"
   },
   {
    "duration": 5,
    "start_time": "2023-02-02T09:08:51.350Z"
   },
   {
    "duration": 498,
    "start_time": "2023-02-02T09:08:51.357Z"
   },
   {
    "duration": 6,
    "start_time": "2023-02-02T09:08:51.857Z"
   },
   {
    "duration": 487,
    "start_time": "2023-02-02T09:08:51.865Z"
   },
   {
    "duration": 513,
    "start_time": "2023-02-02T09:08:52.354Z"
   },
   {
    "duration": 8,
    "start_time": "2023-02-02T09:08:52.869Z"
   },
   {
    "duration": 6,
    "start_time": "2023-02-02T09:08:52.879Z"
   },
   {
    "duration": 63,
    "start_time": "2023-02-02T09:08:52.887Z"
   },
   {
    "duration": 282,
    "start_time": "2023-02-02T09:08:52.952Z"
   },
   {
    "duration": 14,
    "start_time": "2023-02-02T09:08:53.237Z"
   },
   {
    "duration": 236,
    "start_time": "2023-02-02T09:08:53.253Z"
   },
   {
    "duration": 7,
    "start_time": "2023-02-02T09:08:53.490Z"
   },
   {
    "duration": 176,
    "start_time": "2023-02-02T09:08:53.498Z"
   },
   {
    "duration": 6,
    "start_time": "2023-02-02T09:08:53.676Z"
   },
   {
    "duration": 221,
    "start_time": "2023-02-02T09:08:53.684Z"
   },
   {
    "duration": 7,
    "start_time": "2023-02-02T09:08:53.907Z"
   },
   {
    "duration": 280,
    "start_time": "2023-02-02T09:08:53.916Z"
   },
   {
    "duration": 163,
    "start_time": "2023-02-02T09:08:54.198Z"
   },
   {
    "duration": 191,
    "start_time": "2023-02-02T09:08:54.363Z"
   },
   {
    "duration": 171,
    "start_time": "2023-02-02T09:08:54.556Z"
   },
   {
    "duration": 5,
    "start_time": "2023-02-02T09:08:54.729Z"
   },
   {
    "duration": 4,
    "start_time": "2023-02-02T09:08:54.748Z"
   },
   {
    "duration": 31,
    "start_time": "2023-02-02T09:08:54.754Z"
   },
   {
    "duration": 19,
    "start_time": "2023-02-02T09:08:54.786Z"
   },
   {
    "duration": 124,
    "start_time": "2023-02-02T09:08:54.811Z"
   },
   {
    "duration": 32,
    "start_time": "2023-02-02T09:08:54.937Z"
   },
   {
    "duration": 95,
    "start_time": "2023-02-02T09:08:54.971Z"
   },
   {
    "duration": 29,
    "start_time": "2023-02-02T09:08:55.068Z"
   },
   {
    "duration": 10,
    "start_time": "2023-02-02T09:08:55.099Z"
   },
   {
    "duration": 22,
    "start_time": "2023-02-02T09:08:55.110Z"
   },
   {
    "duration": 186,
    "start_time": "2023-02-02T09:08:55.134Z"
   },
   {
    "duration": 6,
    "start_time": "2023-02-02T09:08:55.322Z"
   }
  ],
  "kernelspec": {
   "display_name": "Python 3",
   "language": "python",
   "name": "python3"
  },
  "language_info": {
   "codemirror_mode": {
    "name": "ipython",
    "version": 3
   },
   "file_extension": ".py",
   "mimetype": "text/x-python",
   "name": "python",
   "nbconvert_exporter": "python",
   "pygments_lexer": "ipython3",
   "version": "3.8.5"
  },
  "toc": {
   "base_numbering": 1,
   "nav_menu": {},
   "number_sections": true,
   "sideBar": true,
   "skip_h1_title": true,
   "title_cell": "Table of Contents",
   "title_sidebar": "Contents",
   "toc_cell": false,
   "toc_position": {},
   "toc_section_display": true,
   "toc_window_display": true
  }
 },
 "nbformat": 4,
 "nbformat_minor": 2
}
