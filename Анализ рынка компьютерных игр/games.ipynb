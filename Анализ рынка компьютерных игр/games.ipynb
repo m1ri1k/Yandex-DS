{
 "cells": [
  {
   "cell_type": "markdown",
   "metadata": {},
   "source": [
    "# Сборный проект №1"
   ]
  },
  {
   "cell_type": "markdown",
   "metadata": {
    "toc": true
   },
   "source": [
    "<h1>Содержание<span class=\"tocSkip\"></span></h1>\n",
    "<div class=\"toc\"><ul class=\"toc-item\"><li><span><a href=\"#О-проекте\" data-toc-modified-id=\"О-проекте-0\"><span class=\"toc-item-num\">0&nbsp;&nbsp;</span>О проекте</a></span></li><li><span><a href=\"#Изучение-данных\" data-toc-modified-id=\"Изучение-данных-1\"><span class=\"toc-item-num\">1&nbsp;&nbsp;</span>Изучение данных</a></span></li><li><span><a href=\"#Подготовка-данных\" data-toc-modified-id=\"Подготовка-данных-2\"><span class=\"toc-item-num\">2&nbsp;&nbsp;</span>Подготовка данных</a></span><ul class=\"toc-item\"><li><span><a href=\"#Корректировка-типа-данных\" data-toc-modified-id=\"Корректировка-типа-данных-2.1\"><span class=\"toc-item-num\">2.1&nbsp;&nbsp;</span>Корректировка типа данных</a></span></li><li><span><a href=\"#Обработка-пропущенных-значений\" data-toc-modified-id=\"Обработка-пропущенных-значений-2.2\"><span class=\"toc-item-num\">2.2&nbsp;&nbsp;</span>Обработка пропущенных значений</a></span></li><li><span><a href=\"#Добавление-столбца-для-суммарных-продаж-во-всех-регионах\" data-toc-modified-id=\"Добавление-столбца-для-суммарных-продаж-во-всех-регионах-2.3\"><span class=\"toc-item-num\">2.3&nbsp;&nbsp;</span>Добавление столбца для суммарных продаж во всех регионах</a></span></li></ul></li><li><span><a href=\"#Исследовательский-анализ-данных\" data-toc-modified-id=\"Исследовательский-анализ-данных-3\"><span class=\"toc-item-num\">3&nbsp;&nbsp;</span>Исследовательский анализ данных</a></span><ul class=\"toc-item\"><li><span><a href=\"#Количество-выпущенных-игр-по-годам\" data-toc-modified-id=\"Количество-выпущенных-игр-по-годам-3.1\"><span class=\"toc-item-num\">3.1&nbsp;&nbsp;</span>Количество выпущенных игр по годам</a></span></li><li><span><a href=\"#Продажи-по-платформам\" data-toc-modified-id=\"Продажи-по-платформам-3.2\"><span class=\"toc-item-num\">3.2&nbsp;&nbsp;</span>Продажи по платформам</a></span></li><li><span><a href=\"#Динамика-продаж-по-платформам\" data-toc-modified-id=\"Динамика-продаж-по-платформам-3.3\"><span class=\"toc-item-num\">3.3&nbsp;&nbsp;</span>Динамика продаж по платформам</a></span></li><li><span><a href=\"#Глобальные-продажи-игр\" data-toc-modified-id=\"Глобальные-продажи-игр-3.4\"><span class=\"toc-item-num\">3.4&nbsp;&nbsp;</span>Глобальные продажи игр</a></span></li><li><span><a href=\"#Влияние-отзывов-на-продажи\" data-toc-modified-id=\"Влияние-отзывов-на-продажи-3.5\"><span class=\"toc-item-num\">3.5&nbsp;&nbsp;</span>Влияние отзывов на продажи</a></span></li><li><span><a href=\"#Распределение-игр-по-жанрам\" data-toc-modified-id=\"Распределение-игр-по-жанрам-3.6\"><span class=\"toc-item-num\">3.6&nbsp;&nbsp;</span>Распределение игр по жанрам</a></span></li></ul></li><li><span><a href=\"#Портрет-пользователя-каждого-региона\" data-toc-modified-id=\"Портрет-пользователя-каждого-региона-4\"><span class=\"toc-item-num\">4&nbsp;&nbsp;</span>Портрет пользователя каждого региона</a></span><ul class=\"toc-item\"><li><span><a href=\"#Топ-5-популярных-платформ\" data-toc-modified-id=\"Топ-5-популярных-платформ-4.1\"><span class=\"toc-item-num\">4.1&nbsp;&nbsp;</span>Топ-5 популярных платформ</a></span></li><li><span><a href=\"#Самые-популярные-жанры\" data-toc-modified-id=\"Самые-популярные-жанры-4.2\"><span class=\"toc-item-num\">4.2&nbsp;&nbsp;</span>Самые популярные жанры</a></span></li><li><span><a href=\"#Влияние-рейтинга-ESRB-на-продажи\" data-toc-modified-id=\"Влияние-рейтинга-ESRB-на-продажи-4.3\"><span class=\"toc-item-num\">4.3&nbsp;&nbsp;</span>Влияние рейтинга ESRB на продажи</a></span></li></ul></li><li><span><a href=\"#Проверка-гипотез\" data-toc-modified-id=\"Проверка-гипотез-5\"><span class=\"toc-item-num\">5&nbsp;&nbsp;</span>Проверка гипотез</a></span><ul class=\"toc-item\"><li><span><a href=\"#Рейтинги-платформ-Xbox-One-и-PC\" data-toc-modified-id=\"Рейтинги-платформ-Xbox-One-и-PC-5.1\"><span class=\"toc-item-num\">5.1&nbsp;&nbsp;</span>Рейтинги платформ Xbox One и PC</a></span></li><li><span><a href=\"#Cредние-пользовательские-рейтинги-жанров-Action-и-Sports\" data-toc-modified-id=\"Cредние-пользовательские-рейтинги-жанров-Action-и-Sports-5.2\"><span class=\"toc-item-num\">5.2&nbsp;&nbsp;</span>Cредние пользовательские рейтинги жанров Action и Sports</a></span></li></ul></li><li><span><a href=\"#Вывод\" data-toc-modified-id=\"Вывод-6\"><span class=\"toc-item-num\">6&nbsp;&nbsp;</span>Вывод</a></span></li></ul></div>"
   ]
  },
  {
   "cell_type": "markdown",
   "metadata": {},
   "source": [
    "## О проекте"
   ]
  },
  {
   "cell_type": "markdown",
   "metadata": {},
   "source": [
    "**Описание проекта**  \n",
    "Вы работаете в интернет-магазине «Стримчик», который продаёт по всему миру компьютерные игры. Из открытых источников доступны исторические данные о продажах игр, оценки пользователей и экспертов, жанры и платформы (например, Xbox или PlayStation). Вам нужно выявить определяющие успешность игры закономерности. Это позволит сделать ставку на потенциально популярный продукт и спланировать рекламные кампании.  \n",
    "Перед вами данные до 2016 года. Представим, что сейчас декабрь 2016 г., и вы планируете кампанию на 2017-й. Нужно отработать принцип работы с данными. Неважно, прогнозируете ли вы продажи на 2017 год по данным 2016-го или же 2027-й — по данным 2026 года.\n",
    "В наборе данных попадается аббревиатура ESRB (Entertainment Software Rating Board) — это ассоциация, определяющая возрастной рейтинг компьютерных игр. ESRB оценивает игровой контент и присваивает ему подходящую возрастную категорию, например, «Для взрослых», «Для детей младшего возраста» или «Для подростков». "
   ]
  },
  {
   "cell_type": "markdown",
   "metadata": {},
   "source": [
    "**Описание переменных:**  \n",
    "* Name — название игры\n",
    "* Platform — платформа\n",
    "* Year_of_Release — год выпуска\n",
    "* Genre — жанр игры\n",
    "* NA_sales — продажи в Северной Америке (миллионы проданных копий)\n",
    "* EU_sales — продажи в Европе (миллионы проданных копий)\n",
    "* JP_sales — продажи в Японии (миллионы проданных копий)\n",
    "* Other_sales — продажи в других странах (миллионы проданных копий)\n",
    "* Critic_Score — оценка критиков (максимум 100)\n",
    "* User_Score — оценка пользователей (максимум 10)\n",
    "* Rating — рейтинг от организации ESRB (англ. Entertainment Software Rating Board). Эта ассоциация определяет рейтинг компьютерных игр и присваивает им подходящую возрастную категорию.  \n",
    "Данные за 2016 год могут быть неполными."
   ]
  },
  {
   "cell_type": "markdown",
   "metadata": {},
   "source": [
    "**План работы:**  \n",
    "* Изучить общую информацию о данных\n",
    "* Подготовить данные для работы\n",
    "* Изучить сколько игр выпускалось в каждый год\n",
    "* Изучить как менялись продажи по платформам\n",
    "* Выявить платформы, которые лидируют, растут или падают по продажам\n",
    "* Определить актуальный период для анализа данных\n",
    "* Выявить лидирующие по продажам платформы\n",
    "* Изучить влияние отзывов на продажи\n",
    "* Определить самые жанры с высокими и низкими продажами\n",
    "* Составить портрет пользователя каждого региона\n",
    "* Проверить гипотезу о том, что средние пользовательские рейтинги платформ Xbox One и PC одинаковые\n",
    "* Проверить гипотезу о том, что средние пользовательские рейтинги жанров Action и Sports разные"
   ]
  },
  {
   "cell_type": "markdown",
   "metadata": {},
   "source": [
    "**Импорт используемых в работе библиотек:**"
   ]
  },
  {
   "cell_type": "code",
   "execution_count": 10,
   "metadata": {},
   "outputs": [],
   "source": [
    "import pandas as pd\n",
    "import numpy as np\n",
    "import matplotlib.pyplot as plt\n",
    "from scipy import stats as st"
   ]
  },
  {
   "cell_type": "markdown",
   "metadata": {},
   "source": [
    "## Изучение данных"
   ]
  },
  {
   "cell_type": "code",
   "execution_count": 11,
   "metadata": {},
   "outputs": [],
   "source": [
    "data = pd.read_csv('games.csv')"
   ]
  },
  {
   "cell_type": "code",
   "execution_count": 12,
   "metadata": {},
   "outputs": [
    {
     "data": {
      "text/html": [
       "<div>\n",
       "<style scoped>\n",
       "    .dataframe tbody tr th:only-of-type {\n",
       "        vertical-align: middle;\n",
       "    }\n",
       "\n",
       "    .dataframe tbody tr th {\n",
       "        vertical-align: top;\n",
       "    }\n",
       "\n",
       "    .dataframe thead th {\n",
       "        text-align: right;\n",
       "    }\n",
       "</style>\n",
       "<table border=\"1\" class=\"dataframe\">\n",
       "  <thead>\n",
       "    <tr style=\"text-align: right;\">\n",
       "      <th></th>\n",
       "      <th>Name</th>\n",
       "      <th>Platform</th>\n",
       "      <th>Year_of_Release</th>\n",
       "      <th>Genre</th>\n",
       "      <th>NA_sales</th>\n",
       "      <th>EU_sales</th>\n",
       "      <th>JP_sales</th>\n",
       "      <th>Other_sales</th>\n",
       "      <th>Critic_Score</th>\n",
       "      <th>User_Score</th>\n",
       "      <th>Rating</th>\n",
       "    </tr>\n",
       "  </thead>\n",
       "  <tbody>\n",
       "    <tr>\n",
       "      <th>0</th>\n",
       "      <td>Wii Sports</td>\n",
       "      <td>Wii</td>\n",
       "      <td>2006.0</td>\n",
       "      <td>Sports</td>\n",
       "      <td>41.36</td>\n",
       "      <td>28.96</td>\n",
       "      <td>3.77</td>\n",
       "      <td>8.45</td>\n",
       "      <td>76.0</td>\n",
       "      <td>8</td>\n",
       "      <td>E</td>\n",
       "    </tr>\n",
       "    <tr>\n",
       "      <th>1</th>\n",
       "      <td>Super Mario Bros.</td>\n",
       "      <td>NES</td>\n",
       "      <td>1985.0</td>\n",
       "      <td>Platform</td>\n",
       "      <td>29.08</td>\n",
       "      <td>3.58</td>\n",
       "      <td>6.81</td>\n",
       "      <td>0.77</td>\n",
       "      <td>NaN</td>\n",
       "      <td>NaN</td>\n",
       "      <td>NaN</td>\n",
       "    </tr>\n",
       "    <tr>\n",
       "      <th>2</th>\n",
       "      <td>Mario Kart Wii</td>\n",
       "      <td>Wii</td>\n",
       "      <td>2008.0</td>\n",
       "      <td>Racing</td>\n",
       "      <td>15.68</td>\n",
       "      <td>12.76</td>\n",
       "      <td>3.79</td>\n",
       "      <td>3.29</td>\n",
       "      <td>82.0</td>\n",
       "      <td>8.3</td>\n",
       "      <td>E</td>\n",
       "    </tr>\n",
       "    <tr>\n",
       "      <th>3</th>\n",
       "      <td>Wii Sports Resort</td>\n",
       "      <td>Wii</td>\n",
       "      <td>2009.0</td>\n",
       "      <td>Sports</td>\n",
       "      <td>15.61</td>\n",
       "      <td>10.93</td>\n",
       "      <td>3.28</td>\n",
       "      <td>2.95</td>\n",
       "      <td>80.0</td>\n",
       "      <td>8</td>\n",
       "      <td>E</td>\n",
       "    </tr>\n",
       "    <tr>\n",
       "      <th>4</th>\n",
       "      <td>Pokemon Red/Pokemon Blue</td>\n",
       "      <td>GB</td>\n",
       "      <td>1996.0</td>\n",
       "      <td>Role-Playing</td>\n",
       "      <td>11.27</td>\n",
       "      <td>8.89</td>\n",
       "      <td>10.22</td>\n",
       "      <td>1.00</td>\n",
       "      <td>NaN</td>\n",
       "      <td>NaN</td>\n",
       "      <td>NaN</td>\n",
       "    </tr>\n",
       "    <tr>\n",
       "      <th>5</th>\n",
       "      <td>Tetris</td>\n",
       "      <td>GB</td>\n",
       "      <td>1989.0</td>\n",
       "      <td>Puzzle</td>\n",
       "      <td>23.20</td>\n",
       "      <td>2.26</td>\n",
       "      <td>4.22</td>\n",
       "      <td>0.58</td>\n",
       "      <td>NaN</td>\n",
       "      <td>NaN</td>\n",
       "      <td>NaN</td>\n",
       "    </tr>\n",
       "    <tr>\n",
       "      <th>6</th>\n",
       "      <td>New Super Mario Bros.</td>\n",
       "      <td>DS</td>\n",
       "      <td>2006.0</td>\n",
       "      <td>Platform</td>\n",
       "      <td>11.28</td>\n",
       "      <td>9.14</td>\n",
       "      <td>6.50</td>\n",
       "      <td>2.88</td>\n",
       "      <td>89.0</td>\n",
       "      <td>8.5</td>\n",
       "      <td>E</td>\n",
       "    </tr>\n",
       "    <tr>\n",
       "      <th>7</th>\n",
       "      <td>Wii Play</td>\n",
       "      <td>Wii</td>\n",
       "      <td>2006.0</td>\n",
       "      <td>Misc</td>\n",
       "      <td>13.96</td>\n",
       "      <td>9.18</td>\n",
       "      <td>2.93</td>\n",
       "      <td>2.84</td>\n",
       "      <td>58.0</td>\n",
       "      <td>6.6</td>\n",
       "      <td>E</td>\n",
       "    </tr>\n",
       "    <tr>\n",
       "      <th>8</th>\n",
       "      <td>New Super Mario Bros. Wii</td>\n",
       "      <td>Wii</td>\n",
       "      <td>2009.0</td>\n",
       "      <td>Platform</td>\n",
       "      <td>14.44</td>\n",
       "      <td>6.94</td>\n",
       "      <td>4.70</td>\n",
       "      <td>2.24</td>\n",
       "      <td>87.0</td>\n",
       "      <td>8.4</td>\n",
       "      <td>E</td>\n",
       "    </tr>\n",
       "    <tr>\n",
       "      <th>9</th>\n",
       "      <td>Duck Hunt</td>\n",
       "      <td>NES</td>\n",
       "      <td>1984.0</td>\n",
       "      <td>Shooter</td>\n",
       "      <td>26.93</td>\n",
       "      <td>0.63</td>\n",
       "      <td>0.28</td>\n",
       "      <td>0.47</td>\n",
       "      <td>NaN</td>\n",
       "      <td>NaN</td>\n",
       "      <td>NaN</td>\n",
       "    </tr>\n",
       "  </tbody>\n",
       "</table>\n",
       "</div>"
      ],
      "text/plain": [
       "                        Name Platform  Year_of_Release         Genre  \\\n",
       "0                 Wii Sports      Wii           2006.0        Sports   \n",
       "1          Super Mario Bros.      NES           1985.0      Platform   \n",
       "2             Mario Kart Wii      Wii           2008.0        Racing   \n",
       "3          Wii Sports Resort      Wii           2009.0        Sports   \n",
       "4   Pokemon Red/Pokemon Blue       GB           1996.0  Role-Playing   \n",
       "5                     Tetris       GB           1989.0        Puzzle   \n",
       "6      New Super Mario Bros.       DS           2006.0      Platform   \n",
       "7                   Wii Play      Wii           2006.0          Misc   \n",
       "8  New Super Mario Bros. Wii      Wii           2009.0      Platform   \n",
       "9                  Duck Hunt      NES           1984.0       Shooter   \n",
       "\n",
       "   NA_sales  EU_sales  JP_sales  Other_sales  Critic_Score User_Score Rating  \n",
       "0     41.36     28.96      3.77         8.45          76.0          8      E  \n",
       "1     29.08      3.58      6.81         0.77           NaN        NaN    NaN  \n",
       "2     15.68     12.76      3.79         3.29          82.0        8.3      E  \n",
       "3     15.61     10.93      3.28         2.95          80.0          8      E  \n",
       "4     11.27      8.89     10.22         1.00           NaN        NaN    NaN  \n",
       "5     23.20      2.26      4.22         0.58           NaN        NaN    NaN  \n",
       "6     11.28      9.14      6.50         2.88          89.0        8.5      E  \n",
       "7     13.96      9.18      2.93         2.84          58.0        6.6      E  \n",
       "8     14.44      6.94      4.70         2.24          87.0        8.4      E  \n",
       "9     26.93      0.63      0.28         0.47           NaN        NaN    NaN  "
      ]
     },
     "execution_count": 12,
     "metadata": {},
     "output_type": "execute_result"
    }
   ],
   "source": [
    "data.head(10)"
   ]
  },
  {
   "cell_type": "code",
   "execution_count": 13,
   "metadata": {},
   "outputs": [
    {
     "name": "stdout",
     "output_type": "stream",
     "text": [
      "<class 'pandas.core.frame.DataFrame'>\n",
      "RangeIndex: 16715 entries, 0 to 16714\n",
      "Data columns (total 11 columns):\n",
      " #   Column           Non-Null Count  Dtype  \n",
      "---  ------           --------------  -----  \n",
      " 0   Name             16713 non-null  object \n",
      " 1   Platform         16715 non-null  object \n",
      " 2   Year_of_Release  16446 non-null  float64\n",
      " 3   Genre            16713 non-null  object \n",
      " 4   NA_sales         16715 non-null  float64\n",
      " 5   EU_sales         16715 non-null  float64\n",
      " 6   JP_sales         16715 non-null  float64\n",
      " 7   Other_sales      16715 non-null  float64\n",
      " 8   Critic_Score     8137 non-null   float64\n",
      " 9   User_Score       10014 non-null  object \n",
      " 10  Rating           9949 non-null   object \n",
      "dtypes: float64(6), object(5)\n",
      "memory usage: 1.4+ MB\n"
     ]
    }
   ],
   "source": [
    "data.info()"
   ]
  },
  {
   "cell_type": "markdown",
   "metadata": {},
   "source": [
    "В данных содержатся 16715 строк и 11 переменных, из которых 5 имеют строковый формат, 6 - вещественный. Также можно заметить, что в некоторых столбцах содержится достаточно много пропусков. "
   ]
  },
  {
   "cell_type": "markdown",
   "metadata": {},
   "source": [
    "## Подготовка данных"
   ]
  },
  {
   "cell_type": "markdown",
   "metadata": {},
   "source": [
    "Для начала исправим названия колонок датасета, приведем их к нижнему регистру для простоты дальнейшей работы."
   ]
  },
  {
   "cell_type": "code",
   "execution_count": 14,
   "metadata": {},
   "outputs": [],
   "source": [
    "data.columns = data.columns.str.lower()"
   ]
  },
  {
   "cell_type": "code",
   "execution_count": 15,
   "metadata": {},
   "outputs": [
    {
     "data": {
      "text/html": [
       "<div>\n",
       "<style scoped>\n",
       "    .dataframe tbody tr th:only-of-type {\n",
       "        vertical-align: middle;\n",
       "    }\n",
       "\n",
       "    .dataframe tbody tr th {\n",
       "        vertical-align: top;\n",
       "    }\n",
       "\n",
       "    .dataframe thead th {\n",
       "        text-align: right;\n",
       "    }\n",
       "</style>\n",
       "<table border=\"1\" class=\"dataframe\">\n",
       "  <thead>\n",
       "    <tr style=\"text-align: right;\">\n",
       "      <th></th>\n",
       "      <th>name</th>\n",
       "      <th>platform</th>\n",
       "      <th>year_of_release</th>\n",
       "      <th>genre</th>\n",
       "      <th>na_sales</th>\n",
       "      <th>eu_sales</th>\n",
       "      <th>jp_sales</th>\n",
       "      <th>other_sales</th>\n",
       "      <th>critic_score</th>\n",
       "      <th>user_score</th>\n",
       "      <th>rating</th>\n",
       "    </tr>\n",
       "  </thead>\n",
       "  <tbody>\n",
       "    <tr>\n",
       "      <th>0</th>\n",
       "      <td>Wii Sports</td>\n",
       "      <td>Wii</td>\n",
       "      <td>2006.0</td>\n",
       "      <td>Sports</td>\n",
       "      <td>41.36</td>\n",
       "      <td>28.96</td>\n",
       "      <td>3.77</td>\n",
       "      <td>8.45</td>\n",
       "      <td>76.0</td>\n",
       "      <td>8</td>\n",
       "      <td>E</td>\n",
       "    </tr>\n",
       "    <tr>\n",
       "      <th>1</th>\n",
       "      <td>Super Mario Bros.</td>\n",
       "      <td>NES</td>\n",
       "      <td>1985.0</td>\n",
       "      <td>Platform</td>\n",
       "      <td>29.08</td>\n",
       "      <td>3.58</td>\n",
       "      <td>6.81</td>\n",
       "      <td>0.77</td>\n",
       "      <td>NaN</td>\n",
       "      <td>NaN</td>\n",
       "      <td>NaN</td>\n",
       "    </tr>\n",
       "    <tr>\n",
       "      <th>2</th>\n",
       "      <td>Mario Kart Wii</td>\n",
       "      <td>Wii</td>\n",
       "      <td>2008.0</td>\n",
       "      <td>Racing</td>\n",
       "      <td>15.68</td>\n",
       "      <td>12.76</td>\n",
       "      <td>3.79</td>\n",
       "      <td>3.29</td>\n",
       "      <td>82.0</td>\n",
       "      <td>8.3</td>\n",
       "      <td>E</td>\n",
       "    </tr>\n",
       "    <tr>\n",
       "      <th>3</th>\n",
       "      <td>Wii Sports Resort</td>\n",
       "      <td>Wii</td>\n",
       "      <td>2009.0</td>\n",
       "      <td>Sports</td>\n",
       "      <td>15.61</td>\n",
       "      <td>10.93</td>\n",
       "      <td>3.28</td>\n",
       "      <td>2.95</td>\n",
       "      <td>80.0</td>\n",
       "      <td>8</td>\n",
       "      <td>E</td>\n",
       "    </tr>\n",
       "    <tr>\n",
       "      <th>4</th>\n",
       "      <td>Pokemon Red/Pokemon Blue</td>\n",
       "      <td>GB</td>\n",
       "      <td>1996.0</td>\n",
       "      <td>Role-Playing</td>\n",
       "      <td>11.27</td>\n",
       "      <td>8.89</td>\n",
       "      <td>10.22</td>\n",
       "      <td>1.00</td>\n",
       "      <td>NaN</td>\n",
       "      <td>NaN</td>\n",
       "      <td>NaN</td>\n",
       "    </tr>\n",
       "  </tbody>\n",
       "</table>\n",
       "</div>"
      ],
      "text/plain": [
       "                       name platform  year_of_release         genre  na_sales  \\\n",
       "0                Wii Sports      Wii           2006.0        Sports     41.36   \n",
       "1         Super Mario Bros.      NES           1985.0      Platform     29.08   \n",
       "2            Mario Kart Wii      Wii           2008.0        Racing     15.68   \n",
       "3         Wii Sports Resort      Wii           2009.0        Sports     15.61   \n",
       "4  Pokemon Red/Pokemon Blue       GB           1996.0  Role-Playing     11.27   \n",
       "\n",
       "   eu_sales  jp_sales  other_sales  critic_score user_score rating  \n",
       "0     28.96      3.77         8.45          76.0          8      E  \n",
       "1      3.58      6.81         0.77           NaN        NaN    NaN  \n",
       "2     12.76      3.79         3.29          82.0        8.3      E  \n",
       "3     10.93      3.28         2.95          80.0          8      E  \n",
       "4      8.89     10.22         1.00           NaN        NaN    NaN  "
      ]
     },
     "execution_count": 15,
     "metadata": {},
     "output_type": "execute_result"
    }
   ],
   "source": [
    "data.head()"
   ]
  },
  {
   "cell_type": "markdown",
   "metadata": {},
   "source": [
    "### Корректировка типа данных"
   ]
  },
  {
   "cell_type": "markdown",
   "metadata": {},
   "source": [
    "Из информации выше можно заметить, что user_score имеет тип данных object, однако переменная имеет числовой характер, посмотрим на уникальные значения данной переменной:"
   ]
  },
  {
   "cell_type": "code",
   "execution_count": 16,
   "metadata": {},
   "outputs": [
    {
     "data": {
      "text/plain": [
       "array(['8', nan, '8.3', '8.5', '6.6', '8.4', '8.6', '7.7', '6.3', '7.4',\n",
       "       '8.2', '9', '7.9', '8.1', '8.7', '7.1', '3.4', '5.3', '4.8', '3.2',\n",
       "       '8.9', '6.4', '7.8', '7.5', '2.6', '7.2', '9.2', '7', '7.3', '4.3',\n",
       "       '7.6', '5.7', '5', '9.1', '6.5', 'tbd', '8.8', '6.9', '9.4', '6.8',\n",
       "       '6.1', '6.7', '5.4', '4', '4.9', '4.5', '9.3', '6.2', '4.2', '6',\n",
       "       '3.7', '4.1', '5.8', '5.6', '5.5', '4.4', '4.6', '5.9', '3.9',\n",
       "       '3.1', '2.9', '5.2', '3.3', '4.7', '5.1', '3.5', '2.5', '1.9', '3',\n",
       "       '2.7', '2.2', '2', '9.5', '2.1', '3.6', '2.8', '1.8', '3.8', '0',\n",
       "       '1.6', '9.6', '2.4', '1.7', '1.1', '0.3', '1.5', '0.7', '1.2',\n",
       "       '2.3', '0.5', '1.3', '0.2', '0.6', '1.4', '0.9', '1', '9.7'],\n",
       "      dtype=object)"
      ]
     },
     "execution_count": 16,
     "metadata": {},
     "output_type": "execute_result"
    }
   ],
   "source": [
    "data['user_score'].unique()"
   ]
  },
  {
   "cell_type": "markdown",
   "metadata": {},
   "source": [
    "Из вывода уникальных значений становится ясно, что переменная должна иметь вещественный тип, однако помимо пропусков (nan) в переменной есть значение 'tbd'. Значение tbd является аббревиатурой To Be Determined, это означает, что рейтинг еще формируется, заменим эти значения на NaN."
   ]
  },
  {
   "cell_type": "code",
   "execution_count": 17,
   "metadata": {},
   "outputs": [],
   "source": [
    "data['user_score'] = data['user_score'].replace('tbd', np.NaN)\n",
    "data['user_score'] = pd.to_numeric(data['user_score'], errors='coerce')"
   ]
  },
  {
   "cell_type": "markdown",
   "metadata": {},
   "source": [
    "### Обработка пропущенных значений"
   ]
  },
  {
   "cell_type": "markdown",
   "metadata": {},
   "source": [
    "Посмотрим в каких столбцах есть пропуски."
   ]
  },
  {
   "cell_type": "code",
   "execution_count": 18,
   "metadata": {},
   "outputs": [
    {
     "data": {
      "text/plain": [
       "name                  2\n",
       "platform              0\n",
       "year_of_release     269\n",
       "genre                 2\n",
       "na_sales              0\n",
       "eu_sales              0\n",
       "jp_sales              0\n",
       "other_sales           0\n",
       "critic_score       8578\n",
       "user_score         9125\n",
       "rating             6766\n",
       "dtype: int64"
      ]
     },
     "execution_count": 18,
     "metadata": {},
     "output_type": "execute_result"
    }
   ],
   "source": [
    "data.isna().sum()"
   ]
  },
  {
   "cell_type": "markdown",
   "metadata": {},
   "source": [
    "В переменной name содержатся всего 2 пропуска, заменим их на строковое значение 'unknown'."
   ]
  },
  {
   "cell_type": "code",
   "execution_count": 19,
   "metadata": {},
   "outputs": [],
   "source": [
    "data['name'] = data['name'].fillna('unknown')"
   ]
  },
  {
   "cell_type": "markdown",
   "metadata": {},
   "source": [
    "Также есть и пропуски в переменной, отвечающей за год выпуска, они составляют около 1,7% от данных. Данные о годе выпуска нельзя заменить медианным или каким-либо другим значением, поэтому мы оставим пропуски в этой переменной."
   ]
  },
  {
   "cell_type": "markdown",
   "metadata": {},
   "source": [
    "Имеются пропуски в переменных critic_score, user_score и rating, они составляют около 40-50% от общего количества строк. Пропуски в critic_score могли возникнуть из-за того, что данные игры не оценивались критиками, в user_score - потому что рейтинг еще не сформирован (может, не хватило количества отзывов), в rating - потому что игра еще не оценивалась ESRB, или же рейтинг не предназначен для того или иного региона, но также пропуски могли возникнуть из-за ошибкок в сборе данных. Такие пропуски нельзя восстановить корректно, к тому же большая доля искусственных данных (при замене пропусков на какое-то значение) может негативно отразиться на результатах проекта. В случае с рейтингом ESRB заменим пропуски на unknown, чтобы учитывать их при дальнейшей работе."
   ]
  },
  {
   "cell_type": "code",
   "execution_count": 20,
   "metadata": {},
   "outputs": [],
   "source": [
    "data['rating'] = data['rating'].fillna('unknown')"
   ]
  },
  {
   "cell_type": "markdown",
   "metadata": {},
   "source": [
    "### Добавление столбца для суммарных продаж во всех регионах"
   ]
  },
  {
   "cell_type": "code",
   "execution_count": 21,
   "metadata": {},
   "outputs": [],
   "source": [
    "data['total_sales'] = data['na_sales'] + data['eu_sales'] + data['jp_sales'] + data['other_sales']"
   ]
  },
  {
   "cell_type": "code",
   "execution_count": 22,
   "metadata": {},
   "outputs": [
    {
     "data": {
      "text/html": [
       "<div>\n",
       "<style scoped>\n",
       "    .dataframe tbody tr th:only-of-type {\n",
       "        vertical-align: middle;\n",
       "    }\n",
       "\n",
       "    .dataframe tbody tr th {\n",
       "        vertical-align: top;\n",
       "    }\n",
       "\n",
       "    .dataframe thead th {\n",
       "        text-align: right;\n",
       "    }\n",
       "</style>\n",
       "<table border=\"1\" class=\"dataframe\">\n",
       "  <thead>\n",
       "    <tr style=\"text-align: right;\">\n",
       "      <th></th>\n",
       "      <th>name</th>\n",
       "      <th>platform</th>\n",
       "      <th>year_of_release</th>\n",
       "      <th>genre</th>\n",
       "      <th>na_sales</th>\n",
       "      <th>eu_sales</th>\n",
       "      <th>jp_sales</th>\n",
       "      <th>other_sales</th>\n",
       "      <th>critic_score</th>\n",
       "      <th>user_score</th>\n",
       "      <th>rating</th>\n",
       "      <th>total_sales</th>\n",
       "    </tr>\n",
       "  </thead>\n",
       "  <tbody>\n",
       "    <tr>\n",
       "      <th>0</th>\n",
       "      <td>Wii Sports</td>\n",
       "      <td>Wii</td>\n",
       "      <td>2006.0</td>\n",
       "      <td>Sports</td>\n",
       "      <td>41.36</td>\n",
       "      <td>28.96</td>\n",
       "      <td>3.77</td>\n",
       "      <td>8.45</td>\n",
       "      <td>76.0</td>\n",
       "      <td>8.0</td>\n",
       "      <td>E</td>\n",
       "      <td>82.54</td>\n",
       "    </tr>\n",
       "    <tr>\n",
       "      <th>1</th>\n",
       "      <td>Super Mario Bros.</td>\n",
       "      <td>NES</td>\n",
       "      <td>1985.0</td>\n",
       "      <td>Platform</td>\n",
       "      <td>29.08</td>\n",
       "      <td>3.58</td>\n",
       "      <td>6.81</td>\n",
       "      <td>0.77</td>\n",
       "      <td>NaN</td>\n",
       "      <td>NaN</td>\n",
       "      <td>unknown</td>\n",
       "      <td>40.24</td>\n",
       "    </tr>\n",
       "    <tr>\n",
       "      <th>2</th>\n",
       "      <td>Mario Kart Wii</td>\n",
       "      <td>Wii</td>\n",
       "      <td>2008.0</td>\n",
       "      <td>Racing</td>\n",
       "      <td>15.68</td>\n",
       "      <td>12.76</td>\n",
       "      <td>3.79</td>\n",
       "      <td>3.29</td>\n",
       "      <td>82.0</td>\n",
       "      <td>8.3</td>\n",
       "      <td>E</td>\n",
       "      <td>35.52</td>\n",
       "    </tr>\n",
       "    <tr>\n",
       "      <th>3</th>\n",
       "      <td>Wii Sports Resort</td>\n",
       "      <td>Wii</td>\n",
       "      <td>2009.0</td>\n",
       "      <td>Sports</td>\n",
       "      <td>15.61</td>\n",
       "      <td>10.93</td>\n",
       "      <td>3.28</td>\n",
       "      <td>2.95</td>\n",
       "      <td>80.0</td>\n",
       "      <td>8.0</td>\n",
       "      <td>E</td>\n",
       "      <td>32.77</td>\n",
       "    </tr>\n",
       "    <tr>\n",
       "      <th>4</th>\n",
       "      <td>Pokemon Red/Pokemon Blue</td>\n",
       "      <td>GB</td>\n",
       "      <td>1996.0</td>\n",
       "      <td>Role-Playing</td>\n",
       "      <td>11.27</td>\n",
       "      <td>8.89</td>\n",
       "      <td>10.22</td>\n",
       "      <td>1.00</td>\n",
       "      <td>NaN</td>\n",
       "      <td>NaN</td>\n",
       "      <td>unknown</td>\n",
       "      <td>31.38</td>\n",
       "    </tr>\n",
       "  </tbody>\n",
       "</table>\n",
       "</div>"
      ],
      "text/plain": [
       "                       name platform  year_of_release         genre  na_sales  \\\n",
       "0                Wii Sports      Wii           2006.0        Sports     41.36   \n",
       "1         Super Mario Bros.      NES           1985.0      Platform     29.08   \n",
       "2            Mario Kart Wii      Wii           2008.0        Racing     15.68   \n",
       "3         Wii Sports Resort      Wii           2009.0        Sports     15.61   \n",
       "4  Pokemon Red/Pokemon Blue       GB           1996.0  Role-Playing     11.27   \n",
       "\n",
       "   eu_sales  jp_sales  other_sales  critic_score  user_score   rating  \\\n",
       "0     28.96      3.77         8.45          76.0         8.0        E   \n",
       "1      3.58      6.81         0.77           NaN         NaN  unknown   \n",
       "2     12.76      3.79         3.29          82.0         8.3        E   \n",
       "3     10.93      3.28         2.95          80.0         8.0        E   \n",
       "4      8.89     10.22         1.00           NaN         NaN  unknown   \n",
       "\n",
       "   total_sales  \n",
       "0        82.54  \n",
       "1        40.24  \n",
       "2        35.52  \n",
       "3        32.77  \n",
       "4        31.38  "
      ]
     },
     "execution_count": 22,
     "metadata": {},
     "output_type": "execute_result"
    }
   ],
   "source": [
    "data.head()"
   ]
  },
  {
   "cell_type": "markdown",
   "metadata": {},
   "source": [
    "\n",
    "Проверим данные на дубликаты. Посмотрим, есть ли явные дубликаты:"
   ]
  },
  {
   "cell_type": "code",
   "execution_count": 23,
   "metadata": {},
   "outputs": [
    {
     "data": {
      "text/plain": [
       "0"
      ]
     },
     "execution_count": 23,
     "metadata": {},
     "output_type": "execute_result"
    }
   ],
   "source": [
    "data.duplicated().sum()"
   ]
  },
  {
   "cell_type": "markdown",
   "metadata": {},
   "source": [
    "Дубликатов не обнаружилось. Посмотрим на неявные дубликаты."
   ]
  },
  {
   "cell_type": "code",
   "execution_count": 24,
   "metadata": {},
   "outputs": [
    {
     "data": {
      "text/plain": [
       "array(['Wii Sports', 'Super Mario Bros.', 'Mario Kart Wii', ...,\n",
       "       'Woody Woodpecker in Crazy Castle 5', 'LMA Manager 2007',\n",
       "       'Haitaka no Psychedelica'], dtype=object)"
      ]
     },
     "execution_count": 24,
     "metadata": {},
     "output_type": "execute_result"
    }
   ],
   "source": [
    "data['name'].unique()"
   ]
  },
  {
   "cell_type": "code",
   "execution_count": 25,
   "metadata": {},
   "outputs": [
    {
     "data": {
      "text/plain": [
       "array(['Wii', 'NES', 'GB', 'DS', 'X360', 'PS3', 'PS2', 'SNES', 'GBA',\n",
       "       'PS4', '3DS', 'N64', 'PS', 'XB', 'PC', '2600', 'PSP', 'XOne',\n",
       "       'WiiU', 'GC', 'GEN', 'DC', 'PSV', 'SAT', 'SCD', 'WS', 'NG', 'TG16',\n",
       "       '3DO', 'GG', 'PCFX'], dtype=object)"
      ]
     },
     "execution_count": 25,
     "metadata": {},
     "output_type": "execute_result"
    }
   ],
   "source": [
    "data['platform'].unique()"
   ]
  },
  {
   "cell_type": "code",
   "execution_count": 26,
   "metadata": {},
   "outputs": [
    {
     "data": {
      "text/plain": [
       "array(['Sports', 'Platform', 'Racing', 'Role-Playing', 'Puzzle', 'Misc',\n",
       "       'Shooter', 'Simulation', 'Action', 'Fighting', 'Adventure',\n",
       "       'Strategy', nan], dtype=object)"
      ]
     },
     "execution_count": 26,
     "metadata": {},
     "output_type": "execute_result"
    }
   ],
   "source": [
    "data['genre'].unique()"
   ]
  },
  {
   "cell_type": "code",
   "execution_count": 27,
   "metadata": {},
   "outputs": [
    {
     "data": {
      "text/plain": [
       "array(['E', 'unknown', 'M', 'T', 'E10+', 'K-A', 'AO', 'EC', 'RP'],\n",
       "      dtype=object)"
      ]
     },
     "execution_count": 27,
     "metadata": {},
     "output_type": "execute_result"
    }
   ],
   "source": [
    "data['rating'].unique()"
   ]
  },
  {
   "cell_type": "markdown",
   "metadata": {},
   "source": [
    "Неявных дубликатов тоже не нашлось."
   ]
  },
  {
   "cell_type": "markdown",
   "metadata": {},
   "source": [
    "## Исследовательский анализ данных"
   ]
  },
  {
   "cell_type": "markdown",
   "metadata": {},
   "source": [
    "### Количество выпущенных игр по годам"
   ]
  },
  {
   "cell_type": "code",
   "execution_count": 28,
   "metadata": {},
   "outputs": [
    {
     "data": {
      "text/plain": [
       "<AxesSubplot:>"
      ]
     },
     "execution_count": 28,
     "metadata": {},
     "output_type": "execute_result"
    },
    {
     "data": {
      "image/png": "[encoded data removed]",
      "text/plain": [
       "<Figure size 432x288 with 1 Axes>"
      ]
     },
     "metadata": {
      "needs_background": "light"
     },
     "output_type": "display_data"
    }
   ],
   "source": [
    "data['year_of_release'].hist(bins=100)"
   ]
  },
  {
   "cell_type": "markdown",
   "metadata": {},
   "source": [
    "Количество выпускаемых игр начало расти с 1994 года, до этого времени компьютерные игры практически не выпускались. С развитием технологий начало наращиваться количество игр на пк, в начале двухтысячных виден наиболее резкий рост. Пик количества выпущенных игр приходится на 2008-2009 годы, однако далее виден спад в выпуске компьютерных игр, это может быть связано с тем, что у пользователей на первый план выходят смартфоны, для которых теперь выпускать игры выгоднее."
   ]
  },
  {
   "cell_type": "markdown",
   "metadata": {},
   "source": [
    "### Продажи по платформам"
   ]
  },
  {
   "cell_type": "markdown",
   "metadata": {},
   "source": [
    "Для анализа выведем топ-5 платформ по суммарным продажам:"
   ]
  },
  {
   "cell_type": "code",
   "execution_count": 29,
   "metadata": {},
   "outputs": [
    {
     "data": {
      "text/plain": [
       "platform\n",
       "PS2     1255.77\n",
       "X360     971.42\n",
       "PS3      939.65\n",
       "Wii      907.51\n",
       "DS       806.12\n",
       "Name: total_sales, dtype: float64"
      ]
     },
     "execution_count": 29,
     "metadata": {},
     "output_type": "execute_result"
    }
   ],
   "source": [
    "data.groupby('platform')['total_sales'].sum().sort_values(ascending=False).head()"
   ]
  },
  {
   "cell_type": "code",
   "execution_count": 30,
   "metadata": {},
   "outputs": [
    {
     "data": {
      "image/png": "[encoded data removed]",
      "text/plain": [
       "<Figure size 1080x360 with 1 Axes>"
      ]
     },
     "metadata": {
      "needs_background": "light"
     },
     "output_type": "display_data"
    }
   ],
   "source": [
    "top_platforms = ['PS2', 'X360', 'PS3', 'Wii', 'DS']\n",
    "df_platforms = data.query('platform in @top_platforms')\n",
    "df_platforms = df_platforms.pivot_table(index=['platform', 'year_of_release'], values='total_sales', aggfunc='sum').reset_index()\n",
    "\n",
    "_, ax = plt.subplots()\n",
    "for item in top_platforms:\n",
    "    df_platforms.query('platform == @item').plot(x='year_of_release', y='total_sales', \n",
    "                                                 kind='line', label=item, ax=ax, figsize=(15,5), style='.-')"
   ]
  },
  {
   "cell_type": "markdown",
   "metadata": {},
   "source": [
    "Видится следующая \"продолжительность жизни\" у платформ:\n",
    "* DS - с 1985 по 2013 лет, из которых 8 лет активных (с 2004 по 2013 год), но стоит заметить что с 1885 по 2004 год по платформе нет данных\n",
    "* PS2 - с 2000 по 2011 (11 лет)\n",
    "* Wii - с 2006 по 2016 (10 лет)\n",
    "* X360 - с 2005 по 2016 (11 лет)\n",
    "* PS2 - с 2006 по 2016 (10 лет)  \n",
    "\n",
    "Соотвественно, в среднем платформы живут около 10 лет. По мере развития технологий появляются новые консоли, которые замещают старые, поэтому платформы рано или поздно уходят."
   ]
  },
  {
   "cell_type": "markdown",
   "metadata": {},
   "source": [
    "Для дальнейшей работы необходимо выбрать актуальный период, ведь рынок постоянно меняется, и мы не можем делать выводы исходя из ушедших трендов. Если посмотреть на продажи игр, то можно заметить, что в 2012 наблюдается резкое уменьшение количества продаж, а далее динамика уже не сильно колеблется, то есть можно считать, что актуальный период данных - 2012-2016г."
   ]
  },
  {
   "cell_type": "code",
   "execution_count": 31,
   "metadata": {},
   "outputs": [],
   "source": [
    "data = data.loc[data['year_of_release'] >= 2012]"
   ]
  },
  {
   "cell_type": "markdown",
   "metadata": {},
   "source": [
    "### Динамика продаж по платформам"
   ]
  },
  {
   "cell_type": "markdown",
   "metadata": {},
   "source": [
    "Для начала ознакомимся с лидерами по продажам, теперь уже в актуальном периоде:"
   ]
  },
  {
   "cell_type": "code",
   "execution_count": 32,
   "metadata": {},
   "outputs": [
    {
     "data": {
      "text/plain": [
       "platform\n",
       "PS4     314.14\n",
       "PS3     288.79\n",
       "X360    236.54\n",
       "3DS     194.61\n",
       "XOne    159.32\n",
       "Name: total_sales, dtype: float64"
      ]
     },
     "execution_count": 32,
     "metadata": {},
     "output_type": "execute_result"
    }
   ],
   "source": [
    "data.groupby('platform')['total_sales'].sum().sort_values(ascending=False).head()"
   ]
  },
  {
   "cell_type": "markdown",
   "metadata": {},
   "source": [
    "В том периоде топ-5 немного изменился по очередности, однако мы видим те же наименования, перейдем к анализу динамики продаж по этим платформам."
   ]
  },
  {
   "cell_type": "code",
   "execution_count": 33,
   "metadata": {},
   "outputs": [
    {
     "data": {
      "image/png": "[encoded data removed]",
      "text/plain": [
       "<Figure size 1080x360 with 1 Axes>"
      ]
     },
     "metadata": {
      "needs_background": "light"
     },
     "output_type": "display_data"
    }
   ],
   "source": [
    "top_platforms = ['PS4', 'X360', 'PS3', 'XOne', '3DS']\n",
    "df_platforms = data.query('platform in @top_platforms')\n",
    "df_platforms = df_platforms.pivot_table(index=['platform', 'year_of_release'], values='total_sales', aggfunc='sum').reset_index()\n",
    "\n",
    "_, ax = plt.subplots()\n",
    "for item in top_platforms:\n",
    "    df_platforms.query('platform == @item').plot(x='year_of_release', y='total_sales', \n",
    "                                                 kind='line', label=item, ax=ax, figsize=(15,5), style='.-')"
   ]
  },
  {
   "cell_type": "markdown",
   "metadata": {},
   "source": [
    "Из графика видно, что наиболее резкое падение продаж у X360 и PS3, также можно заметить, что в этом периоде на протяжении всех лет падают продажи 3DS. Лидерами по росту продаж являются PS4 и XOne."
   ]
  },
  {
   "cell_type": "markdown",
   "metadata": {},
   "source": [
    "### Глобальные продажи игр"
   ]
  },
  {
   "cell_type": "markdown",
   "metadata": {},
   "source": [
    "Посмотрим на глобальные продажи игр по платформам, для этого построим график \"ящик с усами\"."
   ]
  },
  {
   "cell_type": "code",
   "execution_count": 34,
   "metadata": {},
   "outputs": [
    {
     "data": {
      "text/plain": [
       "<AxesSubplot:title={'center':'total_sales'}, xlabel='platform'>"
      ]
     },
     "execution_count": 34,
     "metadata": {},
     "output_type": "execute_result"
    },
    {
     "data": {
      "image/png": "[encoded data removed]",
      "text/plain": [
       "<Figure size 1080x576 with 1 Axes>"
      ]
     },
     "metadata": {
      "needs_background": "light"
     },
     "output_type": "display_data"
    }
   ],
   "source": [
    "data.boxplot(column='total_sales', by='platform', showfliers=False, figsize=(15,8))"
   ]
  },
  {
   "cell_type": "markdown",
   "metadata": {},
   "source": [
    "Медианные продажи составляют от 0,5 до 0,875 млн долларов. Наиболее высокие медианные продажи наблюдаются у X360, а самые низкие у PSP."
   ]
  },
  {
   "cell_type": "markdown",
   "metadata": {},
   "source": [
    "### Влияние отзывов на продажи"
   ]
  },
  {
   "cell_type": "markdown",
   "metadata": {},
   "source": [
    "Для начала посмотрим на влияние отзывов пользователей и критиков внутри одной платформы, в качестве платформы выберем X360."
   ]
  },
  {
   "cell_type": "code",
   "execution_count": 35,
   "metadata": {},
   "outputs": [],
   "source": [
    "best_platform = data.loc[data['platform'] == 'X360']"
   ]
  },
  {
   "cell_type": "markdown",
   "metadata": {},
   "source": [
    "Влияние отзывов пользователей на продажи:"
   ]
  },
  {
   "cell_type": "code",
   "execution_count": 36,
   "metadata": {},
   "outputs": [
    {
     "name": "stdout",
     "output_type": "stream",
     "text": [
      "Корреляция равна 0.006163978646213358\n"
     ]
    }
   ],
   "source": [
    "print('Корреляция равна', best_platform['total_sales'].corr(best_platform['user_score']))"
   ]
  },
  {
   "cell_type": "code",
   "execution_count": 37,
   "metadata": {},
   "outputs": [
    {
     "data": {
      "text/plain": [
       "<AxesSubplot:xlabel='user_score', ylabel='total_sales'>"
      ]
     },
     "execution_count": 37,
     "metadata": {},
     "output_type": "execute_result"
    },
    {
     "data": {
      "image/png": "[encoded data removed]",
      "text/plain": [
       "<Figure size 720x360 with 1 Axes>"
      ]
     },
     "metadata": {
      "needs_background": "light"
     },
     "output_type": "display_data"
    }
   ],
   "source": [
    "best_platform.plot(kind='scatter', x='user_score', y='total_sales', alpha=0.5, figsize=(10,5))"
   ]
  },
  {
   "cell_type": "markdown",
   "metadata": {},
   "source": [
    "Отзывы покупателей на X360 слабо влияют на продажи, посмотрим влияют ли отзывы критиков."
   ]
  },
  {
   "cell_type": "code",
   "execution_count": 38,
   "metadata": {},
   "outputs": [
    {
     "name": "stdout",
     "output_type": "stream",
     "text": [
      "Корреляция равна 0.36057348885073387\n"
     ]
    }
   ],
   "source": [
    "print('Корреляция равна', best_platform['total_sales'].corr(best_platform['critic_score']))"
   ]
  },
  {
   "cell_type": "code",
   "execution_count": 39,
   "metadata": {},
   "outputs": [
    {
     "data": {
      "text/plain": [
       "<AxesSubplot:xlabel='critic_score', ylabel='total_sales'>"
      ]
     },
     "execution_count": 39,
     "metadata": {},
     "output_type": "execute_result"
    },
    {
     "data": {
      "image/png": "[encoded data removed]",
      "text/plain": [
       "<Figure size 720x360 with 1 Axes>"
      ]
     },
     "metadata": {
      "needs_background": "light"
     },
     "output_type": "display_data"
    }
   ],
   "source": [
    "best_platform.plot(kind='scatter', x='critic_score', y='total_sales', alpha=0.5, figsize=(10,5))"
   ]
  },
  {
   "cell_type": "markdown",
   "metadata": {},
   "source": [
    "Отзывы критиков в большей степени влияют на продажи, но все же взаимосвязь слабая."
   ]
  },
  {
   "cell_type": "markdown",
   "metadata": {},
   "source": [
    "Посмотрим как влияют отзывы покупателей на продажи у остальных платформ. Для этого отберем еще 5 платформ для анализа."
   ]
  },
  {
   "cell_type": "markdown",
   "metadata": {},
   "source": [
    "Посмотрим на диаграммы рассеивания, чтобы оценить зависимость продаж от отзывов покупателей:"
   ]
  },
  {
   "cell_type": "code",
   "execution_count": 40,
   "metadata": {},
   "outputs": [
    {
     "data": {
      "image/png": "[encoded data removed]",
      "text/plain": [
       "<Figure size 720x360 with 1 Axes>"
      ]
     },
     "metadata": {
      "needs_background": "light"
     },
     "output_type": "display_data"
    },
    {
     "data": {
      "image/png": "[encoded data removed]",
      "text/plain": [
       "<Figure size 720x360 with 1 Axes>"
      ]
     },
     "metadata": {
      "needs_background": "light"
     },
     "output_type": "display_data"
    },
    {
     "data": {
      "image/png": "[encoded data removed]",
      "text/plain": [
       "<Figure size 720x360 with 1 Axes>"
      ]
     },
     "metadata": {
      "needs_background": "light"
     },
     "output_type": "display_data"
    },
    {
     "data": {
      "image/png": "[encoded data removed]",
      "text/plain": [
       "<Figure size 720x360 with 1 Axes>"
      ]
     },
     "metadata": {
      "needs_background": "light"
     },
     "output_type": "display_data"
    },
    {
     "data": {
      "image/png": "[encoded data removed]",
      "text/plain": [
       "<Figure size 720x360 with 1 Axes>"
      ]
     },
     "metadata": {
      "needs_background": "light"
     },
     "output_type": "display_data"
    }
   ],
   "source": [
    "other_platforms = ['XOne', 'PS4', '3DS', 'PS3', 'PC']\n",
    "for item in other_platforms:\n",
    "    df = data.query('platform == @item')\n",
    "    df.plot(kind='scatter', x='user_score', y='total_sales', alpha=0.5, figsize=(10,5), label=item)"
   ]
  },
  {
   "cell_type": "markdown",
   "metadata": {},
   "source": [
    "Теперь посмотрим на зависимость продаж от отзывов критиков:"
   ]
  },
  {
   "cell_type": "code",
   "execution_count": 41,
   "metadata": {},
   "outputs": [
    {
     "data": {
      "image/png": "[encoded data removed]",
      "text/plain": [
       "<Figure size 720x360 with 1 Axes>"
      ]
     },
     "metadata": {
      "needs_background": "light"
     },
     "output_type": "display_data"
    },
    {
     "data": {
      "image/png": "[encoded data removed]",
      "text/plain": [
       "<Figure size 720x360 with 1 Axes>"
      ]
     },
     "metadata": {
      "needs_background": "light"
     },
     "output_type": "display_data"
    },
    {
     "data": {
      "image/png": "[encoded data removed]",
      "text/plain": [
       "<Figure size 720x360 with 1 Axes>"
      ]
     },
     "metadata": {
      "needs_background": "light"
     },
     "output_type": "display_data"
    },
    {
     "data": {
      "image/png": "[encoded data removed]",
      "text/plain": [
       "<Figure size 720x360 with 1 Axes>"
      ]
     },
     "metadata": {
      "needs_background": "light"
     },
     "output_type": "display_data"
    },
    {
     "data": {
      "image/png": "[encoded data removed]",
      "text/plain": [
       "<Figure size 720x360 with 1 Axes>"
      ]
     },
     "metadata": {
      "needs_background": "light"
     },
     "output_type": "display_data"
    }
   ],
   "source": [
    "for item in other_platforms:\n",
    "    df = data.query('platform == @item')\n",
    "    df.plot(kind='scatter', x='critic_score', y='total_sales', alpha=0.5, figsize=(10,5), label=item)"
   ]
  },
  {
   "cell_type": "code",
   "execution_count": 42,
   "metadata": {},
   "outputs": [
    {
     "name": "stdout",
     "output_type": "stream",
     "text": [
      "XOne\n",
      "Корреляция между продажами и отзывами покупателей равна -0.0689250532827942\n",
      "Корреляция между продажами и отзывами критиков равна 0.4169983280084016\n",
      "\n",
      "PS4\n",
      "Корреляция между продажами и отзывами покупателей равна -0.03195711020455645\n",
      "Корреляция между продажами и отзывами критиков равна 0.40656790206178145\n",
      "\n",
      "3DS\n",
      "Корреляция между продажами и отзывами покупателей равна 0.19758263411038599\n",
      "Корреляция между продажами и отзывами критиков равна 0.3208028695360786\n",
      "\n",
      "PS3\n",
      "Корреляция между продажами и отзывами покупателей равна -0.005143522887113798\n",
      "Корреляция между продажами и отзывами критиков равна 0.33149725926295903\n",
      "\n",
      "PC\n",
      "Корреляция между продажами и отзывами покупателей равна -0.12186747630735574\n",
      "Корреляция между продажами и отзывами критиков равна 0.23724324311567896\n",
      "\n"
     ]
    }
   ],
   "source": [
    "for item in other_platforms:\n",
    "    df = data.query('platform == @item')\n",
    "    corr1 = df['total_sales'].corr(df['user_score'])\n",
    "    corr2 = df['total_sales'].corr(df['critic_score'])\n",
    "    print(item)\n",
    "    print('Корреляция между продажами и отзывами покупателей равна', corr1)\n",
    "    print('Корреляция между продажами и отзывами критиков равна', corr2)\n",
    "    print()"
   ]
  },
  {
   "cell_type": "markdown",
   "metadata": {},
   "source": [
    "Если сравнивать X360 с другими платформами, в целом, мы получили близкие значения. Отзывы покупателей слабо влияют на продажи игр, то же можно и сказать об отзывах критиков (но здесь значения корреляции чуть больше)."
   ]
  },
  {
   "cell_type": "markdown",
   "metadata": {},
   "source": [
    "### Распределение игр по жанрам"
   ]
  },
  {
   "cell_type": "markdown",
   "metadata": {},
   "source": [
    "Посмотрим какие есть жанры, и каких из них больше всего."
   ]
  },
  {
   "cell_type": "code",
   "execution_count": 43,
   "metadata": {},
   "outputs": [
    {
     "data": {
      "text/plain": [
       "Action          1031\n",
       "Role-Playing     370\n",
       "Adventure        302\n",
       "Sports           268\n",
       "Shooter          235\n",
       "Misc             192\n",
       "Racing           115\n",
       "Fighting         109\n",
       "Platform          85\n",
       "Simulation        80\n",
       "Strategy          71\n",
       "Puzzle            28\n",
       "Name: genre, dtype: int64"
      ]
     },
     "execution_count": 43,
     "metadata": {},
     "output_type": "execute_result"
    }
   ],
   "source": [
    "data['genre'].value_counts()"
   ]
  },
  {
   "cell_type": "markdown",
   "metadata": {},
   "source": [
    "Больше всего игр жанра экшн, меньше всего выпущено игр-головоломок. Посмотрим какие жанры являются самыми прибыльными."
   ]
  },
  {
   "cell_type": "code",
   "execution_count": 44,
   "metadata": {},
   "outputs": [
    {
     "data": {
      "text/plain": [
       "<AxesSubplot:title={'center':'total_sales'}, xlabel='genre'>"
      ]
     },
     "execution_count": 44,
     "metadata": {},
     "output_type": "execute_result"
    },
    {
     "data": {
      "image/png": "[encoded data removed]",
      "text/plain": [
       "<Figure size 936x504 with 1 Axes>"
      ]
     },
     "metadata": {
      "needs_background": "light"
     },
     "output_type": "display_data"
    }
   ],
   "source": [
    "data.boxplot(column='total_sales', by='genre', showfliers=False, figsize=(13,7))"
   ]
  },
  {
   "cell_type": "markdown",
   "metadata": {},
   "source": [
    "Сравним медианные продажи по жанрам. Наиболее прибыльным является жанр Shooter, медианные продажи шутеров составляютчуть менее 0,5 млн долларов. Хуже всего продаются игры жанров Adventure и Puzzle."
   ]
  },
  {
   "cell_type": "markdown",
   "metadata": {},
   "source": [
    "## Портрет пользователя каждого региона"
   ]
  },
  {
   "cell_type": "markdown",
   "metadata": {},
   "source": [
    "Для каждого региона определим:\n",
    "* Самые популярные платформы (топ-5)\n",
    "* Самые популярные жанры (топ-5)\n",
    "* Влияние рейтинга ESRB на продажи"
   ]
  },
  {
   "cell_type": "markdown",
   "metadata": {},
   "source": [
    "### Топ-5 популярных платформ"
   ]
  },
  {
   "cell_type": "code",
   "execution_count": 45,
   "metadata": {},
   "outputs": [],
   "source": [
    "na_platform = data.pivot_table(index='platform', values='na_sales', aggfunc='sum').sort_values(by='na_sales', ascending=False).head()\n",
    "eu_platform = data.pivot_table(index='platform', values='eu_sales', aggfunc='sum').sort_values(by='eu_sales', ascending=False).head()\n",
    "jp_platform = data.pivot_table(index='platform', values='jp_sales', aggfunc='sum').sort_values(by='jp_sales', ascending=False).head()"
   ]
  },
  {
   "cell_type": "code",
   "execution_count": 46,
   "metadata": {},
   "outputs": [
    {
     "data": {
      "text/plain": [
       "<AxesSubplot:title={'center':'Япония'}, xlabel='platform'>"
      ]
     },
     "execution_count": 46,
     "metadata": {},
     "output_type": "execute_result"
    },
    {
     "data": {
      "image/png": "[encoded data removed]",
      "text/plain": [
       "<Figure size 1440x360 with 3 Axes>"
      ]
     },
     "metadata": {
      "needs_background": "light"
     },
     "output_type": "display_data"
    }
   ],
   "source": [
    "_, axes = plt.subplots(1, 3, figsize=(20,5))\n",
    "na_platform['na_sales'].plot(kind='bar', title='Северная Америка', ax=axes[0])\n",
    "eu_platform['eu_sales'].plot(kind='bar', title='Европа', color='green', ax=axes[1])\n",
    "jp_platform['jp_sales'].plot(kind='bar', title='Япония', color='red', ax=axes[2])"
   ]
  },
  {
   "cell_type": "markdown",
   "metadata": {},
   "source": [
    "В Северной Америке наиболее популярной платформой ялвется X360, далее идет PS4, PS3, XOne и 3DS. В Европе топ не сильно отличается: на первом месте - PS4, на втором - PS3, далее идут X360, XOne, 3DS. Япония имеет во многом другой топ: самой популярной платформой является 3DS, затем идут PS3, PSV, PS4, WiiU."
   ]
  },
  {
   "cell_type": "markdown",
   "metadata": {},
   "source": [
    "### Самые популярные жанры"
   ]
  },
  {
   "cell_type": "code",
   "execution_count": 47,
   "metadata": {},
   "outputs": [
    {
     "data": {
      "text/plain": [
       "<AxesSubplot:title={'center':'Япония'}, xlabel='genre'>"
      ]
     },
     "execution_count": 47,
     "metadata": {},
     "output_type": "execute_result"
    },
    {
     "data": {
      "image/png": "[encoded data removed]",
      "text/plain": [
       "<Figure size 1440x360 with 3 Axes>"
      ]
     },
     "metadata": {
      "needs_background": "light"
     },
     "output_type": "display_data"
    }
   ],
   "source": [
    "na_genre = data.pivot_table(index='genre', values='na_sales', aggfunc='sum').sort_values(by='na_sales', ascending=False).head()\n",
    "eu_genre = data.pivot_table(index='genre', values='eu_sales', aggfunc='sum').sort_values(by='eu_sales', ascending=False).head()\n",
    "jp_genre = data.pivot_table(index='genre', values='jp_sales', aggfunc='sum').sort_values(by='jp_sales', ascending=False).head()\n",
    "\n",
    "_, axes = plt.subplots(1, 3, figsize=(20,5))\n",
    "na_genre['na_sales'].plot(kind='bar', title='Северная Америка', ax=axes[0])\n",
    "eu_genre['eu_sales'].plot(kind='bar', title='Европа', color='green', ax=axes[1])\n",
    "jp_genre['jp_sales'].plot(kind='bar', title='Япония', color='red', ax=axes[2])"
   ]
  },
  {
   "cell_type": "markdown",
   "metadata": {},
   "source": [
    "Потребители в Северной Америке и Европе во многим схожи: самый популярный жанр - экшн, далее идут шутеры, спортивные игры, ролевые игры misc, отличается лишь 5 место (в Северной Америке - misc, в Европе - гоночные игры). В Японии же другая картина: на первом месте - ролевые игры, далее экшн, misc, симуляции и драки."
   ]
  },
  {
   "cell_type": "markdown",
   "metadata": {},
   "source": [
    "### Влияние рейтинга ESRB на продажи"
   ]
  },
  {
   "cell_type": "code",
   "execution_count": 48,
   "metadata": {},
   "outputs": [
    {
     "data": {
      "text/plain": [
       "<AxesSubplot:title={'center':'Япония'}, xlabel='rating'>"
      ]
     },
     "execution_count": 48,
     "metadata": {},
     "output_type": "execute_result"
    },
    {
     "data": {
      "image/png": "[encoded data removed]",
      "text/plain": [
       "<Figure size 1440x360 with 3 Axes>"
      ]
     },
     "metadata": {
      "needs_background": "light"
     },
     "output_type": "display_data"
    }
   ],
   "source": [
    "na_esrb = data.pivot_table(index='rating', values='na_sales', aggfunc='sum').sort_values(by='na_sales', ascending=False).head()\n",
    "eu_esrb = data.pivot_table(index='rating', values='eu_sales', aggfunc='sum').sort_values(by='eu_sales', ascending=False).head()\n",
    "jp_esrb = data.pivot_table(index='rating', values='jp_sales', aggfunc='sum').sort_values(by='jp_sales', ascending=False).head()\n",
    "\n",
    "_, axes = plt.subplots(1, 3, figsize=(20,5))\n",
    "na_esrb['na_sales'].plot(kind='bar', title='Северная Америка', ax=axes[0])\n",
    "eu_esrb['eu_sales'].plot(kind='bar', title='Европа', color='green', ax=axes[1])\n",
    "jp_esrb['jp_sales'].plot(kind='bar', title='Япония', color='red', ax=axes[2])"
   ]
  },
  {
   "cell_type": "markdown",
   "metadata": {},
   "source": [
    "В данном случае мы опять же видим сходство Северной Америки и Европы, наибольшую часть выручки формируют игры с рейтингом M, далее идут E, игры с неуказанным рейтингом, E10+ и Т. В Японии же немного иная картина: большая часть игр не имеет рейтинг ESRB, это связано с тем, что рейтинг не предназаначен для маркировки игр этого региона. Далее идут игры с рейтингами E, T, M, E10+."
   ]
  },
  {
   "cell_type": "markdown",
   "metadata": {},
   "source": [
    "## Проверка гипотез"
   ]
  },
  {
   "cell_type": "markdown",
   "metadata": {},
   "source": [
    "В этом разделе мы проверим следующие гипотезы:  \n",
    "* Средние пользовательские рейтинги платформ Xbox One и PC одинаковые\n",
    "* Средние пользовательские рейтинги жанров Action и Sports разные  \n",
    "  \n",
    "Для проверки гипотез мы будем использовать t-test, так как мы работаем с независимыми выборками. В данном случае возьмем alpha равное 0.05."
   ]
  },
  {
   "cell_type": "markdown",
   "metadata": {},
   "source": [
    "### Рейтинги платформ Xbox One и PC"
   ]
  },
  {
   "cell_type": "markdown",
   "metadata": {},
   "source": [
    "Проверим гипотезу о том, что средние пользовательские рейтинги платформ Xbox One и PC одинаковые.  \n",
    "* H0 (нулевая гипотеза) - средние пользовательские рейтинги платформ Xbox One и PC одинаковые  \n",
    "* H1 (альтернативная гипотеза) - средние пользовательские рейтинги платформ Xbox One и PC отличаются  "
   ]
  },
  {
   "cell_type": "code",
   "execution_count": 49,
   "metadata": {},
   "outputs": [
    {
     "name": "stdout",
     "output_type": "stream",
     "text": [
      "P-value: 0.5489537965134912\n",
      "Не получилось отвергнуть нулевую гипотезу\n"
     ]
    }
   ],
   "source": [
    "st1 = data.loc[(data['platform'] == 'XOne') & (data['user_score'] > 0)]['user_score']\n",
    "st2 = data.loc[(data['platform'] == 'PC') & (data['user_score'] > 0)]['user_score']\n",
    "alpha = .05\n",
    "\n",
    "results = st.ttest_ind(st1, st2, equal_var=False)\n",
    "print('P-value:', results.pvalue)\n",
    "if results.pvalue < alpha:\n",
    "    print('Отвергаем нулевую гипотезу')\n",
    "else:\n",
    "    print('Не получилось отвергнуть нулевую гипотезу') "
   ]
  },
  {
   "cell_type": "markdown",
   "metadata": {},
   "source": [
    "Не получилось отвергнуть нулевую гипотезу, следовательно средние пользовательские рейтинги платформ Xbox One и PC могут быть равны."
   ]
  },
  {
   "cell_type": "markdown",
   "metadata": {},
   "source": [
    "### Cредние пользовательские рейтинги жанров Action и Sports"
   ]
  },
  {
   "cell_type": "markdown",
   "metadata": {},
   "source": [
    "* Н0 (нулевая гипотеза) - средние пользовательские рейтинги жанров Action и Sports одинаковые \n",
    "* Н1 (альтернативная гипотеза) - средние пользовательские рейтинги жанров Action и Sports отличаются"
   ]
  },
  {
   "cell_type": "code",
   "execution_count": 50,
   "metadata": {},
   "outputs": [
    {
     "name": "stdout",
     "output_type": "stream",
     "text": [
      "P-value: 4.24307776572644e-20\n",
      "Отвергаем нулевую гипотезу\n"
     ]
    }
   ],
   "source": [
    "st1 = data.loc[(data['genre'] == 'Action') & (data['user_score'] > 0)]['user_score']\n",
    "st2 = data.loc[(data['genre'] == 'Sports') & (data['user_score'] > 0)]['user_score']\n",
    "alpha = .05\n",
    "\n",
    "results = st.ttest_ind(st1, st2, equal_var=False)\n",
    "print('P-value:', results.pvalue)\n",
    "if results.pvalue < alpha:\n",
    "    print('Отвергаем нулевую гипотезу')\n",
    "else:\n",
    "    print('Не получилось отвергнуть нулевую гипотезу') "
   ]
  },
  {
   "cell_type": "markdown",
   "metadata": {},
   "source": [
    "Нулевая гипотеза отвергается, следовательно средние пользовательские рейтинги жанров Action и Sports отличаются."
   ]
  },
  {
   "cell_type": "markdown",
   "metadata": {},
   "source": [
    "## Вывод"
   ]
  },
  {
   "cell_type": "markdown",
   "metadata": {},
   "source": [
    "Из анализа данных по продаже игр выяснились следующие нюансы:  \n",
    "1) Популярность компьютерных игр падает, это скорее всего может быть связано с тем, что потребители переходят на мобильные игры  \n",
    "2) Платформы в основном \"живут\" около 10 лет, поэтому не стоит направлять большие ресурсы на продажу игр для консолей, которые уже близки к этому сроку  \n",
    "3) Лидерами продаж за все время стали игры для PS3 и X360, однако к 2016 их продажи упали  \n",
    "4) Отзывы критиков и пользователей незначительно влияют на продажи  \n",
    "5) Самыми продаваемыми жанрами являются Shooter, а Puzzle и Adventure имеют наименьшую популярность  \n",
    "6) В Северной Америке наиболее популярной платформой ялвется X360, далее идет PS4, PS3, XOne и 3DS. В Европе топ не сильно отличается: на первом месте - PS4, на втором - PS3, далее идут X360, XOne, 3DS. Япония имеет во многом другой топ: самой популярной платформой является 3DS, затем идут PS3, PSV, PS4, WiiU  \n",
    "7) Потребители в Северной Америке и Европе во многим схожи, когда дело касается жанров игр: самый популярный жанр - экшн, далее идут шутеры, спортивные игры, ролевые игры misc, отличается лишь 5 место (в Северной Америке - misc, в Европе - гоночные игры). В Японии же другая картина: на первом месте - ролевые игры, далее экшн, misc, симуляции и драки  \n",
    "8) При анализе влияния рейтинга ESRB на продажи снова выявилось сходство Северной Америки и Европы, наибольшую часть выручки формируют игры с рейтингом M, далее идут E, игры с неуказанным рейтингом, E10+ и Т. В Японии же немного иная картина: большая часть игр не имеет рейтинг ESRB, это связано с тем, что рейтинг не предназаначен для маркировки игр этого региона. Далее идут игры с рейтингами E, T, M, E10+  \n",
    "9) Гипотеза о том, что средние пользовательские рейтинги платформ Xbox One и PC, не может быть отвергнута  \n",
    "10) Средние пользовательские рейтинги жанров Action и Sports не одинаковы"
   ]
  }
 ],
 "metadata": {
  "ExecuteTimeLog": [
   {
    "duration": 450,
    "start_time": "2023-02-05T12:00:25.579Z"
   },
   {
    "duration": 220,
    "start_time": "2023-02-05T12:00:41.828Z"
   },
   {
    "duration": 23,
    "start_time": "2023-02-05T12:00:48.853Z"
   },
   {
    "duration": 15,
    "start_time": "2023-02-05T12:00:55.086Z"
   },
   {
    "duration": 922,
    "start_time": "2023-02-05T12:10:04.137Z"
   },
   {
    "duration": 1160,
    "start_time": "2023-02-05T12:10:46.797Z"
   },
   {
    "duration": 498,
    "start_time": "2023-02-05T12:10:54.389Z"
   },
   {
    "duration": 562,
    "start_time": "2023-02-05T12:11:01.450Z"
   },
   {
    "duration": 3,
    "start_time": "2023-02-05T13:36:13.329Z"
   },
   {
    "duration": 13,
    "start_time": "2023-02-05T13:39:42.893Z"
   },
   {
    "duration": 6,
    "start_time": "2023-02-05T13:41:15.206Z"
   },
   {
    "duration": 72,
    "start_time": "2023-02-05T13:56:30.287Z"
   },
   {
    "duration": 3,
    "start_time": "2023-02-05T13:56:47.857Z"
   },
   {
    "duration": 4,
    "start_time": "2023-02-05T13:56:52.102Z"
   },
   {
    "duration": 8,
    "start_time": "2023-02-05T13:57:49.961Z"
   },
   {
    "duration": 9,
    "start_time": "2023-02-05T13:58:10.329Z"
   },
   {
    "duration": 8,
    "start_time": "2023-02-05T14:01:42.364Z"
   },
   {
    "duration": 5,
    "start_time": "2023-02-05T14:05:12.078Z"
   },
   {
    "duration": 9,
    "start_time": "2023-02-05T14:05:13.900Z"
   },
   {
    "duration": 5,
    "start_time": "2023-02-05T19:08:04.129Z"
   },
   {
    "duration": 14,
    "start_time": "2023-02-05T19:08:10.653Z"
   },
   {
    "duration": 19,
    "start_time": "2023-02-05T19:14:58.711Z"
   },
   {
    "duration": 21,
    "start_time": "2023-02-05T19:15:08.364Z"
   },
   {
    "duration": 751,
    "start_time": "2023-02-05T19:15:21.686Z"
   },
   {
    "duration": 20,
    "start_time": "2023-02-05T19:15:24.806Z"
   },
   {
    "duration": 10,
    "start_time": "2023-02-05T19:15:46.078Z"
   },
   {
    "duration": 12,
    "start_time": "2023-02-05T19:16:25.489Z"
   },
   {
    "duration": 8,
    "start_time": "2023-02-05T19:16:30.846Z"
   },
   {
    "duration": 23,
    "start_time": "2023-02-05T19:16:35.523Z"
   },
   {
    "duration": 144,
    "start_time": "2023-02-05T19:18:39.623Z"
   },
   {
    "duration": 257,
    "start_time": "2023-02-05T19:18:46.728Z"
   },
   {
    "duration": 198,
    "start_time": "2023-02-05T19:18:52.272Z"
   },
   {
    "duration": 231,
    "start_time": "2023-02-05T19:18:57.126Z"
   },
   {
    "duration": 301,
    "start_time": "2023-02-05T19:19:10.346Z"
   },
   {
    "duration": 261,
    "start_time": "2023-02-05T19:45:27.581Z"
   },
   {
    "duration": 7,
    "start_time": "2023-02-05T20:06:51.856Z"
   },
   {
    "duration": 8,
    "start_time": "2023-02-05T20:07:03.377Z"
   },
   {
    "duration": 8,
    "start_time": "2023-02-05T20:07:10.417Z"
   },
   {
    "duration": 15,
    "start_time": "2023-02-05T20:13:29.289Z"
   },
   {
    "duration": 17,
    "start_time": "2023-02-05T20:15:40.441Z"
   },
   {
    "duration": 15,
    "start_time": "2023-02-05T20:15:53.605Z"
   },
   {
    "duration": 14,
    "start_time": "2023-02-05T20:16:39.765Z"
   },
   {
    "duration": 14,
    "start_time": "2023-02-05T20:16:43.950Z"
   },
   {
    "duration": 17,
    "start_time": "2023-02-05T20:17:19.302Z"
   },
   {
    "duration": 17,
    "start_time": "2023-02-05T20:17:21.645Z"
   },
   {
    "duration": 249,
    "start_time": "2023-02-05T20:17:30.927Z"
   },
   {
    "duration": 32,
    "start_time": "2023-02-05T20:17:36.476Z"
   },
   {
    "duration": 1229,
    "start_time": "2023-02-07T04:22:03.483Z"
   },
   {
    "duration": 207,
    "start_time": "2023-02-07T04:22:04.714Z"
   },
   {
    "duration": 23,
    "start_time": "2023-02-07T04:22:04.922Z"
   },
   {
    "duration": 29,
    "start_time": "2023-02-07T04:22:04.946Z"
   },
   {
    "duration": 12,
    "start_time": "2023-02-07T04:22:04.977Z"
   },
   {
    "duration": 24,
    "start_time": "2023-02-07T04:22:04.991Z"
   },
   {
    "duration": 18,
    "start_time": "2023-02-07T04:22:05.017Z"
   },
   {
    "duration": 24,
    "start_time": "2023-02-07T04:22:05.037Z"
   },
   {
    "duration": 36,
    "start_time": "2023-02-07T04:22:05.063Z"
   },
   {
    "duration": 18,
    "start_time": "2023-02-07T04:22:05.101Z"
   },
   {
    "duration": 21,
    "start_time": "2023-02-07T04:22:05.120Z"
   },
   {
    "duration": 35,
    "start_time": "2023-02-07T04:22:05.143Z"
   },
   {
    "duration": 280,
    "start_time": "2023-02-07T04:22:05.179Z"
   },
   {
    "duration": 9,
    "start_time": "2023-02-07T04:22:05.462Z"
   },
   {
    "duration": 307,
    "start_time": "2023-02-07T04:22:05.473Z"
   },
   {
    "duration": 5,
    "start_time": "2023-02-07T04:22:05.782Z"
   },
   {
    "duration": 40,
    "start_time": "2023-02-07T04:22:05.788Z"
   },
   {
    "duration": 262,
    "start_time": "2023-02-07T04:22:05.829Z"
   },
   {
    "duration": 339,
    "start_time": "2023-02-07T04:22:06.092Z"
   },
   {
    "duration": 5,
    "start_time": "2023-02-07T04:22:06.437Z"
   },
   {
    "duration": 9,
    "start_time": "2023-02-07T04:22:06.443Z"
   },
   {
    "duration": 145,
    "start_time": "2023-02-07T04:22:06.453Z"
   },
   {
    "duration": 5,
    "start_time": "2023-02-07T04:22:06.600Z"
   },
   {
    "duration": 173,
    "start_time": "2023-02-07T04:22:06.607Z"
   },
   {
    "duration": 8,
    "start_time": "2023-02-07T04:22:06.782Z"
   },
   {
    "duration": 21,
    "start_time": "2023-02-07T04:22:06.791Z"
   },
   {
    "duration": 29,
    "start_time": "2023-02-07T04:22:06.814Z"
   },
   {
    "duration": 283,
    "start_time": "2023-02-07T04:22:06.844Z"
   },
   {
    "duration": 28,
    "start_time": "2023-02-07T04:22:07.129Z"
   },
   {
    "duration": 371,
    "start_time": "2023-02-07T04:22:07.159Z"
   },
   {
    "duration": 370,
    "start_time": "2023-02-07T04:22:07.533Z"
   },
   {
    "duration": 370,
    "start_time": "2023-02-07T04:22:07.905Z"
   },
   {
    "duration": 10,
    "start_time": "2023-02-07T04:22:08.277Z"
   },
   {
    "duration": 18,
    "start_time": "2023-02-07T04:22:08.289Z"
   },
   {
    "duration": 1327,
    "start_time": "2023-02-08T18:08:43.467Z"
   },
   {
    "duration": 115,
    "start_time": "2023-02-08T18:08:44.796Z"
   },
   {
    "duration": 34,
    "start_time": "2023-02-08T18:08:44.913Z"
   },
   {
    "duration": 28,
    "start_time": "2023-02-08T18:08:44.956Z"
   },
   {
    "duration": 3,
    "start_time": "2023-02-08T18:08:44.986Z"
   },
   {
    "duration": 24,
    "start_time": "2023-02-08T18:08:44.991Z"
   },
   {
    "duration": 13,
    "start_time": "2023-02-08T18:08:45.017Z"
   },
   {
    "duration": 18,
    "start_time": "2023-02-08T18:08:45.032Z"
   },
   {
    "duration": 22,
    "start_time": "2023-02-08T18:08:45.053Z"
   },
   {
    "duration": 16,
    "start_time": "2023-02-08T18:08:45.079Z"
   },
   {
    "duration": 11,
    "start_time": "2023-02-08T18:08:45.096Z"
   },
   {
    "duration": 22,
    "start_time": "2023-02-08T18:08:45.108Z"
   },
   {
    "duration": 18,
    "start_time": "2023-02-08T18:09:38.903Z"
   },
   {
    "duration": 16,
    "start_time": "2023-02-08T18:09:44.553Z"
   },
   {
    "duration": 6,
    "start_time": "2023-02-08T18:12:23.713Z"
   },
   {
    "duration": 6,
    "start_time": "2023-02-08T18:12:52.518Z"
   },
   {
    "duration": 5,
    "start_time": "2023-02-08T18:13:03.794Z"
   },
   {
    "duration": 94,
    "start_time": "2023-02-08T18:13:53.623Z"
   },
   {
    "duration": 6,
    "start_time": "2023-02-08T18:13:57.425Z"
   },
   {
    "duration": 3,
    "start_time": "2023-02-08T18:16:29.172Z"
   },
   {
    "duration": 59,
    "start_time": "2023-02-08T18:16:29.178Z"
   },
   {
    "duration": 21,
    "start_time": "2023-02-08T18:16:29.239Z"
   },
   {
    "duration": 17,
    "start_time": "2023-02-08T18:16:29.261Z"
   },
   {
    "duration": 3,
    "start_time": "2023-02-08T18:16:29.280Z"
   },
   {
    "duration": 16,
    "start_time": "2023-02-08T18:16:29.284Z"
   },
   {
    "duration": 7,
    "start_time": "2023-02-08T18:16:29.302Z"
   },
   {
    "duration": 29,
    "start_time": "2023-02-08T18:16:29.310Z"
   },
   {
    "duration": 10,
    "start_time": "2023-02-08T18:16:29.342Z"
   },
   {
    "duration": 6,
    "start_time": "2023-02-08T18:16:29.353Z"
   },
   {
    "duration": 6,
    "start_time": "2023-02-08T18:16:29.361Z"
   },
   {
    "duration": 16,
    "start_time": "2023-02-08T18:16:29.369Z"
   },
   {
    "duration": 52,
    "start_time": "2023-02-08T18:16:29.387Z"
   },
   {
    "duration": 338,
    "start_time": "2023-02-08T18:16:29.440Z"
   },
   {
    "duration": 8,
    "start_time": "2023-02-08T18:16:29.780Z"
   },
   {
    "duration": 296,
    "start_time": "2023-02-08T18:16:29.790Z"
   },
   {
    "duration": 5,
    "start_time": "2023-02-08T18:38:15.121Z"
   },
   {
    "duration": 9,
    "start_time": "2023-02-08T18:42:13.964Z"
   },
   {
    "duration": 244,
    "start_time": "2023-02-08T18:42:36.648Z"
   },
   {
    "duration": 269,
    "start_time": "2023-02-08T18:43:47.940Z"
   },
   {
    "duration": 5,
    "start_time": "2023-02-08T18:45:09.151Z"
   },
   {
    "duration": 5,
    "start_time": "2023-02-08T18:45:10.326Z"
   },
   {
    "duration": 141,
    "start_time": "2023-02-08T18:45:12.749Z"
   },
   {
    "duration": 4,
    "start_time": "2023-02-08T18:45:30.252Z"
   },
   {
    "duration": 217,
    "start_time": "2023-02-08T18:45:32.125Z"
   },
   {
    "duration": 8,
    "start_time": "2023-02-08T18:45:57.559Z"
   },
   {
    "duration": 260,
    "start_time": "2023-02-08T18:46:05.500Z"
   },
   {
    "duration": 19,
    "start_time": "2023-02-08T19:03:03.853Z"
   },
   {
    "duration": 19,
    "start_time": "2023-02-08T19:03:59.697Z"
   },
   {
    "duration": 21,
    "start_time": "2023-02-08T19:04:47.417Z"
   },
   {
    "duration": 660,
    "start_time": "2023-02-08T19:06:36.427Z"
   },
   {
    "duration": 763,
    "start_time": "2023-02-08T19:06:54.264Z"
   },
   {
    "duration": 715,
    "start_time": "2023-02-08T19:09:06.915Z"
   },
   {
    "duration": 822,
    "start_time": "2023-02-08T19:09:40.326Z"
   },
   {
    "duration": 253,
    "start_time": "2023-02-08T19:12:20.916Z"
   },
   {
    "duration": 268,
    "start_time": "2023-02-08T19:12:25.484Z"
   },
   {
    "duration": 242,
    "start_time": "2023-02-08T19:12:28.477Z"
   },
   {
    "duration": 253,
    "start_time": "2023-02-08T19:12:34.772Z"
   },
   {
    "duration": 20,
    "start_time": "2023-02-08T19:29:29.870Z"
   },
   {
    "duration": 433,
    "start_time": "2023-02-08T19:29:31.053Z"
   },
   {
    "duration": 333,
    "start_time": "2023-02-08T19:31:18.404Z"
   },
   {
    "duration": 313,
    "start_time": "2023-02-08T19:32:18.119Z"
   },
   {
    "duration": 3,
    "start_time": "2023-02-08T19:36:56.497Z"
   },
   {
    "duration": 49,
    "start_time": "2023-02-08T19:36:56.502Z"
   },
   {
    "duration": 15,
    "start_time": "2023-02-08T19:36:56.553Z"
   },
   {
    "duration": 14,
    "start_time": "2023-02-08T19:36:56.570Z"
   },
   {
    "duration": 3,
    "start_time": "2023-02-08T19:36:56.586Z"
   },
   {
    "duration": 16,
    "start_time": "2023-02-08T19:36:56.591Z"
   },
   {
    "duration": 28,
    "start_time": "2023-02-08T19:36:56.609Z"
   },
   {
    "duration": 12,
    "start_time": "2023-02-08T19:36:56.638Z"
   },
   {
    "duration": 11,
    "start_time": "2023-02-08T19:36:56.651Z"
   },
   {
    "duration": 6,
    "start_time": "2023-02-08T19:36:56.664Z"
   },
   {
    "duration": 10,
    "start_time": "2023-02-08T19:36:56.671Z"
   },
   {
    "duration": 8,
    "start_time": "2023-02-08T19:36:56.682Z"
   },
   {
    "duration": 19,
    "start_time": "2023-02-08T19:36:56.692Z"
   },
   {
    "duration": 23,
    "start_time": "2023-02-08T19:36:56.715Z"
   },
   {
    "duration": 229,
    "start_time": "2023-02-08T19:36:56.740Z"
   },
   {
    "duration": 7,
    "start_time": "2023-02-08T19:36:56.970Z"
   },
   {
    "duration": 237,
    "start_time": "2023-02-08T19:36:56.979Z"
   },
   {
    "duration": 4,
    "start_time": "2023-02-08T19:36:57.218Z"
   },
   {
    "duration": 17,
    "start_time": "2023-02-08T19:36:57.223Z"
   },
   {
    "duration": 242,
    "start_time": "2023-02-08T19:36:57.242Z"
   },
   {
    "duration": 249,
    "start_time": "2023-02-08T19:36:57.486Z"
   },
   {
    "duration": 4,
    "start_time": "2023-02-08T19:36:57.736Z"
   },
   {
    "duration": 7,
    "start_time": "2023-02-08T19:36:57.742Z"
   },
   {
    "duration": 227,
    "start_time": "2023-02-08T19:36:57.750Z"
   },
   {
    "duration": 3,
    "start_time": "2023-02-08T19:36:57.979Z"
   },
   {
    "duration": 159,
    "start_time": "2023-02-08T19:36:57.984Z"
   },
   {
    "duration": 745,
    "start_time": "2023-02-08T19:36:58.145Z"
   },
   {
    "duration": 741,
    "start_time": "2023-02-08T19:36:58.891Z"
   },
   {
    "duration": 20,
    "start_time": "2023-02-08T19:36:59.633Z"
   },
   {
    "duration": 5,
    "start_time": "2023-02-08T19:36:59.655Z"
   },
   {
    "duration": 285,
    "start_time": "2023-02-08T19:36:59.661Z"
   },
   {
    "duration": 24,
    "start_time": "2023-02-08T19:36:59.947Z"
   },
   {
    "duration": 317,
    "start_time": "2023-02-08T19:36:59.972Z"
   },
   {
    "duration": 474,
    "start_time": "2023-02-08T19:37:00.290Z"
   },
   {
    "duration": 322,
    "start_time": "2023-02-08T19:37:00.765Z"
   },
   {
    "duration": 8,
    "start_time": "2023-02-08T19:37:01.089Z"
   },
   {
    "duration": 18,
    "start_time": "2023-02-08T19:37:01.099Z"
   },
   {
    "duration": 9,
    "start_time": "2023-02-08T19:40:30.962Z"
   },
   {
    "duration": 4,
    "start_time": "2023-02-08T19:48:26.828Z"
   },
   {
    "duration": 5,
    "start_time": "2023-02-08T19:48:39.174Z"
   },
   {
    "duration": 6,
    "start_time": "2023-02-08T19:48:58.072Z"
   },
   {
    "duration": 5,
    "start_time": "2023-02-08T19:49:10.544Z"
   },
   {
    "duration": 1117,
    "start_time": "2023-02-09T04:38:14.632Z"
   },
   {
    "duration": 234,
    "start_time": "2023-02-09T04:38:15.751Z"
   },
   {
    "duration": 24,
    "start_time": "2023-02-09T04:38:15.986Z"
   },
   {
    "duration": 15,
    "start_time": "2023-02-09T04:38:16.012Z"
   },
   {
    "duration": 4,
    "start_time": "2023-02-09T04:38:16.029Z"
   },
   {
    "duration": 18,
    "start_time": "2023-02-09T04:38:16.034Z"
   },
   {
    "duration": 7,
    "start_time": "2023-02-09T04:38:16.054Z"
   },
   {
    "duration": 11,
    "start_time": "2023-02-09T04:38:16.063Z"
   },
   {
    "duration": 33,
    "start_time": "2023-02-09T04:38:16.076Z"
   },
   {
    "duration": 7,
    "start_time": "2023-02-09T04:38:16.112Z"
   },
   {
    "duration": 7,
    "start_time": "2023-02-09T04:38:16.121Z"
   },
   {
    "duration": 7,
    "start_time": "2023-02-09T04:38:16.130Z"
   },
   {
    "duration": 15,
    "start_time": "2023-02-09T04:38:16.138Z"
   },
   {
    "duration": 18,
    "start_time": "2023-02-09T04:38:16.155Z"
   },
   {
    "duration": 8,
    "start_time": "2023-02-09T04:38:16.204Z"
   },
   {
    "duration": 5,
    "start_time": "2023-02-09T04:38:16.213Z"
   },
   {
    "duration": 6,
    "start_time": "2023-02-09T04:38:16.220Z"
   },
   {
    "duration": 7,
    "start_time": "2023-02-09T04:38:16.227Z"
   },
   {
    "duration": 277,
    "start_time": "2023-02-09T04:38:16.235Z"
   },
   {
    "duration": 7,
    "start_time": "2023-02-09T04:38:16.514Z"
   },
   {
    "duration": 294,
    "start_time": "2023-02-09T04:38:16.522Z"
   },
   {
    "duration": 6,
    "start_time": "2023-02-09T04:38:16.818Z"
   },
   {
    "duration": 17,
    "start_time": "2023-02-09T04:38:16.826Z"
   },
   {
    "duration": 289,
    "start_time": "2023-02-09T04:38:16.845Z"
   },
   {
    "duration": 274,
    "start_time": "2023-02-09T04:38:17.136Z"
   },
   {
    "duration": 4,
    "start_time": "2023-02-09T04:38:17.412Z"
   },
   {
    "duration": 7,
    "start_time": "2023-02-09T04:38:17.417Z"
   },
   {
    "duration": 149,
    "start_time": "2023-02-09T04:38:17.427Z"
   },
   {
    "duration": 5,
    "start_time": "2023-02-09T04:38:17.577Z"
   },
   {
    "duration": 169,
    "start_time": "2023-02-09T04:38:17.583Z"
   },
   {
    "duration": 107,
    "start_time": "2023-02-09T04:38:17.754Z"
   },
   {
    "duration": 0,
    "start_time": "2023-02-09T04:38:17.863Z"
   },
   {
    "duration": 0,
    "start_time": "2023-02-09T04:38:17.864Z"
   },
   {
    "duration": 0,
    "start_time": "2023-02-09T04:38:17.866Z"
   },
   {
    "duration": 0,
    "start_time": "2023-02-09T04:38:17.868Z"
   },
   {
    "duration": 0,
    "start_time": "2023-02-09T04:38:17.869Z"
   },
   {
    "duration": 0,
    "start_time": "2023-02-09T04:38:17.871Z"
   },
   {
    "duration": 0,
    "start_time": "2023-02-09T04:38:17.872Z"
   },
   {
    "duration": 0,
    "start_time": "2023-02-09T04:38:17.873Z"
   },
   {
    "duration": 0,
    "start_time": "2023-02-09T04:38:17.875Z"
   },
   {
    "duration": 0,
    "start_time": "2023-02-09T04:38:17.876Z"
   },
   {
    "duration": 1355,
    "start_time": "2023-02-09T05:08:57.835Z"
   },
   {
    "duration": 124,
    "start_time": "2023-02-09T05:08:59.199Z"
   },
   {
    "duration": 24,
    "start_time": "2023-02-09T05:08:59.325Z"
   },
   {
    "duration": 17,
    "start_time": "2023-02-09T05:08:59.351Z"
   },
   {
    "duration": 10,
    "start_time": "2023-02-09T05:08:59.371Z"
   },
   {
    "duration": 38,
    "start_time": "2023-02-09T05:08:59.383Z"
   },
   {
    "duration": 8,
    "start_time": "2023-02-09T05:08:59.423Z"
   },
   {
    "duration": 18,
    "start_time": "2023-02-09T05:08:59.433Z"
   },
   {
    "duration": 21,
    "start_time": "2023-02-09T05:08:59.453Z"
   },
   {
    "duration": 7,
    "start_time": "2023-02-09T05:08:59.476Z"
   },
   {
    "duration": 16,
    "start_time": "2023-02-09T05:08:59.485Z"
   },
   {
    "duration": 28,
    "start_time": "2023-02-09T05:08:59.503Z"
   },
   {
    "duration": 16,
    "start_time": "2023-02-09T05:08:59.533Z"
   },
   {
    "duration": 18,
    "start_time": "2023-02-09T05:08:59.552Z"
   },
   {
    "duration": 5,
    "start_time": "2023-02-09T05:08:59.572Z"
   },
   {
    "duration": 5,
    "start_time": "2023-02-09T05:08:59.579Z"
   },
   {
    "duration": 5,
    "start_time": "2023-02-09T05:08:59.586Z"
   },
   {
    "duration": 27,
    "start_time": "2023-02-09T05:08:59.600Z"
   },
   {
    "duration": 285,
    "start_time": "2023-02-09T05:08:59.629Z"
   },
   {
    "duration": 7,
    "start_time": "2023-02-09T05:08:59.920Z"
   },
   {
    "duration": 262,
    "start_time": "2023-02-09T05:08:59.929Z"
   },
   {
    "duration": 20,
    "start_time": "2023-02-09T05:09:00.193Z"
   },
   {
    "duration": 22,
    "start_time": "2023-02-09T05:09:00.215Z"
   },
   {
    "duration": 326,
    "start_time": "2023-02-09T05:09:00.239Z"
   },
   {
    "duration": 298,
    "start_time": "2023-02-09T05:09:00.567Z"
   },
   {
    "duration": 4,
    "start_time": "2023-02-09T05:09:00.866Z"
   },
   {
    "duration": 63,
    "start_time": "2023-02-09T05:09:00.871Z"
   },
   {
    "duration": 188,
    "start_time": "2023-02-09T05:09:00.935Z"
   },
   {
    "duration": 4,
    "start_time": "2023-02-09T05:09:01.125Z"
   },
   {
    "duration": 205,
    "start_time": "2023-02-09T05:09:01.130Z"
   },
   {
    "duration": 949,
    "start_time": "2023-02-09T05:09:01.337Z"
   },
   {
    "duration": 841,
    "start_time": "2023-02-09T05:09:02.288Z"
   },
   {
    "duration": 19,
    "start_time": "2023-02-09T05:09:03.131Z"
   },
   {
    "duration": 5,
    "start_time": "2023-02-09T05:09:03.152Z"
   },
   {
    "duration": 298,
    "start_time": "2023-02-09T05:09:03.158Z"
   },
   {
    "duration": 21,
    "start_time": "2023-02-09T05:09:03.457Z"
   },
   {
    "duration": 350,
    "start_time": "2023-02-09T05:09:03.479Z"
   },
   {
    "duration": 559,
    "start_time": "2023-02-09T05:09:03.831Z"
   },
   {
    "duration": 381,
    "start_time": "2023-02-09T05:09:04.394Z"
   },
   {
    "duration": 8,
    "start_time": "2023-02-09T05:09:04.777Z"
   },
   {
    "duration": 18,
    "start_time": "2023-02-09T05:09:04.796Z"
   },
   {
    "duration": 1090,
    "start_time": "2023-02-09T09:12:47.671Z"
   },
   {
    "duration": 54,
    "start_time": "2023-02-09T09:12:48.763Z"
   },
   {
    "duration": 23,
    "start_time": "2023-02-09T09:12:48.819Z"
   },
   {
    "duration": 15,
    "start_time": "2023-02-09T09:12:48.843Z"
   },
   {
    "duration": 4,
    "start_time": "2023-02-09T09:12:48.860Z"
   },
   {
    "duration": 39,
    "start_time": "2023-02-09T09:12:48.865Z"
   },
   {
    "duration": 8,
    "start_time": "2023-02-09T09:12:48.906Z"
   },
   {
    "duration": 10,
    "start_time": "2023-02-09T09:12:48.915Z"
   },
   {
    "duration": 9,
    "start_time": "2023-02-09T09:12:48.927Z"
   },
   {
    "duration": 6,
    "start_time": "2023-02-09T09:12:48.938Z"
   },
   {
    "duration": 12,
    "start_time": "2023-02-09T09:12:48.945Z"
   },
   {
    "duration": 11,
    "start_time": "2023-02-09T09:12:48.958Z"
   },
   {
    "duration": 15,
    "start_time": "2023-02-09T09:12:48.970Z"
   },
   {
    "duration": 16,
    "start_time": "2023-02-09T09:12:49.003Z"
   },
   {
    "duration": 5,
    "start_time": "2023-02-09T09:12:49.020Z"
   },
   {
    "duration": 5,
    "start_time": "2023-02-09T09:12:49.027Z"
   },
   {
    "duration": 7,
    "start_time": "2023-02-09T09:12:49.033Z"
   },
   {
    "duration": 5,
    "start_time": "2023-02-09T09:12:49.041Z"
   },
   {
    "duration": 308,
    "start_time": "2023-02-09T09:12:49.048Z"
   },
   {
    "duration": 8,
    "start_time": "2023-02-09T09:12:49.357Z"
   },
   {
    "duration": 270,
    "start_time": "2023-02-09T09:12:49.366Z"
   },
   {
    "duration": 5,
    "start_time": "2023-02-09T09:12:49.638Z"
   },
   {
    "duration": 27,
    "start_time": "2023-02-09T09:12:49.645Z"
   },
   {
    "duration": 287,
    "start_time": "2023-02-09T09:12:49.673Z"
   },
   {
    "duration": 260,
    "start_time": "2023-02-09T09:12:49.961Z"
   },
   {
    "duration": 4,
    "start_time": "2023-02-09T09:12:50.222Z"
   },
   {
    "duration": 22,
    "start_time": "2023-02-09T09:12:50.228Z"
   },
   {
    "duration": 165,
    "start_time": "2023-02-09T09:12:50.252Z"
   },
   {
    "duration": 4,
    "start_time": "2023-02-09T09:12:50.419Z"
   },
   {
    "duration": 182,
    "start_time": "2023-02-09T09:12:50.425Z"
   },
   {
    "duration": 903,
    "start_time": "2023-02-09T09:12:50.609Z"
   },
   {
    "duration": 829,
    "start_time": "2023-02-09T09:12:51.513Z"
   },
   {
    "duration": 24,
    "start_time": "2023-02-09T09:12:52.344Z"
   },
   {
    "duration": 5,
    "start_time": "2023-02-09T09:12:52.370Z"
   },
   {
    "duration": 297,
    "start_time": "2023-02-09T09:12:52.377Z"
   },
   {
    "duration": 29,
    "start_time": "2023-02-09T09:12:52.676Z"
   },
   {
    "duration": 311,
    "start_time": "2023-02-09T09:12:52.707Z"
   },
   {
    "duration": 447,
    "start_time": "2023-02-09T09:12:53.019Z"
   },
   {
    "duration": 329,
    "start_time": "2023-02-09T09:12:53.468Z"
   },
   {
    "duration": 8,
    "start_time": "2023-02-09T09:12:53.799Z"
   },
   {
    "duration": 8,
    "start_time": "2023-02-09T09:12:53.811Z"
   }
  ],
  "kernelspec": {
   "display_name": "Python 3",
   "language": "python",
   "name": "python3"
  },
  "language_info": {
   "codemirror_mode": {
    "name": "ipython",
    "version": 3
   },
   "file_extension": ".py",
   "mimetype": "text/x-python",
   "name": "python",
   "nbconvert_exporter": "python",
   "pygments_lexer": "ipython3",
   "version": "3.8.5"
  },
  "toc": {
   "base_numbering": "0",
   "nav_menu": {},
   "number_sections": true,
   "sideBar": true,
   "skip_h1_title": true,
   "title_cell": "Содержание",
   "title_sidebar": "Содержание",
   "toc_cell": true,
   "toc_position": {},
   "toc_section_display": true,
   "toc_window_display": false
  }
 },
 "nbformat": 4,
 "nbformat_minor": 2
}
